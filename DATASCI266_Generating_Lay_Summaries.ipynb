{
  "cells": [
    {
      "cell_type": "markdown",
      "source": [
        "# Lay Summarization: Bridging Biomedical Research and Everyday Understanding"
      ],
      "metadata": {
        "id": "of3Y2BNBoYTO"
      }
    },
    {
      "cell_type": "markdown",
      "source": [
        "Authors: Chloe Nguyen & Phoebe Yueh\n",
        "\n",
        "DATASCI266 Final Project - Summer 2024 Semester"
      ],
      "metadata": {
        "id": "ZGq9LJW7uSM5"
      }
    },
    {
      "cell_type": "markdown",
      "source": [
        "## Set Up"
      ],
      "metadata": {
        "id": "tHARHoOpmzGp"
      }
    },
    {
      "cell_type": "markdown",
      "source": [
        "### Pip install and imports"
      ],
      "metadata": {
        "id": "1GWS4Dahncle"
      }
    },
    {
      "cell_type": "code",
      "execution_count": null,
      "metadata": {
        "colab": {
          "base_uri": "https://localhost:8080/"
        },
        "id": "7XI3BXIEdhNh",
        "outputId": "62d73195-1386-4327-dda9-66d5c4e5ef8b"
      },
      "outputs": [
        {
          "output_type": "stream",
          "name": "stdout",
          "text": [
            "Collecting datasets\n",
            "  Downloading datasets-2.20.0-py3-none-any.whl.metadata (19 kB)\n",
            "Requirement already satisfied: filelock in /usr/local/lib/python3.10/dist-packages (from datasets) (3.15.4)\n",
            "Requirement already satisfied: numpy>=1.17 in /usr/local/lib/python3.10/dist-packages (from datasets) (1.25.2)\n",
            "Collecting pyarrow>=15.0.0 (from datasets)\n",
            "  Downloading pyarrow-17.0.0-cp310-cp310-manylinux_2_28_x86_64.whl.metadata (3.3 kB)\n",
            "Requirement already satisfied: pyarrow-hotfix in /usr/local/lib/python3.10/dist-packages (from datasets) (0.6)\n",
            "Collecting dill<0.3.9,>=0.3.0 (from datasets)\n",
            "  Downloading dill-0.3.8-py3-none-any.whl.metadata (10 kB)\n",
            "Requirement already satisfied: pandas in /usr/local/lib/python3.10/dist-packages (from datasets) (2.0.3)\n",
            "Collecting requests>=2.32.2 (from datasets)\n",
            "  Downloading requests-2.32.3-py3-none-any.whl.metadata (4.6 kB)\n",
            "Requirement already satisfied: tqdm>=4.66.3 in /usr/local/lib/python3.10/dist-packages (from datasets) (4.66.4)\n",
            "Collecting xxhash (from datasets)\n",
            "  Downloading xxhash-3.4.1-cp310-cp310-manylinux_2_17_x86_64.manylinux2014_x86_64.whl.metadata (12 kB)\n",
            "Collecting multiprocess (from datasets)\n",
            "  Downloading multiprocess-0.70.16-py310-none-any.whl.metadata (7.2 kB)\n",
            "Requirement already satisfied: fsspec<=2024.5.0,>=2023.1.0 in /usr/local/lib/python3.10/dist-packages (from fsspec[http]<=2024.5.0,>=2023.1.0->datasets) (2023.6.0)\n",
            "Requirement already satisfied: aiohttp in /usr/local/lib/python3.10/dist-packages (from datasets) (3.9.5)\n",
            "Requirement already satisfied: huggingface-hub>=0.21.2 in /usr/local/lib/python3.10/dist-packages (from datasets) (0.23.5)\n",
            "Requirement already satisfied: packaging in /usr/local/lib/python3.10/dist-packages (from datasets) (24.1)\n",
            "Requirement already satisfied: pyyaml>=5.1 in /usr/local/lib/python3.10/dist-packages (from datasets) (6.0.1)\n",
            "Requirement already satisfied: aiosignal>=1.1.2 in /usr/local/lib/python3.10/dist-packages (from aiohttp->datasets) (1.3.1)\n",
            "Requirement already satisfied: attrs>=17.3.0 in /usr/local/lib/python3.10/dist-packages (from aiohttp->datasets) (23.2.0)\n",
            "Requirement already satisfied: frozenlist>=1.1.1 in /usr/local/lib/python3.10/dist-packages (from aiohttp->datasets) (1.4.1)\n",
            "Requirement already satisfied: multidict<7.0,>=4.5 in /usr/local/lib/python3.10/dist-packages (from aiohttp->datasets) (6.0.5)\n",
            "Requirement already satisfied: yarl<2.0,>=1.0 in /usr/local/lib/python3.10/dist-packages (from aiohttp->datasets) (1.9.4)\n",
            "Requirement already satisfied: async-timeout<5.0,>=4.0 in /usr/local/lib/python3.10/dist-packages (from aiohttp->datasets) (4.0.3)\n",
            "Requirement already satisfied: typing-extensions>=3.7.4.3 in /usr/local/lib/python3.10/dist-packages (from huggingface-hub>=0.21.2->datasets) (4.12.2)\n",
            "Requirement already satisfied: charset-normalizer<4,>=2 in /usr/local/lib/python3.10/dist-packages (from requests>=2.32.2->datasets) (3.3.2)\n",
            "Requirement already satisfied: idna<4,>=2.5 in /usr/local/lib/python3.10/dist-packages (from requests>=2.32.2->datasets) (3.7)\n",
            "Requirement already satisfied: urllib3<3,>=1.21.1 in /usr/local/lib/python3.10/dist-packages (from requests>=2.32.2->datasets) (2.0.7)\n",
            "Requirement already satisfied: certifi>=2017.4.17 in /usr/local/lib/python3.10/dist-packages (from requests>=2.32.2->datasets) (2024.7.4)\n",
            "Requirement already satisfied: python-dateutil>=2.8.2 in /usr/local/lib/python3.10/dist-packages (from pandas->datasets) (2.8.2)\n",
            "Requirement already satisfied: pytz>=2020.1 in /usr/local/lib/python3.10/dist-packages (from pandas->datasets) (2023.4)\n",
            "Requirement already satisfied: tzdata>=2022.1 in /usr/local/lib/python3.10/dist-packages (from pandas->datasets) (2024.1)\n",
            "Requirement already satisfied: six>=1.5 in /usr/local/lib/python3.10/dist-packages (from python-dateutil>=2.8.2->pandas->datasets) (1.16.0)\n",
            "Downloading datasets-2.20.0-py3-none-any.whl (547 kB)\n",
            "\u001b[2K   \u001b[90m━━━━━━━━━━━━━━━━━━━━━━━━━━━━━━━━━━━━━━━━\u001b[0m \u001b[32m547.8/547.8 kB\u001b[0m \u001b[31m9.5 MB/s\u001b[0m eta \u001b[36m0:00:00\u001b[0m\n",
            "\u001b[?25hDownloading dill-0.3.8-py3-none-any.whl (116 kB)\n",
            "\u001b[2K   \u001b[90m━━━━━━━━━━━━━━━━━━━━━━━━━━━━━━━━━━━━━━━━\u001b[0m \u001b[32m116.3/116.3 kB\u001b[0m \u001b[31m8.5 MB/s\u001b[0m eta \u001b[36m0:00:00\u001b[0m\n",
            "\u001b[?25hDownloading pyarrow-17.0.0-cp310-cp310-manylinux_2_28_x86_64.whl (39.9 MB)\n",
            "\u001b[2K   \u001b[90m━━━━━━━━━━━━━━━━━━━━━━━━━━━━━━━━━━━━━━━━\u001b[0m \u001b[32m39.9/39.9 MB\u001b[0m \u001b[31m56.4 MB/s\u001b[0m eta \u001b[36m0:00:00\u001b[0m\n",
            "\u001b[?25hDownloading requests-2.32.3-py3-none-any.whl (64 kB)\n",
            "\u001b[2K   \u001b[90m━━━━━━━━━━━━━━━━━━━━━━━━━━━━━━━━━━━━━━━━\u001b[0m \u001b[32m64.9/64.9 kB\u001b[0m \u001b[31m4.1 MB/s\u001b[0m eta \u001b[36m0:00:00\u001b[0m\n",
            "\u001b[?25hDownloading multiprocess-0.70.16-py310-none-any.whl (134 kB)\n",
            "\u001b[2K   \u001b[90m━━━━━━━━━━━━━━━━━━━━━━━━━━━━━━━━━━━━━━━━\u001b[0m \u001b[32m134.8/134.8 kB\u001b[0m \u001b[31m11.7 MB/s\u001b[0m eta \u001b[36m0:00:00\u001b[0m\n",
            "\u001b[?25hDownloading xxhash-3.4.1-cp310-cp310-manylinux_2_17_x86_64.manylinux2014_x86_64.whl (194 kB)\n",
            "\u001b[2K   \u001b[90m━━━━━━━━━━━━━━━━━━━━━━━━━━━━━━━━━━━━━━━━\u001b[0m \u001b[32m194.1/194.1 kB\u001b[0m \u001b[31m14.0 MB/s\u001b[0m eta \u001b[36m0:00:00\u001b[0m\n",
            "\u001b[?25hInstalling collected packages: xxhash, requests, pyarrow, dill, multiprocess, datasets\n",
            "  Attempting uninstall: requests\n",
            "    Found existing installation: requests 2.31.0\n",
            "    Uninstalling requests-2.31.0:\n",
            "      Successfully uninstalled requests-2.31.0\n",
            "  Attempting uninstall: pyarrow\n",
            "    Found existing installation: pyarrow 14.0.2\n",
            "    Uninstalling pyarrow-14.0.2:\n",
            "      Successfully uninstalled pyarrow-14.0.2\n",
            "\u001b[31mERROR: pip's dependency resolver does not currently take into account all the packages that are installed. This behaviour is the source of the following dependency conflicts.\n",
            "cudf-cu12 24.4.1 requires pyarrow<15.0.0a0,>=14.0.1, but you have pyarrow 17.0.0 which is incompatible.\n",
            "google-colab 1.0.0 requires requests==2.31.0, but you have requests 2.32.3 which is incompatible.\n",
            "ibis-framework 8.0.0 requires pyarrow<16,>=2, but you have pyarrow 17.0.0 which is incompatible.\u001b[0m\u001b[31m\n",
            "\u001b[0mSuccessfully installed datasets-2.20.0 dill-0.3.8 multiprocess-0.70.16 pyarrow-17.0.0 requests-2.32.3 xxhash-3.4.1\n"
          ]
        }
      ],
      "source": [
        "!pip install datasets"
      ]
    },
    {
      "cell_type": "code",
      "execution_count": null,
      "metadata": {
        "colab": {
          "base_uri": "https://localhost:8080/"
        },
        "id": "wxHfkWpykpvk",
        "outputId": "aa0e730b-7d23-4263-b1e8-88caaebec76e"
      },
      "outputs": [
        {
          "output_type": "stream",
          "name": "stdout",
          "text": [
            "Collecting evaluate\n",
            "  Downloading evaluate-0.4.2-py3-none-any.whl.metadata (9.3 kB)\n",
            "Requirement already satisfied: datasets>=2.0.0 in /usr/local/lib/python3.10/dist-packages (from evaluate) (2.20.0)\n",
            "Requirement already satisfied: numpy>=1.17 in /usr/local/lib/python3.10/dist-packages (from evaluate) (1.25.2)\n",
            "Requirement already satisfied: dill in /usr/local/lib/python3.10/dist-packages (from evaluate) (0.3.8)\n",
            "Requirement already satisfied: pandas in /usr/local/lib/python3.10/dist-packages (from evaluate) (2.0.3)\n",
            "Requirement already satisfied: requests>=2.19.0 in /usr/local/lib/python3.10/dist-packages (from evaluate) (2.32.3)\n",
            "Requirement already satisfied: tqdm>=4.62.1 in /usr/local/lib/python3.10/dist-packages (from evaluate) (4.66.4)\n",
            "Requirement already satisfied: xxhash in /usr/local/lib/python3.10/dist-packages (from evaluate) (3.4.1)\n",
            "Requirement already satisfied: multiprocess in /usr/local/lib/python3.10/dist-packages (from evaluate) (0.70.16)\n",
            "Requirement already satisfied: fsspec>=2021.05.0 in /usr/local/lib/python3.10/dist-packages (from fsspec[http]>=2021.05.0->evaluate) (2023.6.0)\n",
            "Requirement already satisfied: huggingface-hub>=0.7.0 in /usr/local/lib/python3.10/dist-packages (from evaluate) (0.23.5)\n",
            "Requirement already satisfied: packaging in /usr/local/lib/python3.10/dist-packages (from evaluate) (24.1)\n",
            "Requirement already satisfied: filelock in /usr/local/lib/python3.10/dist-packages (from datasets>=2.0.0->evaluate) (3.15.4)\n",
            "Requirement already satisfied: pyarrow>=15.0.0 in /usr/local/lib/python3.10/dist-packages (from datasets>=2.0.0->evaluate) (17.0.0)\n",
            "Requirement already satisfied: pyarrow-hotfix in /usr/local/lib/python3.10/dist-packages (from datasets>=2.0.0->evaluate) (0.6)\n",
            "Requirement already satisfied: aiohttp in /usr/local/lib/python3.10/dist-packages (from datasets>=2.0.0->evaluate) (3.9.5)\n",
            "Requirement already satisfied: pyyaml>=5.1 in /usr/local/lib/python3.10/dist-packages (from datasets>=2.0.0->evaluate) (6.0.1)\n",
            "Requirement already satisfied: typing-extensions>=3.7.4.3 in /usr/local/lib/python3.10/dist-packages (from huggingface-hub>=0.7.0->evaluate) (4.12.2)\n",
            "Requirement already satisfied: charset-normalizer<4,>=2 in /usr/local/lib/python3.10/dist-packages (from requests>=2.19.0->evaluate) (3.3.2)\n",
            "Requirement already satisfied: idna<4,>=2.5 in /usr/local/lib/python3.10/dist-packages (from requests>=2.19.0->evaluate) (3.7)\n",
            "Requirement already satisfied: urllib3<3,>=1.21.1 in /usr/local/lib/python3.10/dist-packages (from requests>=2.19.0->evaluate) (2.0.7)\n",
            "Requirement already satisfied: certifi>=2017.4.17 in /usr/local/lib/python3.10/dist-packages (from requests>=2.19.0->evaluate) (2024.7.4)\n",
            "Requirement already satisfied: python-dateutil>=2.8.2 in /usr/local/lib/python3.10/dist-packages (from pandas->evaluate) (2.8.2)\n",
            "Requirement already satisfied: pytz>=2020.1 in /usr/local/lib/python3.10/dist-packages (from pandas->evaluate) (2023.4)\n",
            "Requirement already satisfied: tzdata>=2022.1 in /usr/local/lib/python3.10/dist-packages (from pandas->evaluate) (2024.1)\n",
            "Requirement already satisfied: aiosignal>=1.1.2 in /usr/local/lib/python3.10/dist-packages (from aiohttp->datasets>=2.0.0->evaluate) (1.3.1)\n",
            "Requirement already satisfied: attrs>=17.3.0 in /usr/local/lib/python3.10/dist-packages (from aiohttp->datasets>=2.0.0->evaluate) (23.2.0)\n",
            "Requirement already satisfied: frozenlist>=1.1.1 in /usr/local/lib/python3.10/dist-packages (from aiohttp->datasets>=2.0.0->evaluate) (1.4.1)\n",
            "Requirement already satisfied: multidict<7.0,>=4.5 in /usr/local/lib/python3.10/dist-packages (from aiohttp->datasets>=2.0.0->evaluate) (6.0.5)\n",
            "Requirement already satisfied: yarl<2.0,>=1.0 in /usr/local/lib/python3.10/dist-packages (from aiohttp->datasets>=2.0.0->evaluate) (1.9.4)\n",
            "Requirement already satisfied: async-timeout<5.0,>=4.0 in /usr/local/lib/python3.10/dist-packages (from aiohttp->datasets>=2.0.0->evaluate) (4.0.3)\n",
            "Requirement already satisfied: six>=1.5 in /usr/local/lib/python3.10/dist-packages (from python-dateutil>=2.8.2->pandas->evaluate) (1.16.0)\n",
            "Downloading evaluate-0.4.2-py3-none-any.whl (84 kB)\n",
            "\u001b[2K   \u001b[90m━━━━━━━━━━━━━━━━━━━━━━━━━━━━━━━━━━━━━━━━\u001b[0m \u001b[32m84.1/84.1 kB\u001b[0m \u001b[31m1.9 MB/s\u001b[0m eta \u001b[36m0:00:00\u001b[0m\n",
            "\u001b[?25hInstalling collected packages: evaluate\n",
            "Successfully installed evaluate-0.4.2\n"
          ]
        }
      ],
      "source": [
        "pip install evaluate"
      ]
    },
    {
      "cell_type": "code",
      "execution_count": null,
      "metadata": {
        "colab": {
          "base_uri": "https://localhost:8080/"
        },
        "id": "R-dJ4pcJtjSy",
        "outputId": "0309b4de-cf62-4b4b-e92f-499991048c6d"
      },
      "outputs": [
        {
          "output_type": "stream",
          "name": "stdout",
          "text": [
            "Requirement already satisfied: transformers[torch] in /usr/local/lib/python3.10/dist-packages (4.42.4)\n",
            "Requirement already satisfied: filelock in /usr/local/lib/python3.10/dist-packages (from transformers[torch]) (3.15.4)\n",
            "Requirement already satisfied: huggingface-hub<1.0,>=0.23.2 in /usr/local/lib/python3.10/dist-packages (from transformers[torch]) (0.23.5)\n",
            "Requirement already satisfied: numpy<2.0,>=1.17 in /usr/local/lib/python3.10/dist-packages (from transformers[torch]) (1.25.2)\n",
            "Requirement already satisfied: packaging>=20.0 in /usr/local/lib/python3.10/dist-packages (from transformers[torch]) (24.1)\n",
            "Requirement already satisfied: pyyaml>=5.1 in /usr/local/lib/python3.10/dist-packages (from transformers[torch]) (6.0.1)\n",
            "Requirement already satisfied: regex!=2019.12.17 in /usr/local/lib/python3.10/dist-packages (from transformers[torch]) (2024.5.15)\n",
            "Requirement already satisfied: requests in /usr/local/lib/python3.10/dist-packages (from transformers[torch]) (2.32.3)\n",
            "Requirement already satisfied: safetensors>=0.4.1 in /usr/local/lib/python3.10/dist-packages (from transformers[torch]) (0.4.3)\n",
            "Requirement already satisfied: tokenizers<0.20,>=0.19 in /usr/local/lib/python3.10/dist-packages (from transformers[torch]) (0.19.1)\n",
            "Requirement already satisfied: tqdm>=4.27 in /usr/local/lib/python3.10/dist-packages (from transformers[torch]) (4.66.4)\n",
            "Requirement already satisfied: accelerate>=0.21.0 in /usr/local/lib/python3.10/dist-packages (from transformers[torch]) (0.32.1)\n",
            "Requirement already satisfied: torch in /usr/local/lib/python3.10/dist-packages (from transformers[torch]) (2.3.1+cu121)\n",
            "Requirement already satisfied: psutil in /usr/local/lib/python3.10/dist-packages (from accelerate>=0.21.0->transformers[torch]) (5.9.5)\n",
            "Requirement already satisfied: fsspec>=2023.5.0 in /usr/local/lib/python3.10/dist-packages (from huggingface-hub<1.0,>=0.23.2->transformers[torch]) (2023.6.0)\n",
            "Requirement already satisfied: typing-extensions>=3.7.4.3 in /usr/local/lib/python3.10/dist-packages (from huggingface-hub<1.0,>=0.23.2->transformers[torch]) (4.12.2)\n",
            "Requirement already satisfied: sympy in /usr/local/lib/python3.10/dist-packages (from torch->transformers[torch]) (1.13.1)\n",
            "Requirement already satisfied: networkx in /usr/local/lib/python3.10/dist-packages (from torch->transformers[torch]) (3.3)\n",
            "Requirement already satisfied: jinja2 in /usr/local/lib/python3.10/dist-packages (from torch->transformers[torch]) (3.1.4)\n",
            "Collecting nvidia-cuda-nvrtc-cu12==12.1.105 (from torch->transformers[torch])\n",
            "  Using cached nvidia_cuda_nvrtc_cu12-12.1.105-py3-none-manylinux1_x86_64.whl.metadata (1.5 kB)\n",
            "Collecting nvidia-cuda-runtime-cu12==12.1.105 (from torch->transformers[torch])\n",
            "  Using cached nvidia_cuda_runtime_cu12-12.1.105-py3-none-manylinux1_x86_64.whl.metadata (1.5 kB)\n",
            "Collecting nvidia-cuda-cupti-cu12==12.1.105 (from torch->transformers[torch])\n",
            "  Using cached nvidia_cuda_cupti_cu12-12.1.105-py3-none-manylinux1_x86_64.whl.metadata (1.6 kB)\n",
            "Collecting nvidia-cudnn-cu12==8.9.2.26 (from torch->transformers[torch])\n",
            "  Using cached nvidia_cudnn_cu12-8.9.2.26-py3-none-manylinux1_x86_64.whl.metadata (1.6 kB)\n",
            "Collecting nvidia-cublas-cu12==12.1.3.1 (from torch->transformers[torch])\n",
            "  Using cached nvidia_cublas_cu12-12.1.3.1-py3-none-manylinux1_x86_64.whl.metadata (1.5 kB)\n",
            "Collecting nvidia-cufft-cu12==11.0.2.54 (from torch->transformers[torch])\n",
            "  Using cached nvidia_cufft_cu12-11.0.2.54-py3-none-manylinux1_x86_64.whl.metadata (1.5 kB)\n",
            "Collecting nvidia-curand-cu12==10.3.2.106 (from torch->transformers[torch])\n",
            "  Using cached nvidia_curand_cu12-10.3.2.106-py3-none-manylinux1_x86_64.whl.metadata (1.5 kB)\n",
            "Collecting nvidia-cusolver-cu12==11.4.5.107 (from torch->transformers[torch])\n",
            "  Using cached nvidia_cusolver_cu12-11.4.5.107-py3-none-manylinux1_x86_64.whl.metadata (1.6 kB)\n",
            "Collecting nvidia-cusparse-cu12==12.1.0.106 (from torch->transformers[torch])\n",
            "  Using cached nvidia_cusparse_cu12-12.1.0.106-py3-none-manylinux1_x86_64.whl.metadata (1.6 kB)\n",
            "Collecting nvidia-nccl-cu12==2.20.5 (from torch->transformers[torch])\n",
            "  Using cached nvidia_nccl_cu12-2.20.5-py3-none-manylinux2014_x86_64.whl.metadata (1.8 kB)\n",
            "Collecting nvidia-nvtx-cu12==12.1.105 (from torch->transformers[torch])\n",
            "  Using cached nvidia_nvtx_cu12-12.1.105-py3-none-manylinux1_x86_64.whl.metadata (1.7 kB)\n",
            "Requirement already satisfied: triton==2.3.1 in /usr/local/lib/python3.10/dist-packages (from torch->transformers[torch]) (2.3.1)\n",
            "Collecting nvidia-nvjitlink-cu12 (from nvidia-cusolver-cu12==11.4.5.107->torch->transformers[torch])\n",
            "  Downloading nvidia_nvjitlink_cu12-12.5.82-py3-none-manylinux2014_x86_64.whl.metadata (1.5 kB)\n",
            "Requirement already satisfied: charset-normalizer<4,>=2 in /usr/local/lib/python3.10/dist-packages (from requests->transformers[torch]) (3.3.2)\n",
            "Requirement already satisfied: idna<4,>=2.5 in /usr/local/lib/python3.10/dist-packages (from requests->transformers[torch]) (3.7)\n",
            "Requirement already satisfied: urllib3<3,>=1.21.1 in /usr/local/lib/python3.10/dist-packages (from requests->transformers[torch]) (2.0.7)\n",
            "Requirement already satisfied: certifi>=2017.4.17 in /usr/local/lib/python3.10/dist-packages (from requests->transformers[torch]) (2024.7.4)\n",
            "Requirement already satisfied: MarkupSafe>=2.0 in /usr/local/lib/python3.10/dist-packages (from jinja2->torch->transformers[torch]) (2.1.5)\n",
            "Requirement already satisfied: mpmath<1.4,>=1.1.0 in /usr/local/lib/python3.10/dist-packages (from sympy->torch->transformers[torch]) (1.3.0)\n",
            "Using cached nvidia_cublas_cu12-12.1.3.1-py3-none-manylinux1_x86_64.whl (410.6 MB)\n",
            "Using cached nvidia_cuda_cupti_cu12-12.1.105-py3-none-manylinux1_x86_64.whl (14.1 MB)\n",
            "Using cached nvidia_cuda_nvrtc_cu12-12.1.105-py3-none-manylinux1_x86_64.whl (23.7 MB)\n",
            "Using cached nvidia_cuda_runtime_cu12-12.1.105-py3-none-manylinux1_x86_64.whl (823 kB)\n",
            "Using cached nvidia_cudnn_cu12-8.9.2.26-py3-none-manylinux1_x86_64.whl (731.7 MB)\n",
            "Using cached nvidia_cufft_cu12-11.0.2.54-py3-none-manylinux1_x86_64.whl (121.6 MB)\n",
            "Using cached nvidia_curand_cu12-10.3.2.106-py3-none-manylinux1_x86_64.whl (56.5 MB)\n",
            "Using cached nvidia_cusolver_cu12-11.4.5.107-py3-none-manylinux1_x86_64.whl (124.2 MB)\n",
            "Using cached nvidia_cusparse_cu12-12.1.0.106-py3-none-manylinux1_x86_64.whl (196.0 MB)\n",
            "Using cached nvidia_nccl_cu12-2.20.5-py3-none-manylinux2014_x86_64.whl (176.2 MB)\n",
            "Using cached nvidia_nvtx_cu12-12.1.105-py3-none-manylinux1_x86_64.whl (99 kB)\n",
            "Downloading nvidia_nvjitlink_cu12-12.5.82-py3-none-manylinux2014_x86_64.whl (21.3 MB)\n",
            "\u001b[2K   \u001b[90m━━━━━━━━━━━━━━━━━━━━━━━━━━━━━━━━━━━━━━━━\u001b[0m \u001b[32m21.3/21.3 MB\u001b[0m \u001b[31m4.7 MB/s\u001b[0m eta \u001b[36m0:00:00\u001b[0m\n",
            "\u001b[?25hInstalling collected packages: nvidia-nvtx-cu12, nvidia-nvjitlink-cu12, nvidia-nccl-cu12, nvidia-curand-cu12, nvidia-cufft-cu12, nvidia-cuda-runtime-cu12, nvidia-cuda-nvrtc-cu12, nvidia-cuda-cupti-cu12, nvidia-cublas-cu12, nvidia-cusparse-cu12, nvidia-cudnn-cu12, nvidia-cusolver-cu12\n",
            "Successfully installed nvidia-cublas-cu12-12.1.3.1 nvidia-cuda-cupti-cu12-12.1.105 nvidia-cuda-nvrtc-cu12-12.1.105 nvidia-cuda-runtime-cu12-12.1.105 nvidia-cudnn-cu12-8.9.2.26 nvidia-cufft-cu12-11.0.2.54 nvidia-curand-cu12-10.3.2.106 nvidia-cusolver-cu12-11.4.5.107 nvidia-cusparse-cu12-12.1.0.106 nvidia-nccl-cu12-2.20.5 nvidia-nvjitlink-cu12-12.5.82 nvidia-nvtx-cu12-12.1.105\n"
          ]
        }
      ],
      "source": [
        "!pip install transformers[torch]"
      ]
    },
    {
      "cell_type": "code",
      "execution_count": null,
      "metadata": {
        "colab": {
          "base_uri": "https://localhost:8080/"
        },
        "id": "rWzx-dHkugyx",
        "outputId": "b5f0c6f0-8ced-404a-e387-d292644cc754"
      },
      "outputs": [
        {
          "output_type": "stream",
          "name": "stdout",
          "text": [
            "Requirement already satisfied: accelerate in /usr/local/lib/python3.10/dist-packages (0.32.1)\n",
            "Collecting accelerate\n",
            "  Downloading accelerate-0.33.0-py3-none-any.whl.metadata (18 kB)\n",
            "Requirement already satisfied: numpy<2.0.0,>=1.17 in /usr/local/lib/python3.10/dist-packages (from accelerate) (1.25.2)\n",
            "Requirement already satisfied: packaging>=20.0 in /usr/local/lib/python3.10/dist-packages (from accelerate) (24.1)\n",
            "Requirement already satisfied: psutil in /usr/local/lib/python3.10/dist-packages (from accelerate) (5.9.5)\n",
            "Requirement already satisfied: pyyaml in /usr/local/lib/python3.10/dist-packages (from accelerate) (6.0.1)\n",
            "Requirement already satisfied: torch>=1.10.0 in /usr/local/lib/python3.10/dist-packages (from accelerate) (2.3.1+cu121)\n",
            "Requirement already satisfied: huggingface-hub>=0.21.0 in /usr/local/lib/python3.10/dist-packages (from accelerate) (0.23.5)\n",
            "Requirement already satisfied: safetensors>=0.3.1 in /usr/local/lib/python3.10/dist-packages (from accelerate) (0.4.3)\n",
            "Requirement already satisfied: filelock in /usr/local/lib/python3.10/dist-packages (from huggingface-hub>=0.21.0->accelerate) (3.15.4)\n",
            "Requirement already satisfied: fsspec>=2023.5.0 in /usr/local/lib/python3.10/dist-packages (from huggingface-hub>=0.21.0->accelerate) (2023.6.0)\n",
            "Requirement already satisfied: requests in /usr/local/lib/python3.10/dist-packages (from huggingface-hub>=0.21.0->accelerate) (2.32.3)\n",
            "Requirement already satisfied: tqdm>=4.42.1 in /usr/local/lib/python3.10/dist-packages (from huggingface-hub>=0.21.0->accelerate) (4.66.4)\n",
            "Requirement already satisfied: typing-extensions>=3.7.4.3 in /usr/local/lib/python3.10/dist-packages (from huggingface-hub>=0.21.0->accelerate) (4.12.2)\n",
            "Requirement already satisfied: sympy in /usr/local/lib/python3.10/dist-packages (from torch>=1.10.0->accelerate) (1.13.1)\n",
            "Requirement already satisfied: networkx in /usr/local/lib/python3.10/dist-packages (from torch>=1.10.0->accelerate) (3.3)\n",
            "Requirement already satisfied: jinja2 in /usr/local/lib/python3.10/dist-packages (from torch>=1.10.0->accelerate) (3.1.4)\n",
            "Requirement already satisfied: nvidia-cuda-nvrtc-cu12==12.1.105 in /usr/local/lib/python3.10/dist-packages (from torch>=1.10.0->accelerate) (12.1.105)\n",
            "Requirement already satisfied: nvidia-cuda-runtime-cu12==12.1.105 in /usr/local/lib/python3.10/dist-packages (from torch>=1.10.0->accelerate) (12.1.105)\n",
            "Requirement already satisfied: nvidia-cuda-cupti-cu12==12.1.105 in /usr/local/lib/python3.10/dist-packages (from torch>=1.10.0->accelerate) (12.1.105)\n",
            "Requirement already satisfied: nvidia-cudnn-cu12==8.9.2.26 in /usr/local/lib/python3.10/dist-packages (from torch>=1.10.0->accelerate) (8.9.2.26)\n",
            "Requirement already satisfied: nvidia-cublas-cu12==12.1.3.1 in /usr/local/lib/python3.10/dist-packages (from torch>=1.10.0->accelerate) (12.1.3.1)\n",
            "Requirement already satisfied: nvidia-cufft-cu12==11.0.2.54 in /usr/local/lib/python3.10/dist-packages (from torch>=1.10.0->accelerate) (11.0.2.54)\n",
            "Requirement already satisfied: nvidia-curand-cu12==10.3.2.106 in /usr/local/lib/python3.10/dist-packages (from torch>=1.10.0->accelerate) (10.3.2.106)\n",
            "Requirement already satisfied: nvidia-cusolver-cu12==11.4.5.107 in /usr/local/lib/python3.10/dist-packages (from torch>=1.10.0->accelerate) (11.4.5.107)\n",
            "Requirement already satisfied: nvidia-cusparse-cu12==12.1.0.106 in /usr/local/lib/python3.10/dist-packages (from torch>=1.10.0->accelerate) (12.1.0.106)\n",
            "Requirement already satisfied: nvidia-nccl-cu12==2.20.5 in /usr/local/lib/python3.10/dist-packages (from torch>=1.10.0->accelerate) (2.20.5)\n",
            "Requirement already satisfied: nvidia-nvtx-cu12==12.1.105 in /usr/local/lib/python3.10/dist-packages (from torch>=1.10.0->accelerate) (12.1.105)\n",
            "Requirement already satisfied: triton==2.3.1 in /usr/local/lib/python3.10/dist-packages (from torch>=1.10.0->accelerate) (2.3.1)\n",
            "Requirement already satisfied: nvidia-nvjitlink-cu12 in /usr/local/lib/python3.10/dist-packages (from nvidia-cusolver-cu12==11.4.5.107->torch>=1.10.0->accelerate) (12.5.82)\n",
            "Requirement already satisfied: MarkupSafe>=2.0 in /usr/local/lib/python3.10/dist-packages (from jinja2->torch>=1.10.0->accelerate) (2.1.5)\n",
            "Requirement already satisfied: charset-normalizer<4,>=2 in /usr/local/lib/python3.10/dist-packages (from requests->huggingface-hub>=0.21.0->accelerate) (3.3.2)\n",
            "Requirement already satisfied: idna<4,>=2.5 in /usr/local/lib/python3.10/dist-packages (from requests->huggingface-hub>=0.21.0->accelerate) (3.7)\n",
            "Requirement already satisfied: urllib3<3,>=1.21.1 in /usr/local/lib/python3.10/dist-packages (from requests->huggingface-hub>=0.21.0->accelerate) (2.0.7)\n",
            "Requirement already satisfied: certifi>=2017.4.17 in /usr/local/lib/python3.10/dist-packages (from requests->huggingface-hub>=0.21.0->accelerate) (2024.7.4)\n",
            "Requirement already satisfied: mpmath<1.4,>=1.1.0 in /usr/local/lib/python3.10/dist-packages (from sympy->torch>=1.10.0->accelerate) (1.3.0)\n",
            "Downloading accelerate-0.33.0-py3-none-any.whl (315 kB)\n",
            "\u001b[2K   \u001b[90m━━━━━━━━━━━━━━━━━━━━━━━━━━━━━━━━━━━━━━━━\u001b[0m \u001b[32m315.1/315.1 kB\u001b[0m \u001b[31m5.9 MB/s\u001b[0m eta \u001b[36m0:00:00\u001b[0m\n",
            "\u001b[?25hInstalling collected packages: accelerate\n",
            "  Attempting uninstall: accelerate\n",
            "    Found existing installation: accelerate 0.32.1\n",
            "    Uninstalling accelerate-0.32.1:\n",
            "      Successfully uninstalled accelerate-0.32.1\n",
            "Successfully installed accelerate-0.33.0\n"
          ]
        }
      ],
      "source": [
        "!pip install accelerate -U"
      ]
    },
    {
      "cell_type": "code",
      "execution_count": null,
      "metadata": {
        "colab": {
          "base_uri": "https://localhost:8080/"
        },
        "id": "Qva8AsjNKG75",
        "outputId": "22342876-d3c3-4dbc-97e4-edd44432bb56"
      },
      "outputs": [
        {
          "output_type": "stream",
          "name": "stdout",
          "text": [
            "Collecting rouge-score\n",
            "  Downloading rouge_score-0.1.2.tar.gz (17 kB)\n",
            "  Preparing metadata (setup.py) ... \u001b[?25l\u001b[?25hdone\n",
            "Requirement already satisfied: absl-py in /usr/local/lib/python3.10/dist-packages (from rouge-score) (1.4.0)\n",
            "Requirement already satisfied: nltk in /usr/local/lib/python3.10/dist-packages (from rouge-score) (3.8.1)\n",
            "Requirement already satisfied: numpy in /usr/local/lib/python3.10/dist-packages (from rouge-score) (1.25.2)\n",
            "Requirement already satisfied: six>=1.14.0 in /usr/local/lib/python3.10/dist-packages (from rouge-score) (1.16.0)\n",
            "Requirement already satisfied: click in /usr/local/lib/python3.10/dist-packages (from nltk->rouge-score) (8.1.7)\n",
            "Requirement already satisfied: joblib in /usr/local/lib/python3.10/dist-packages (from nltk->rouge-score) (1.4.2)\n",
            "Requirement already satisfied: regex>=2021.8.3 in /usr/local/lib/python3.10/dist-packages (from nltk->rouge-score) (2024.5.15)\n",
            "Requirement already satisfied: tqdm in /usr/local/lib/python3.10/dist-packages (from nltk->rouge-score) (4.66.4)\n",
            "Building wheels for collected packages: rouge-score\n",
            "  Building wheel for rouge-score (setup.py) ... \u001b[?25l\u001b[?25hdone\n",
            "  Created wheel for rouge-score: filename=rouge_score-0.1.2-py3-none-any.whl size=24934 sha256=f82b0a8901219263b6b6edd56cb6e9f5792e1d924b4376dbc369ba64ef239877\n",
            "  Stored in directory: /root/.cache/pip/wheels/5f/dd/89/461065a73be61a532ff8599a28e9beef17985c9e9c31e541b4\n",
            "Successfully built rouge-score\n",
            "Installing collected packages: rouge-score\n",
            "Successfully installed rouge-score-0.1.2\n"
          ]
        }
      ],
      "source": [
        "!pip install rouge-score"
      ]
    },
    {
      "cell_type": "code",
      "execution_count": null,
      "metadata": {
        "colab": {
          "base_uri": "https://localhost:8080/"
        },
        "id": "bwCgoPbbzqX3",
        "outputId": "99ae7445-fef6-469b-ba2c-ad642e0a6318"
      },
      "outputs": [
        {
          "output_type": "stream",
          "name": "stdout",
          "text": [
            "Collecting textstat\n",
            "  Downloading textstat-0.7.4-py3-none-any.whl.metadata (14 kB)\n",
            "Collecting pyphen (from textstat)\n",
            "  Downloading pyphen-0.15.0-py3-none-any.whl.metadata (3.3 kB)\n",
            "Requirement already satisfied: setuptools in /usr/local/lib/python3.10/dist-packages (from textstat) (71.0.4)\n",
            "Downloading textstat-0.7.4-py3-none-any.whl (105 kB)\n",
            "\u001b[2K   \u001b[90m━━━━━━━━━━━━━━━━━━━━━━━━━━━━━━━━━━━━━━━━\u001b[0m \u001b[32m105.1/105.1 kB\u001b[0m \u001b[31m2.7 MB/s\u001b[0m eta \u001b[36m0:00:00\u001b[0m\n",
            "\u001b[?25hDownloading pyphen-0.15.0-py3-none-any.whl (2.1 MB)\n",
            "\u001b[2K   \u001b[90m━━━━━━━━━━━━━━━━━━━━━━━━━━━━━━━━━━━━━━━━\u001b[0m \u001b[32m2.1/2.1 MB\u001b[0m \u001b[31m31.9 MB/s\u001b[0m eta \u001b[36m0:00:00\u001b[0m\n",
            "\u001b[?25hInstalling collected packages: pyphen, textstat\n",
            "Successfully installed pyphen-0.15.0 textstat-0.7.4\n"
          ]
        }
      ],
      "source": [
        "pip install textstat"
      ]
    },
    {
      "cell_type": "code",
      "execution_count": null,
      "metadata": {
        "colab": {
          "base_uri": "https://localhost:8080/"
        },
        "id": "1XIJ6FbCEbC0",
        "outputId": "bdb13f0b-f1ef-4528-8163-19d7ae5c07a8"
      },
      "outputs": [
        {
          "output_type": "stream",
          "name": "stderr",
          "text": [
            "[nltk_data] Downloading package punkt to /root/nltk_data...\n",
            "[nltk_data]   Package punkt is already up-to-date!\n"
          ]
        },
        {
          "output_type": "execute_result",
          "data": {
            "text/plain": [
              "True"
            ]
          },
          "metadata": {},
          "execution_count": 25
        }
      ],
      "source": [
        "import matplotlib.pyplot as plt\n",
        "import numpy as np\n",
        "import torch\n",
        "import evaluate\n",
        "import pandas as pd\n",
        "import nltk\n",
        "import textstat\n",
        "from torch.utils.data import DataLoader\n",
        "from rouge_score import rouge_scorer\n",
        "from datasets import load_dataset, Dataset, DatasetDict\n",
        "from transformers import AutoTokenizer, AutoModelForSeq2SeqLM, BertForSequenceClassification, BertModel, BertTokenizer, DataCollatorForSeq2Seq, PegasusForConditionalGeneration, pipeline, Seq2SeqTrainer, Seq2SeqTrainingArguments, Trainer, TrainerCallback, TrainingArguments\n",
        "from sklearn.feature_extraction.text import TfidfVectorizer\n",
        "from sklearn.metrics.pairwise import linear_kernel\n",
        "from google.colab import drive\n",
        "import os\n",
        "# from sklearn.metrics.pairwise import cosine_similarity\n",
        "\n",
        "nltk.download('punkt')"
      ]
    },
    {
      "cell_type": "markdown",
      "source": [
        "### Helpers"
      ],
      "metadata": {
        "id": "ccufqRWwngTM"
      }
    },
    {
      "cell_type": "code",
      "execution_count": null,
      "metadata": {
        "id": "_3KwGNS5nr2B"
      },
      "outputs": [],
      "source": [
        "# Function to evaluate the summaries using ROUGE\n",
        "def evaluate_summaries(reference_summaries, generated_summaries):\n",
        "    scorer = rouge_scorer.RougeScorer(['rouge1', 'rouge2', 'rougeL'], use_stemmer=True)\n",
        "    scores = [scorer.score(ref, gen) for ref, gen in zip(reference_summaries, generated_summaries)]\n",
        "\n",
        "    avg_scores = {\n",
        "        'rouge1': {\n",
        "            'precision': np.mean([score['rouge1'].precision for score in scores]),\n",
        "            'recall': np.mean([score['rouge1'].recall for score in scores]),\n",
        "            'f1': np.mean([score['rouge1'].fmeasure for score in scores])\n",
        "        },\n",
        "        'rouge2': {\n",
        "            'precision': np.mean([score['rouge2'].precision for score in scores]),\n",
        "            'recall': np.mean([score['rouge2'].recall for score in scores]),\n",
        "            'f1': np.mean([score['rouge2'].fmeasure for score in scores])\n",
        "        },\n",
        "        'rougeL': {\n",
        "            'precision': np.mean([score['rougeL'].precision for score in scores]),\n",
        "            'recall': np.mean([score['rougeL'].recall for score in scores]),\n",
        "            'f1': np.mean([score['rougeL'].fmeasure for score in scores])\n",
        "        }\n",
        "    }\n",
        "\n",
        "    # readability metrics\n",
        "    fk_grade_levels = [textstat.flesch_kincaid_grade(summary) for summary in generated_summaries]\n",
        "    gunning_fog_indices = [textstat.gunning_fog(summary) for summary in generated_summaries]\n",
        "\n",
        "    readability_metrics = {\n",
        "        'flesch_kincaid_grade': np.mean(fk_grade_levels),\n",
        "        'gunning_fog_index': np.mean(gunning_fog_indices)\n",
        "    }\n",
        "\n",
        "    return avg_scores, readability_metrics"
      ]
    },
    {
      "cell_type": "markdown",
      "metadata": {
        "id": "eQavZMpP8twM"
      },
      "source": [
        "## Data and EDA"
      ]
    },
    {
      "cell_type": "code",
      "execution_count": null,
      "metadata": {
        "colab": {
          "base_uri": "https://localhost:8080/",
          "height": 266,
          "referenced_widgets": [
            "81acfaf77bb548cbb19e69569cb47546",
            "9f9165918c0940df8f55f55cd5760dff",
            "10c85efc455148c89a56e882582e9abe",
            "a0630bd32015434dbf482f805ecb42d9",
            "bae4a01589544a9ab245cfbac6df6bd4",
            "893e802adc5b4880957ec3bd8af7ce51",
            "834feb144d5549ecbbb47b0fce9cd572",
            "9ca042dbc4024cea85ba4744312f35b7",
            "57624a7a554041d29053a1f7923d60d5",
            "faeba1c655e94fd8a59fc5b2102ee4eb",
            "9b66d223d46846b7821d7aeb9f76f2e5",
            "5f962b41ffa44faa815b37b17a67ccb9",
            "b1a37817cdde40d3b0a76ffbd6c433dd",
            "eba1c71efcc44bd585c651b7a5a70844",
            "d38c4d40535c491f9be43d43f1bfbd11",
            "b4799bd3f900439dba191bc57ee18f61",
            "b726348e95fd45eab86e7311ce990be1",
            "f64d2cd787674c04a3be18da246b92f8",
            "9ad2734dec764cf7b76bb73940e9371f",
            "1ad91c33bae74fcd87cac6ac3dc694b3",
            "5ec7d3ae12a64df7b74b73b69e3f1af5",
            "bfa9d1456b724ef7b04550aa12fb234e",
            "da056dc19f6740d9a0f395bddd67eae0",
            "ddb05fdec3624c8d891abca81a27936c",
            "1f4e329461cb4d4aabc6a47959c3241c",
            "79b59f4de93c4757bc1767f7de8df7e7",
            "fb04081f59a4401d8ec6449d7de7a77c",
            "d2042cdd74464a75bd76065c74d744ac",
            "aab29edb9bc44b33a835c550bfaf6154",
            "1ec2f1c7703745758e6a4777f78b7111",
            "88740889f4164062afffa9bdf436ab84",
            "197dc67f8b384481acb0355fb6af1a69",
            "4f98ef62fd9e43e58d58f099422b9b14",
            "e0974dad18fc4255b27c302d65ed4559",
            "837241f561324bdbae8d782eacef6141",
            "e451b05f196542da8812e394e02b0882",
            "5c4b4ef44dda47b6b321ba447de8f905",
            "d0f3e9ff859342eb9550e3c8644d85f5",
            "a0c34c745acf4b3eb4098ea81ced6386",
            "a8dfa37abc38480d887784ae4a941838",
            "80261a0b02c74830a88e57aaa6b7ccc9",
            "123d65fc8d0b4480a43e8bc07765714b",
            "f7bf0bd881bc4dde850ff5605d402e64",
            "757602818e884524a1b1f28f312a267e",
            "adbbed529ee34bb7adebb2685c135f6a",
            "752dc7ab6b0642dfb0ca031848aecc7e",
            "33447ffa66ce4dcd885c7178f254d709",
            "717f756dd83143cb8e6f7afa5156b49e",
            "917b711da2bd4e42be8f7a240d668dad",
            "7f8b9b822e90493286947c8e99d0bec8",
            "940158643dec4eb3afe451793874d759",
            "96165274efb444b9a7e3f4ca334d863f",
            "ea28276e37a14ec4bffc2a2695b5f7de",
            "62591e87ead844a19b6ea03762187d3f",
            "2e46d2dde073432db44a5b3c4caeb8d9"
          ]
        },
        "id": "ByHElFZjdjEt",
        "outputId": "25badfcb-cdd1-4660-c7b5-2d0f6172717f"
      },
      "outputs": [
        {
          "name": "stdout",
          "output_type": "stream",
          "text": [
            "The repository for tomasg25/scientific_lay_summarisation contains custom code which must be executed to correctly load the dataset. You can inspect the repository content at https://hf.co/datasets/tomasg25/scientific_lay_summarisation.\n",
            "You can avoid this prompt in future by passing the argument `trust_remote_code=True`.\n",
            "\n",
            "Do you wish to run the custom code? [y/N] y\n"
          ]
        },
        {
          "output_type": "display_data",
          "data": {
            "text/plain": [
              "Downloading data:   0%|          | 0.00/357M [00:00<?, ?B/s]"
            ],
            "application/vnd.jupyter.widget-view+json": {
              "version_major": 2,
              "version_minor": 0,
              "model_id": "81acfaf77bb548cbb19e69569cb47546"
            }
          },
          "metadata": {}
        },
        {
          "output_type": "display_data",
          "data": {
            "text/plain": [
              "Downloading data:   0%|          | 0.00/88.7M [00:00<?, ?B/s]"
            ],
            "application/vnd.jupyter.widget-view+json": {
              "version_major": 2,
              "version_minor": 0,
              "model_id": "5f962b41ffa44faa815b37b17a67ccb9"
            }
          },
          "metadata": {}
        },
        {
          "output_type": "display_data",
          "data": {
            "text/plain": [
              "Generating train split:   0%|          | 0/24773 [00:00<?, ? examples/s]"
            ],
            "application/vnd.jupyter.widget-view+json": {
              "version_major": 2,
              "version_minor": 0,
              "model_id": "da056dc19f6740d9a0f395bddd67eae0"
            }
          },
          "metadata": {}
        },
        {
          "output_type": "display_data",
          "data": {
            "text/plain": [
              "Generating validation split:   0%|          | 0/1376 [00:00<?, ? examples/s]"
            ],
            "application/vnd.jupyter.widget-view+json": {
              "version_major": 2,
              "version_minor": 0,
              "model_id": "e0974dad18fc4255b27c302d65ed4559"
            }
          },
          "metadata": {}
        },
        {
          "output_type": "display_data",
          "data": {
            "text/plain": [
              "Generating test split:   0%|          | 0/1376 [00:00<?, ? examples/s]"
            ],
            "application/vnd.jupyter.widget-view+json": {
              "version_major": 2,
              "version_minor": 0,
              "model_id": "adbbed529ee34bb7adebb2685c135f6a"
            }
          },
          "metadata": {}
        }
      ],
      "source": [
        "dataset = load_dataset(\"tomasg25/scientific_lay_summarisation\", \"plos\")"
      ]
    },
    {
      "cell_type": "code",
      "execution_count": null,
      "metadata": {
        "colab": {
          "base_uri": "https://localhost:8080/"
        },
        "id": "X_kF5nh0efpo",
        "outputId": "3fdbe029-997e-438b-af17-93c95a8935ec"
      },
      "outputs": [
        {
          "output_type": "stream",
          "name": "stdout",
          "text": [
            "dict_keys(['article', 'summary', 'section_headings', 'keywords', 'year', 'title'])\n"
          ]
        }
      ],
      "source": [
        "# Get one row of the dataset\n",
        "example = dataset['train'][2]\n",
        "\n",
        "# Print all keys in the example\n",
        "print(example.keys())"
      ]
    },
    {
      "cell_type": "code",
      "execution_count": null,
      "metadata": {
        "colab": {
          "base_uri": "https://localhost:8080/"
        },
        "id": "OpGmY3a1Cd8V",
        "outputId": "8f6be636-e3fa-4841-8d84-937374b9e90a"
      },
      "outputs": [
        {
          "output_type": "stream",
          "name": "stdout",
          "text": [
            "Sustainable dengue intervention requires the participation of communities . Therefore , understanding the health beliefs , knowledge and perceptions of dengue among the local people can help to design locally appropriate strategies for effective interventions . A combination of qualitative semi-structured in-depth interviews ( SDIs ) and quantitative household questionnaire surveys ( HHSs ) was used to investigate the beliefs , knowledge and perceptions of dengue among the Shan people in Eastern Shan Special Region IV ( ESSR4 ) , Myanmar . The SDI was administered to 18 key informants , and the HHS was administered to 259 respondents . Only 14 . 7% ( 95% CI: 10 . 6–19 . 6% ) of the HHS respondents could confirm that mosquitoes transmit dengue; 14 . 3% ( 95% CI: 10 . 3–19 . 1% ) knew that piebald or Aedes mosquitoes transmit dengue; and 24 . 3% ( 95% CI: 19 . 2–30 . 0% ) believed that dengue-transmitting mosquitoes mainly lived in small ponds . Merely ten ( 0 . 4% ) of the 259 respondents of the HHS thought that dengue-transmitting mosquitoes bite in the day time . The people in the villages where there were outbreaks of dengue had more knowledge about dengue . This study demonstrates that the health beliefs of the Shan people were closely associated with their lifestyles , social and natural environments . To stay healthy , the Shan people clean their houses and surroundings regularly . However , their knowledge about dengue was not adequate for effective dengue control because it was mostly learned from previous dengue experiences and in a context that lacks systematic health education . Thus , in this setting , with a weak public health structure , more international support should be provided to promote the knowledge of the Shan people about dengue and to increase their sensitive awareness to dengue , which might be beneficial for social mobilization and community participation during future dengue prevention .\n",
            "Dengue fever ( DF ) is a mosquito-borne disease caused by the dengue virus . It has become a substantially increasing threat to public health and represents a challenge to health services and a burden to economies . It was recently estimated that there are 390 million dengue infections every year ( 95% confidence interval 284–528 million ) , of which 96 million ( 67–136 million ) infections manifest clinically [1 , 2] . The World Health Organization ( WHO ) estimated that 3 . 9 billion people in 128 countries are at risk for infection with dengue viruses [3] and that approximately 75% of the global population who are at risk for contracting dengue is distributed across the Asia-Pacific region [4] . However , dengue is still one of the most neglected tropical diseases , which are caused and maintained by the social and environmental determinants of health [5] . The social determinants of infectious disease control are difficult to address [6] . For that reason , the Special Programme for Tropical Diseases Research and Training from the World Health Organization has called for more research on the interplay between the demographic , social , and environmental factors in infectious disease occurrence [7] . In recent years , outbreaks of DF have occurred along the China-Myanmar-Laos border , and most of these outbreaks affected Dai or Shan ethnic communities [8 , 9] . Dengue virus is primarily transmitted by Aedes mosquitoes , particularly Aedes aegypti . Water containers and discarded tires are the main productive habitats for Aedes [10] . The population dynamics of Aedes aegypti are influenced by human behavior and by the weather [11] . Outbreaks of DF may also be attributed to the social and environmental characteristics of the residents . Human behavior change communication ( BCC ) is one of the currently adopted strategies to reduce the Aedes population and dengue virus transmission [4 , 11–13] . Understanding people’s health beliefs , knowledge and perception about dengue may help to generate better strategies for dengue control [14 , 15] . Data about people’s health beliefs , knowledge and perceptions about dengue are still lacking at the China-Myanmar-Laos border . This kind of data may help to explore locally adaptive strategies and solutions for the next steps in dengue prevention and control . This study investigated the health beliefs , knowledge and perception of the Shan people about dengue in Eastern Shan Special Region IV ( ESSR4 ) , Myanmar . The purpose of using both qualitative and quantitative methods is to triangulate the study outcomes , to try to gain in-depth understanding and to compare any potential differences between the general community and the key informants who are supposed to have more chances to receive health information . Here , we report our findings and provide a discussion on their implications .\n",
            "This investigation was a cross-sectional study that used mixed methods , including a quantitative HHS and qualitative SDI . Based on the number of reported dengue fever cases in 2017 , three types of villages ( high , low and no dengue incidence ) were chosen as sample sites in Mongla Township in ESSR4 , Myanmar . The SDI was administered to six key informants in each type of sampled village , so a total of 18 SDIs were conducted . The targeted sample size of the HHS , i . e . , 250 household heads for the questionnaire survey , was determined based on a 95% confidence interval of the standard value normal distribution , a 5% precision and an estimated 20% of adult people who know that mosquitoes transmit dengue virus [16] . Generally , people’s health beliefs are supposed to affect people’s knowledge , perception and preventive behaviors regarding diseases . In this paper , health beliefs are the general perceptions of elements related to health and diseases , not just special beliefs about dengue , i . e . , people’s perception of the effect of religious , socioeconomic and natural elements on their health and their perception of disease causes . More specifically , in this article , the knowledge and perception were specifically about dengue fever , including their knowledge of the clinical symptoms , vectors , dengue virus transmission , preventive methods and their perceived risk of contracting dengue fever . First , two of the main researchers discussed the study themes , including common diseases and health problems in the community , causes of poor health , knowledge of dengue , perceived risks of dengue and preventive methods , and then drafted the guidelines for the qualitative SDI . Second , the guidelines were pretested through discussions with village leaders and health workers and were then revised and finalized according to the results of the pretests . Third , based on the qualitative SDI guidelines , a questionnaire was developed , pretested by interviewing five heads of households , and then revised and finalized . The questionnaire consisted of 55 questions that covered demographics , education , family economics , beliefs on health and disease causes , the knowledge of dengue ( including symptoms , transmission , vectors and prevention ) , perceived risk and attitudes . ESSR4 of Myanmar adjoins the Xishuangbanna Prefecture of China [17] and has three administrative areas , i . e . , Mongla Township , Nanban and Selei County . The total population of ESSR4 is approximately 110 , 000 , and the majority of residents are Shan people ( known as Dai in China , Thai in Thailand and Lao in Lao PDR ) , which is one of the main ethnicities in the Greater Mekong Subregion ( GMS ) . The hot climate and adequate precipitation in ESSR4 provide a suitable environment for the growth and reproduction of mosquitoes , thereby increasing dengue transmission . Outbreaks of DF have recently occurred in Mongla Township each year [8] . The hospital of ESSR4 is the sole health facility that can perform the laboratory-based diagnosis and treatment of DF , and this hospital reported a total of 114 dengue fever cases in 2017 . To compare the responses of communities with different DF experiences and to explore the potential reasons behind these responses , this study was deliberately designed to be carried out in three types of villages ( V1 = no DF patients , V2 = low DF incidence , and V3 = high DF incidence ) . After discussion with the hospital of ESSR4 , Mangjingpa and Wangnali ( V1 ) , Wangmaidao ( V2 ) and Wangdong ( V3 ) were selected for the study , as a common decision between us and the hospital . In 2017 , V1 had 867 people and no reported DF cases; V2 had 389 people and nine reported DF cases; and V3 had 487 people and 36 reported DF cases . The qualitative data were collected by interviewing 18 key informants , with six from each type of village ( i . e . , V1 , V2 and V3 ) . Participants included one health worker , three village leaders and two villager representatives who were chosen by the other villagers . The interview was conducted by following the SDI guidelines . One researcher interviewed the key informants in the Shan language , and another took notes in Chinese . The contents that were discussed included local health problems , villagers’ beliefs , including religion , the causes of diseases , local dengue situations , the name for DF in the Shan ethnic language and its meaning , the linkage between mosquitoes and dengue , the time that mosquitoes bite humans , the breeding sites of dengue-transmitting mosquito larvae and people’s perceptions of the prevention of DF [18 , 19] . The unit of sampling of this study was a household , which was defined as all those eating from the same cooking pot . The family wealth index ( FWI ) was determined by the household’s physical assets , such as housing , walls , roofs , and bicycles , and was classified into five groups ( Table 1 ) . Households were selected by a simple computer randomization in V1 , V2 and V3 . The 50% ±10% of the targeted sample size of the HHS ( 250 household heads ) was decided for villages with reported dengue cases and without , respectively . Chinese is the official language in the ESSR4 , so the questionnaire was written in Chinese . Researchers first visited each selected household and introduced the purpose of this study , topics and related questions that would be asked . The questionnaire was subsequently administered to each household head only after oral informed consent was obtained . Investigators who understood both the Shan language and Chinese from the Hospital of ESSR4 asked every question in the Shan language and then filled out the questionnaire in Chinese [20 , 21] . Records of the qualitative SDI were coded according to the contents of the questions and were then entered into cells in Microsoft Office Excel 2007 . The same content records were combined by code sequencing . Two researchers independently analyzed the records of every content to generate themes . Finally , the two researchers discussed and compared their findings to finalize the findings . Quantitative data were entered in Excel 2007 and were analyzed in Epi Info 7 . 2 . The percentage and its 95% confidence interval ( CI ) were calculated for each health belief , piece of knowledge and perception . A chi-squared test was used to compare the percentage of each health belief , piece of knowledge and perception across the three village categories ( V1 , V2 and V3 ) [20 , 21] . The study was approved by the Bureau of Health of ESSR4 , Myanmar . Ethical approval for this study was also granted by the Ethics Committees of the Yunnan Institute of Parasitic Diseases in China . Verbal consent was approved by the Ethics Committee as an acceptable form , as the study was interview-based and did not include any human specimens . All studied participants were adults ( over 18-years-old ) . According to the World Medical Association Declaration of Helsinki , the purpose and procedures of the study were explained and disclosed to the participants before obtaining their consent . Participation was entirely voluntary , and participants could pass on a question , take a break or withdraw their consent from the study without providing any explanation at any time . Their consent was assumed if they did not refuse to answer questions .\n",
            "The SDI was administered to 18 key informants , including nine males and nine females , ranging from 32- to 54-years-old . The questionnaire was administered to 259 household heads , and all completed questionnaires were considered valid . Among the 259 households , 211 ( 81 . 5% , 95% CI: 76 . 2–86% ) were less poor ( FWI 4–5 ) ( Table 1 ) . The respondents were made up of 149 females and 110 males . The mean age of the respondents was 42 . 3-years-old ( median: 49 . 0 , range: 18–99 ) . A total of 225 ( 86 . 9% , 95% CI: 82 . 1–90 . 7% ) respondents said that they had not received any formal health education . Most of the participants and their family members were Buddhists . Only two of the HHS respondents were Papists , and the other three were not religious . All 18 key informants were Buddhist and agreed that , “One good turn deserves another . Evil will be recompensed with evil . The Buddha will bless and protect good people . If anyone does bad things , he or she would be punished due to their evil behaviors” . Half of 18 key informants thought that the natural environment in which they were living affected their health . In V1 , three of the key informants agreed that , “In hotter weather , more people get ill” . In V2 , two key informants agreed that , “Extremely hot or cold weather can make people ill” . In V3 , four of the key informants agreed that , “When there are more trees , there are more mosquitoes and therefore more diseases” . Nine of 18 key informants believed that a certain link existed between household economic income and diseases . One of the key informants explained , “In poorer economic conditions , it is easier to get diseases because the poor may more easily suffer from malnutrition and be less healthy” . Fourteen of the key informants thought that clean living and working environments benefited their health . In V1 , the key informants agreed that , “Poor hygiene is one of the disease causes” . In V2 , the key informants agreed that , “Dirty water leads to diseases” . In V3 , the key informants agreed that , “When hygiene is poor , it is easier to contract diseases” ( Table 2 ) . The results of the HHS showed that 79 . 9% ( 95% CI: 74 . 5–84 . 6% ) of the respondents believed that Buddha would bless good people; 54 . 1% ( 95% CI: 48 . 2–60 . 6% ) thought that anyone who did evil would be punished; 47 . 5% ( 95% CI: 41 . 3–53 . 8% ) mentioned that poverty was one of the causes of disease; 62 . 9% ( 95% CI: 56 . 7–68 . 8% ) believed that all natural factors , including climate , weather , water and forests , influenced human health; 87 . 0% ( 95% CI: 92 . 2–90 . 9% ) believed that cleanliness and sound hygiene benefited human health; and 21 . 7% ( 95% CI: 16 . 7–27 . 2% ) thought that unpolluted water was healthier than polluted water ( Table 3 ) . DF is named “Paya Yong” in the Shan ethnic language , in which “Paya” represents illness and “Yong” represents mosquitoes . Shan people have connected DF to mosquitoes from the literal meaning of this ethnic language phrase . However , most participants did not know the clinical symptoms of DF . Six of 18 key informants regarded fever as one of the symptoms of DF , and one of the key informants also mentioned rash , pantalgia and joint pain ( Table 2 ) . The results of the HHS showed that there was a higher proportion of respondents who did not know the DF symptoms or who did not respond to the question in V1 than in V2 and V3 ( P = 0 . 0453 ) ; only 17 . 8% ( 95% CI: 13 . 3–23 . 0% ) of the respondents mentioned fever; 14 . 3% ( 95% CI: 10 . 3–19 . 1% ) mentioned headache; 4 . 2% ( 95% CI: 2 . 1–7 . 5% ) mentioned orbital pain; 9 . 7% ( 95% CI: 6 . 3–13 . 9% ) mentioned pantalgia; and 3 . 5% ( 95% CI: 1 . 6–6 . 5% ) mentioned rash ( Table 3 ) . Seven people perceived DF as a serious or deadly disease among the 18 key informants . In V2 and V3 , all 12 key informants thought that local people could easily become infected with DF; however , in V1 , only one out of the six key informants thought that local people could easily become infected with DF ( Table 2 ) . The HHS results revealed that 68 . 7% ( 95% CI: 62 . 7–74 . 3% ) of the respondents either did not know about the risk or did not respond to the question regarding risk; only 27 . 8% ( 95% CI: 22 . 4–33 . 7% ) of the respondents thought of DF as a serious disease; and 24 . 7% ( 95% CI 19 . 6–30 . 4% ) of the respondents considered DF to be deadly ( Table 3 ) . Both the quantitative and qualitative data showed similar results . Ten of the 18 key informants regarded DF as a contagious disease , but they thought that DF could be transmitted from person to person directly by breathing , speaking and physical contact , etc . ( Table 2 ) . Furthermore , the HHS results revealed that 52 . 9% ( 95% CI: 46 . 6–59 . 1% ) of the HHS respondents did not answer the transmission question; only 25 . 0% ( 95% CI: 19 . 4–31% ) the respondents thought that DF was transmittable; 20 . 0% ( 95% CI: 14 . 0–24 . 9% ) thought that DF could be transmitted from person to person directly; and only 14 . 7% ( 95% CI: 10 . 6–19 . 6% ) of the HHS respondents confirmed that DF was transmitted by mosquitoes . Some respondents thought that bacteria , viruses , animals and improper or dirty food as one of the causes of DF ( Table 3 ) . Six of the 18 key informants knew that dengue-transmitting mosquitoes were piebald or Aedes; they also knew that dengue-transmitting mosquitoes could bite during all 24 hours of the day . Only one key informant asserted that dengue-transmitting mosquitoes bit in the daytime , compared with four informants who thought that dengue-transmitting mosquitoes only bit at night . Thirteen key informants confirmed that dengue-transmitting larvae live in water; an additional eight of the 13 key informants confirmed that containers or small-scale pond water is the principal breeding sites for the larvae . The other five key informants did not know the breeding habitats of the mosquito larvae or they did not respond to the question ( Table 2 ) . The HHS results indicated that 79 . 2% ( 95% CI: 73 . 7–83 . 0% ) of the respondents were unable to answer the vector question; only 14 . 3% ( 95% CI: 10 . 3–19 . 1% ) of the respondents knew that piebald or Aedes were dengue-transmitting mosquitoes , and there were more HHS respondents who knew about dengue-transmitting mosquitoes in V2 and V3 than in V1 ( P = 0 . 0293 ) . Only 21 out of the 259 respondents knew that dengue-transmitting mosquitoes bit people during the day and night , and ten further confirmed that biting could occur during the daytime . More respondents knew that mosquitoes bite in the daytime in V2 and V3 than in V1 ( P = 0 . 0467 ) . A total of 33 . 2% ( 95% CI: 27 . 5–39 . 3% ) of the HHS respondents thought that all types of water sites were the habitats of dengue-transmitting mosquitoes , and only 24 . 3% ( 95% CI: 19 . 2–30 . 0% ) confirmed that the dengue-transmitting mosquito larvae were only living in containers or in the water of small ponds . More of the HHS respondents in V1 than in V2 and V3 ( P = 0 . 0018 ) could not answer this question or did not respond to the habitat question ( Table 3 ) . All participants showed a keen interest in this topic and thus actively discussed this issue with the investigators . Thirteen key informants knew that clearing mosquito breeding sites helps to prevent dengue transmission . Ten key informants said that good hygiene was beneficial for their health and expressed their willingness to participate in the cleaning of the community environment ( Table 2 ) . In the HHS , only 20 participants did not answer the questions regarding the control of mosquito larvae , and only five had no response to the questions . The HHS results indicated that 43 . 6% ( 95% CI: 37 . 5–49 . 9% ) of the respondents knew that maintaining good hygiene was important for eliminating the habitats of the dengue-transmitting mosquito larvae; 67 . 2% ( 95% CI: 61 . 1–72 . 9% ) knew that turning containers upside down was important for eliminating the habitats of the dengue-transmitting mosquito larvae; and 20 . 5% ( 95% CI 15 . 7–25 . 9% ) knew that draining small-scale pond waters was important for eliminating the habitats of the dengue-transmitting mosquito larvae . More participants in V2 and V3 than in V1 understood that good hygiene helps to control DF . Regarding adult mosquito control , 20 . 1% ( 95% CI: 15 . 4–25 . 5 ) of the HHS respondents knew about the use of door and window screens; 79 . 9% ( 95% CI: 74 . 5–84 . 6 ) knew about mosquito coils; 27 . 8% ( 22 . 4–33 . 7% ) knew about spraying or fogging with insecticides; and 69 . 9% ( 63 . 9–75 . 4% ) knew about the use of bed nets . More HHS respondents in V2 and V3 than in V1 thought that using window and door screens ( P = 0 . 02 ) and spraying with insecticides is helpful ( P = 0 . 5891 ) . However , more respondents in V1 than in V2 and V3 thought that using mosquito coils ( P = 0 . 03 ) and bed nets ( P = 0 . 1235 ) helped with dengue prevention . Additionally , more participants in V1 than in V2 and V3 ( Table 3 ) expressed their willingness to eliminate bamboo and tree stump holes ( P = 0 . 3302 ) , to clean up dumps and to turn containers upside down ( P<0 . 0001 ) ( Table 3 ) .\n",
            "The dengue burden is growing and has become large enough currently . More than half of the global population lives in territories that are at risk of becoming infected with dengue [2 , 4] . However , ability to contain epidemics of the dengue virus is still limited . In addition to supportive treatments , effective antiviral therapies continue to be lacking . The only licensed dengue vaccine is only partially protective [22] . Thus , intensified vector control could still be the most important strategy for DF prevention for a long time to come . Adopting protective behaviors is a multifactorial process that depends on both sociocultural and cognitive factors [23] . The Shan people have beliefs that have originated from their primary social living and culture . They believe that health is associated with all natural and social environmental factors , and that regularly cleaning their houses and surroundings to maintain sound hygiene would benefit human health . The name for DF in the Shan ethnic language ( Paya Yong ) connects dengue with mosquitoes , however , their knowledge and awareness of DF remain at low level . These low levels might be attributed to the fact that the local Shan people are unable to effectively benefit from the services that are provided by both the national health and education systems . Only nine of the participating household heads had completed more than six years of formal education . Thus , the participant’s low levels of knowledge and perceptions about DF might be explained by the lack of health services that they benefitted from and the inadequate formal education that they received . Meanwhile , few actions involving information , education and communication on dengue have been taken , despite the fact that the burden of DF is increasing [8] , shortly after the malaria burden was effectively reduced [24] . In V2 and V3 , there was a higher response rate and level of knowledge than in V1 about DF symptoms , transmission , vectors , time of day when mosquitoes bite and the breeding sites of dengue-transmitting mosquitoes . This difference might be attributed to the fact that the V2 and V3 communities have suffered from DF and thus have more experience and knowledge regarding dengue . Over half of the participants could not answer questions about the causes of DF . Only a quarter of the participants understood that dengue is transmittable , but most of the participants thought that dengue could be directly transmitted from person to person by breathing , speaking , physical contact , etc . ( Tables 2 and 3 ) . What is worse , almost all key informants did not have enough knowledge to communicate with their fellow villagers to prevent future outbreaks . Most of the participants were unsure if they were at risk of being infected by dengue . Both the qualitative and quantitative data show that the participants had difficulty with answering the questions on the risks and seriousness of DF . Only 15 . 8% ( 95% CI: 11 . 6–20 . 9% ) of the participants perceived the risk of becoming infected . Furthermore , less than one-third of the participants ( 72/259 ) considered DF to be a serious disease and lethal . People in V2 and V3 were more susceptible to DF than those in V1 . This indicates that their perceived risk may have correlated with their previous experience of DF outbreaks too . This Inappropriate preparedness due to the shortage of necessary resources might be one of the reasons for the outbreaks of DF in ESSR4 , Myanmar . More of the participants in V1 than in V2 and V3 showed a willingness to eliminate bamboo and tree stump holes , to clean up dumps and to turn containers upside down . Based on some of the SDI data , local governments have frequently required villagers to clean their houses , public spaces in the community and the surrounding environment during DF outbreaks . In response to DF outbreaks , three ten-person teams in V3 would alternate to conduct spraying and fogging with insecticide once a week . During our communications , we felt that people in V2 and V3 became bored while hearing about these requirements . One villager said , “The campaign just stopped a few days ago” . This ennui might lower their willingness to perform environmental management and may become a new challenge for the sustainability of intensive vector control . Because of the malaria control program , the residents’ knowledge of adult mosquito control was improved to a certain level across ESSR4 [24] . In the HHS , 79 . 9% ( 95% CI: 74 . 5–84 . 6% ) and 69 . 9% ( 95% CI: 63 . 9–75 . 4% ) of the participants mentioned that they had used coils and bed nets , respectively . More of the participants in V1 than in V2 and V3 knew how to use mosquito coils and bed nets . However , only a few people knew that dengue-transmitting mosquitoes bite during the day and that small-scale pond water is the main breeding site of dengue-transmitting mosquito larvae . Most participants knew to protect themselves from the bites of adult mosquitoes , but they did not know that eliminating the habitats of dengue-transmitting mosquito larva is beneficial for the control of dengue vectors ( Tables 2 and 3 ) . Combining effective interventions against multiple arboviral diseases has been suggested by some scholars as one of the most cost-effective and sustainable strategies for the reduction of vector-borne diseases [25 , 26] . However , another study that conducted a meta-analysis documented that indoor residual spraying ( IRS ) did not significantly impact DF infection risk [27] . Both this literature and our study results illustrate that knowledge regarding the control of adult mosquitoes is not sufficient for controlling the dengue vector . Unavoidably , this study was constrained by two obvious limitations . First , one of the objectives of the qualitative SDI was to triangulate the study outcomes of the quantitative methods . Much more attention was paid to this objective in the qualitative SDI , and not enough nuanced data were collected . This limited our ability to delineate the outcome differences between the qualitative SDI and the quantitative HHS despite the qualitative and quantitative outcomes also showed that the key informants had better knowledge than overall community people . Further qualitative study should been needed . Second , the response rates of the HHS participants to certain questions were not high enough , and thereby might have caused information bias . However , all investigators felt that the Shan People were very friendly , and we very much enjoyed collaborating with them during the field research . This means that the Shan people may have been unlikely to reject answering questions that they could answer . When the individuals had no response to a specific question it was mainly because they did not know the answer . To add to this disclosure , we combined the answers of “I don’t know” and no response into a single category during analysis . In conclusion , the Shan people believe that health is associated with all natural and social environmental factors , and that regularly cleaning their houses and surroundings to maintain sound hygiene would benefit human health . However , their knowledge and aware sensitivity of DF remains at low level , and most of their knowledge and awareness was learned from previous experiences in controlling malaria and dengue . Thus , in this setting with a weak public health structure , more international support should be provided to promote the knowledge of the Shan people about dengue and to increase their aware sensitivity to dengue . With proper guidance , social mobilization and community participation might help increase the perception of DF and the involvement of the Shan people for dengue control .\n"
          ]
        }
      ],
      "source": [
        "print(example['article'])"
      ]
    },
    {
      "cell_type": "code",
      "execution_count": null,
      "metadata": {
        "colab": {
          "base_uri": "https://localhost:8080/"
        },
        "id": "-w6nvWZkENeB",
        "outputId": "5aa50082-799e-4fe2-c03c-81a627882b40"
      },
      "outputs": [
        {
          "output_type": "stream",
          "name": "stdout",
          "text": [
            "The burden of dengue has been increasing over the last five decades , and dengue fever ( DF ) has become one of the most rapidly spreading mosquito-borne diseases . DF has become another disease that threatens public health after malaria has become successfully controlled along the China-Myanmar border . However , it is currently not easy to contain epidemics of the dengue virus . As part of an integrated vector management approach , a community-based method is effective in the prevention of DF by tailoring the approach in a local context . Consequently , mixed methods comprising qualitative semi-structured in-depth interviews ( SDIs ) and quantitative household questionnaire surveys ( HHSs ) were used to study the health beliefs , knowledge and perceptions about dengue among the Shan people in Eastern Shan Special Region IV , Myanmar . This study found that the Shan people believed that their health was closely associated with their lifestyle and the social and physical environment in which they lived . Their beliefs originated from their primary social activities and cultural heritage . Most of their knowledge about DF was learned from previous outbreaks and interventions for the disease . The Shan people had a relatively higher level of knowledge about adult mosquito control , which they learned from previous malaria control programs , but they lacked knowledge on DF symptoms , transmission , vectors and Aedes larval breeding sites . Their knowledge about the methods of adult mosquito control could not effectively control DF . More sound health education is urgently needed to increase the local people’s knowledge of dengue and to rouse community awareness and participation in cleaning vector breeding sites . In the context of a lack of the necessary technical and financial resources , these interventions might rely more on international aid and help from neighboring countries , such as China .\n"
          ]
        }
      ],
      "source": [
        "print(example['summary'])"
      ]
    },
    {
      "cell_type": "code",
      "execution_count": null,
      "metadata": {
        "colab": {
          "base_uri": "https://localhost:8080/"
        },
        "id": "ImiXaLVdEP4U",
        "outputId": "88acb8b9-3ae6-4f9a-c669-b43b042baf5f"
      },
      "outputs": [
        {
          "output_type": "stream",
          "name": "stdout",
          "text": [
            "invertebrates\n",
            "medicine and health sciences\n",
            "behavioral and social aspects of health\n",
            "tropical diseases\n",
            "social sciences\n",
            "ponds\n",
            "neuroscience\n",
            "animals\n",
            "health care\n",
            "developmental biology\n",
            "cognitive psychology\n",
            "bodies of water\n",
            "neglected tropical diseases\n",
            "insect vectors\n",
            "language\n",
            "public and occupational health\n",
            "infectious diseases\n",
            "dengue fever\n",
            "marine and aquatic sciences\n",
            "life cycles\n",
            "hygiene\n",
            "disease vectors\n",
            "insects\n",
            "arthropoda\n",
            "socioeconomic aspects of health\n",
            "mosquitoes\n",
            "psychology\n",
            "eukaryota\n",
            "earth sciences\n",
            "biology and life sciences\n",
            "species interactions\n",
            "viral diseases\n",
            "cognitive science\n",
            "larvae\n",
            "organisms\n"
          ]
        }
      ],
      "source": [
        "print(example['keywords'])"
      ]
    },
    {
      "cell_type": "code",
      "execution_count": null,
      "metadata": {
        "colab": {
          "base_uri": "https://localhost:8080/"
        },
        "id": "b0WDTJUceG-B",
        "outputId": "f66bfb6b-ff26-4b0c-ccb8-148e33ad616f"
      },
      "outputs": [
        {
          "output_type": "stream",
          "name": "stdout",
          "text": [
            "Number of training examples: 24773\n",
            "Number of test examples: 1376\n",
            "Number of validation examples: 1376\n"
          ]
        }
      ],
      "source": [
        "# Get the number of examples in the train and test splits\n",
        "num_train = len(dataset['train'])\n",
        "num_test = len(dataset['test'])\n",
        "num_val = len(dataset['validation'])\n",
        "\n",
        "print(f\"Number of training examples: {num_train}\")\n",
        "print(f\"Number of test examples: {num_test}\")\n",
        "print(f\"Number of validation examples: {num_val}\")"
      ]
    },
    {
      "cell_type": "code",
      "execution_count": null,
      "metadata": {
        "id": "7KxGSz8WMDaO"
      },
      "outputs": [],
      "source": [
        "test_data = dataset[\"test\"]\n",
        "train_data = dataset[\"train\"]\n",
        "validation_data = dataset[\"validation\"]"
      ]
    },
    {
      "cell_type": "code",
      "execution_count": null,
      "metadata": {
        "id": "Ktc4aVzT9t6h",
        "colab": {
          "base_uri": "https://localhost:8080/"
        },
        "outputId": "18f4741d-2e64-4a6e-92cf-bc275a2c9245"
      },
      "outputs": [
        {
          "output_type": "stream",
          "name": "stdout",
          "text": [
            "Average length of 'article' in test data: 6708.01 words\n",
            "Average length of 'article' in train data: 6754.10 words\n",
            "Average length of 'article'in validation data: 6741.48 words\n",
            "Average length of 'summary' in test data: 194.70 words\n",
            "Average length of 'summary' in train data: 194.90 words\n",
            "Average length of 'summary' in validation data: 194.51 words\n"
          ]
        }
      ],
      "source": [
        "test_data_df = pd.DataFrame({\n",
        "    \"article\": dataset[\"test\"][\"article\"],\n",
        "    \"summary\": dataset[\"test\"][\"summary\"]\n",
        "})\n",
        "\n",
        "train_data_df = pd.DataFrame({\n",
        "    \"article\": dataset[\"train\"][\"article\"],\n",
        "    \"summary\": dataset[\"train\"][\"summary\"]\n",
        "})\n",
        "\n",
        "validation_data_df = pd.DataFrame({\n",
        "    \"article\": dataset[\"validation\"][\"article\"],\n",
        "    \"summary\": dataset[\"validation\"][\"summary\"]\n",
        "})\n",
        "\n",
        "\n",
        "# Calculate average length of article\n",
        "avg_article_length_test = test_data_df[\"article\"].apply(lambda x: len(x.split())).mean()\n",
        "avg_article_length_train = train_data_df[\"article\"].apply(lambda x: len(x.split())).mean()\n",
        "avg_article_length_validation = validation_data_df[\"article\"].apply(lambda x: len(x.split())).mean()\n",
        "\n",
        "# Print average lengths\n",
        "print(f\"Average length of 'article' in test data: {avg_article_length_test:.2f} words\")\n",
        "print(f\"Average length of 'article' in train data: {avg_article_length_train:.2f} words\")\n",
        "print(f\"Average length of 'article'in validation data: {avg_article_length_validation:.2f} words\")\n",
        "\n",
        "\n",
        "# Calculate average length of summary\n",
        "avg_summary_length_test = test_data_df[\"summary\"].apply(lambda x: len(x.split())).mean()\n",
        "avg_summary_length_train = train_data_df[\"summary\"].apply(lambda x: len(x.split())).mean()\n",
        "avg_summary_length_validation = validation_data_df[\"summary\"].apply(lambda x: len(x.split())).mean()\n",
        "\n",
        "# Print average lengths\n",
        "print(f\"Average length of 'summary' in test data: {avg_summary_length_test:.2f} words\")\n",
        "print(f\"Average length of 'summary' in train data: {avg_summary_length_train:.2f} words\")\n",
        "print(f\"Average length of 'summary' in validation data: {avg_summary_length_validation:.2f} words\")"
      ]
    },
    {
      "cell_type": "code",
      "execution_count": null,
      "metadata": {
        "colab": {
          "base_uri": "https://localhost:8080/"
        },
        "outputId": "57b33567-2a39-4e8b-8941-1eb652911255",
        "id": "aWHG7DCMXKG7"
      },
      "outputs": [
        {
          "output_type": "stream",
          "name": "stdout",
          "text": [
            "Readability metrics of lay summaries: {'flesch_kincaid_grade': 14.738662790697676, 'gunning_fog_index': 16.205603197674417}\n"
          ]
        }
      ],
      "source": [
        "# Readability metrics of lay summaries\n",
        "reference_fk_grade_levels = [textstat.flesch_kincaid_grade(summary) for summary in test_data['summary']]\n",
        "reference_gunning_fog_indices = [textstat.gunning_fog(summary) for summary in test_data['summary']]\n",
        "\n",
        "reference_readability_metrics = {\n",
        "        'flesch_kincaid_grade': np.mean(reference_fk_grade_levels),\n",
        "        'gunning_fog_index': np.mean(reference_gunning_fog_indices)\n",
        "    }\n",
        "\n",
        "print(f\"Readability metrics of lay summaries: {reference_readability_metrics}\")"
      ]
    },
    {
      "cell_type": "markdown",
      "metadata": {
        "id": "pQAEdBIygOTq"
      },
      "source": [
        "## Baseline"
      ]
    },
    {
      "cell_type": "markdown",
      "metadata": {
        "id": "XY5GWLZ8s0GA"
      },
      "source": [
        "### Abstractive Summarization with Pretrained BART-LARGE-CNN Model on Abstract"
      ]
    },
    {
      "cell_type": "code",
      "execution_count": null,
      "metadata": {
        "id": "jWU__NsngMHA"
      },
      "outputs": [],
      "source": [
        "from transformers import AutoTokenizer, AutoModelForSeq2SeqLM\n",
        "\n",
        "# Load the tokenizer and model\n",
        "tokenizer = AutoTokenizer.from_pretrained('facebook/bart-large-cnn')\n",
        "model = AutoModelForSeq2SeqLM.from_pretrained('facebook/bart-large-cnn')"
      ]
    },
    {
      "cell_type": "code",
      "execution_count": null,
      "metadata": {
        "id": "pg7DTcJErUc4"
      },
      "outputs": [],
      "source": [
        "# Get the abstract for BART model inputs\n",
        "def abs(df):\n",
        "    paragraphs = df['article'].split('\\n')\n",
        "    abstract = '\\n'.join(paragraphs[:1])\n",
        "    return {'article': abstract}"
      ]
    },
    {
      "cell_type": "code",
      "execution_count": null,
      "metadata": {
        "id": "Oh9GlwGhtArj",
        "colab": {
          "base_uri": "https://localhost:8080/",
          "height": 113,
          "referenced_widgets": [
            "5413de63cec344b991a6bd69ade422ac",
            "5397b12109d048968510c3fc3b9d9f9c",
            "e5b5c943e9f94b2da7f4d9eed9379feb",
            "8bd509f0d6044b2aa71e358eb440c1ca",
            "5fc0f358b3d443a6a6bf6bf7681e234d",
            "bbdc156cebdb4cd688b8c45e4c6d5574",
            "f67c87ba53594804858f0d54ed284ee6",
            "111cded231b041e890da4f2998bf382f",
            "c4325a73d7874acab035a0d9bc2bce8f",
            "8e36f294930e417eb5c04239091b476a",
            "4015de7340dc425c9c3ea5d38fb32c1e",
            "0ae8bf93966247a4beee7688441defad",
            "6b841dad9b184d26a3304cd5d5f3d056",
            "44ba2a4f876b466b800837a6fe3c63ba",
            "042ee2fa19374b4e9816fea3ca760990",
            "e8a7680707d04accafe275a1faea2612",
            "3872b2b14ee647f28225e536210a9115",
            "544a6db7428a423083f59bb209ab2ca1",
            "ac8e314e250245a4a1978631037d864f",
            "32495d5bd439495bbce9be597a478025",
            "48e14e88e28442978a2df5a5ae65064d",
            "1006db1422bb40a8906fc4c6701af004",
            "9dc0d18dcca94587afc009a399b2a7ec",
            "b8438034f4fe45edbc0f7358df43f263",
            "688f729dfa054d528b3d30db5cad8712",
            "f002d53064dc42b2bcac17ae54a12a5c",
            "eb4556e8f885416aa9940bcf8e464562",
            "102918ac1b1a4508b2cc1e5d168464b1",
            "fae62889ad2648dea8d8841d7572da41",
            "8e745e5d520d410eba2c9f4fdb22e770",
            "39d20edcf23f4bdda89248f83d63e712",
            "2a1dac246b5d480bb7ee9065e25733ef",
            "faa1103ad73a4ea7961650eec240ea4f"
          ]
        },
        "outputId": "f13b2f31-7477-4e7d-b5b6-b3064b773baf"
      },
      "outputs": [
        {
          "output_type": "display_data",
          "data": {
            "text/plain": [
              "Map:   0%|          | 0/24773 [00:00<?, ? examples/s]"
            ],
            "application/vnd.jupyter.widget-view+json": {
              "version_major": 2,
              "version_minor": 0,
              "model_id": "5413de63cec344b991a6bd69ade422ac"
            }
          },
          "metadata": {}
        },
        {
          "output_type": "display_data",
          "data": {
            "text/plain": [
              "Map:   0%|          | 0/1376 [00:00<?, ? examples/s]"
            ],
            "application/vnd.jupyter.widget-view+json": {
              "version_major": 2,
              "version_minor": 0,
              "model_id": "0ae8bf93966247a4beee7688441defad"
            }
          },
          "metadata": {}
        },
        {
          "output_type": "display_data",
          "data": {
            "text/plain": [
              "Map:   0%|          | 0/1376 [00:00<?, ? examples/s]"
            ],
            "application/vnd.jupyter.widget-view+json": {
              "version_major": 2,
              "version_minor": 0,
              "model_id": "9dc0d18dcca94587afc009a399b2a7ec"
            }
          },
          "metadata": {}
        }
      ],
      "source": [
        "# Apply the function to train and test data\n",
        "train_data_abs = train_data.map(abs)\n",
        "test_data_abs = test_data.map(abs)\n",
        "validation_data_abs = validation_data.map(abs)"
      ]
    },
    {
      "cell_type": "code",
      "execution_count": null,
      "metadata": {
        "id": "jZJzqJxagQdR"
      },
      "outputs": [],
      "source": [
        "def bart_baseline_abs(article):\n",
        "    inputs = tokenizer.encode(article, return_tensors='pt', max_length=1024, truncation=True)\n",
        "    summary_ids = model.generate(inputs, max_length=200, length_penalty=2, num_beams=4, early_stopping=True)\n",
        "    return tokenizer.decode(summary_ids[0], skip_special_tokens=True)"
      ]
    },
    {
      "cell_type": "code",
      "execution_count": null,
      "metadata": {
        "id": "QzjQNJ_igaq-"
      },
      "outputs": [],
      "source": [
        "# Generate summaries for the test set\n",
        "generated_summaries = [bart_baseline_abs(article) for article in test_data_abs['article']]"
      ]
    },
    {
      "cell_type": "code",
      "execution_count": null,
      "metadata": {
        "id": "IdMHwfmtgwc7"
      },
      "outputs": [],
      "source": [
        "reference_summaries = test_data_abs['summary']"
      ]
    },
    {
      "cell_type": "code",
      "execution_count": null,
      "metadata": {
        "id": "BnzlCpvX9iLN"
      },
      "outputs": [],
      "source": [
        "rouge_scores, readability_metrics = evaluate_summaries(reference_summaries, generated_summaries)"
      ]
    },
    {
      "cell_type": "code",
      "execution_count": null,
      "metadata": {
        "id": "Bw3VqBfh6XU1"
      },
      "outputs": [],
      "source": [
        "print(rouge_scores)\n",
        "print(readability_metrics)"
      ]
    },
    {
      "cell_type": "markdown",
      "metadata": {
        "id": "NeByKTGkjPCO"
      },
      "source": [
        "### Abstractive Summarization with Pretrained BART-LARGE-CNN Model on Abstract, Introduction, and Conclusion"
      ]
    },
    {
      "cell_type": "code",
      "execution_count": null,
      "metadata": {
        "id": "tpNQ3vV5d2nF"
      },
      "outputs": [],
      "source": [
        "# Load the tokenizer and model\n",
        "tokenizer = AutoTokenizer.from_pretrained('facebook/bart-large-cnn')\n",
        "model = AutoModelForSeq2SeqLM.from_pretrained('facebook/bart-large-cnn')"
      ]
    },
    {
      "cell_type": "code",
      "execution_count": null,
      "metadata": {
        "id": "Yo-uofLWCCLi"
      },
      "outputs": [],
      "source": [
        "# Get the abstract + intro + conclusion for BART model inputs\n",
        "def abs_intro_con(df):\n",
        "    paragraphs = df['article'].split('\\n')\n",
        "    abstract_intro_con = '\\n'.join(paragraphs[0:2] + [paragraphs[-1]])\n",
        "    return {'article': abstract_intro_con}"
      ]
    },
    {
      "cell_type": "code",
      "execution_count": null,
      "metadata": {
        "id": "aaqViR1KWVg4"
      },
      "outputs": [],
      "source": [
        "# Apply the function to train and test data\n",
        "train_data_abs_intro_con = train_data.map(abs_intro_con)\n",
        "test_data_abs_intro_con = test_data.map(abs_intro_con)\n",
        "val_data_abs_intro_con = validation_data.map(abs_intro_con)"
      ]
    },
    {
      "cell_type": "code",
      "execution_count": null,
      "metadata": {
        "id": "Rs1vdiz6eGO6"
      },
      "outputs": [],
      "source": [
        "def bart_baseline_abs_intro_con(article):\n",
        "    inputs = tokenizer.encode(article, return_tensors='pt', max_length=1024, truncation=True)\n",
        "    summary_ids = model.generate(inputs, max_length=200, length_penalty=2, num_beams=4, early_stopping=True)\n",
        "    return tokenizer.decode(summary_ids[0], skip_special_tokens=True)"
      ]
    },
    {
      "cell_type": "code",
      "execution_count": null,
      "metadata": {
        "id": "g5hpmJCbeMJT"
      },
      "outputs": [],
      "source": [
        "# Generate summaries for the test set\n",
        "generated_summaries_abs_intro_con = [bart_baseline_abs_intro_con(article) for article in test_data_abs_intro_con['article']]"
      ]
    },
    {
      "cell_type": "code",
      "execution_count": null,
      "metadata": {
        "id": "jKKsuJiKefUm"
      },
      "outputs": [],
      "source": [
        "reference_summaries_abs_intro_con = test_data_abs_intro_con['summary']"
      ]
    },
    {
      "cell_type": "code",
      "execution_count": null,
      "metadata": {
        "id": "hruAls2yvMap"
      },
      "outputs": [],
      "source": [
        "rouge_scores_abs_intro_con,readability_metrics_abs_intro_con = evaluate_summaries(reference_summaries_abs_intro_con, generated_summaries_abs_intro_con)"
      ]
    },
    {
      "cell_type": "code",
      "execution_count": null,
      "metadata": {
        "id": "CvstCoDJZ3W-"
      },
      "outputs": [],
      "source": [
        "print(rouge_scores_abs_intro_con)\n",
        "print(readability_metrics_abs_intro_con)"
      ]
    },
    {
      "cell_type": "markdown",
      "metadata": {
        "id": "htJ3cIDKz8YH"
      },
      "source": [
        "### Abstractive Summarization with Pretrained BART-LARGE-CNN Model on Full Article"
      ]
    },
    {
      "cell_type": "code",
      "execution_count": null,
      "metadata": {
        "id": "TToLe27Wz8YV"
      },
      "outputs": [],
      "source": [
        "# Load the tokenizer and model\n",
        "tokenizer = AutoTokenizer.from_pretrained('facebook/bart-large-cnn')\n",
        "model = AutoModelForSeq2SeqLM.from_pretrained('facebook/bart-large-cnn')"
      ]
    },
    {
      "cell_type": "code",
      "execution_count": null,
      "metadata": {
        "id": "zj-4fiXnaiDD"
      },
      "outputs": [],
      "source": [
        "def bart_baseline(article):\n",
        "    inputs = tokenizer.encode(article, return_tensors='pt', max_length=1024, truncation=True)\n",
        "    summary_ids = model.generate(inputs, max_length=200, length_penalty=2, num_beams=4, early_stopping=True)\n",
        "    return tokenizer.decode(summary_ids[0], skip_special_tokens=True)"
      ]
    },
    {
      "cell_type": "code",
      "execution_count": null,
      "metadata": {
        "id": "UhTTeUge1DqQ"
      },
      "outputs": [],
      "source": [
        "generated_summaries = [bart_baseline(article) for article in test_data['article']]"
      ]
    },
    {
      "cell_type": "code",
      "execution_count": null,
      "metadata": {
        "id": "6R_E5hUPrtOC"
      },
      "outputs": [],
      "source": [
        "reference_summaries = test_data['summary']"
      ]
    },
    {
      "cell_type": "code",
      "source": [
        "rouge_scores, readability_metrics = evaluate_summaries(reference_summaries, generated_summaries)\n",
        "print(rouge_scores)"
      ],
      "metadata": {
        "colab": {
          "base_uri": "https://localhost:8080/"
        },
        "id": "Z74If3M6ktZb",
        "outputId": "cfd37956-7d96-44b1-e1a9-c5afb2e610fe"
      },
      "execution_count": null,
      "outputs": [
        {
          "output_type": "stream",
          "name": "stdout",
          "text": [
            "{'rouge1': {'precision': 0.6057849649252436, 'recall': 0.25806987779722335, 'f1': 0.3539298402497159}, 'rouge2': {'precision': 0.2178385538992166, 'recall': 0.0913458586886266, 'f1': 0.12590433195106165}, 'rougeL': {'precision': 0.36763900902568075, 'recall': 0.15492977563455998, 'f1': 0.2132327157025594}}\n"
          ]
        }
      ]
    },
    {
      "cell_type": "markdown",
      "source": [
        "## Experiments - Fine-Tuned BART & Hybrid Summarization"
      ],
      "metadata": {
        "id": "1Rnp7j_bqT9U"
      }
    },
    {
      "cell_type": "markdown",
      "source": [
        "### Fine-Tuning BART Explorations"
      ],
      "metadata": {
        "id": "YWGLomCFBOrg"
      }
    },
    {
      "cell_type": "markdown",
      "metadata": {
        "id": "itWczNB2f_cp"
      },
      "source": [
        "#### Prep"
      ]
    },
    {
      "cell_type": "code",
      "execution_count": null,
      "metadata": {
        "id": "5iJayTMEzirp",
        "colab": {
          "base_uri": "https://localhost:8080/"
        },
        "outputId": "a06d17d9-cbaa-4b3e-afbc-c0f8c45c9c21"
      },
      "outputs": [
        {
          "output_type": "stream",
          "name": "stdout",
          "text": [
            "Mounted at /content/drive\n"
          ]
        }
      ],
      "source": [
        "# If model has been trained and saved, then load model from drive\n",
        "\n",
        "drive.mount('/content/drive')\n",
        "model_path = '/content/drive/MyDrive/trained_bart_model2'\n",
        "tokenizer_path = '/content/drive/MyDrive/trained_bart_tokenizer2'\n",
        "\n",
        "bart_model = AutoModelForSeq2SeqLM.from_pretrained(model_path)\n",
        "tokenizer = AutoTokenizer.from_pretrained(tokenizer_path)"
      ]
    },
    {
      "cell_type": "code",
      "execution_count": null,
      "metadata": {
        "id": "LRQUQB04HwyN"
      },
      "outputs": [],
      "source": [
        "class TrainLossesCallback(TrainerCallback):\n",
        "    def __init__(self):\n",
        "        self.losses = []\n",
        "\n",
        "    def on_log(self, args, state, control, logs=None, **kwargs):\n",
        "        if 'loss' in logs:\n",
        "            self.losses.append(logs['loss'])\n",
        "\n",
        "train_losses_log = TrainLossesCallback()"
      ]
    },
    {
      "cell_type": "code",
      "execution_count": null,
      "metadata": {
        "id": "cgMrkE9E_pVB"
      },
      "outputs": [],
      "source": [
        "def preprocess_data(examples):\n",
        "    inputs = examples['article']\n",
        "    targets = examples['summary']\n",
        "    model_inputs = tokenizer(inputs, max_length=1024, truncation=True, padding='max_length')\n",
        "    labels = tokenizer(targets, max_length=200, truncation=True, padding='max_length')\n",
        "    model_inputs['labels'] = labels['input_ids']\n",
        "    return model_inputs\n",
        "\n",
        "def abs_intro_con(df):\n",
        "    paragraphs = df['article'].split('\\n')\n",
        "    abstract_intro_con = '\\n'.join(paragraphs[0:2] + [paragraphs[-1]])\n",
        "    return {'article': abstract_intro_con}\n",
        "\n",
        "def abs(df):\n",
        "    paragraphs = df['article'].split('\\n')\n",
        "    abstract = '\\n'.join(paragraphs[:1])\n",
        "    return {'article': abstract}"
      ]
    },
    {
      "cell_type": "code",
      "execution_count": null,
      "metadata": {
        "colab": {
          "base_uri": "https://localhost:8080/",
          "height": 209,
          "referenced_widgets": [
            "b39ffa5bae70432089b56bd761b497a6",
            "976403413cf345f1ab8ba0ae6e2820c8",
            "56bf9e056b6d43c2be9499d5ed427404",
            "1df7dc27ca19433b8d69c9ceb35fbeb5",
            "29188f6d151546cea150f17e449179aa",
            "ddec84e997eb48029cd62d1a1f159d70",
            "ef092f7e91784aa1891f7337e5aa6c16",
            "cf39a5cbebe34624a072c96d9c97aaf5",
            "c7a76678212f470bbc16700dfa4c5da6",
            "8ec74fc8eb094c18bbb6a9c07d3b62ce",
            "12cc717248e34fb98da9c2624f400410",
            "d3a3dd814d5a4d0aba4e82b530eb2430",
            "8eec4c29f2514bbb8f8c8e7319477ca8",
            "82982fa9ed8b4d2da44d3b2910112248",
            "b13d31bc2da3458ab30acb639c3d05fb",
            "fd06fa26389443eb9b9e92b091b03031",
            "a66a2975d6f04f958a60c9c8ceb432f8",
            "c64e109207ca4f59a727fbcd2d14834b",
            "d17972a78b9344bfb132ce1ed6bb0a92",
            "4910ea34b351442a8cc4fe90fc2a5d49",
            "9a349a140f0346ecb71510bc683d587a",
            "56498d04e66f42769766b2f901d409a8",
            "4680a75c577e4ea8b4da4070bda68ab5",
            "64625a1051f94d49ade92197a8cedd4f",
            "a64427e5a2ae4b97a5968d75d4c546b2",
            "ffc4f2ffc1bd47599e394dd04245805a",
            "a262b55141d6469eb0a58cf68a7512ee",
            "3e84fdfc11ed40b7b83522c245e6ff78",
            "77ede9b5a78e4c0cbdedd9c5521e952d",
            "14436e83e59d48ab9795016b1b013f7f",
            "1659a4f4d79e4143ac43132a02dacbd0",
            "0d5cc5ebf05e47f68cb3a58de6d15daa",
            "890a3bf5463e4fd6afba435a1aef959a",
            "69011204059645f688a600c99b8660c0",
            "a9e92b285501479c81cd15d2231f7e4d",
            "3aaaf2c743634459950760532c6dc1f6",
            "77ac5db0ad144e2a997bcdef8bdc26d7",
            "fcdf7a43cf864395b7c743e03c98e510",
            "671854dc86324c64ba43388a5bfdd69e",
            "a4888b86c5f6406aabf6b667efcfaf5f",
            "896435c389f641edadcb7a3dd88858b9",
            "4f63d953d6324c559ee133ea70d97014",
            "51dd7a85fdbf4a41a16b20d394d744a6",
            "bd127b1fc176493e9a597efe1a0f9867",
            "b9d38f6931354b99b414395abd7f566f",
            "02ec72afb3014f448d1c27639ad11bc4",
            "8422c167244d45a6b717a4645ecefdf2",
            "9ed2e07df5b84a9b99218d6b104b6fb0",
            "386fec0050af4b29995ad59cb878d18b",
            "09cdca7b444c4cd3a8f25b265e4db639",
            "dfd7587bed0149d5bbad01ca4f24ef6c",
            "05365f2d7a094db78b070d8812ebcac2",
            "6f4dba752c0d47da83c7580ed59e5974",
            "475ca9b2b68146ee81ee808d9f465cf7",
            "69408b16ae4e4ac2b3796b6318ce7805",
            "915ea98d15e641a2a0e33c135a1ec2f8",
            "154affbf7f7f4d53a37e4820a2e40167",
            "6c1175d4c57f44088a361ea26d425f19",
            "745f4ef5a33843e292ae4de081f2a640",
            "ce87b104dce04b2aa2232868eea6d3fc",
            "906beafdcad9454593f17e81bf4b13ab",
            "29503177d89c473c929d875ad921bcb6",
            "c955db84ee4c4e4489d133ec0e82393d",
            "3efabd9f95a9437fab88267503ee281d",
            "72f524862d1245039e95077b3928258a",
            "5d93a5bba57b4edab22049b1e775263d"
          ]
        },
        "id": "Nz99-Ce0_r_8",
        "outputId": "45605c12-9786-4a59-e717-b49cd3b665bf"
      },
      "outputs": [
        {
          "output_type": "display_data",
          "data": {
            "text/plain": [
              "Map:   0%|          | 0/24773 [00:00<?, ? examples/s]"
            ],
            "application/vnd.jupyter.widget-view+json": {
              "version_major": 2,
              "version_minor": 0,
              "model_id": "b39ffa5bae70432089b56bd761b497a6"
            }
          },
          "metadata": {}
        },
        {
          "output_type": "display_data",
          "data": {
            "text/plain": [
              "Map:   0%|          | 0/1376 [00:00<?, ? examples/s]"
            ],
            "application/vnd.jupyter.widget-view+json": {
              "version_major": 2,
              "version_minor": 0,
              "model_id": "d3a3dd814d5a4d0aba4e82b530eb2430"
            }
          },
          "metadata": {}
        },
        {
          "output_type": "display_data",
          "data": {
            "text/plain": [
              "Map:   0%|          | 0/1376 [00:00<?, ? examples/s]"
            ],
            "application/vnd.jupyter.widget-view+json": {
              "version_major": 2,
              "version_minor": 0,
              "model_id": "4680a75c577e4ea8b4da4070bda68ab5"
            }
          },
          "metadata": {}
        },
        {
          "output_type": "display_data",
          "data": {
            "text/plain": [
              "Map:   0%|          | 0/24773 [00:00<?, ? examples/s]"
            ],
            "application/vnd.jupyter.widget-view+json": {
              "version_major": 2,
              "version_minor": 0,
              "model_id": "69011204059645f688a600c99b8660c0"
            }
          },
          "metadata": {}
        },
        {
          "output_type": "display_data",
          "data": {
            "text/plain": [
              "Map:   0%|          | 0/1376 [00:00<?, ? examples/s]"
            ],
            "application/vnd.jupyter.widget-view+json": {
              "version_major": 2,
              "version_minor": 0,
              "model_id": "b9d38f6931354b99b414395abd7f566f"
            }
          },
          "metadata": {}
        },
        {
          "output_type": "display_data",
          "data": {
            "text/plain": [
              "Map:   0%|          | 0/1376 [00:00<?, ? examples/s]"
            ],
            "application/vnd.jupyter.widget-view+json": {
              "version_major": 2,
              "version_minor": 0,
              "model_id": "915ea98d15e641a2a0e33c135a1ec2f8"
            }
          },
          "metadata": {}
        }
      ],
      "source": [
        "columns_to_remove = ['section_headings', 'keywords', 'year', 'title']\n",
        "\n",
        "train_data_abs_intro_con = train_data.map(abs_intro_con)\n",
        "test_data_abs_intro_con = test_data.map(abs_intro_con)\n",
        "val_data_abs_intro_con = validation_data.map(abs_intro_con)\n",
        "\n",
        "test_data_abs = test_data.map(abs)\n",
        "\n",
        "tokenized_train_data = train_data.map(preprocess_data, batched=True, remove_columns=columns_to_remove)\n",
        "tokenized_test_data = test_data.map(preprocess_data, batched=True, remove_columns=columns_to_remove)\n",
        "tokenized_val_data = validation_data.map(preprocess_data, batched=True, remove_columns=columns_to_remove)\n",
        "\n",
        "tokenized_train_data_abs_intro_con = train_data_abs_intro_con.map(preprocess_data, batched=True, remove_columns=columns_to_remove)\n",
        "tokenized_test_data_abs_intro_con = test_data_abs_intro_con.map(preprocess_data, batched=True, remove_columns=columns_to_remove)\n",
        "tokenized_val_data_abs_intro_con = val_data_abs_intro_con.map(preprocess_data, batched=True, remove_columns=columns_to_remove)"
      ]
    },
    {
      "cell_type": "markdown",
      "metadata": {
        "id": "gYBnTTyyBvnU"
      },
      "source": [
        "#### Fine-Tuning BART on Abstract, Introduction, and Conclusion"
      ]
    },
    {
      "cell_type": "code",
      "execution_count": null,
      "metadata": {
        "colab": {
          "base_uri": "https://localhost:8080/",
          "height": 209,
          "referenced_widgets": [
            "9a08bb67c2a1408b9ac5288452ed558c",
            "ae320d04af874a4ca3f7c58075b58446",
            "8bfdcab2b1e447b6b18cdc4931e0d6f5",
            "153fb34dad6748e3814410a702c6b021",
            "90a011ee306144149ad9237c593777c8",
            "f539c3eaeefa4d97a0913bf15b3f6827",
            "7e2bce8f72314c9d80595d6063fa37b7",
            "1db3d37fbc85463d89e6f0b02608ee50",
            "dfd83e23a5cd4263bb02df196da2f49f",
            "70a91d1008594466bb44eecb1ac21bc2",
            "599ed09f1f1d4510be047e7b96b64f05",
            "372ab5b8d48e427db866193092215875",
            "016d8275cbdb4125ab34a3d47a532d22",
            "4d96d5f254954bd3bc119b7797d1d2a4",
            "c5dee52a6432478195c3dee9a1d752e4",
            "36b72ef6f4e348e8b1ca9cf43747125a",
            "a57508d0a1fa410e8e45ce516b057205",
            "8d6da9a1cb064208bab9b5b4b3c76f32",
            "4923a1b7de57492da2ad4c5d37756968",
            "38484a49e88a4bdaab42914e6b2d1950",
            "b95e725f7dae4b888f37777c552c91d0",
            "55db235ead1d4be9ac0a14421b502b51",
            "d22b9e4bd3c24f32a3c1c0680031aa37",
            "98321b8570f44956a743ac863fce9cfc",
            "a4675f2681474a54971d3fabd1f2c83d",
            "15af3a8d5f3d445589812b350f5736a8",
            "bd3089e49697421fbfbae0108dbc3440",
            "6bcda1a76ee84cc8b016d8d7456b8659",
            "af8f50bc3ebf45fe8c6c067249ed459f",
            "436f11725c9848c19091f9948ddf10bc",
            "0f8cf2ec980e432a9efee3020c0ee474",
            "34bd8b6804aa452dabcc61fd4783bec7",
            "3a5f032e4be24d5ebbbd1103b32c1831",
            "074953cf6b68416d983ab55b78da243c",
            "768ee2c7e4b74dfd8375234dbad73e08",
            "4500f3ebde03464583741b3fa0d1581f",
            "012e9722655841f7a973a69a24f95372",
            "2ed533bea80d498b878f98eba97f99e0",
            "68e9948a66234d4ab3c49cde5b7d371c",
            "e776d10cf6294dc39837dac653cfe37c",
            "321270d3940849fcbd7ed8be02ecc0af",
            "a8a4b20a6142484d876e20d50586dbb0",
            "973d29c0ae7c45d9815cd6d3cd59194f",
            "872aa60547ff4e72b331168b8e9e1559",
            "e4317de7b54640dbaf1f0216c67f5fa2",
            "be45bcd74cb34f88b01fba45b747bcc4",
            "41f9e8a55228493fbbd8e5d9520d5d1b",
            "24135dabb31c4c369657a26122c2c171",
            "736b5b93736d412891529a6f4fd45bf0",
            "811323e9c51747f190a956ba085192a9",
            "4b01cf7de1b84949bdd441f6d59a7d42",
            "8e82c76f3feb4a3db40c3b413a901d8c",
            "aca07dca8429411ca832a7da1b9fc042",
            "d268f6325fc44880b8db1486b9ca1a86",
            "be41535dea2847d495f6bebb45b40262",
            "2a479f382ee7446692c9425354be9695",
            "56568c4367b946038cc3a7b93527a697",
            "cf574c3379204708878fd6585ccd9fd6",
            "824893cec3bb40c5a147166ff225e29f",
            "0156bc7c8fb74a5490fddb58ea8f740e",
            "1f48a8abe57140fd9fefddba66623f85",
            "cb5a4320b6274fda96955fcf5862d97d",
            "63e2e85a21fa42bab8f09eb8df7c4d0b",
            "4e0c3b9e7bda48a986efa8c2005b9024",
            "0e43308f72694c33a3b4d3b5c236bc8c",
            "8780e64bdbbb40eaa9111aaf854dd08f"
          ]
        },
        "id": "TwZxM4QOgDZl",
        "outputId": "fae28cfd-2612-410b-ee41-39b4a3215a14"
      },
      "outputs": [
        {
          "data": {
            "application/vnd.jupyter.widget-view+json": {
              "model_id": "9a08bb67c2a1408b9ac5288452ed558c",
              "version_major": 2,
              "version_minor": 0
            },
            "text/plain": [
              "config.json:   0%|          | 0.00/1.58k [00:00<?, ?B/s]"
            ]
          },
          "metadata": {},
          "output_type": "display_data"
        },
        {
          "data": {
            "application/vnd.jupyter.widget-view+json": {
              "model_id": "372ab5b8d48e427db866193092215875",
              "version_major": 2,
              "version_minor": 0
            },
            "text/plain": [
              "vocab.json:   0%|          | 0.00/899k [00:00<?, ?B/s]"
            ]
          },
          "metadata": {},
          "output_type": "display_data"
        },
        {
          "data": {
            "application/vnd.jupyter.widget-view+json": {
              "model_id": "d22b9e4bd3c24f32a3c1c0680031aa37",
              "version_major": 2,
              "version_minor": 0
            },
            "text/plain": [
              "merges.txt:   0%|          | 0.00/456k [00:00<?, ?B/s]"
            ]
          },
          "metadata": {},
          "output_type": "display_data"
        },
        {
          "data": {
            "application/vnd.jupyter.widget-view+json": {
              "model_id": "074953cf6b68416d983ab55b78da243c",
              "version_major": 2,
              "version_minor": 0
            },
            "text/plain": [
              "tokenizer.json:   0%|          | 0.00/1.36M [00:00<?, ?B/s]"
            ]
          },
          "metadata": {},
          "output_type": "display_data"
        },
        {
          "data": {
            "application/vnd.jupyter.widget-view+json": {
              "model_id": "e4317de7b54640dbaf1f0216c67f5fa2",
              "version_major": 2,
              "version_minor": 0
            },
            "text/plain": [
              "model.safetensors:   0%|          | 0.00/1.63G [00:00<?, ?B/s]"
            ]
          },
          "metadata": {},
          "output_type": "display_data"
        },
        {
          "data": {
            "application/vnd.jupyter.widget-view+json": {
              "model_id": "2a479f382ee7446692c9425354be9695",
              "version_major": 2,
              "version_minor": 0
            },
            "text/plain": [
              "generation_config.json:   0%|          | 0.00/363 [00:00<?, ?B/s]"
            ]
          },
          "metadata": {},
          "output_type": "display_data"
        }
      ],
      "source": [
        "tokenizer= AutoTokenizer.from_pretrained('facebook/bart-large-cnn')\n",
        "bart_model= AutoModelForSeq2SeqLM.from_pretrained('facebook/bart-large-cnn')"
      ]
    },
    {
      "cell_type": "code",
      "execution_count": null,
      "metadata": {
        "id": "3D7Dlx7XwVvl"
      },
      "outputs": [],
      "source": [
        "data_collator = DataCollatorForSeq2Seq(tokenizer, model=bart_model)\n",
        "\n",
        "training_args = Seq2SeqTrainingArguments(\n",
        "    output_dir=\"bart-large-cnn-model2\",\n",
        "    eval_strategy=\"epoch\",\n",
        "    logging_steps=10,\n",
        "    learning_rate=3e-5,\n",
        "    per_device_train_batch_size=16,\n",
        "    per_device_eval_batch_size=16,\n",
        "    weight_decay=0.01,\n",
        "    num_train_epochs=4,\n",
        "    predict_with_generate=True,\n",
        "    generation_max_length=200,\n",
        "    fp16=True)"
      ]
    },
    {
      "cell_type": "code",
      "execution_count": null,
      "metadata": {
        "colab": {
          "base_uri": "https://localhost:8080/",
          "height": 731
        },
        "id": "ov4ICS0SoZMo",
        "outputId": "1138c0ce-7d39-4f6a-b48a-084871d57366"
      },
      "outputs": [
        {
          "data": {
            "text/html": [
              "\n",
              "    <div>\n",
              "      \n",
              "      <progress value='6196' max='6196' style='width:300px; height:20px; vertical-align: middle;'></progress>\n",
              "      [6196/6196 2:03:28, Epoch 4/4]\n",
              "    </div>\n",
              "    <table border=\"1\" class=\"dataframe\">\n",
              "  <thead>\n",
              " <tr style=\"text-align: left;\">\n",
              "      <th>Epoch</th>\n",
              "      <th>Training Loss</th>\n",
              "      <th>Validation Loss</th>\n",
              "    </tr>\n",
              "  </thead>\n",
              "  <tbody>\n",
              "    <tr>\n",
              "      <td>1</td>\n",
              "      <td>1.926900</td>\n",
              "      <td>2.004851</td>\n",
              "    </tr>\n",
              "    <tr>\n",
              "      <td>2</td>\n",
              "      <td>1.900100</td>\n",
              "      <td>1.972085</td>\n",
              "    </tr>\n",
              "    <tr>\n",
              "      <td>3</td>\n",
              "      <td>1.790000</td>\n",
              "      <td>1.956313</td>\n",
              "    </tr>\n",
              "    <tr>\n",
              "      <td>4</td>\n",
              "      <td>1.742100</td>\n",
              "      <td>1.960566</td>\n",
              "    </tr>\n",
              "  </tbody>\n",
              "</table><p>"
            ],
            "text/plain": [
              "<IPython.core.display.HTML object>"
            ]
          },
          "metadata": {},
          "output_type": "display_data"
        },
        {
          "name": "stderr",
          "output_type": "stream",
          "text": [
            "Some non-default generation parameters are set in the model config. These should go into a GenerationConfig file (https://huggingface.co/docs/transformers/generation_strategies#save-a-custom-decoding-strategy-with-your-model) instead. This warning will be raised to an exception in v4.41.\n",
            "Non-default generation parameters: {'max_length': 142, 'min_length': 56, 'early_stopping': True, 'num_beams': 4, 'length_penalty': 2.0, 'no_repeat_ngram_size': 3, 'forced_bos_token_id': 0, 'forced_eos_token_id': 2}\n",
            "Some non-default generation parameters are set in the model config. These should go into a GenerationConfig file (https://huggingface.co/docs/transformers/generation_strategies#save-a-custom-decoding-strategy-with-your-model) instead. This warning will be raised to an exception in v4.41.\n",
            "Non-default generation parameters: {'max_length': 142, 'min_length': 56, 'early_stopping': True, 'num_beams': 4, 'length_penalty': 2.0, 'no_repeat_ngram_size': 3, 'forced_bos_token_id': 0, 'forced_eos_token_id': 2}\n",
            "Some non-default generation parameters are set in the model config. These should go into a GenerationConfig file (https://huggingface.co/docs/transformers/generation_strategies#save-a-custom-decoding-strategy-with-your-model) instead. This warning will be raised to an exception in v4.41.\n",
            "Non-default generation parameters: {'max_length': 142, 'min_length': 56, 'early_stopping': True, 'num_beams': 4, 'length_penalty': 2.0, 'no_repeat_ngram_size': 3, 'forced_bos_token_id': 0, 'forced_eos_token_id': 2}\n",
            "Some non-default generation parameters are set in the model config. These should go into a GenerationConfig file (https://huggingface.co/docs/transformers/generation_strategies#save-a-custom-decoding-strategy-with-your-model) instead. This warning will be raised to an exception in v4.41.\n",
            "Non-default generation parameters: {'max_length': 142, 'min_length': 56, 'early_stopping': True, 'num_beams': 4, 'length_penalty': 2.0, 'no_repeat_ngram_size': 3, 'forced_bos_token_id': 0, 'forced_eos_token_id': 2}\n",
            "Some non-default generation parameters are set in the model config. These should go into a GenerationConfig file (https://huggingface.co/docs/transformers/generation_strategies#save-a-custom-decoding-strategy-with-your-model) instead. This warning will be raised to an exception in v4.41.\n",
            "Non-default generation parameters: {'max_length': 142, 'min_length': 56, 'early_stopping': True, 'num_beams': 4, 'length_penalty': 2.0, 'no_repeat_ngram_size': 3, 'forced_bos_token_id': 0, 'forced_eos_token_id': 2}\n",
            "Some non-default generation parameters are set in the model config. These should go into a GenerationConfig file (https://huggingface.co/docs/transformers/generation_strategies#save-a-custom-decoding-strategy-with-your-model) instead. This warning will be raised to an exception in v4.41.\n",
            "Non-default generation parameters: {'max_length': 142, 'min_length': 56, 'early_stopping': True, 'num_beams': 4, 'length_penalty': 2.0, 'no_repeat_ngram_size': 3, 'forced_bos_token_id': 0, 'forced_eos_token_id': 2}\n",
            "Some non-default generation parameters are set in the model config. These should go into a GenerationConfig file (https://huggingface.co/docs/transformers/generation_strategies#save-a-custom-decoding-strategy-with-your-model) instead. This warning will be raised to an exception in v4.41.\n",
            "Non-default generation parameters: {'max_length': 142, 'min_length': 56, 'early_stopping': True, 'num_beams': 4, 'length_penalty': 2.0, 'no_repeat_ngram_size': 3, 'forced_bos_token_id': 0, 'forced_eos_token_id': 2}\n",
            "Some non-default generation parameters are set in the model config. These should go into a GenerationConfig file (https://huggingface.co/docs/transformers/generation_strategies#save-a-custom-decoding-strategy-with-your-model) instead. This warning will be raised to an exception in v4.41.\n",
            "Non-default generation parameters: {'max_length': 142, 'min_length': 56, 'early_stopping': True, 'num_beams': 4, 'length_penalty': 2.0, 'no_repeat_ngram_size': 3, 'forced_bos_token_id': 0, 'forced_eos_token_id': 2}\n",
            "Some non-default generation parameters are set in the model config. These should go into a GenerationConfig file (https://huggingface.co/docs/transformers/generation_strategies#save-a-custom-decoding-strategy-with-your-model) instead. This warning will be raised to an exception in v4.41.\n",
            "Non-default generation parameters: {'max_length': 142, 'min_length': 56, 'early_stopping': True, 'num_beams': 4, 'length_penalty': 2.0, 'no_repeat_ngram_size': 3, 'forced_bos_token_id': 0, 'forced_eos_token_id': 2}\n",
            "Some non-default generation parameters are set in the model config. These should go into a GenerationConfig file (https://huggingface.co/docs/transformers/generation_strategies#save-a-custom-decoding-strategy-with-your-model) instead. This warning will be raised to an exception in v4.41.\n",
            "Non-default generation parameters: {'max_length': 142, 'min_length': 56, 'early_stopping': True, 'num_beams': 4, 'length_penalty': 2.0, 'no_repeat_ngram_size': 3, 'forced_bos_token_id': 0, 'forced_eos_token_id': 2}\n",
            "Some non-default generation parameters are set in the model config. These should go into a GenerationConfig file (https://huggingface.co/docs/transformers/generation_strategies#save-a-custom-decoding-strategy-with-your-model) instead. This warning will be raised to an exception in v4.41.\n",
            "Non-default generation parameters: {'max_length': 142, 'min_length': 56, 'early_stopping': True, 'num_beams': 4, 'length_penalty': 2.0, 'no_repeat_ngram_size': 3, 'forced_bos_token_id': 0, 'forced_eos_token_id': 2}\n",
            "Some non-default generation parameters are set in the model config. These should go into a GenerationConfig file (https://huggingface.co/docs/transformers/generation_strategies#save-a-custom-decoding-strategy-with-your-model) instead. This warning will be raised to an exception in v4.41.\n",
            "Non-default generation parameters: {'max_length': 142, 'min_length': 56, 'early_stopping': True, 'num_beams': 4, 'length_penalty': 2.0, 'no_repeat_ngram_size': 3, 'forced_bos_token_id': 0, 'forced_eos_token_id': 2}\n",
            "Some non-default generation parameters are set in the model config. These should go into a GenerationConfig file (https://huggingface.co/docs/transformers/generation_strategies#save-a-custom-decoding-strategy-with-your-model) instead. This warning will be raised to an exception in v4.41.\n",
            "Non-default generation parameters: {'max_length': 142, 'min_length': 56, 'early_stopping': True, 'num_beams': 4, 'length_penalty': 2.0, 'no_repeat_ngram_size': 3, 'forced_bos_token_id': 0, 'forced_eos_token_id': 2}\n"
          ]
        },
        {
          "data": {
            "text/plain": [
              "TrainOutput(global_step=6196, training_loss=1.8687230800335604, metrics={'train_runtime': 7410.7882, 'train_samples_per_second': 13.371, 'train_steps_per_second': 0.836, 'total_flos': 2.147427292324823e+17, 'train_loss': 1.8687230800335604, 'epoch': 4.0})"
            ]
          },
          "execution_count": 18,
          "metadata": {},
          "output_type": "execute_result"
        }
      ],
      "source": [
        "trainer = Seq2SeqTrainer(\n",
        "    model=bart_model,\n",
        "    args=training_args,\n",
        "    train_dataset=tokenized_train_data_abs_intro_con,\n",
        "    eval_dataset=tokenized_val_data_abs_intro_con,\n",
        "    tokenizer=tokenizer,\n",
        "    data_collator=data_collator,\n",
        "    callbacks=[train_losses_log]\n",
        ")\n",
        "\n",
        "trainer.train()"
      ]
    },
    {
      "cell_type": "code",
      "execution_count": null,
      "metadata": {
        "colab": {
          "base_uri": "https://localhost:8080/",
          "height": 487
        },
        "id": "uFMeex5sgjMH",
        "outputId": "3efab584-99fc-4f60-dc49-bf98b2361ab8"
      },
      "outputs": [
        {
          "data": {
            "image/png": "[encoded data removed]",
            "text/plain": [
              "<Figure size 1000x500 with 1 Axes>"
            ]
          },
          "metadata": {},
          "output_type": "display_data"
        }
      ],
      "source": [
        "# Plot training losses\n",
        "plt.figure(figsize=(10, 5))\n",
        "plt.plot(train_losses_log.losses, label='Training Loss')\n",
        "plt.xlabel('Training Steps')\n",
        "plt.ylabel('Loss')\n",
        "plt.title('Training Loss Over Time (Logged Every 10 Steps)')\n",
        "plt.legend()\n",
        "plt.show()"
      ]
    },
    {
      "cell_type": "code",
      "execution_count": null,
      "metadata": {
        "colab": {
          "base_uri": "https://localhost:8080/"
        },
        "id": "T4Wwx6nhyjcG",
        "outputId": "553aaef5-1058-414e-b636-89fc682f671d"
      },
      "outputs": [
        {
          "name": "stderr",
          "output_type": "stream",
          "text": [
            "Some non-default generation parameters are set in the model config. These should go into a GenerationConfig file (https://huggingface.co/docs/transformers/generation_strategies#save-a-custom-decoding-strategy-with-your-model) instead. This warning will be raised to an exception in v4.41.\n",
            "Non-default generation parameters: {'max_length': 142, 'min_length': 56, 'early_stopping': True, 'num_beams': 4, 'length_penalty': 2.0, 'no_repeat_ngram_size': 3, 'forced_bos_token_id': 0, 'forced_eos_token_id': 2}\n"
          ]
        },
        {
          "name": "stdout",
          "output_type": "stream",
          "text": [
            "Mounted at /content/drive\n"
          ]
        },
        {
          "data": {
            "text/plain": [
              "('/content/drive/MyDrive/trained_bart_tokenizer2/tokenizer_config.json',\n",
              " '/content/drive/MyDrive/trained_bart_tokenizer2/special_tokens_map.json',\n",
              " '/content/drive/MyDrive/trained_bart_tokenizer2/vocab.json',\n",
              " '/content/drive/MyDrive/trained_bart_tokenizer2/merges.txt',\n",
              " '/content/drive/MyDrive/trained_bart_tokenizer2/added_tokens.json',\n",
              " '/content/drive/MyDrive/trained_bart_tokenizer2/tokenizer.json')"
            ]
          },
          "execution_count": 21,
          "metadata": {},
          "output_type": "execute_result"
        }
      ],
      "source": [
        "drive.mount('/content/drive')\n",
        "\n",
        "model_path = '/content/drive/MyDrive/trained_bart_model2'\n",
        "tokenizer_path = '/content/drive/MyDrive/trained_bart_tokenizer2'\n",
        "\n",
        "os.makedirs(model_path, exist_ok=True)\n",
        "os.makedirs(tokenizer_path, exist_ok=True)\n",
        "\n",
        "bart_model.save_pretrained(model_path)\n",
        "tokenizer.save_pretrained(tokenizer_path)"
      ]
    },
    {
      "cell_type": "markdown",
      "metadata": {
        "id": "tnoV5Xv5hJ7h"
      },
      "source": [
        "#### Fine-Tuning BART on Full Article"
      ]
    },
    {
      "cell_type": "code",
      "execution_count": null,
      "metadata": {
        "id": "uE0y5dHGiDmz"
      },
      "outputs": [],
      "source": [
        "data_collator = DataCollatorForSeq2Seq(tokenizer, model=bart_model)\n",
        "\n",
        "# Define training arguments\n",
        "training_args = Seq2SeqTrainingArguments(\n",
        "    output_dir=\"bart-large-cnn-model4\",\n",
        "    eval_strategy=\"epoch\",\n",
        "    logging_steps=10,\n",
        "    learning_rate=3e-5,\n",
        "    per_device_train_batch_size=8,\n",
        "    per_device_eval_batch_size=8,\n",
        "    weight_decay=0.01,\n",
        "    num_train_epochs=4,\n",
        "    predict_with_generate=True,\n",
        "    generation_max_length=200,\n",
        "    fp16=True)"
      ]
    },
    {
      "cell_type": "code",
      "execution_count": null,
      "metadata": {
        "colab": {
          "base_uri": "https://localhost:8080/",
          "height": 1000
        },
        "id": "9FPnCt4eiWQB",
        "outputId": "d9098db3-ff47-48b2-e88e-b49283dc4b52"
      },
      "outputs": [
        {
          "data": {
            "text/html": [
              "\n",
              "    <div>\n",
              "      \n",
              "      <progress value='7864' max='12388' style='width:300px; height:20px; vertical-align: middle;'></progress>\n",
              "      [ 7864/12388 28:05 < 16:09, 4.67 it/s, Epoch 2.54/4]\n",
              "    </div>\n",
              "    <table border=\"1\" class=\"dataframe\">\n",
              "  <thead>\n",
              " <tr style=\"text-align: left;\">\n",
              "      <th>Epoch</th>\n",
              "      <th>Training Loss</th>\n",
              "      <th>Validation Loss</th>\n",
              "    </tr>\n",
              "  </thead>\n",
              "  <tbody>\n",
              "    <tr>\n",
              "      <td>1</td>\n",
              "      <td>1.970500</td>\n",
              "      <td>2.011420</td>\n",
              "    </tr>\n",
              "    <tr>\n",
              "      <td>2</td>\n",
              "      <td>1.820600</td>\n",
              "      <td>1.970402</td>\n",
              "    </tr>\n",
              "  </tbody>\n",
              "</table><p>"
            ],
            "text/plain": [
              "<IPython.core.display.HTML object>"
            ]
          },
          "metadata": {},
          "output_type": "display_data"
        },
        {
          "name": "stderr",
          "output_type": "stream",
          "text": [
            "Some non-default generation parameters are set in the model config. These should go into a GenerationConfig file (https://huggingface.co/docs/transformers/generation_strategies#save-a-custom-decoding-strategy-with-your-model) instead. This warning will be raised to an exception in v4.41.\n",
            "Non-default generation parameters: {'max_length': 142, 'min_length': 56, 'early_stopping': True, 'num_beams': 4, 'length_penalty': 2.0, 'no_repeat_ngram_size': 3, 'forced_bos_token_id': 0, 'forced_eos_token_id': 2}\n",
            "Some non-default generation parameters are set in the model config. These should go into a GenerationConfig file (https://huggingface.co/docs/transformers/generation_strategies#save-a-custom-decoding-strategy-with-your-model) instead. This warning will be raised to an exception in v4.41.\n",
            "Non-default generation parameters: {'max_length': 142, 'min_length': 56, 'early_stopping': True, 'num_beams': 4, 'length_penalty': 2.0, 'no_repeat_ngram_size': 3, 'forced_bos_token_id': 0, 'forced_eos_token_id': 2}\n",
            "Some non-default generation parameters are set in the model config. These should go into a GenerationConfig file (https://huggingface.co/docs/transformers/generation_strategies#save-a-custom-decoding-strategy-with-your-model) instead. This warning will be raised to an exception in v4.41.\n",
            "Non-default generation parameters: {'max_length': 142, 'min_length': 56, 'early_stopping': True, 'num_beams': 4, 'length_penalty': 2.0, 'no_repeat_ngram_size': 3, 'forced_bos_token_id': 0, 'forced_eos_token_id': 2}\n",
            "Some non-default generation parameters are set in the model config. These should go into a GenerationConfig file (https://huggingface.co/docs/transformers/generation_strategies#save-a-custom-decoding-strategy-with-your-model) instead. This warning will be raised to an exception in v4.41.\n",
            "Non-default generation parameters: {'max_length': 142, 'min_length': 56, 'early_stopping': True, 'num_beams': 4, 'length_penalty': 2.0, 'no_repeat_ngram_size': 3, 'forced_bos_token_id': 0, 'forced_eos_token_id': 2}\n",
            "Some non-default generation parameters are set in the model config. These should go into a GenerationConfig file (https://huggingface.co/docs/transformers/generation_strategies#save-a-custom-decoding-strategy-with-your-model) instead. This warning will be raised to an exception in v4.41.\n",
            "Non-default generation parameters: {'max_length': 142, 'min_length': 56, 'early_stopping': True, 'num_beams': 4, 'length_penalty': 2.0, 'no_repeat_ngram_size': 3, 'forced_bos_token_id': 0, 'forced_eos_token_id': 2}\n",
            "Some non-default generation parameters are set in the model config. These should go into a GenerationConfig file (https://huggingface.co/docs/transformers/generation_strategies#save-a-custom-decoding-strategy-with-your-model) instead. This warning will be raised to an exception in v4.41.\n",
            "Non-default generation parameters: {'max_length': 142, 'min_length': 56, 'early_stopping': True, 'num_beams': 4, 'length_penalty': 2.0, 'no_repeat_ngram_size': 3, 'forced_bos_token_id': 0, 'forced_eos_token_id': 2}\n",
            "Some non-default generation parameters are set in the model config. These should go into a GenerationConfig file (https://huggingface.co/docs/transformers/generation_strategies#save-a-custom-decoding-strategy-with-your-model) instead. This warning will be raised to an exception in v4.41.\n",
            "Non-default generation parameters: {'max_length': 142, 'min_length': 56, 'early_stopping': True, 'num_beams': 4, 'length_penalty': 2.0, 'no_repeat_ngram_size': 3, 'forced_bos_token_id': 0, 'forced_eos_token_id': 2}\n",
            "Some non-default generation parameters are set in the model config. These should go into a GenerationConfig file (https://huggingface.co/docs/transformers/generation_strategies#save-a-custom-decoding-strategy-with-your-model) instead. This warning will be raised to an exception in v4.41.\n",
            "Non-default generation parameters: {'max_length': 142, 'min_length': 56, 'early_stopping': True, 'num_beams': 4, 'length_penalty': 2.0, 'no_repeat_ngram_size': 3, 'forced_bos_token_id': 0, 'forced_eos_token_id': 2}\n",
            "Some non-default generation parameters are set in the model config. These should go into a GenerationConfig file (https://huggingface.co/docs/transformers/generation_strategies#save-a-custom-decoding-strategy-with-your-model) instead. This warning will be raised to an exception in v4.41.\n",
            "Non-default generation parameters: {'max_length': 142, 'min_length': 56, 'early_stopping': True, 'num_beams': 4, 'length_penalty': 2.0, 'no_repeat_ngram_size': 3, 'forced_bos_token_id': 0, 'forced_eos_token_id': 2}\n",
            "Some non-default generation parameters are set in the model config. These should go into a GenerationConfig file (https://huggingface.co/docs/transformers/generation_strategies#save-a-custom-decoding-strategy-with-your-model) instead. This warning will be raised to an exception in v4.41.\n",
            "Non-default generation parameters: {'max_length': 142, 'min_length': 56, 'early_stopping': True, 'num_beams': 4, 'length_penalty': 2.0, 'no_repeat_ngram_size': 3, 'forced_bos_token_id': 0, 'forced_eos_token_id': 2}\n",
            "Some non-default generation parameters are set in the model config. These should go into a GenerationConfig file (https://huggingface.co/docs/transformers/generation_strategies#save-a-custom-decoding-strategy-with-your-model) instead. This warning will be raised to an exception in v4.41.\n",
            "Non-default generation parameters: {'max_length': 142, 'min_length': 56, 'early_stopping': True, 'num_beams': 4, 'length_penalty': 2.0, 'no_repeat_ngram_size': 3, 'forced_bos_token_id': 0, 'forced_eos_token_id': 2}\n",
            "Some non-default generation parameters are set in the model config. These should go into a GenerationConfig file (https://huggingface.co/docs/transformers/generation_strategies#save-a-custom-decoding-strategy-with-your-model) instead. This warning will be raised to an exception in v4.41.\n",
            "Non-default generation parameters: {'max_length': 142, 'min_length': 56, 'early_stopping': True, 'num_beams': 4, 'length_penalty': 2.0, 'no_repeat_ngram_size': 3, 'forced_bos_token_id': 0, 'forced_eos_token_id': 2}\n",
            "Some non-default generation parameters are set in the model config. These should go into a GenerationConfig file (https://huggingface.co/docs/transformers/generation_strategies#save-a-custom-decoding-strategy-with-your-model) instead. This warning will be raised to an exception in v4.41.\n",
            "Non-default generation parameters: {'max_length': 142, 'min_length': 56, 'early_stopping': True, 'num_beams': 4, 'length_penalty': 2.0, 'no_repeat_ngram_size': 3, 'forced_bos_token_id': 0, 'forced_eos_token_id': 2}\n",
            "Some non-default generation parameters are set in the model config. These should go into a GenerationConfig file (https://huggingface.co/docs/transformers/generation_strategies#save-a-custom-decoding-strategy-with-your-model) instead. This warning will be raised to an exception in v4.41.\n",
            "Non-default generation parameters: {'max_length': 142, 'min_length': 56, 'early_stopping': True, 'num_beams': 4, 'length_penalty': 2.0, 'no_repeat_ngram_size': 3, 'forced_bos_token_id': 0, 'forced_eos_token_id': 2}\n",
            "Some non-default generation parameters are set in the model config. These should go into a GenerationConfig file (https://huggingface.co/docs/transformers/generation_strategies#save-a-custom-decoding-strategy-with-your-model) instead. This warning will be raised to an exception in v4.41.\n",
            "Non-default generation parameters: {'max_length': 142, 'min_length': 56, 'early_stopping': True, 'num_beams': 4, 'length_penalty': 2.0, 'no_repeat_ngram_size': 3, 'forced_bos_token_id': 0, 'forced_eos_token_id': 2}\n"
          ]
        },
        {
          "data": {
            "text/html": [
              "\n",
              "    <div>\n",
              "      \n",
              "      <progress value='12388' max='12388' style='width:300px; height:20px; vertical-align: middle;'></progress>\n",
              "      [12388/12388 44:35, Epoch 4/4]\n",
              "    </div>\n",
              "    <table border=\"1\" class=\"dataframe\">\n",
              "  <thead>\n",
              " <tr style=\"text-align: left;\">\n",
              "      <th>Epoch</th>\n",
              "      <th>Training Loss</th>\n",
              "      <th>Validation Loss</th>\n",
              "    </tr>\n",
              "  </thead>\n",
              "  <tbody>\n",
              "    <tr>\n",
              "      <td>1</td>\n",
              "      <td>1.970500</td>\n",
              "      <td>2.011420</td>\n",
              "    </tr>\n",
              "    <tr>\n",
              "      <td>2</td>\n",
              "      <td>1.820600</td>\n",
              "      <td>1.970402</td>\n",
              "    </tr>\n",
              "    <tr>\n",
              "      <td>3</td>\n",
              "      <td>1.742100</td>\n",
              "      <td>1.962987</td>\n",
              "    </tr>\n",
              "    <tr>\n",
              "      <td>4</td>\n",
              "      <td>1.602000</td>\n",
              "      <td>1.975746</td>\n",
              "    </tr>\n",
              "  </tbody>\n",
              "</table><p>"
            ],
            "text/plain": [
              "<IPython.core.display.HTML object>"
            ]
          },
          "metadata": {},
          "output_type": "display_data"
        },
        {
          "name": "stderr",
          "output_type": "stream",
          "text": [
            "Some non-default generation parameters are set in the model config. These should go into a GenerationConfig file (https://huggingface.co/docs/transformers/generation_strategies#save-a-custom-decoding-strategy-with-your-model) instead. This warning will be raised to an exception in v4.41.\n",
            "Non-default generation parameters: {'max_length': 142, 'min_length': 56, 'early_stopping': True, 'num_beams': 4, 'length_penalty': 2.0, 'no_repeat_ngram_size': 3, 'forced_bos_token_id': 0, 'forced_eos_token_id': 2}\n",
            "Some non-default generation parameters are set in the model config. These should go into a GenerationConfig file (https://huggingface.co/docs/transformers/generation_strategies#save-a-custom-decoding-strategy-with-your-model) instead. This warning will be raised to an exception in v4.41.\n",
            "Non-default generation parameters: {'max_length': 142, 'min_length': 56, 'early_stopping': True, 'num_beams': 4, 'length_penalty': 2.0, 'no_repeat_ngram_size': 3, 'forced_bos_token_id': 0, 'forced_eos_token_id': 2}\n",
            "Some non-default generation parameters are set in the model config. These should go into a GenerationConfig file (https://huggingface.co/docs/transformers/generation_strategies#save-a-custom-decoding-strategy-with-your-model) instead. This warning will be raised to an exception in v4.41.\n",
            "Non-default generation parameters: {'max_length': 142, 'min_length': 56, 'early_stopping': True, 'num_beams': 4, 'length_penalty': 2.0, 'no_repeat_ngram_size': 3, 'forced_bos_token_id': 0, 'forced_eos_token_id': 2}\n",
            "Some non-default generation parameters are set in the model config. These should go into a GenerationConfig file (https://huggingface.co/docs/transformers/generation_strategies#save-a-custom-decoding-strategy-with-your-model) instead. This warning will be raised to an exception in v4.41.\n",
            "Non-default generation parameters: {'max_length': 142, 'min_length': 56, 'early_stopping': True, 'num_beams': 4, 'length_penalty': 2.0, 'no_repeat_ngram_size': 3, 'forced_bos_token_id': 0, 'forced_eos_token_id': 2}\n",
            "Some non-default generation parameters are set in the model config. These should go into a GenerationConfig file (https://huggingface.co/docs/transformers/generation_strategies#save-a-custom-decoding-strategy-with-your-model) instead. This warning will be raised to an exception in v4.41.\n",
            "Non-default generation parameters: {'max_length': 142, 'min_length': 56, 'early_stopping': True, 'num_beams': 4, 'length_penalty': 2.0, 'no_repeat_ngram_size': 3, 'forced_bos_token_id': 0, 'forced_eos_token_id': 2}\n",
            "Some non-default generation parameters are set in the model config. These should go into a GenerationConfig file (https://huggingface.co/docs/transformers/generation_strategies#save-a-custom-decoding-strategy-with-your-model) instead. This warning will be raised to an exception in v4.41.\n",
            "Non-default generation parameters: {'max_length': 142, 'min_length': 56, 'early_stopping': True, 'num_beams': 4, 'length_penalty': 2.0, 'no_repeat_ngram_size': 3, 'forced_bos_token_id': 0, 'forced_eos_token_id': 2}\n",
            "Some non-default generation parameters are set in the model config. These should go into a GenerationConfig file (https://huggingface.co/docs/transformers/generation_strategies#save-a-custom-decoding-strategy-with-your-model) instead. This warning will be raised to an exception in v4.41.\n",
            "Non-default generation parameters: {'max_length': 142, 'min_length': 56, 'early_stopping': True, 'num_beams': 4, 'length_penalty': 2.0, 'no_repeat_ngram_size': 3, 'forced_bos_token_id': 0, 'forced_eos_token_id': 2}\n",
            "Some non-default generation parameters are set in the model config. These should go into a GenerationConfig file (https://huggingface.co/docs/transformers/generation_strategies#save-a-custom-decoding-strategy-with-your-model) instead. This warning will be raised to an exception in v4.41.\n",
            "Non-default generation parameters: {'max_length': 142, 'min_length': 56, 'early_stopping': True, 'num_beams': 4, 'length_penalty': 2.0, 'no_repeat_ngram_size': 3, 'forced_bos_token_id': 0, 'forced_eos_token_id': 2}\n",
            "Some non-default generation parameters are set in the model config. These should go into a GenerationConfig file (https://huggingface.co/docs/transformers/generation_strategies#save-a-custom-decoding-strategy-with-your-model) instead. This warning will be raised to an exception in v4.41.\n",
            "Non-default generation parameters: {'max_length': 142, 'min_length': 56, 'early_stopping': True, 'num_beams': 4, 'length_penalty': 2.0, 'no_repeat_ngram_size': 3, 'forced_bos_token_id': 0, 'forced_eos_token_id': 2}\n",
            "Some non-default generation parameters are set in the model config. These should go into a GenerationConfig file (https://huggingface.co/docs/transformers/generation_strategies#save-a-custom-decoding-strategy-with-your-model) instead. This warning will be raised to an exception in v4.41.\n",
            "Non-default generation parameters: {'max_length': 142, 'min_length': 56, 'early_stopping': True, 'num_beams': 4, 'length_penalty': 2.0, 'no_repeat_ngram_size': 3, 'forced_bos_token_id': 0, 'forced_eos_token_id': 2}\n"
          ]
        },
        {
          "data": {
            "text/plain": [
              "TrainOutput(global_step=12388, training_loss=1.8231124441431998, metrics={'train_runtime': 2677.5064, 'train_samples_per_second': 37.009, 'train_steps_per_second': 4.627, 'total_flos': 2.147427292324823e+17, 'train_loss': 1.8231124441431998, 'epoch': 4.0})"
            ]
          },
          "execution_count": 21,
          "metadata": {},
          "output_type": "execute_result"
        }
      ],
      "source": [
        "trainer = Seq2SeqTrainer(\n",
        "    model=bart_model,\n",
        "    args=training_args,\n",
        "    train_dataset=tokenized_train_data,\n",
        "    eval_dataset=tokenized_val_data,\n",
        "    tokenizer=tokenizer,\n",
        "    data_collator=data_collator,\n",
        "    callbacks=[train_losses_log]\n",
        ")\n",
        "\n",
        "trainer.train()"
      ]
    },
    {
      "cell_type": "code",
      "execution_count": null,
      "metadata": {
        "colab": {
          "base_uri": "https://localhost:8080/"
        },
        "id": "qIeLdwcDviz3",
        "outputId": "333f3fec-18aa-4b7a-b363-7ca4fcb3ffac"
      },
      "outputs": [
        {
          "name": "stderr",
          "output_type": "stream",
          "text": [
            "Some non-default generation parameters are set in the model config. These should go into a GenerationConfig file (https://huggingface.co/docs/transformers/generation_strategies#save-a-custom-decoding-strategy-with-your-model) instead. This warning will be raised to an exception in v4.41.\n",
            "Non-default generation parameters: {'max_length': 142, 'min_length': 56, 'early_stopping': True, 'num_beams': 4, 'length_penalty': 2.0, 'no_repeat_ngram_size': 3, 'forced_bos_token_id': 0, 'forced_eos_token_id': 2}\n"
          ]
        },
        {
          "name": "stdout",
          "output_type": "stream",
          "text": [
            "Mounted at /content/drive\n"
          ]
        },
        {
          "data": {
            "text/plain": [
              "('/content/drive/MyDrive/trained_bart_tokenizer4/tokenizer_config.json',\n",
              " '/content/drive/MyDrive/trained_bart_tokenizer4/special_tokens_map.json',\n",
              " '/content/drive/MyDrive/trained_bart_tokenizer4/vocab.json',\n",
              " '/content/drive/MyDrive/trained_bart_tokenizer4/merges.txt',\n",
              " '/content/drive/MyDrive/trained_bart_tokenizer4/added_tokens.json',\n",
              " '/content/drive/MyDrive/trained_bart_tokenizer4/tokenizer.json')"
            ]
          },
          "execution_count": 22,
          "metadata": {},
          "output_type": "execute_result"
        }
      ],
      "source": [
        "drive.mount('/content/drive')\n",
        "\n",
        "model_path = '/content/drive/MyDrive/trained_bart_model4'\n",
        "tokenizer_path = '/content/drive/MyDrive/trained_bart_tokenizer4'\n",
        "\n",
        "os.makedirs(model_path, exist_ok=True)\n",
        "os.makedirs(tokenizer_path, exist_ok=True)\n",
        "\n",
        "bart_model.save_pretrained(model_path)\n",
        "tokenizer.save_pretrained(tokenizer_path)"
      ]
    },
    {
      "cell_type": "code",
      "execution_count": null,
      "metadata": {
        "colab": {
          "base_uri": "https://localhost:8080/",
          "height": 487
        },
        "id": "wnrCL5XXFnmC",
        "outputId": "33523110-b9d5-4c8e-b61e-9d3b28a920f5"
      },
      "outputs": [
        {
          "data": {
            "image/png": "[encoded data removed]",
            "text/plain": [
              "<Figure size 1000x500 with 1 Axes>"
            ]
          },
          "metadata": {},
          "output_type": "display_data"
        }
      ],
      "source": [
        "# Plot training\n",
        "import matplotlib.pyplot as plt\n",
        "plt.figure(figsize=(10, 5))\n",
        "plt.plot(train_losses_log.losses, label='Training Loss')\n",
        "plt.xlabel('Training Steps')\n",
        "plt.ylabel('Loss')\n",
        "plt.title('Training Loss Over Time (Logged Every 10 Steps)')\n",
        "plt.legend()\n",
        "plt.show()"
      ]
    },
    {
      "cell_type": "markdown",
      "source": [
        "#### Fine-Tuned Model Assessments"
      ],
      "metadata": {
        "id": "I0sGTUuJPZgT"
      }
    },
    {
      "cell_type": "markdown",
      "metadata": {
        "id": "ujrP1zDtUECJ"
      },
      "source": [
        "MODEL 1- Trained on abstract, introduction and conclusion.\n",
        "\n",
        "Params:\n",
        "\n",
        "`training_args = Seq2SeqTrainingArguments(\n",
        "    output_dir=\"bart-large-cnn-model\",\n",
        "    eval_strategy=\"epoch\",\n",
        "    learning_rate=2e-5,\n",
        "    per_device_train_batch_size=16,\n",
        "    per_device_eval_batch_size=16,\n",
        "    weight_decay=0.01,\n",
        "    num_train_epochs=3,\n",
        "    predict_with_generate=True,\n",
        "    generation_max_length=200,\n",
        "    fp16=True) #memory saving\n",
        ")`\n",
        "\n",
        "Results:\n",
        "\n",
        "| Epoch | Training Loss | Validation Loss |\n",
        "|-------|---------------|-----------------|\n",
        "| 1     | 2.056400      | 2.008811        |\n",
        "| 2     | 1.929500      | 1.971793        |\n",
        "| 3     | 1.836200      | 1.962582        |\n",
        "\n",
        "\n",
        "Assesing fine-tuning metrics:\n",
        "- Training loss is steadily decreasing but validation loss is not decreasing too much\n",
        "- Gap between training and validation losses are reasonably small which implies that the model is not experiencing problems with overfitting\n",
        "- Next steps: consider increasing epochs to allow for more training time since training loss looks to still be decreasing and/or increasing learning rate to help model converge faster\n",
        "\n",
        "Model saved at:\n",
        "\n",
        "- '/content/drive/MyDrive/trained_bart_model'\n",
        "- '/content/drive/MyDrive/trained_bart_tokenizer'"
      ]
    },
    {
      "cell_type": "markdown",
      "source": [
        "MODEL 2 - Trained on abstract, introduction and conclusion. Slight epoch increase & slight learning rate increase.\n",
        "\n",
        "Params:\n",
        "\n",
        "`training_args = Seq2SeqTrainingArguments(\n",
        "    output_dir=\"bart-large-cnn-model2\",\n",
        "    eval_strategy=\"epoch\",\n",
        "    logging_steps=10,\n",
        "    learning_rate=3e-5,\n",
        "    per_device_train_batch_size=16,\n",
        "    per_device_eval_batch_size=16,\n",
        "    weight_decay=0.01,\n",
        "    num_train_epochs=4,\n",
        "    predict_with_generate=True,\n",
        "    generation_max_length=200,\n",
        "    fp16=True)`\n",
        "\n",
        "Results:\n",
        "\n",
        "| Epoch | Training Loss | Validation Loss |\n",
        "|-------|---------------|-----------------|\n",
        "| 1     | 1.926900      | 2.004851        |\n",
        "| 2     | 1.900100      | 1.972085        |\n",
        "| 3     | 1.790000      | 1.956313        |\n",
        "| 4     | 1.742100      | 1.960566        |\n",
        "\n",
        "\n",
        "Assesing fine-tuning metrics:\n",
        "- Losses are steadily decreasing- hence, model still learning\n",
        "- Training loss is still decreasing but validation loss is not decreasing much\n",
        "- Higher learning rate so it should converge faster than MODEL 1\n",
        "- Gap between training and validation losses are reasonably small which implies that the model is not experiencing problem with overfitting\n",
        "- Lower training loss than MODEL 1 but validation loss is about the same\n",
        "\n",
        "Model saved at:\n",
        "\n",
        "- '/content/drive/MyDrive/trained_bart_model2'\n",
        "- '/content/drive/MyDrive/trained_bart_tokenizer2'"
      ],
      "metadata": {
        "id": "laYah9kC_Lmy"
      }
    },
    {
      "cell_type": "markdown",
      "source": [
        "MODEL 3 - Trained on abstract, introduction and conclusion with 10 epochs (although training for 10 epochs is excessive, we explored this out of curiosity to observe the model's performance over a longer training period).\n",
        "\n",
        "Params:\n",
        "\n",
        "`training_args = Seq2SeqTrainingArguments(\n",
        "    output_dir=\"bart-large-cnn-model3\",\n",
        "    eval_strategy=\"epoch\",\n",
        "    logging_steps=10,\n",
        "    learning_rate=3e-5,\n",
        "    per_device_train_batch_size=16,\n",
        "    per_device_eval_batch_size=16,\n",
        "    weight_decay=0.01,\n",
        "    num_train_epochs=10,\n",
        "    predict_with_generate=True,\n",
        "    generation_max_length=200,\n",
        "    fp16=True)`\n",
        "\n",
        "Results:\n",
        "\n",
        "| Epoch | Training Loss | Validation Loss |\n",
        "|-------|---------------|-----------------|\n",
        "| 1     | 1.927400      | 2.010010        |\n",
        "| 2     | 1.903800      | 1.980505        |\n",
        "| 3     | 1.785700      | 1.972404        |\n",
        "| 4     | 1.707600      | 1.999029        |\n",
        "| 5     | 1.475600      | 2.004464        |\n",
        "| 6     | 1.490800      | 2.032721        |\n",
        "| 7     | 1.396600      | 2.063114        |\n",
        "| 8     | 1.367500      | 2.088458        |\n",
        "| 9     | 1.287100      | 2.108247        |\n",
        "| 10    | 1.292400      | 2.130313        |\n",
        "\n",
        "\n",
        "Assesing fine-tuning metrics:\n",
        "- Decreasing training loss but increasing validation loss indicates overfitting, as expected\n",
        "\n",
        "Model saved at:\n",
        "\n",
        "- '/content/drive/MyDrive/trained_bart_model3'\n",
        "- '/content/drive/MyDrive/trained_bart_tokenizer3'"
      ],
      "metadata": {
        "id": "LZHp7x5K9rzY"
      }
    },
    {
      "cell_type": "markdown",
      "source": [
        "MODEL 4 - Trained on full article.\n",
        "\n",
        "Params:\n",
        "\n",
        "`training_args = Seq2SeqTrainingArguments(\n",
        "    output_dir=\"bart-large-cnn-model4\",\n",
        "    eval_strategy=\"epoch\",\n",
        "    logging_steps=10,\n",
        "    learning_rate=3e-5,\n",
        "    per_device_train_batch_size=8,\n",
        "    per_device_eval_batch_size=8,\n",
        "    weight_decay=0.01,\n",
        "    num_train_epochs=4,\n",
        "    predict_with_generate=True,\n",
        "    generation_max_length=200,\n",
        "    fp16=True)`\n",
        "\n",
        "Results:\n",
        "\n",
        "| Epoch | Training Loss | Validation Loss |\n",
        "|-------|---------------|-----------------|\n",
        "| 1     | 1.970500      | 2.011420        |\n",
        "| 2     | 1.820600      | 1.970402        |\n",
        "| 3     | 1.742100      | 1.962987        |\n",
        "| 4     | 1.602000      | 1.975746        |\n",
        "\n",
        "\n",
        "Assesing fine-tuning metrics:\n",
        "- Training loss is still decreasing but validation loss is not decreasing much\n",
        "- Gap between training and validation losses are reasonably small which implies that the model is not experiencing problem with overfitting\n",
        "- Reaches lower training loss than MODELS 1, 2 & 3 but validation loss is about the same as MODEL 1 & 2\n",
        "\n",
        "Model saved at:\n",
        "\n",
        "- '/content/drive/MyDrive/trained_bart_model4'\n",
        "- '/content/drive/MyDrive/trained_bart_tokenizer4'"
      ],
      "metadata": {
        "id": "01lkDEaODEMJ"
      }
    },
    {
      "cell_type": "markdown",
      "metadata": {
        "id": "l4HGCLXocZle"
      },
      "source": [
        "### Abstractive Summarization w/ Abs w/ BART Fine-Tuned on Abs, Intro & Con (Model 2 Run)"
      ]
    },
    {
      "cell_type": "markdown",
      "metadata": {
        "id": "tR06VM0ffn7Y"
      },
      "source": [
        "Motivation: Trial and error since abstractive summarization with just abs showed highest results."
      ]
    },
    {
      "cell_type": "code",
      "execution_count": null,
      "metadata": {
        "id": "Py7zU8_xfU0P"
      },
      "outputs": [],
      "source": [
        "def abstractive_summarization(article):\n",
        "    device = torch.device(\"cuda\" if torch.cuda.is_available() else \"cpu\")\n",
        "    bart_model.to(device)\n",
        "    # Use torch.no_grad() during inference\n",
        "    with torch.no_grad():\n",
        "        inputs = tokenizer.encode(article, return_tensors='pt', max_length=1024, truncation=True).to(device)\n",
        "        summary_ids = bart_model.generate(inputs, max_length=200, length_penalty=2, num_beams=4, early_stopping=True)\n",
        "        generated_summary = tokenizer.decode(summary_ids[0], skip_special_tokens=True)\n",
        "\n",
        "    return generated_summary\n"
      ]
    },
    {
      "cell_type": "code",
      "execution_count": null,
      "metadata": {
        "id": "B0ZIOOHQfg5k"
      },
      "outputs": [],
      "source": [
        "# Generate summaries for the test set using abstractive_summarization\n",
        "generated_summaries = [abstractive_summarization(article) for article in test_data_abs['article']]\n",
        "reference_summaries = test_data['summary']"
      ]
    },
    {
      "cell_type": "code",
      "execution_count": null,
      "metadata": {
        "colab": {
          "base_uri": "https://localhost:8080/"
        },
        "id": "JFodgjoYfg5x",
        "outputId": "dd2c2bc6-5a18-455c-c046-2fcca7f211f6"
      },
      "outputs": [
        {
          "name": "stdout",
          "output_type": "stream",
          "text": [
            "Generated Summary: Seasonal epidemics of influenza virus result in ∼36, 000 deaths annually in the United States. Current vaccines against influenza virus elicit an antibody response specific for the envelope glycoproteins. However, high mutation rates result in the emergence of new viral serotypes, which elude neutralization by preexisting antibodies. T lymphocytes have been reported to be capable of mediating heterosubtypic protection through recognition of internal, more conserved, influenza virus proteins. Here, we demonstrate using a recombinant influenza virus expressing the LCMV GP33-41 epitope that influenza virus-specific CD8+ T cells and non-neutralizing antibodies each are relatively ineffective at conferring protective immunity alone, but that when combined, they can elicit robust protective immunity. This synergistic improvement in protective immunity is dependent, at least in part, on alveolar macrophages and/or other lung phagocytes. Overall, our studies suggest that an influenza vaccine capable of\n",
            "--------------------------------------------------------------------------------\n",
            "Generated Summary: Leprosy remains a public health problem in Brazil with new case incidence exceeding World Health Organization ( WHO ) goals in endemic clusters throughout the country. Migration can facilitate movement of disease between endemic and non-endemic areas, and has been considered a possible factor in continued leprosy incidence in Brazil. A study was conducted to investigate migration as a risk factor for leproacy. The study implemented a matched case-control design and analysis comparing individuals newly diagnosed ( n = 340 ) and a clinically unapparent control group without clinical signs of disease, matched for age, sex and location in four endemic municipalities in the state of Maranhão, northeastern Brazil. Eighty cases ( 23. 5% ) migrated 5-years prior to diagnosis, and 55 controls ( 16. 2% ) were found to have migrated 5 years prior to the corresponding case diagnosis. Past 5 year migration was found to be associated with disease, and remained significantly associated with lepro\n",
            "--------------------------------------------------------------------------------\n",
            "Generated Summary: Leishmaniasis, caused by infection with the protozoan parasite Leishmania, consists of a wide spectrum of clinical manifestations, from healing cutaneous lesions to fatal visceral infections. A particularly severe form of cutaneous leishmaniases, termed mucosal disease, exhibits decreased IL-10 levels and an exaggerated inflammatory response that perpetuates the disease. In this study, we investigated what cytokines contribute to increased pathology in mucosal leishmania. We found that IFN-γ promoted an increased infiltration of monocytes, while IL-17 contributed to an increase in neutrophils. Surprisingly, however, we found that IL-γ did not contribute to the increased pathology, but instead regulated the production of the cytokine IL- 17, which was required for the pathology. Therefore, we propose that downregulating IL-1β may be a useful approach for controlling immunopathology in leishmiasis.\n",
            "--------------------------------------------------------------------------------\n",
            "Generated Summary: The repeatability or predictability of evolution is a central question in evolutionary biology and most often addressed in experimental evolution studies. Here, we infer how genetically heterogeneous natural systems acquire the same molecular changes to address how genomic background affects adaptation in natural populations. In particular, we take advantage of independently formed neo-sex chromosomes in Drosophila species that have evolved dosage compensation by co-opting the dosage-compensation male-specific lethal ( MSL ) complex to study the mutational paths that have led to the acquisition of hundreds of novel binding sites for the MSL complex in different species. This complex recognizes a conserved 21-bp GA-rich sequence motif that is enriched on the X chromosome, and newly formed X chromosomes recruit this complex by de novo acquisition of this binding motif. We identify recently formed sex chromosomes in the D. melanica and D. robusta species groups by genome sequencing to infer the location of novel MSL binding sites. We find that diverse\n",
            "--------------------------------------------------------------------------------\n",
            "Generated Summary: Prions are self-propagating conformations of proteins that can cause heritable phenotypic traits. Most yeast prions contain glutamine ( Q ) /asparagine ( N ) -rich domains that facilitate the accumulation of the protein into amyloid-like aggregates. Efficient transmission of these infectious aggregates to daughter cells requires that chaperones, including Hsp104 and Sis1, continually sever the aggregates into smaller “seeds. ” Here, we show that overexpression of many of the same 11 Q/N-rich proteins can also destabilize pre-existing [PSI+] or [URE3] prions. We explore in detail the events leading to the loss ( curing ) of [PSIs+] by the overexpressing of one of these proteins, Pin4. We show that the loss of cytoplasmic Chaperones is responsible. Thus, a mechanism by which heterolog\n",
            "--------------------------------------------------------------------------------\n"
          ]
        }
      ],
      "source": [
        "for i, summary in enumerate(generated_summaries[:5]):\n",
        "    print(f\"Generated Summary: {summary}\")\n",
        "    print(\"-\"*80)"
      ]
    },
    {
      "cell_type": "code",
      "execution_count": null,
      "metadata": {
        "id": "D1u-sX1Hfg5y"
      },
      "outputs": [],
      "source": [
        "reference_summaries = test_data_abs['summary']"
      ]
    },
    {
      "cell_type": "code",
      "execution_count": null,
      "metadata": {
        "colab": {
          "base_uri": "https://localhost:8080/"
        },
        "id": "DbRA1N7zfg5y",
        "outputId": "07b9b1b1-55e4-4b3a-ea7b-983d6603257a"
      },
      "outputs": [
        {
          "name": "stdout",
          "output_type": "stream",
          "text": [
            "Reference Summary: Influenza virus continues to pose a significant risk to global health and is responsible for thousands of deaths each year in the United States . This threat is largely due to the ability of the influenza virus to undergo rapid changes , allowing it to escape from immune responses elicited by previous infections or vaccinations . Certain internal determinants of the influenza virus are largely conserved across different viral strains and represent attractive targets for potential “universal” influenza vaccines . Here , we demonstrated that cross-subtype protection against the influenza virus could be obtained through simultaneous priming of multiple arms of the immune response against conserved elements of the influenza virus . These results suggest a novel strategy that could potentially form a primary component of a universal influenza vaccine capable of providing long-lasting protection .\n",
            "--------------------------------------------------------------------------------\n",
            "Reference Summary: In Brazil , leprosy remains a significant public health problem in endemic clusters of high transmission risk throughout the country . Migration is thought to be a factor associated with continued leprosy transmission , as migration has also been found to be associated with other Neglected Tropical Diseases ( NTDs ) . We analyzed the association between past five year migration and leprosy as part of a larger epidemiological study evaluating risk factors for infection among recently diagnosed leprosy cases ( n = 340 ) and a matched clinically unapparent control group ( n = 340 ) in the northeastern state of Maranhão . Among migrants with leprosy , 23 . 5% ( n = 80 ) migrated in the past five years , with 16 . 2% ( n = 55 ) of the control group . Past five year migration was significantly associated with leprosy , and remained significant after controlling for household and familial contact as potential confounders . Factors found to be associated with leprosy among past 5-year migrants included alcohol consumption , poverty , and household , family and other leprosy contact . Key patterns of movement emerged from the study that may aid future regional leprosy control efforts .\n",
            "--------------------------------------------------------------------------------\n",
            "Reference Summary: Leishmaniasis is a tropical disease transmitted by sand flies that causes visceral and cutaneous lesions . In humans , the most severe form of cutaneous leishmaniasis is the mucosal form , causing disfiguring lesions in the nasal and oral mucosa . Why these patients develop severe disease is not clear . It is known , however , that the severe disease is not due to an overwhelming number of parasites , but rather appears to be due to an uncontrolled inflammatory response that includes elevated production of IFN-γ and IL-17 . Here , we used a murine model of leishmaniasis to identify the factors involved in this pathology , and found that mice infected with Leishmania major developed severe lesions in the absence of IL-10 or IL-10 signaling , and similar to patients , contained high levels of IFN-γ and IL-17 . While both of these cytokines have the potential to induce pathology , we found that IL-17 was responsible for the severe pathology seen in the absence of IL-10 regulation , and furthermore that IL-17 levels were higher and pathology greater in the absence of IFN-γ . Thus , our study suggests that IL-17 , but not the IFN-γ , is a strong candidate to be targeted in strategies to control the severe immunopathology observed in mucosal leishmaniasis patients .\n",
            "--------------------------------------------------------------------------------\n",
            "Reference Summary: We address how predictable evolution is at the DNA sequence level in nature by studying the parallel evolution of a phenotype that is well understood at the molecular level: the acquisition of sex chromosome dosage compensation in fruit flies . While female flies have two X chromosomes , the males have to compensate by up-regulating genes on their single X chromosome . They do this by using specific sequence motifs on the X chromosome to recruit a cluster of proteins and RNAs called the male-specific lethal ( MSL ) complex . However , different fruit fly lineages have independently co-opted the MSL complex to dosage compensate newly formed X chromosomes through the acquisition of hundreds of new binding sites , thereby providing independent replicas of the evolutionary process both within and between species . Moreover , dosage compensation has often evolved very recently , allowing us to infer the causative mutations by which the novel binding motifs arose . Genome sequencing and genomic occupancy maps of the MSL complex allowed us to infer the location of novel binding sites on the recently formed sex chromosomes of flies from the Drosophila melanica and D . robusta species groups . We show that species use diverse mechanisms to generate novel MSL-binding sites , including the use of presites , expansion of runs of simple sequences , or insertion of transposable elements . We also show that the propensity for using different types of mutations differs between lineages and depends on genomic properties of a species .\n",
            "--------------------------------------------------------------------------------\n",
            "Reference Summary: Certain proteins can occasionally misfold into infectious aggregates called prions . Once formed , these aggregates grow by attracting the soluble form of that protein to join them . The presence of these aggregates can cause profound effects on cells and , in humans , can cause diseases such as transmissible spongiform encephalopathies ( TSEs ) . In yeast , the aggregates are efficiently transmitted to daughter cells because they are cut into small pieces by molecular scissors ( chaperones ) . Here we show that heritable prion aggregates are frequently lost when we overproduce certain other proteins with curing activity . We analyzed one such protein in detail and found that when it is overproduced it forms aggregates that sequester chaperones . This sequestration appears to block the ability of the chaperones to cut the prion aggregates . The result is that the prions get too large to be transmitted to daughter cells . Such sequestration of molecular scissors provides a potential approach to thwart the propagation of disease-causing infectious protein aggregates .\n",
            "--------------------------------------------------------------------------------\n"
          ]
        }
      ],
      "source": [
        "for i, summary in enumerate(reference_summaries[:5]):\n",
        "    print(f\"Reference Summary: {summary}\")\n",
        "    print(\"-\"*80)"
      ]
    },
    {
      "cell_type": "code",
      "execution_count": null,
      "metadata": {
        "colab": {
          "base_uri": "https://localhost:8080/"
        },
        "id": "PKzbWIPmfg5y",
        "outputId": "0974fde5-f470-49ca-fe01-27f9c3ba75b9"
      },
      "outputs": [
        {
          "name": "stdout",
          "output_type": "stream",
          "text": [
            "{'rouge1': {'precision': 0.5405746976304521, 'recall': 0.4309801787196548, 'f1': 0.47311026668507633}, 'rouge2': {'precision': 0.19050914697433674, 'recall': 0.1513243949500627, 'f1': 0.1663705532818035}, 'rougeL': {'precision': 0.29305839216111446, 'recall': 0.23366847846158487, 'f1': 0.2563823507079334}}\n",
            "{'flesch_kincaid_grade': 14.476090116279071, 'gunning_fog_index': 16.479447674418605}\n"
          ]
        }
      ],
      "source": [
        "rouge_scores, readability_metrics = evaluate_summaries(reference_summaries, generated_summaries)\n",
        "print(rouge_scores)\n",
        "print(readability_metrics)"
      ]
    },
    {
      "cell_type": "markdown",
      "metadata": {
        "id": "n2EQx4XTC4iB"
      },
      "source": [
        "### Abstractive Summarization w/ Abs w/ BART Fine-Tuned on Full Article (Model 4 Run)"
      ]
    },
    {
      "cell_type": "code",
      "execution_count": null,
      "metadata": {
        "id": "fL_9_fHEDIf6",
        "colab": {
          "base_uri": "https://localhost:8080/"
        },
        "outputId": "e438fa9c-daf2-441c-f094-15bad9af1f01"
      },
      "outputs": [
        {
          "output_type": "stream",
          "name": "stdout",
          "text": [
            "Mounted at /content/drive\n"
          ]
        }
      ],
      "source": [
        "# Load model from drive\n",
        "\n",
        "from google.colab import drive\n",
        "drive.mount('/content/drive')\n",
        "\n",
        "drive_model_save_path_drive = '/content/drive/MyDrive/trained_bart_model4'\n",
        "drive_tokenizer_save_path_drive = '/content/drive/MyDrive/trained_bart_tokenizer4'\n",
        "\n",
        "# Load model and tokenizer\n",
        "bart_model = AutoModelForSeq2SeqLM.from_pretrained(drive_model_save_path_drive)\n",
        "tokenizer = AutoTokenizer.from_pretrained(drive_tokenizer_save_path_drive)"
      ]
    },
    {
      "cell_type": "code",
      "source": [
        "def abstractive_summarization(article):\n",
        "    device = torch.device(\"cuda\" if torch.cuda.is_available() else \"cpu\")\n",
        "    bart_model.to(device)\n",
        "\n",
        "    # Abstractive summarization (using model fine tuned on full data)\n",
        "    with torch.no_grad():\n",
        "        inputs = tokenizer.encode(article, return_tensors='pt', max_length=1024, truncation=True, padding='max_length')\n",
        "        inputs = inputs.to(device)\n",
        "        summary_ids = bart_model.generate(inputs, max_length=200, length_penalty=2, num_beams=4, early_stopping=True)\n",
        "        generated_summary = tokenizer.decode(summary_ids[0], skip_special_tokens=True)\n",
        "\n",
        "    return generated_summary"
      ],
      "metadata": {
        "id": "ESfisUZ3F5as"
      },
      "execution_count": null,
      "outputs": []
    },
    {
      "cell_type": "code",
      "source": [
        "generated_summaries = [abstractive_summarization(article) for article in test_data_abs['article']]"
      ],
      "metadata": {
        "id": "fLTGLDj9GksQ"
      },
      "execution_count": null,
      "outputs": []
    },
    {
      "cell_type": "code",
      "source": [
        "reference_summaries = test_data['summary']"
      ],
      "metadata": {
        "id": "4lImB1sYX5fh"
      },
      "execution_count": null,
      "outputs": []
    },
    {
      "cell_type": "code",
      "source": [
        "rouge_scores, readability_metrics = evaluate_summaries(reference_summaries, generated_summaries)\n",
        "print(rouge_scores)\n",
        "print(readability_metrics)"
      ],
      "metadata": {
        "colab": {
          "base_uri": "https://localhost:8080/"
        },
        "id": "dMGIGJknYB5i",
        "outputId": "dafe5f32-70fe-4a94-a7ee-c3e46cbc3d43"
      },
      "execution_count": null,
      "outputs": [
        {
          "output_type": "stream",
          "name": "stdout",
          "text": [
            "{'rouge1': {'precision': 0.5392570821050728, 'recall': 0.4285974039521835, 'f1': 0.4710578430415421}, 'rouge2': {'precision': 0.1890214672765132, 'recall': 0.1493619463992768, 'f1': 0.16458492421388807}, 'rougeL': {'precision': 0.2914654229323272, 'recall': 0.2317015720497072, 'f1': 0.25451124950189774}}\n",
            "{'flesch_kincaid_grade': 14.459302325581396, 'gunning_fog_index': 16.47010901162791}\n"
          ]
        }
      ]
    },
    {
      "cell_type": "markdown",
      "source": [
        "### Abstractive Summarization w/ Lead-8 w/ BART Fine-Tuned on Abs, Intro & Con (Model 2 Run)"
      ],
      "metadata": {
        "id": "8bDcFwsoYa28"
      }
    },
    {
      "cell_type": "code",
      "source": [
        "def lead_k_extraction(article, K):\n",
        "    sentences = article.split('. ')\n",
        "    return '. '.join(sentences[:K]) + '.'"
      ],
      "metadata": {
        "id": "krDbmCrlYkcw"
      },
      "execution_count": null,
      "outputs": []
    },
    {
      "cell_type": "code",
      "source": [
        "# Apply the LEAD-K model to the dataset\n",
        "def apply_lead_k_model(dataset, K):\n",
        "    results = []\n",
        "    for text in dataset:\n",
        "        summary = lead_k_extraction(text, K)\n",
        "        results.append(summary)\n",
        "    return ' '.join(results)"
      ],
      "metadata": {
        "id": "MM0NrJq1Yt2m"
      },
      "execution_count": null,
      "outputs": []
    },
    {
      "cell_type": "code",
      "source": [
        "modelpath = '/content/drive/MyDrive/trained_bart_model2'\n",
        "tokenizer_path = '/content/drive/MyDrive/trained_bart_tokenizer2'\n",
        "\n",
        "bart_model2 = AutoModelForSeq2SeqLM.from_pretrained(model_path)\n",
        "tokenizer2 = AutoTokenizer.from_pretrained(tokenizer_path)"
      ],
      "metadata": {
        "id": "yCdlZfcpYzuo"
      },
      "execution_count": null,
      "outputs": []
    },
    {
      "cell_type": "code",
      "source": [
        "def abstractive_summarization_leadk(article):\n",
        "    device = torch.device(\"cuda\" if torch.cuda.is_available() else \"cpu\")\n",
        "    bart_model2.to(device)\n",
        "\n",
        "    # Extractive summarization\n",
        "    extracted_content = lead_k_extraction(article, 8)  # Extract first 8 sentences\n",
        "\n",
        "    # Abstractive summarization (using model 2)\n",
        "    with torch.no_grad():\n",
        "        inputs = tokenizer.encode(extracted_content, return_tensors='pt', max_length=1024, truncation=True, padding='max_length')\n",
        "        inputs = inputs.to(device)\n",
        "        generated_summary = bart_model2.generate(inputs, max_length=200, length_penalty=2, num_beams=4, early_stopping=True)\n",
        "        summary = tokenizer2.decode(generated_summary[0], skip_special_tokens=True)\n",
        "\n",
        "    return summary"
      ],
      "metadata": {
        "id": "o9fmYcYlZrWO"
      },
      "execution_count": null,
      "outputs": []
    },
    {
      "cell_type": "code",
      "source": [
        "generated_summaries_leadk = [abstractive_summarization_leadk(article) for article in test_data['article']]"
      ],
      "metadata": {
        "id": "EiW9E1w8Z9tf"
      },
      "execution_count": null,
      "outputs": []
    },
    {
      "cell_type": "code",
      "source": [
        "reference_summaries_leadk = test_data['summary']"
      ],
      "metadata": {
        "id": "R0gN624LsFz0"
      },
      "execution_count": null,
      "outputs": []
    },
    {
      "cell_type": "code",
      "source": [
        "rouge_scores, readability_metrics = evaluate_summaries(reference_summaries_leadk, generated_summaries_leadk)\n",
        "print(rouge_scores)\n",
        "print(readability_metrics)"
      ],
      "metadata": {
        "colab": {
          "base_uri": "https://localhost:8080/"
        },
        "id": "ioPIHDJ_sLFl",
        "outputId": "63a06158-3870-4190-b8ef-68e6a211b4a8"
      },
      "execution_count": null,
      "outputs": [
        {
          "output_type": "stream",
          "name": "stdout",
          "text": [
            "{'rouge1': {'precision': 0.542006271806986, 'recall': 0.4070233380539697, 'f1': 0.45712809237208296}, 'rouge2': {'precision': 0.18910966424669828, 'recall': 0.14087065402696958, 'f1': 0.15867105981420818}, 'rougeL': {'precision': 0.2954164187665494, 'recall': 0.22120165739417108, 'f1': 0.24859398494749224}}\n",
            "{'flesch_kincaid_grade': 14.440261627906976, 'gunning_fog_index': 16.54623546511628}\n"
          ]
        }
      ]
    },
    {
      "cell_type": "markdown",
      "source": [
        "### Abstractive Summarization w/ Abs, Intro, Con w/ BART Fine-Tuned on Abs, Intro & Con (Model 2 Run)"
      ],
      "metadata": {
        "id": "i9bQ-xgemonw"
      }
    },
    {
      "cell_type": "code",
      "source": [
        "def abstractive_summarization(article):\n",
        "    device = torch.device(\"cuda\" if torch.cuda.is_available() else \"cpu\")\n",
        "    bart_model.to(device)\n",
        "    # Use torch.no_grad() during inference\n",
        "    with torch.no_grad():\n",
        "        inputs = tokenizer.encode(article, return_tensors='pt', max_length=1024, truncation=True).to(device)\n",
        "        summary_ids = bart_model.generate(inputs, max_length=200, length_penalty=2, num_beams=4, early_stopping=True)\n",
        "        generated_summary = tokenizer.decode(summary_ids[0], skip_special_tokens=True)\n",
        "\n",
        "    return generated_summary"
      ],
      "metadata": {
        "id": "yfOnAIlumvgo"
      },
      "execution_count": null,
      "outputs": []
    },
    {
      "cell_type": "code",
      "source": [
        "generated_summaries = [abstractive_summarization(article) for article in test_data_abs_intro_con['article']]"
      ],
      "metadata": {
        "id": "7wJSXt89pjf4"
      },
      "execution_count": null,
      "outputs": []
    },
    {
      "cell_type": "code",
      "source": [
        "reference_summaries = test_data['summary']"
      ],
      "metadata": {
        "id": "VnFnPe4DkNts"
      },
      "execution_count": null,
      "outputs": []
    },
    {
      "cell_type": "code",
      "source": [
        "rouge_scores, readability_metrics = evaluate_summaries(reference_summaries, generated_summaries)\n",
        "print(rouge_scores)\n",
        "print(readability_metrics)"
      ],
      "metadata": {
        "colab": {
          "base_uri": "https://localhost:8080/"
        },
        "id": "apuhfwPPkQ5A",
        "outputId": "c54e7c49-6fd1-4018-ca7f-f763203bd3f8"
      },
      "execution_count": null,
      "outputs": [
        {
          "output_type": "stream",
          "name": "stdout",
          "text": [
            "{'rouge1': {'precision': 0.520637269366072, 'recall': 0.42197232795707845, 'f1': 0.46000845279817404}, 'rouge2': {'precision': 0.1731830592071297, 'recall': 0.13975597331391662, 'f1': 0.15261200372682043}, 'rougeL': {'precision': 0.2748789258600744, 'recall': 0.22301131937398483, 'f1': 0.2429090699608696}}\n",
            "{'flesch_kincaid_grade': 14.470130813953489, 'gunning_fog_index': 16.61638808139535}\n"
          ]
        }
      ]
    },
    {
      "cell_type": "markdown",
      "source": [
        "### Hybrid Summarization w/ Abs w/ TFIDF & BART Fine-Tuned on Abs, Intro & Con (Model 2 Run)"
      ],
      "metadata": {
        "id": "D6vakA2bR5CY"
      }
    },
    {
      "cell_type": "code",
      "execution_count": null,
      "metadata": {
        "id": "WiFe81_uR-ht"
      },
      "outputs": [],
      "source": [
        "def extractive_summarization(article, num_sentences=8):\n",
        "    sentences = nltk.sent_tokenize(article)\n",
        "    vectorizer = TfidfVectorizer(stop_words='english')\n",
        "\n",
        "    tfidf_matrix = vectorizer.fit_transform([article])\n",
        "    similarity_matrix = linear_kernel(tfidf_matrix, tfidf_matrix)\n",
        "\n",
        "    ranked_i = similarity_matrix[0].argsort()[:-(num_sentences+1):-1]\n",
        "    selected_sentences = [sentences[i] for i in ranked_i]\n",
        "    summary = ' '.join(selected_sentences)\n",
        "\n",
        "    return summary\n",
        "\n",
        "def abstractive_summarization(input):\n",
        "    device = torch.device(\"cuda\" if torch.cuda.is_available() else \"cpu\")\n",
        "    bart_model.to(device)\n",
        "\n",
        "    with torch.no_grad():\n",
        "        tokenized_input = tokenizer.encode(input, return_tensors='pt', max_length=1024, truncation=True).to(device)\n",
        "        generated_summary = bart_model.generate(tokenized_input, max_length=200, length_penalty=2, num_beams=4, early_stopping=True)\n",
        "        summary = tokenizer.decode(generated_summary[0], skip_special_tokens=True)\n",
        "\n",
        "    return summary\n",
        "\n",
        "def hybrid_summarization(article):\n",
        "    extracted_summary = extractive_summarization(article)\n",
        "    final_summary = abstractive_summarization(extracted_summary)\n",
        "\n",
        "    return final_summary\n"
      ]
    },
    {
      "cell_type": "code",
      "execution_count": null,
      "metadata": {
        "id": "Ww3pFLBoR-hz"
      },
      "outputs": [],
      "source": [
        "generated_summaries = [hybrid_summarization(article) for article in test_data_abs['article']]\n",
        "reference_summaries = test_data['summary']"
      ]
    },
    {
      "cell_type": "code",
      "execution_count": null,
      "metadata": {
        "colab": {
          "base_uri": "https://localhost:8080/"
        },
        "outputId": "119f4fe7-eec2-477a-8bc7-d2819d5cd5d1",
        "id": "3J-ZEvmgR-hz"
      },
      "outputs": [
        {
          "output_type": "stream",
          "name": "stdout",
          "text": [
            "Generated Summary: Seasonal epidemics of influenza virus result in ∼36, 000 deaths annually in the United States. Seasonal influenza virus epidemics are responsible for approximately one-third of all influenza-related deaths in the world. The majority of influenza-associated deaths occur during the first half of the year when influenza virus is circulating in the population and the second half when the virus is transmitted to humans.\n",
            "--------------------------------------------------------------------------------\n",
            "Generated Summary:  of leprosy remains a public health problem in Brazil with new case incidence exceeding World Health Organization ( WHO ) goals in endemic clusters throughout the country. New case incidence is also exceeding WHO goals in areas of Brazil where the disease has been endemic for more than 50 years.\n",
            "--------------------------------------------------------------------------------\n",
            "Generated Summary: Leishmaniasis is a disease caused by infection with the protozoan parasite Leishmania. It consists of a wide spectrum of clinical manifestations, from healing cutaneous lesions to fatal visceral infections. It is caused by a single-celled parasite that is transmitted by the bite of an infected sandfly.\n",
            "--------------------------------------------------------------------------------\n",
            "Generated Summary:  evolution is a central question in evolutionary biology and most often addressed in experimental evolution studies. The repeatability or predictability of evolution is one of the central questions in evolution and is often addressed by experimental evolutionists in their studies of evolution. In this paper, we focus on the repeatability and predictability aspects of evolution in the context of the evolution of human populations.\n",
            "--------------------------------------------------------------------------------\n",
            "Generated Summary: Prions are self-propagating conformations of proteins that can cause heritable phenotypic traits. Prions have been shown to be involved in the formation of cancer cells and in the development of Alzheimer's disease. They are also involved in other diseases such as Parkinson's and Huntington's disease, which are caused by mutations in prion proteins. They have also been linked to cancer and other diseases.\n",
            "--------------------------------------------------------------------------------\n"
          ]
        }
      ],
      "source": [
        "for i, summary in enumerate(generated_summaries[:5]):\n",
        "    print(f\"Generated Summary: {summary}\")\n",
        "    print(\"-\"*80)"
      ]
    },
    {
      "cell_type": "code",
      "execution_count": null,
      "metadata": {
        "id": "vhtZA1FGR-hz"
      },
      "outputs": [],
      "source": [
        "reference_summaries = test_data_abs_intro_con['summary']"
      ]
    },
    {
      "cell_type": "code",
      "execution_count": null,
      "metadata": {
        "colab": {
          "base_uri": "https://localhost:8080/"
        },
        "outputId": "b814a515-d09d-4df5-bfa0-1acf9688459d",
        "id": "Q9gXU0oOR-hz"
      },
      "outputs": [
        {
          "output_type": "stream",
          "name": "stdout",
          "text": [
            "Reference Summary: Influenza virus continues to pose a significant risk to global health and is responsible for thousands of deaths each year in the United States . This threat is largely due to the ability of the influenza virus to undergo rapid changes , allowing it to escape from immune responses elicited by previous infections or vaccinations . Certain internal determinants of the influenza virus are largely conserved across different viral strains and represent attractive targets for potential “universal” influenza vaccines . Here , we demonstrated that cross-subtype protection against the influenza virus could be obtained through simultaneous priming of multiple arms of the immune response against conserved elements of the influenza virus . These results suggest a novel strategy that could potentially form a primary component of a universal influenza vaccine capable of providing long-lasting protection .\n",
            "--------------------------------------------------------------------------------\n",
            "Reference Summary: In Brazil , leprosy remains a significant public health problem in endemic clusters of high transmission risk throughout the country . Migration is thought to be a factor associated with continued leprosy transmission , as migration has also been found to be associated with other Neglected Tropical Diseases ( NTDs ) . We analyzed the association between past five year migration and leprosy as part of a larger epidemiological study evaluating risk factors for infection among recently diagnosed leprosy cases ( n = 340 ) and a matched clinically unapparent control group ( n = 340 ) in the northeastern state of Maranhão . Among migrants with leprosy , 23 . 5% ( n = 80 ) migrated in the past five years , with 16 . 2% ( n = 55 ) of the control group . Past five year migration was significantly associated with leprosy , and remained significant after controlling for household and familial contact as potential confounders . Factors found to be associated with leprosy among past 5-year migrants included alcohol consumption , poverty , and household , family and other leprosy contact . Key patterns of movement emerged from the study that may aid future regional leprosy control efforts .\n",
            "--------------------------------------------------------------------------------\n",
            "Reference Summary: Leishmaniasis is a tropical disease transmitted by sand flies that causes visceral and cutaneous lesions . In humans , the most severe form of cutaneous leishmaniasis is the mucosal form , causing disfiguring lesions in the nasal and oral mucosa . Why these patients develop severe disease is not clear . It is known , however , that the severe disease is not due to an overwhelming number of parasites , but rather appears to be due to an uncontrolled inflammatory response that includes elevated production of IFN-γ and IL-17 . Here , we used a murine model of leishmaniasis to identify the factors involved in this pathology , and found that mice infected with Leishmania major developed severe lesions in the absence of IL-10 or IL-10 signaling , and similar to patients , contained high levels of IFN-γ and IL-17 . While both of these cytokines have the potential to induce pathology , we found that IL-17 was responsible for the severe pathology seen in the absence of IL-10 regulation , and furthermore that IL-17 levels were higher and pathology greater in the absence of IFN-γ . Thus , our study suggests that IL-17 , but not the IFN-γ , is a strong candidate to be targeted in strategies to control the severe immunopathology observed in mucosal leishmaniasis patients .\n",
            "--------------------------------------------------------------------------------\n",
            "Reference Summary: We address how predictable evolution is at the DNA sequence level in nature by studying the parallel evolution of a phenotype that is well understood at the molecular level: the acquisition of sex chromosome dosage compensation in fruit flies . While female flies have two X chromosomes , the males have to compensate by up-regulating genes on their single X chromosome . They do this by using specific sequence motifs on the X chromosome to recruit a cluster of proteins and RNAs called the male-specific lethal ( MSL ) complex . However , different fruit fly lineages have independently co-opted the MSL complex to dosage compensate newly formed X chromosomes through the acquisition of hundreds of new binding sites , thereby providing independent replicas of the evolutionary process both within and between species . Moreover , dosage compensation has often evolved very recently , allowing us to infer the causative mutations by which the novel binding motifs arose . Genome sequencing and genomic occupancy maps of the MSL complex allowed us to infer the location of novel binding sites on the recently formed sex chromosomes of flies from the Drosophila melanica and D . robusta species groups . We show that species use diverse mechanisms to generate novel MSL-binding sites , including the use of presites , expansion of runs of simple sequences , or insertion of transposable elements . We also show that the propensity for using different types of mutations differs between lineages and depends on genomic properties of a species .\n",
            "--------------------------------------------------------------------------------\n",
            "Reference Summary: Certain proteins can occasionally misfold into infectious aggregates called prions . Once formed , these aggregates grow by attracting the soluble form of that protein to join them . The presence of these aggregates can cause profound effects on cells and , in humans , can cause diseases such as transmissible spongiform encephalopathies ( TSEs ) . In yeast , the aggregates are efficiently transmitted to daughter cells because they are cut into small pieces by molecular scissors ( chaperones ) . Here we show that heritable prion aggregates are frequently lost when we overproduce certain other proteins with curing activity . We analyzed one such protein in detail and found that when it is overproduced it forms aggregates that sequester chaperones . This sequestration appears to block the ability of the chaperones to cut the prion aggregates . The result is that the prions get too large to be transmitted to daughter cells . Such sequestration of molecular scissors provides a potential approach to thwart the propagation of disease-causing infectious protein aggregates .\n",
            "--------------------------------------------------------------------------------\n"
          ]
        }
      ],
      "source": [
        "for i, summary in enumerate(reference_summaries[:5]):\n",
        "    print(f\"Reference Summary: {summary}\")\n",
        "    print(\"-\"*80)"
      ]
    },
    {
      "cell_type": "code",
      "execution_count": null,
      "metadata": {
        "colab": {
          "base_uri": "https://localhost:8080/"
        },
        "outputId": "3f60efa7-a5af-4846-c3b1-207da937b355",
        "id": "yy7gfnE1R-hz"
      },
      "outputs": [
        {
          "output_type": "stream",
          "name": "stdout",
          "text": [
            "{'rouge1': {'precision': 0.5631855637868189, 'recall': 0.16889658653349873, 'f1': 0.25524204200830825}, 'rouge2': {'precision': 0.16326422723950923, 'recall': 0.04727813068778755, 'f1': 0.07199082132604555}, 'rougeL': {'precision': 0.3604101495174518, 'recall': 0.10670677735015129, 'f1': 0.1617206092956431}}\n",
            "{'flesch_kincaid_grade': 13.527761627906974, 'gunning_fog_index': 15.133648255813954}\n"
          ]
        }
      ],
      "source": [
        "rouge_scores, readability_metrics = evaluate_summaries(reference_summaries, generated_summaries)\n",
        "print(rouge_scores)\n",
        "print(readability_metrics)"
      ]
    },
    {
      "cell_type": "markdown",
      "metadata": {
        "id": "HvttfHYc1ALp"
      },
      "source": [
        "### Hybrid Summarization w/ Abs, Intro & Con w/ TFIDF & BART Fine-Tuned on Full Article (Model 4 Run)"
      ]
    },
    {
      "cell_type": "code",
      "execution_count": null,
      "metadata": {
        "id": "QdPHWlK111qZ"
      },
      "outputs": [],
      "source": [
        "def extractive_summarization(article, num_sentences=20):\n",
        "    sentences = nltk.sent_tokenize(article)\n",
        "    vectorizer = TfidfVectorizer(stop_words='english')\n",
        "\n",
        "    tfidf_matrix = vectorizer.fit_transform([article])\n",
        "    similarity_matrix = linear_kernel(tfidf_matrix, tfidf_matrix)\n",
        "\n",
        "    ranked_i = similarity_matrix[0].argsort()[:-(num_sentences+1):-1]\n",
        "    selected_sentences = [sentences[i] for i in ranked_i]\n",
        "    summary = ' '.join(selected_sentences)\n",
        "\n",
        "    return summary\n",
        "\n",
        "def abstractive_summarization(input):\n",
        "    device = torch.device(\"cuda\" if torch.cuda.is_available() else \"cpu\")\n",
        "    bart_model.to(device)\n",
        "\n",
        "    with torch.no_grad():\n",
        "        tokenized_input = tokenizer.encode(input, return_tensors='pt', max_length=1024, truncation=True).to(device)\n",
        "        generated_summary = bart_model.generate(tokenized_input, max_length=200, length_penalty=2, num_beams=4, early_stopping=True)\n",
        "        summary = tokenizer.decode(generated_summary[0], skip_special_tokens=True)\n",
        "\n",
        "    return summary\n",
        "\n",
        "def hybrid_summarization(article):\n",
        "    extracted_summary = extractive_summarization(article)\n",
        "    final_summary = abstractive_summarization(extracted_summary)\n",
        "\n",
        "    return final_summary\n"
      ]
    },
    {
      "cell_type": "code",
      "execution_count": null,
      "metadata": {
        "id": "171woQrV2HW_"
      },
      "outputs": [],
      "source": [
        "# Generate summaries for the test set using hybrid_summarization\n",
        "generated_summaries = [hybrid_summarization(article) for article in test_data['article']]"
      ]
    },
    {
      "cell_type": "code",
      "execution_count": null,
      "metadata": {
        "id": "lith_Qir2kIS"
      },
      "outputs": [],
      "source": [
        "reference_summaries = test_data['summary']"
      ]
    },
    {
      "cell_type": "code",
      "execution_count": null,
      "metadata": {
        "colab": {
          "base_uri": "https://localhost:8080/"
        },
        "id": "J7FyZItl_6Ur",
        "outputId": "1737d671-d756-4c25-ecc9-0f6a3c374563"
      },
      "outputs": [
        {
          "name": "stdout",
          "output_type": "stream",
          "text": [
            "{'rouge1': {'precision': 0.5379285841101631, 'recall': 0.19235701327353527, 'f1': 0.27679205938691115}, 'rouge2': {'precision': 0.1466991539718591, 'recall': 0.05023107688354479, 'f1': 0.0730700178763899}, 'rougeL': {'precision': 0.3309305300583594, 'recall': 0.11623369786448164, 'f1': 0.16804463973078748}}\n",
            "{'flesch_kincaid_grade': 14.13706395348837, 'gunning_fog_index': 15.616918604651161}\n"
          ]
        }
      ],
      "source": [
        "rouge_scores, readability_metrics = evaluate_summaries(reference_summaries, generated_summaries)\n",
        "print(rouge_scores)\n",
        "print(readability_metrics)"
      ]
    },
    {
      "cell_type": "markdown",
      "metadata": {
        "id": "2yySo6UReR9R"
      },
      "source": [
        "### Hybrid Summarization  w/ Abs w/ TFIDF & Pre-Trained CNN BART"
      ]
    },
    {
      "cell_type": "code",
      "execution_count": null,
      "metadata": {
        "id": "SrZOLY7BeiT6"
      },
      "outputs": [],
      "source": [
        "tokenizer= AutoTokenizer.from_pretrained('facebook/bart-large-cnn')\n",
        "bart_model_basic= AutoModelForSeq2SeqLM.from_pretrained('facebook/bart-large-cnn')"
      ]
    },
    {
      "cell_type": "code",
      "execution_count": null,
      "metadata": {
        "id": "RTvq6zApeqQr"
      },
      "outputs": [],
      "source": [
        "def extractive_summarization(article, num_sentences=8):\n",
        "    sentences = nltk.sent_tokenize(article)\n",
        "    vectorizer = TfidfVectorizer(stop_words='english')\n",
        "\n",
        "    tfidf_matrix = vectorizer.fit_transform([article])\n",
        "    similarity_matrix = linear_kernel(tfidf_matrix, tfidf_matrix)\n",
        "\n",
        "    ranked_i = similarity_matrix[0].argsort()[:-(num_sentences+1):-1]\n",
        "    selected_sentences = [sentences[i] for i in ranked_i]\n",
        "    summary = ' '.join(selected_sentences)\n",
        "\n",
        "    return summary\n",
        "\n",
        "def abstractive_summarization(input):\n",
        "    device = torch.device(\"cuda\" if torch.cuda.is_available() else \"cpu\")\n",
        "    bart_model.to(device)\n",
        "\n",
        "    with torch.no_grad():\n",
        "        tokenized_input = tokenizer.encode(input, return_tensors='pt', max_length=1024, truncation=True).to(device)\n",
        "        generated_summary = bart_model.generate(tokenized_input, max_length=200, length_penalty=2, num_beams=4, early_stopping=True)\n",
        "        summary = tokenizer.decode(generated_summary[0], skip_special_tokens=True)\n",
        "\n",
        "    return summary\n",
        "\n",
        "def hybrid_summarization(article):\n",
        "    extracted_summary = extractive_summarization(article)\n",
        "    final_summary = abstractive_summarization(extracted_summary)\n",
        "\n",
        "    return final_summary\n"
      ]
    },
    {
      "cell_type": "code",
      "execution_count": null,
      "metadata": {
        "id": "caftCl_0e1Qq"
      },
      "outputs": [],
      "source": [
        "generated_summaries = [hybrid_summarization(article) for article in test_data_abs_intro_con['article']]\n",
        "reference_summaries = test_data['summary']"
      ]
    },
    {
      "cell_type": "code",
      "execution_count": null,
      "metadata": {
        "colab": {
          "base_uri": "https://localhost:8080/"
        },
        "id": "UmSQdRdse1Q4",
        "outputId": "328438e0-5276-405d-961e-0830ab42c52a"
      },
      "outputs": [
        {
          "name": "stdout",
          "output_type": "stream",
          "text": [
            "Generated Summary: Seasonal epidemics of influenza virus result in ∼36, 000 deaths annually in the United States. Seasonal epidemic virus result in  36, 000 deaths in the U.S. each year. The United States has one of the highest rates of influenza in the world.\n",
            "--------------------------------------------------------------------------------\n",
            "Generated Summary: Leprosy remains a public health problem in Brazil with new case incidence exceeding World Health Organization ( WHO ) goals in endemic clusters throughout the country. New case incidence is exceeding World health Organization (WHO ) goals. New cases are exceeding WHO goals in endemic clusters in Brazil.\n",
            "--------------------------------------------------------------------------------\n",
            "Generated Summary: Leishmaniasis is an infection resulting from infection with the protozoan parasite Leishmania. It consists of a wide spectrum of clinical manifestations, from healing cutaneous lesions to fatal visceral infections. The most common form of the disease is the cutaneous form, followed by the visceral form.\n",
            "--------------------------------------------------------------------------------\n",
            "Generated Summary: The repeatability or predictability of evolution is a central question in evolutionary biology. It is most often addressed in experimental evolution studies. The question is often asked by evolutionary biologists in their experiments. The answer is that evolution is not repeatable or predictable, but that it can be predicted.\n",
            "--------------------------------------------------------------------------------\n",
            "Generated Summary: Prions are self-propagating conformations of proteins that can cause heritable phenotypic traits. Prions can be found in plants, animals, and humans. They are thought to be the most common type of cell in the human body. They can also be seen in plants and animals.\n",
            "--------------------------------------------------------------------------------\n"
          ]
        }
      ],
      "source": [
        "for i, summary in enumerate(generated_summaries[:5]):\n",
        "    print(f\"Generated Summary: {summary}\")\n",
        "    print(\"-\"*80)"
      ]
    },
    {
      "cell_type": "code",
      "execution_count": null,
      "metadata": {
        "id": "DP8FrgU8e1Q4"
      },
      "outputs": [],
      "source": [
        "reference_summaries = test_data_abs_intro_con['summary']"
      ]
    },
    {
      "cell_type": "code",
      "execution_count": null,
      "metadata": {
        "colab": {
          "base_uri": "https://localhost:8080/"
        },
        "id": "wjmBeyDGe1Q4",
        "outputId": "15662f6b-0b07-4b80-9321-1f43a5b9f8d9"
      },
      "outputs": [
        {
          "name": "stdout",
          "output_type": "stream",
          "text": [
            "Reference Summary: Influenza virus continues to pose a significant risk to global health and is responsible for thousands of deaths each year in the United States . This threat is largely due to the ability of the influenza virus to undergo rapid changes , allowing it to escape from immune responses elicited by previous infections or vaccinations . Certain internal determinants of the influenza virus are largely conserved across different viral strains and represent attractive targets for potential “universal” influenza vaccines . Here , we demonstrated that cross-subtype protection against the influenza virus could be obtained through simultaneous priming of multiple arms of the immune response against conserved elements of the influenza virus . These results suggest a novel strategy that could potentially form a primary component of a universal influenza vaccine capable of providing long-lasting protection .\n",
            "--------------------------------------------------------------------------------\n",
            "Reference Summary: In Brazil , leprosy remains a significant public health problem in endemic clusters of high transmission risk throughout the country . Migration is thought to be a factor associated with continued leprosy transmission , as migration has also been found to be associated with other Neglected Tropical Diseases ( NTDs ) . We analyzed the association between past five year migration and leprosy as part of a larger epidemiological study evaluating risk factors for infection among recently diagnosed leprosy cases ( n = 340 ) and a matched clinically unapparent control group ( n = 340 ) in the northeastern state of Maranhão . Among migrants with leprosy , 23 . 5% ( n = 80 ) migrated in the past five years , with 16 . 2% ( n = 55 ) of the control group . Past five year migration was significantly associated with leprosy , and remained significant after controlling for household and familial contact as potential confounders . Factors found to be associated with leprosy among past 5-year migrants included alcohol consumption , poverty , and household , family and other leprosy contact . Key patterns of movement emerged from the study that may aid future regional leprosy control efforts .\n",
            "--------------------------------------------------------------------------------\n",
            "Reference Summary: Leishmaniasis is a tropical disease transmitted by sand flies that causes visceral and cutaneous lesions . In humans , the most severe form of cutaneous leishmaniasis is the mucosal form , causing disfiguring lesions in the nasal and oral mucosa . Why these patients develop severe disease is not clear . It is known , however , that the severe disease is not due to an overwhelming number of parasites , but rather appears to be due to an uncontrolled inflammatory response that includes elevated production of IFN-γ and IL-17 . Here , we used a murine model of leishmaniasis to identify the factors involved in this pathology , and found that mice infected with Leishmania major developed severe lesions in the absence of IL-10 or IL-10 signaling , and similar to patients , contained high levels of IFN-γ and IL-17 . While both of these cytokines have the potential to induce pathology , we found that IL-17 was responsible for the severe pathology seen in the absence of IL-10 regulation , and furthermore that IL-17 levels were higher and pathology greater in the absence of IFN-γ . Thus , our study suggests that IL-17 , but not the IFN-γ , is a strong candidate to be targeted in strategies to control the severe immunopathology observed in mucosal leishmaniasis patients .\n",
            "--------------------------------------------------------------------------------\n",
            "Reference Summary: We address how predictable evolution is at the DNA sequence level in nature by studying the parallel evolution of a phenotype that is well understood at the molecular level: the acquisition of sex chromosome dosage compensation in fruit flies . While female flies have two X chromosomes , the males have to compensate by up-regulating genes on their single X chromosome . They do this by using specific sequence motifs on the X chromosome to recruit a cluster of proteins and RNAs called the male-specific lethal ( MSL ) complex . However , different fruit fly lineages have independently co-opted the MSL complex to dosage compensate newly formed X chromosomes through the acquisition of hundreds of new binding sites , thereby providing independent replicas of the evolutionary process both within and between species . Moreover , dosage compensation has often evolved very recently , allowing us to infer the causative mutations by which the novel binding motifs arose . Genome sequencing and genomic occupancy maps of the MSL complex allowed us to infer the location of novel binding sites on the recently formed sex chromosomes of flies from the Drosophila melanica and D . robusta species groups . We show that species use diverse mechanisms to generate novel MSL-binding sites , including the use of presites , expansion of runs of simple sequences , or insertion of transposable elements . We also show that the propensity for using different types of mutations differs between lineages and depends on genomic properties of a species .\n",
            "--------------------------------------------------------------------------------\n",
            "Reference Summary: Certain proteins can occasionally misfold into infectious aggregates called prions . Once formed , these aggregates grow by attracting the soluble form of that protein to join them . The presence of these aggregates can cause profound effects on cells and , in humans , can cause diseases such as transmissible spongiform encephalopathies ( TSEs ) . In yeast , the aggregates are efficiently transmitted to daughter cells because they are cut into small pieces by molecular scissors ( chaperones ) . Here we show that heritable prion aggregates are frequently lost when we overproduce certain other proteins with curing activity . We analyzed one such protein in detail and found that when it is overproduced it forms aggregates that sequester chaperones . This sequestration appears to block the ability of the chaperones to cut the prion aggregates . The result is that the prions get too large to be transmitted to daughter cells . Such sequestration of molecular scissors provides a potential approach to thwart the propagation of disease-causing infectious protein aggregates .\n",
            "--------------------------------------------------------------------------------\n"
          ]
        }
      ],
      "source": [
        "for i, summary in enumerate(reference_summaries[:5]):\n",
        "    print(f\"Reference Summary: {summary}\")\n",
        "    print(\"-\"*80)"
      ]
    },
    {
      "cell_type": "code",
      "execution_count": null,
      "metadata": {
        "colab": {
          "base_uri": "https://localhost:8080/"
        },
        "id": "eGPuTpmGe1Q5",
        "outputId": "8ebb3159-de15-4866-f760-6fb616b0b297"
      },
      "outputs": [
        {
          "name": "stdout",
          "output_type": "stream",
          "text": [
            "{'rouge1': {'precision': 0.5549242630880867, 'recall': 0.14290079352714785, 'f1': 0.2242907347406166}, 'rouge2': {'precision': 0.1658130113559013, 'recall': 0.041081123086841295, 'f1': 0.06497766470683942}, 'rougeL': {'precision': 0.3708766640915954, 'recall': 0.09498207932652748, 'f1': 0.14922887802557805}}\n",
            "{'flesch_kincaid_grade': 10.725, 'gunning_fog_index': 12.248241279069768}\n"
          ]
        }
      ],
      "source": [
        "rouge_scores, readability_metrics = evaluate_summaries(reference_summaries, generated_summaries)\n",
        "print(rouge_scores)\n",
        "print(readability_metrics)"
      ]
    },
    {
      "cell_type": "markdown",
      "metadata": {
        "id": "bqrgOOmFBJZw"
      },
      "source": [
        "Comments on results:\n",
        "- Readability score, noticably lower -> easier to understand (even lower than the reference readability scores)\n",
        "- ROUGE performance is worse than abstractive summarisation with default BART"
      ]
    },
    {
      "cell_type": "markdown",
      "metadata": {
        "id": "K5CCGmZTgafD"
      },
      "source": [
        "### Hybrid Summarization w/ Abs, Intro & Con w/ TFIDF & BART Fine-Tuned on Abs, Intro & Con (Model 2 Run)"
      ]
    },
    {
      "cell_type": "code",
      "execution_count": null,
      "metadata": {
        "id": "Yz9F4-8xgafJ"
      },
      "outputs": [],
      "source": [
        "def extractive_summarization(article, num_sentences=20):\n",
        "    sentences = nltk.sent_tokenize(article)\n",
        "    vectorizer = TfidfVectorizer(stop_words='english')\n",
        "\n",
        "    tfidf_matrix = vectorizer.fit_transform([article])\n",
        "    similarity_matrix = linear_kernel(tfidf_matrix, tfidf_matrix)\n",
        "\n",
        "    ranked_i = similarity_matrix[0].argsort()[:-(num_sentences+1):-1]\n",
        "    selected_sentences = [sentences[i] for i in ranked_i]\n",
        "    summary = ' '.join(selected_sentences)\n",
        "\n",
        "    return summary\n",
        "\n",
        "def abstractive_summarization(input):\n",
        "    device = torch.device(\"cuda\" if torch.cuda.is_available() else \"cpu\")\n",
        "    bart_model.to(device)\n",
        "\n",
        "    with torch.no_grad():\n",
        "        tokenized_input = tokenizer.encode(input, return_tensors='pt', max_length=1024, truncation=True).to(device)\n",
        "        generated_summary = bart_model.generate(tokenized_input, max_length=200, length_penalty=2, num_beams=4, early_stopping=True)\n",
        "        summary = tokenizer.decode(generated_summary[0], skip_special_tokens=True)\n",
        "\n",
        "    return summary\n",
        "\n",
        "def hybrid_summarization(article):\n",
        "    extracted_summary = extractive_summarization(article)\n",
        "    final_summary = abstractive_summarization(extracted_summary)\n",
        "\n",
        "    return final_summary"
      ]
    },
    {
      "cell_type": "code",
      "execution_count": null,
      "metadata": {
        "id": "_X-d9obkgafK"
      },
      "outputs": [],
      "source": [
        "generated_summaries = [hybrid_summarization(article) for article in test_data_abs_intro_con['article']]\n",
        "reference_summaries = test_data['summary']"
      ]
    },
    {
      "cell_type": "code",
      "execution_count": null,
      "metadata": {
        "colab": {
          "base_uri": "https://localhost:8080/"
        },
        "id": "2DyF-WVsgafK",
        "outputId": "e117d64e-7601-42f8-e1b7-d9fe4afdcb2e"
      },
      "outputs": [
        {
          "name": "stdout",
          "output_type": "stream",
          "text": [
            "Generated Summary: Seasonal epidemics of influenza virus result in ∼36, 000 deaths annually in the United States. Seasonal influenza virus epidemics are responsible for approximately one-third of all influenza-related deaths in the world. The majority of influenza-associated deaths occur during the first half of the year when influenza virus is circulating in the population and the second half when the virus is transmitted to humans.\n",
            "--------------------------------------------------------------------------------\n",
            "Generated Summary:  disease remains a public health problem in Brazil with new case incidence exceeding World Health Organization ( WHO ) goals in endemic clusters throughout the country. New cases of leprosy have been reported in Rio de Janeiro, São Paulo, Minas Gerais and Paraíba regions of Brazil.\n",
            "--------------------------------------------------------------------------------\n",
            "Generated Summary: Leishmaniasis is a disease caused by infection with the protozoan parasite Leishmania. It consists of a wide spectrum of clinical manifestations, from healing cutaneous lesions to fatal visceral infections. The disease is caused by a single-celled parasite that is transmitted by the bite of an infected sandfly.\n",
            "--------------------------------------------------------------------------------\n",
            "Generated Summary:  evolution is a central question in evolutionary biology and most often addressed in experimental evolution studies. The repeatability or predictability of evolution is one of the central questions in evolution biology and is a topic of great interest to evolutionary biologists. In this paper, we focus on the repeatability and predictability aspects of evolution in the context of experimental evolution.\n",
            "--------------------------------------------------------------------------------\n",
            "Generated Summary: Prions are self-propagating conformations of proteins that can cause heritable phenotypic traits. Prions have been shown to be involved in the formation of cancer cells and in the development of Alzheimer's disease. They are also involved in other diseases such as Parkinson's and Huntington's disease, which are caused by mutations in prion proteins. They have also been linked to cancer and other diseases.\n",
            "--------------------------------------------------------------------------------\n"
          ]
        }
      ],
      "source": [
        "for i, summary in enumerate(generated_summaries[:5]):\n",
        "    print(f\"Generated Summary: {summary}\")\n",
        "    print(\"-\"*80)"
      ]
    },
    {
      "cell_type": "code",
      "execution_count": null,
      "metadata": {
        "id": "gsxv0vV7gafK"
      },
      "outputs": [],
      "source": [
        "reference_summaries = test_data_abs_intro_con['summary']"
      ]
    },
    {
      "cell_type": "code",
      "execution_count": null,
      "metadata": {
        "colab": {
          "base_uri": "https://localhost:8080/"
        },
        "id": "9E6CrJ_5gafK",
        "outputId": "4827bb50-3509-4f7f-ce90-4a7abdddb15f"
      },
      "outputs": [
        {
          "name": "stdout",
          "output_type": "stream",
          "text": [
            "Reference Summary: Influenza virus continues to pose a significant risk to global health and is responsible for thousands of deaths each year in the United States . This threat is largely due to the ability of the influenza virus to undergo rapid changes , allowing it to escape from immune responses elicited by previous infections or vaccinations . Certain internal determinants of the influenza virus are largely conserved across different viral strains and represent attractive targets for potential “universal” influenza vaccines . Here , we demonstrated that cross-subtype protection against the influenza virus could be obtained through simultaneous priming of multiple arms of the immune response against conserved elements of the influenza virus . These results suggest a novel strategy that could potentially form a primary component of a universal influenza vaccine capable of providing long-lasting protection .\n",
            "--------------------------------------------------------------------------------\n",
            "Reference Summary: In Brazil , leprosy remains a significant public health problem in endemic clusters of high transmission risk throughout the country . Migration is thought to be a factor associated with continued leprosy transmission , as migration has also been found to be associated with other Neglected Tropical Diseases ( NTDs ) . We analyzed the association between past five year migration and leprosy as part of a larger epidemiological study evaluating risk factors for infection among recently diagnosed leprosy cases ( n = 340 ) and a matched clinically unapparent control group ( n = 340 ) in the northeastern state of Maranhão . Among migrants with leprosy , 23 . 5% ( n = 80 ) migrated in the past five years , with 16 . 2% ( n = 55 ) of the control group . Past five year migration was significantly associated with leprosy , and remained significant after controlling for household and familial contact as potential confounders . Factors found to be associated with leprosy among past 5-year migrants included alcohol consumption , poverty , and household , family and other leprosy contact . Key patterns of movement emerged from the study that may aid future regional leprosy control efforts .\n",
            "--------------------------------------------------------------------------------\n",
            "Reference Summary: Leishmaniasis is a tropical disease transmitted by sand flies that causes visceral and cutaneous lesions . In humans , the most severe form of cutaneous leishmaniasis is the mucosal form , causing disfiguring lesions in the nasal and oral mucosa . Why these patients develop severe disease is not clear . It is known , however , that the severe disease is not due to an overwhelming number of parasites , but rather appears to be due to an uncontrolled inflammatory response that includes elevated production of IFN-γ and IL-17 . Here , we used a murine model of leishmaniasis to identify the factors involved in this pathology , and found that mice infected with Leishmania major developed severe lesions in the absence of IL-10 or IL-10 signaling , and similar to patients , contained high levels of IFN-γ and IL-17 . While both of these cytokines have the potential to induce pathology , we found that IL-17 was responsible for the severe pathology seen in the absence of IL-10 regulation , and furthermore that IL-17 levels were higher and pathology greater in the absence of IFN-γ . Thus , our study suggests that IL-17 , but not the IFN-γ , is a strong candidate to be targeted in strategies to control the severe immunopathology observed in mucosal leishmaniasis patients .\n",
            "--------------------------------------------------------------------------------\n",
            "Reference Summary: We address how predictable evolution is at the DNA sequence level in nature by studying the parallel evolution of a phenotype that is well understood at the molecular level: the acquisition of sex chromosome dosage compensation in fruit flies . While female flies have two X chromosomes , the males have to compensate by up-regulating genes on their single X chromosome . They do this by using specific sequence motifs on the X chromosome to recruit a cluster of proteins and RNAs called the male-specific lethal ( MSL ) complex . However , different fruit fly lineages have independently co-opted the MSL complex to dosage compensate newly formed X chromosomes through the acquisition of hundreds of new binding sites , thereby providing independent replicas of the evolutionary process both within and between species . Moreover , dosage compensation has often evolved very recently , allowing us to infer the causative mutations by which the novel binding motifs arose . Genome sequencing and genomic occupancy maps of the MSL complex allowed us to infer the location of novel binding sites on the recently formed sex chromosomes of flies from the Drosophila melanica and D . robusta species groups . We show that species use diverse mechanisms to generate novel MSL-binding sites , including the use of presites , expansion of runs of simple sequences , or insertion of transposable elements . We also show that the propensity for using different types of mutations differs between lineages and depends on genomic properties of a species .\n",
            "--------------------------------------------------------------------------------\n",
            "Reference Summary: Certain proteins can occasionally misfold into infectious aggregates called prions . Once formed , these aggregates grow by attracting the soluble form of that protein to join them . The presence of these aggregates can cause profound effects on cells and , in humans , can cause diseases such as transmissible spongiform encephalopathies ( TSEs ) . In yeast , the aggregates are efficiently transmitted to daughter cells because they are cut into small pieces by molecular scissors ( chaperones ) . Here we show that heritable prion aggregates are frequently lost when we overproduce certain other proteins with curing activity . We analyzed one such protein in detail and found that when it is overproduced it forms aggregates that sequester chaperones . This sequestration appears to block the ability of the chaperones to cut the prion aggregates . The result is that the prions get too large to be transmitted to daughter cells . Such sequestration of molecular scissors provides a potential approach to thwart the propagation of disease-causing infectious protein aggregates .\n",
            "--------------------------------------------------------------------------------\n"
          ]
        }
      ],
      "source": [
        "for i, summary in enumerate(reference_summaries[:5]):\n",
        "    print(f\"Reference Summary: {summary}\")\n",
        "    print(\"-\"*80)"
      ]
    },
    {
      "cell_type": "code",
      "execution_count": null,
      "metadata": {
        "colab": {
          "base_uri": "https://localhost:8080/"
        },
        "id": "avUPULf9gafK",
        "outputId": "9e3118f7-ad3a-43e4-c2fc-edf3ef5df78f"
      },
      "outputs": [
        {
          "name": "stdout",
          "output_type": "stream",
          "text": [
            "{'rouge1': {'precision': 0.5624392451603204, 'recall': 0.16836769852241507, 'f1': 0.25457486819698255}, 'rouge2': {'precision': 0.16240182571482675, 'recall': 0.04702994565757915, 'f1': 0.07160681126244577}, 'rougeL': {'precision': 0.3602590217645327, 'recall': 0.10655258243220093, 'f1': 0.16153696954951358}}\n",
            "{'flesch_kincaid_grade': 13.497819767441861, 'gunning_fog_index': 15.123437500000001}\n"
          ]
        }
      ],
      "source": [
        "rouge_scores, readability_metrics = evaluate_summaries(reference_summaries, generated_summaries)\n",
        "print(rouge_scores)\n",
        "print(readability_metrics)"
      ]
    },
    {
      "cell_type": "markdown",
      "metadata": {
        "id": "8flcaoqEU49G"
      },
      "source": [
        "### Hybrid Summarization w/ Abs, Intro & Con w/ TFIDF & BART Fine-Tuned on Full Article (Model 4 Run)"
      ]
    },
    {
      "cell_type": "code",
      "execution_count": null,
      "metadata": {
        "id": "KQJjYsu2VAUa"
      },
      "outputs": [],
      "source": [
        "def extractive_summarization(article, num_sentences=20):\n",
        "    sentences = nltk.sent_tokenize(article)\n",
        "    vectorizer = TfidfVectorizer(stop_words='english')\n",
        "\n",
        "    tfidf_matrix = vectorizer.fit_transform([article])\n",
        "    similarity_matrix = linear_kernel(tfidf_matrix, tfidf_matrix)\n",
        "\n",
        "    ranked_i = similarity_matrix[0].argsort()[:-(num_sentences+1):-1]\n",
        "    selected_sentences = [sentences[i] for i in ranked_i]\n",
        "    summary = ' '.join(selected_sentences)\n",
        "\n",
        "    return summary\n",
        "\n",
        "def abstractive_summarization(input):\n",
        "    device = torch.device(\"cuda\" if torch.cuda.is_available() else \"cpu\")\n",
        "    bart_model.to(device)\n",
        "\n",
        "    with torch.no_grad():\n",
        "        tokenized_input = tokenizer.encode(input, return_tensors='pt', max_length=1024, truncation=True).to(device)\n",
        "        generated_summary = bart_model.generate(tokenized_input, max_length=200, length_penalty=2, num_beams=4, early_stopping=True)\n",
        "        summary = tokenizer.decode(generated_summary[0], skip_special_tokens=True)\n",
        "\n",
        "    return summary\n",
        "\n",
        "def hybrid_summarization(article):\n",
        "    extracted_summary = extractive_summarization(article)\n",
        "    final_summary = abstractive_summarization(extracted_summary)\n",
        "\n",
        "    return final_summary\n"
      ]
    },
    {
      "cell_type": "code",
      "execution_count": null,
      "metadata": {
        "id": "Zf9aqJGwVD0w"
      },
      "outputs": [],
      "source": [
        "generated_summaries = [hybrid_summarization(article) for article in test_data_abs_intro_con['article']]"
      ]
    },
    {
      "cell_type": "code",
      "execution_count": null,
      "metadata": {
        "id": "aiDZ2TdcgVEF"
      },
      "outputs": [],
      "source": [
        "reference_summaries = test_data_abs_intro_con['summary']"
      ]
    },
    {
      "cell_type": "code",
      "execution_count": null,
      "metadata": {
        "colab": {
          "base_uri": "https://localhost:8080/"
        },
        "outputId": "1737d671-d756-4c25-ecc9-0f6a3c374563",
        "id": "yzk4WEBmPk32"
      },
      "outputs": [
        {
          "name": "stdout",
          "output_type": "stream",
          "text": [
            "{'rouge1': {'precision': 0.5379285841101631, 'recall': 0.19235701327353527, 'f1': 0.27679205938691115}, 'rouge2': {'precision': 0.1466991539718591, 'recall': 0.05023107688354479, 'f1': 0.0730700178763899}, 'rougeL': {'precision': 0.3309305300583594, 'recall': 0.11623369786448164, 'f1': 0.16804463973078748}}\n",
            "{'flesch_kincaid_grade': 14.13706395348837, 'gunning_fog_index': 15.616918604651161}\n"
          ]
        }
      ],
      "source": [
        "rouge_scores, readability_metrics = evaluate_summaries(reference_summaries, generated_summaries)\n",
        "print(rouge_scores)\n",
        "print(readability_metrics)"
      ]
    },
    {
      "cell_type": "markdown",
      "source": [
        "### Hybrid Summarization w/ Abs w/ Bio Bert & BART Fine-Tuned on Abs, Intro & Con (Model 2 Run)"
      ],
      "metadata": {
        "id": "Kr4BLmPEWUNi"
      }
    },
    {
      "cell_type": "code",
      "source": [
        "biobert_tokenizer = BertTokenizer.from_pretrained('dmis-lab/biobert-base-cased-v1.1')\n",
        "biobert_model = BertForSequenceClassification.from_pretrained('dmis-lab/biobert-base-cased-v1.1', num_labels=2)"
      ],
      "metadata": {
        "colab": {
          "base_uri": "https://localhost:8080/",
          "height": 149,
          "referenced_widgets": [
            "e782cd96c84a414b9ce302fc19b06bcf",
            "a7fef017f594411eacae0f823e456008",
            "a2b5ff7815914b34afd263233b861dee",
            "7cef6ab29dd343c0a4b0bc891d9c80f2",
            "eb94a9d1340d4430a2c9b924df938a2a",
            "f12620ca9b864ff285c3a5180595f0b3",
            "5dcba2d81b2f4ef2a0978444dd256be9",
            "a8ae22a69d454c8e8aaa76814d6fb5d4",
            "9868c3ea0df9464184ed283d90e62a29",
            "5693af8e244a47bdaab69d5914752e07",
            "09d016dc635a4b21b7e1dafd0c9e1624",
            "cf36f292b0db42b9a1929813ee9a95e1",
            "426828842af342bdaf9fc7113d233296",
            "eda193f5c3d64376b018530e617dd1f9",
            "f0fc9d51e82a4c339417f28768a45347",
            "5bea4aac25d842498db3833a15cba64c",
            "b3c2583226a04bb59cb9fa83a808b90c",
            "338e69821a014efb80d01a35c60f657f",
            "495d9d96d54c4dd1a8babd23bfb9b7ad",
            "cae2c60224134ecfb0ebf7bcc1c71c14",
            "6ff3db8536524bfabb27be747b59ee63",
            "260879c0dbc64aaf98cd7738a1995c88",
            "de4e7109745a43dbbaf549e6884562d7",
            "4460e934dbbd4dd09fb11092cb9c1cdf",
            "7147f4827fdc4808b9c250d8405dcc35",
            "dd819a0aba3d493a9ed9eec3b6040cef",
            "b8bc68810f044d24b035f095cbe3dcde",
            "78a4acc7156b49019e4b7a7413d4aa9b",
            "c57ab1ee9749405497432ed915f429d7",
            "b1a570ee09804bc09310fa3abaf1534a",
            "502286cd64914859ab9ee0ccaffdf038",
            "7c66865c4694475dbc307c54d55f603f",
            "3efdc5d27d9e40d59094675cfb0fd99b"
          ]
        },
        "id": "9WEshYjmWd8g",
        "outputId": "4bbd6804-d895-40bc-c14d-294245ec3df0"
      },
      "execution_count": null,
      "outputs": [
        {
          "output_type": "display_data",
          "data": {
            "text/plain": [
              "vocab.txt:   0%|          | 0.00/213k [00:00<?, ?B/s]"
            ],
            "application/vnd.jupyter.widget-view+json": {
              "version_major": 2,
              "version_minor": 0,
              "model_id": "e782cd96c84a414b9ce302fc19b06bcf"
            }
          },
          "metadata": {}
        },
        {
          "output_type": "display_data",
          "data": {
            "text/plain": [
              "config.json:   0%|          | 0.00/313 [00:00<?, ?B/s]"
            ],
            "application/vnd.jupyter.widget-view+json": {
              "version_major": 2,
              "version_minor": 0,
              "model_id": "cf36f292b0db42b9a1929813ee9a95e1"
            }
          },
          "metadata": {}
        },
        {
          "output_type": "display_data",
          "data": {
            "text/plain": [
              "pytorch_model.bin:   0%|          | 0.00/436M [00:00<?, ?B/s]"
            ],
            "application/vnd.jupyter.widget-view+json": {
              "version_major": 2,
              "version_minor": 0,
              "model_id": "de4e7109745a43dbbaf549e6884562d7"
            }
          },
          "metadata": {}
        },
        {
          "output_type": "stream",
          "name": "stderr",
          "text": [
            "Some weights of BertForSequenceClassification were not initialized from the model checkpoint at dmis-lab/biobert-base-cased-v1.1 and are newly initialized: ['classifier.bias', 'classifier.weight']\n",
            "You should probably TRAIN this model on a down-stream task to be able to use it for predictions and inference.\n"
          ]
        }
      ]
    },
    {
      "cell_type": "code",
      "source": [
        "def extractive_summarization(article, num_sentences=5):\n",
        "    sentences = nltk.sent_tokenize(article)\n",
        "    inputs = biobert_tokenizer(sentences, return_tensors='pt', padding=True, truncation=True, max_length=512)\n",
        "    with torch.no_grad():\n",
        "        outputs = biobert_model(**inputs)\n",
        "    scores = outputs.logits[:, 1]\n",
        "    ranked_sentences = [sentences[i] for i in scores.argsort(descending=True)]\n",
        "    return ' '.join(ranked_sentences[:num_sentences])\n",
        "\n",
        "def abstractive_summarization(input):\n",
        "    device = torch.device(\"cuda\" if torch.cuda.is_available() else \"cpu\")\n",
        "    bart_model.to(device)\n",
        "\n",
        "    with torch.no_grad():\n",
        "        tokenized_input = tokenizer.encode(input, return_tensors='pt', max_length=1024, truncation=True).to(device)\n",
        "        generated_summary = bart_model.generate(tokenized_input, max_length=200, length_penalty=2, num_beams=4, early_stopping=True)\n",
        "        summary = tokenizer.decode(generated_summary[0], skip_special_tokens=True)\n",
        "\n",
        "    return summary\n",
        "\n",
        "def hybrid_summarization(article):\n",
        "    extracted_summary = extractive_summarization(article)\n",
        "    final_summary = abstractive_summarization(extracted_summary)\n",
        "\n",
        "    return final_summary\n"
      ],
      "metadata": {
        "id": "LQAh5E0GWuzp"
      },
      "execution_count": null,
      "outputs": []
    },
    {
      "cell_type": "code",
      "source": [
        "generated_summaries = [hybrid_summarization(article) for article in test_data_abs['article']]"
      ],
      "metadata": {
        "id": "KEL0X_ZjWyy4"
      },
      "execution_count": null,
      "outputs": []
    },
    {
      "cell_type": "code",
      "source": [
        "reference_summaries = test_data['summary']"
      ],
      "metadata": {
        "id": "at3qA7uNuS4F"
      },
      "execution_count": null,
      "outputs": []
    },
    {
      "cell_type": "code",
      "source": [
        "rouge_scores, readability_metrics = evaluate_summaries(reference_summaries, generated_summaries)\n",
        "print(rouge_scores)\n",
        "print(readability_metrics)"
      ],
      "metadata": {
        "colab": {
          "base_uri": "https://localhost:8080/"
        },
        "outputId": "eb1e9e68-419a-4be6-969a-6686c6c11e0a",
        "id": "LDaVNKr6L4aA"
      },
      "execution_count": null,
      "outputs": [
        {
          "output_type": "stream",
          "name": "stdout",
          "text": [
            "{'rouge1': {'precision': 0.5560288672263188, 'recall': 0.3921887263266949, 'f1': 0.45098796487810233}, 'rouge2': {'precision': 0.19399166590229208, 'recall': 0.1357917760478709, 'f1': 0.15660554965006931}, 'rougeL': {'precision': 0.29906598749454455, 'recall': 0.20956390138732173, 'f1': 0.2414089832569736}}\n",
            "{'flesch_kincaid_grade': 14.839680232558141, 'gunning_fog_index': 16.923219476744183}\n"
          ]
        }
      ]
    },
    {
      "cell_type": "markdown",
      "source": [
        "### Hybrid Summarization w/ Abs w/ Bio Bert & BART Fine-Tuned on Full Article (Model 4 Run)"
      ],
      "metadata": {
        "id": "I-vpNPdas8fc"
      }
    },
    {
      "cell_type": "code",
      "source": [
        "biobert_tokenizer = BertTokenizer.from_pretrained('dmis-lab/biobert-base-cased-v1.1')\n",
        "biobert_model = BertForSequenceClassification.from_pretrained('dmis-lab/biobert-base-cased-v1.1', num_labels=2)"
      ],
      "metadata": {
        "colab": {
          "base_uri": "https://localhost:8080/",
          "height": 168,
          "referenced_widgets": [
            "4844fd443f5f4e8fa76321a7434ee089",
            "ec1e3b02ec594d99bf4e1147a1f867c3",
            "db0ca810afec428682ac24770f5002e2",
            "8c039179c19d4ac293695fe839aa585c",
            "9f87c67078a94c178c23419c4c8ecfa7",
            "a73fe9cb30c44a98b6bad3d8646cf315",
            "5922c09aecc94055818a7c519a0fc675",
            "6b75f347002b428cab6d4f61d626ce95",
            "f45e3ce33a134864934af0d3350cbc88",
            "003df76ec3534462a47f705c407f0186",
            "45e5076877dd40fe870a6975b7788e9b",
            "665c91b5662e4c90af38f5fe9c1bc271",
            "8d64ed5aa0a3480296b7affe65a10a52",
            "5cb4188296674ff994b54b3f2e4f413e",
            "2dc8efa2088d4353bc8a91ace7066d73",
            "18c771aebc694dd0918e179f65e74532",
            "6c517df906c948748de83e4cccf1b97b",
            "f229cc077a514a74b15bb3679de81e2f",
            "a2cc3cd53069449cbbe75fecc75588af",
            "3250f6bdd3fb43529c25cdb5b882fddb",
            "6ccbb3793c034c869d3500cb77cdbc35",
            "fffc623963534dfabf725fe7ed2a268a",
            "a49f8f960bfd4f319cc9750ee5c0cc05",
            "a559255bb4c44d17872b83746ffac4dd",
            "aea4f557a90e46a0b44a2cae74b35f51",
            "5be97d8813fa4b399099b9b093c0de9d",
            "7c1298a60e3e416381a84e12b5812feb",
            "e7524ea8997a46c387e2f11acce330e8",
            "10d39fe9e58743f8a6ea386500f5237f",
            "9e034975c60141a79cff4709927a0b2c",
            "e6f6cfd9a40e4181b5c9720fdb5fcb7f",
            "9a716ab41d0a47a38a8c39aeed95fdfc",
            "92723e745fa242c89b43933304048a9f"
          ]
        },
        "outputId": "aa9ce6db-ed85-4f35-dba1-9598a56b57f0",
        "id": "qamMjIV3s8fc"
      },
      "execution_count": null,
      "outputs": [
        {
          "output_type": "display_data",
          "data": {
            "text/plain": [
              "vocab.txt:   0%|          | 0.00/213k [00:00<?, ?B/s]"
            ],
            "application/vnd.jupyter.widget-view+json": {
              "version_major": 2,
              "version_minor": 0,
              "model_id": "4844fd443f5f4e8fa76321a7434ee089"
            }
          },
          "metadata": {}
        },
        {
          "output_type": "display_data",
          "data": {
            "text/plain": [
              "config.json:   0%|          | 0.00/313 [00:00<?, ?B/s]"
            ],
            "application/vnd.jupyter.widget-view+json": {
              "version_major": 2,
              "version_minor": 0,
              "model_id": "665c91b5662e4c90af38f5fe9c1bc271"
            }
          },
          "metadata": {}
        },
        {
          "output_type": "display_data",
          "data": {
            "text/plain": [
              "pytorch_model.bin:   0%|          | 0.00/436M [00:00<?, ?B/s]"
            ],
            "application/vnd.jupyter.widget-view+json": {
              "version_major": 2,
              "version_minor": 0,
              "model_id": "a49f8f960bfd4f319cc9750ee5c0cc05"
            }
          },
          "metadata": {}
        },
        {
          "output_type": "stream",
          "name": "stderr",
          "text": [
            "Some weights of BertForSequenceClassification were not initialized from the model checkpoint at dmis-lab/biobert-base-cased-v1.1 and are newly initialized: ['classifier.bias', 'classifier.weight']\n",
            "You should probably TRAIN this model on a down-stream task to be able to use it for predictions and inference.\n"
          ]
        }
      ]
    },
    {
      "cell_type": "code",
      "source": [
        "def extractive_summarization(article, num_sentences=5):\n",
        "    sentences = nltk.sent_tokenize(article)\n",
        "    inputs = biobert_tokenizer(sentences, return_tensors='pt', padding=True, truncation=True, max_length=512)\n",
        "    with torch.no_grad():\n",
        "        outputs = biobert_model(**inputs)\n",
        "    scores = outputs.logits[:, 1]\n",
        "    ranked_sentences = [sentences[i] for i in scores.argsort(descending=True)]\n",
        "    return ' '.join(ranked_sentences[:num_sentences])\n",
        "\n",
        "def abstractive_summarization(input):\n",
        "    device = torch.device(\"cuda\" if torch.cuda.is_available() else \"cpu\")\n",
        "    bart_model.to(device)\n",
        "\n",
        "    with torch.no_grad():\n",
        "        tokenized_input = tokenizer.encode(input, return_tensors='pt', max_length=1024, truncation=True).to(device)\n",
        "        generated_summary = bart_model.generate(tokenized_input, max_length=200, length_penalty=2, num_beams=4, early_stopping=True)\n",
        "        summary = tokenizer.decode(generated_summary[0], skip_special_tokens=True)\n",
        "\n",
        "    return summary\n",
        "\n",
        "def hybrid_summarization(article):\n",
        "    extracted_summary = extractive_summarization(article)\n",
        "    final_summary = abstractive_summarization(extracted_summary)\n",
        "\n",
        "    return final_summary"
      ],
      "metadata": {
        "id": "MKVjzK8Ls8fd"
      },
      "execution_count": null,
      "outputs": []
    },
    {
      "cell_type": "code",
      "source": [
        "# Generate summaries for the test set using hybrid_summarization\n",
        "generated_summaries = [hybrid_summarization(article) for article in test_data_abs['article']]"
      ],
      "metadata": {
        "id": "L4DyiPVes8fd"
      },
      "execution_count": null,
      "outputs": []
    },
    {
      "cell_type": "code",
      "source": [
        "reference_summaries = test_data['summary']"
      ],
      "metadata": {
        "id": "MmpyAZC1s8fd"
      },
      "execution_count": null,
      "outputs": []
    },
    {
      "cell_type": "code",
      "execution_count": null,
      "metadata": {
        "colab": {
          "base_uri": "https://localhost:8080/"
        },
        "outputId": "84192945-6338-4918-b796-bc4eb7d7767e",
        "id": "4LXqGf8RtpVs"
      },
      "outputs": [
        {
          "metadata": {
            "tags": null
          },
          "name": "stdout",
          "output_type": "stream",
          "text": [
            "Generated Summary: Seasonal epidemics of influenza virus result in ∼36, 000 deaths annually in the United States. Current vaccines against influenza virus elicit an antibody response specific for the envelope glycoproteins of the virus. However, high mutation rates result in the emergence of new viral serotypes, which elude neutralization by preexisting antibodies. T lymphocytes have been reported to be capable of mediating heterosubtypic protection through recognition of internal, more conserved, influenza virus proteins. Here, we demonstrate using a recombinant influenza virus expressing the LCMV GP33-41 epitope that influenza virus-specific CD8+ T cells and non-neutralizing antibodies each are relatively ineffective at conferring protective immunity alone, but when combined virus specific CD8 T cells, non-specific antibodies, and virus specific antibodies cooperatively elicit robust protective immunity. This synergistic improvement in protective immunity is dependent, at least in part, on alveolar macrophages and\n",
            "--------------------------------------------------------------------------------\n",
            "Generated Summary: Leprosy is an infectious disease caused by the bacterium Mycobacterium leprae. It is transmitted from person to person by the bite of an infected needle. The disease can be life-threatening if left untreated and can be fatal if not treated with antibiotics. In Brazil, leprosy is endemic in four municipalities in the state of Maranhão, northeastern Brazil. In this study, we investigated past five year migration as a risk factor for the development of the disease. We found that people who migrated 5-years prior to being diagnosed with leprsy had a significantly increased risk of developing the disease compared to people who did not migrate prior to diagnosis. We also found that past 5-year migration was associated with increased risk for the disease even after controlling for the presence of previous leprosy contact in the family, household, and family/household contact.\n",
            "--------------------------------------------------------------------------------\n",
            "Generated Summary: Leishmaniasis, resulting from infection with the protozoan parasite Leishmania, consists of a wide spectrum of clinical manifestations, from healing cutaneous lesions to fatal visceral infections. A particularly severe form of cutaneous leishmaniases, termed mucosal disease, exhibits decreased IL-10 levels and an exaggerated inflammatory response that perpetuates the disease. In this study, we investigated what cytokines contribute to increased pathology in a mouse model of mucosal leishmania. We found that mice lacking the capacity to respond to the inflammatory cytokine, interferon-γ ( IFN-γ ), developed larger lesions than controls, but fewer parasites. Additional studies found that the IL-1 receptor was required for both the elevated IL-17 response and increased pathology. Surprisingly, however, we found that IL-γ did not contribute to the increased pathology, but instead regulated the IL17 response. Therefore, we propose that downregulating the expression of IL-\n",
            "--------------------------------------------------------------------------------\n",
            "Generated Summary: The repeatability or predictability of evolution is a central question in evolutionary biology and most often addressed in experimental evolution studies. Here, we infer how genetically heterogeneous natural systems acquire the same molecular changes to address how genomic background affects adaptation in natural populations. This establishes the “genomic environment” as an important determinant in predicting the outcome of evolutionary adaptations. In particular, we take advantage of independently formed neo-sex chromosomes in Drosophila species that have evolved dosage compensation by co-opting the dosage-compensation male-specific lethal ( MSL ) complex to study the mutational paths that have led to the acquisition of hundreds of novel binding sites for the MSL complex in different species. We find that the propensity to utilize a particular mutational path differs between independently formed X chromosomes and appears to be contingent on genomic properties of that species, such as simple repeat or transposable element density.\n",
            "--------------------------------------------------------------------------------\n",
            "Generated Summary: Prions are self-propagating conformations of proteins that can cause heritable phenotypic traits. Most yeast prions contain glutamine ( Q ) /asparagine ( N ) -rich domains that facilitate the accumulation of the protein into amyloid-like aggregates. We previously identified 11 proteins that, when overproduced, facilitate the de novo aggregation of the Sup35 protein into the [PSI +] prion state. Here, we show that overexpression of many of the same 11 Q/N-rich proteins can also destabilize pre-existing prions. Efficient transmission of these infectious aggregates to daughter cells requires that chaperones, including Hsp104 and Sis1, continually sever the aggregates into smaller “seeds. ” We explore in detail the events leading to the loss ( curing ) of [PSIsI+] by the overexpressing of one of these proteins, the Q-rich\n",
            "--------------------------------------------------------------------------------\n"
          ]
        }
      ],
      "source": [
        "for i, summary in enumerate(generated_summaries[:5]):\n",
        "    print(f\"Generated Summary: {summary}\")\n",
        "    print(\"-\"*80)"
      ]
    },
    {
      "cell_type": "code",
      "execution_count": null,
      "metadata": {
        "colab": {
          "base_uri": "https://localhost:8080/"
        },
        "outputId": "b4411e77-8ca9-4056-8a05-6c8b0a413303",
        "id": "LsJv9QJxtpVy"
      },
      "outputs": [
        {
          "output_type": "stream",
          "name": "stdout",
          "text": [
            "Reference Summary: Influenza virus continues to pose a significant risk to global health and is responsible for thousands of deaths each year in the United States . This threat is largely due to the ability of the influenza virus to undergo rapid changes , allowing it to escape from immune responses elicited by previous infections or vaccinations . Certain internal determinants of the influenza virus are largely conserved across different viral strains and represent attractive targets for potential “universal” influenza vaccines . Here , we demonstrated that cross-subtype protection against the influenza virus could be obtained through simultaneous priming of multiple arms of the immune response against conserved elements of the influenza virus . These results suggest a novel strategy that could potentially form a primary component of a universal influenza vaccine capable of providing long-lasting protection .\n",
            "--------------------------------------------------------------------------------\n",
            "Reference Summary: In Brazil , leprosy remains a significant public health problem in endemic clusters of high transmission risk throughout the country . Migration is thought to be a factor associated with continued leprosy transmission , as migration has also been found to be associated with other Neglected Tropical Diseases ( NTDs ) . We analyzed the association between past five year migration and leprosy as part of a larger epidemiological study evaluating risk factors for infection among recently diagnosed leprosy cases ( n = 340 ) and a matched clinically unapparent control group ( n = 340 ) in the northeastern state of Maranhão . Among migrants with leprosy , 23 . 5% ( n = 80 ) migrated in the past five years , with 16 . 2% ( n = 55 ) of the control group . Past five year migration was significantly associated with leprosy , and remained significant after controlling for household and familial contact as potential confounders . Factors found to be associated with leprosy among past 5-year migrants included alcohol consumption , poverty , and household , family and other leprosy contact . Key patterns of movement emerged from the study that may aid future regional leprosy control efforts .\n",
            "--------------------------------------------------------------------------------\n",
            "Reference Summary: Leishmaniasis is a tropical disease transmitted by sand flies that causes visceral and cutaneous lesions . In humans , the most severe form of cutaneous leishmaniasis is the mucosal form , causing disfiguring lesions in the nasal and oral mucosa . Why these patients develop severe disease is not clear . It is known , however , that the severe disease is not due to an overwhelming number of parasites , but rather appears to be due to an uncontrolled inflammatory response that includes elevated production of IFN-γ and IL-17 . Here , we used a murine model of leishmaniasis to identify the factors involved in this pathology , and found that mice infected with Leishmania major developed severe lesions in the absence of IL-10 or IL-10 signaling , and similar to patients , contained high levels of IFN-γ and IL-17 . While both of these cytokines have the potential to induce pathology , we found that IL-17 was responsible for the severe pathology seen in the absence of IL-10 regulation , and furthermore that IL-17 levels were higher and pathology greater in the absence of IFN-γ . Thus , our study suggests that IL-17 , but not the IFN-γ , is a strong candidate to be targeted in strategies to control the severe immunopathology observed in mucosal leishmaniasis patients .\n",
            "--------------------------------------------------------------------------------\n",
            "Reference Summary: We address how predictable evolution is at the DNA sequence level in nature by studying the parallel evolution of a phenotype that is well understood at the molecular level: the acquisition of sex chromosome dosage compensation in fruit flies . While female flies have two X chromosomes , the males have to compensate by up-regulating genes on their single X chromosome . They do this by using specific sequence motifs on the X chromosome to recruit a cluster of proteins and RNAs called the male-specific lethal ( MSL ) complex . However , different fruit fly lineages have independently co-opted the MSL complex to dosage compensate newly formed X chromosomes through the acquisition of hundreds of new binding sites , thereby providing independent replicas of the evolutionary process both within and between species . Moreover , dosage compensation has often evolved very recently , allowing us to infer the causative mutations by which the novel binding motifs arose . Genome sequencing and genomic occupancy maps of the MSL complex allowed us to infer the location of novel binding sites on the recently formed sex chromosomes of flies from the Drosophila melanica and D . robusta species groups . We show that species use diverse mechanisms to generate novel MSL-binding sites , including the use of presites , expansion of runs of simple sequences , or insertion of transposable elements . We also show that the propensity for using different types of mutations differs between lineages and depends on genomic properties of a species .\n",
            "--------------------------------------------------------------------------------\n",
            "Reference Summary: Certain proteins can occasionally misfold into infectious aggregates called prions . Once formed , these aggregates grow by attracting the soluble form of that protein to join them . The presence of these aggregates can cause profound effects on cells and , in humans , can cause diseases such as transmissible spongiform encephalopathies ( TSEs ) . In yeast , the aggregates are efficiently transmitted to daughter cells because they are cut into small pieces by molecular scissors ( chaperones ) . Here we show that heritable prion aggregates are frequently lost when we overproduce certain other proteins with curing activity . We analyzed one such protein in detail and found that when it is overproduced it forms aggregates that sequester chaperones . This sequestration appears to block the ability of the chaperones to cut the prion aggregates . The result is that the prions get too large to be transmitted to daughter cells . Such sequestration of molecular scissors provides a potential approach to thwart the propagation of disease-causing infectious protein aggregates .\n",
            "--------------------------------------------------------------------------------\n"
          ]
        }
      ],
      "source": [
        "for i, summary in enumerate(reference_summaries[:5]):\n",
        "    print(f\"Reference Summary: {summary}\")\n",
        "    print(\"-\"*80)"
      ]
    },
    {
      "cell_type": "code",
      "source": [
        "rouge_scores, readability_metrics = evaluate_summaries(reference_summaries, generated_summaries)\n",
        "print(rouge_scores)\n",
        "print(readability_metrics)"
      ],
      "metadata": {
        "colab": {
          "base_uri": "https://localhost:8080/"
        },
        "outputId": "5af52688-a0d3-4ae1-dc2f-d9b6c4ad91d0",
        "id": "ruZ2a9oss8fd"
      },
      "execution_count": null,
      "outputs": [
        {
          "output_type": "stream",
          "name": "stdout",
          "text": [
            "{'rouge1': {'precision': 0.5463928608112102, 'recall': 0.39686896409572436, 'f1': 0.4517625841309663}, 'rouge2': {'precision': 0.18981862000185906, 'recall': 0.1371954432845289, 'f1': 0.15652704094406353}, 'rougeL': {'precision': 0.29434227575667293, 'recall': 0.21256468804898196, 'f1': 0.2424205085738773}}\n",
            "{'flesch_kincaid_grade': 14.599418604651163, 'gunning_fog_index': 16.633190406976745}\n"
          ]
        }
      ]
    },
    {
      "cell_type": "markdown",
      "metadata": {
        "id": "-bZsdoIUBkMK"
      },
      "source": [
        "### Hybrid Summarization w/ Abs, Intro & Con w/ Bio Bert & BART Fine-Tuned on Abs, Intro & Con (Model 2 Run)"
      ]
    },
    {
      "cell_type": "code",
      "execution_count": null,
      "metadata": {
        "colab": {
          "base_uri": "https://localhost:8080/",
          "height": 149,
          "referenced_widgets": [
            "b7fdffb1ef244abe8848d3f06c7205f5",
            "20672d23bf6a4bd8857480b8ae92adea",
            "d787e7ba401541d49c8ec0e06dc8f9a3",
            "f6012a36d9444094b6ca5de6924e63dd",
            "9464cf4701294fd8894664e5b01f1822",
            "d358785b33e1478383a9cb4dd825f300",
            "c770474ae85a4485975a589427b237e9",
            "b7f7ee2e444d431187160e3141746b97",
            "5babc4b1baa74eddb5a17d592c190db7",
            "76fb633ee9ef459db92ea22bb3bd27e3",
            "8ef8f117c92d485faa77bd66bc7cd28a",
            "49271b267a5045859ee1090bcdc118e0",
            "0aae62461327460191bdcf2c30d87503",
            "746376b263e24a7bba49c60a5184415f",
            "3e0ddbd407ec46d1b7f82bb48e10ed3c",
            "ea41581576c849908494980ee7176dff",
            "c5999ac4d5c4482fa7618f4870d3944e",
            "2c7af303424a433db613a3198fb0406d",
            "f3a2886087e14eac8b7ddc01ff730c06",
            "7b8c94abc85940b19c9c79d43f443d53",
            "3184bb94ec954264b1ee74c2d7bf1bde",
            "3ce75d2d9c714e5b82366dcd77f5197e",
            "99788eb3ddce422d8da59be434ebb622",
            "0ba9c3047fd845b9a748a772bd14f2e6",
            "c3e93b2d14334043b44c0d04c716a51b",
            "1af41400be6c4b9ab926d92c08398e64",
            "25232d711ced4be4a2e2bca75720feac",
            "b2c55370408b49dcb235ace6ffe7226d",
            "ba2b0f6383304c0c875041e817a8f511",
            "5b679c00762a492dace5a2b46e46793f",
            "05d18602ccc34c0283149699bc851525",
            "56727867650949c3947b82d1ec2a3a68",
            "b7298f17cb524d31896d6e5713bb5d57"
          ]
        },
        "id": "lnchRR1OB3Qb",
        "outputId": "8df29b90-e318-4945-9002-78fd37411a5f"
      },
      "outputs": [
        {
          "data": {
            "application/vnd.jupyter.widget-view+json": {
              "model_id": "b7fdffb1ef244abe8848d3f06c7205f5",
              "version_major": 2,
              "version_minor": 0
            },
            "text/plain": [
              "vocab.txt:   0%|          | 0.00/213k [00:00<?, ?B/s]"
            ]
          },
          "metadata": {},
          "output_type": "display_data"
        },
        {
          "data": {
            "application/vnd.jupyter.widget-view+json": {
              "model_id": "49271b267a5045859ee1090bcdc118e0",
              "version_major": 2,
              "version_minor": 0
            },
            "text/plain": [
              "config.json:   0%|          | 0.00/313 [00:00<?, ?B/s]"
            ]
          },
          "metadata": {},
          "output_type": "display_data"
        },
        {
          "data": {
            "application/vnd.jupyter.widget-view+json": {
              "model_id": "99788eb3ddce422d8da59be434ebb622",
              "version_major": 2,
              "version_minor": 0
            },
            "text/plain": [
              "pytorch_model.bin:   0%|          | 0.00/436M [00:00<?, ?B/s]"
            ]
          },
          "metadata": {},
          "output_type": "display_data"
        },
        {
          "name": "stderr",
          "output_type": "stream",
          "text": [
            "Some weights of BertForSequenceClassification were not initialized from the model checkpoint at dmis-lab/biobert-base-cased-v1.1 and are newly initialized: ['classifier.bias', 'classifier.weight']\n",
            "You should probably TRAIN this model on a down-stream task to be able to use it for predictions and inference.\n"
          ]
        }
      ],
      "source": [
        "biobert_tokenizer = BertTokenizer.from_pretrained('dmis-lab/biobert-base-cased-v1.1')\n",
        "biobert_model = BertForSequenceClassification.from_pretrained('dmis-lab/biobert-base-cased-v1.1', num_labels=2)"
      ]
    },
    {
      "cell_type": "code",
      "execution_count": null,
      "metadata": {
        "id": "6PfGlAHWBrOw"
      },
      "outputs": [],
      "source": [
        "def extractive_summarization(article, num_sentences=8):\n",
        "    sentences = nltk.sent_tokenize(article)\n",
        "    inputs = biobert_tokenizer(sentences, return_tensors='pt', padding=True, truncation=True, max_length=512)\n",
        "    with torch.no_grad():\n",
        "        outputs = biobert_model(**inputs)\n",
        "    scores = outputs.logits[:, 1]\n",
        "    ranked_sentences = [sentences[i] for i in scores.argsort(descending=True)]\n",
        "    return ' '.join(ranked_sentences[:num_sentences])\n",
        "\n",
        "def abstractive_summarization(input):\n",
        "    device = torch.device(\"cuda\" if torch.cuda.is_available() else \"cpu\")\n",
        "    bart_model.to(device)\n",
        "\n",
        "    with torch.no_grad():\n",
        "        tokenized_input = tokenizer.encode(input, return_tensors='pt', max_length=1024, truncation=True).to(device)\n",
        "        generated_summary = bart_model.generate(tokenized_input, max_length=200, length_penalty=2, num_beams=4, early_stopping=True)\n",
        "        summary = tokenizer.decode(generated_summary[0], skip_special_tokens=True)\n",
        "\n",
        "    return summary\n",
        "\n",
        "def hybrid_summarization(article):\n",
        "    extracted_summary = extractive_summarization(article)\n",
        "    final_summary = abstractive_summarization(extracted_summary)\n",
        "\n",
        "    return final_summary\n"
      ]
    },
    {
      "cell_type": "code",
      "execution_count": null,
      "metadata": {
        "id": "m2zNfJfZBrOw"
      },
      "outputs": [],
      "source": [
        "generated_summaries = [hybrid_summarization(article) for article in test_data_abs_intro_con['article']]\n",
        "reference_summaries = test_data['summary']"
      ]
    },
    {
      "cell_type": "code",
      "execution_count": null,
      "metadata": {
        "id": "BdjeCfbuBrOw",
        "colab": {
          "base_uri": "https://localhost:8080/"
        },
        "outputId": "7b13c461-d4c0-4bbf-d758-b86383c3efe9"
      },
      "outputs": [
        {
          "output_type": "stream",
          "name": "stdout",
          "text": [
            "Generated Summary: CD8+ T cell based vaccines are a promising approach to the generation of a safe and effective influenza virus-based vaccine. However, there is some conflicting data over whether CD8+ protection wanes over time, and if true this gradual loss of the virus-specific population represents a serious concern. Furthermore, memory T cells are detected in the peripheral blood of healthy adolescents and adults, and there is evidence for heterosubtypic immunity in humans that has been proposed to be due to T cells. Several groups have also noted the potential role of CD4+ T cells in providing protection against influenza virus. All in vivo mouse antibodies were purchased from Bio X Cell ( West Lebanon, NH ). Staining and analysis were performed as previously described.\n",
            "--------------------------------------------------------------------------------\n",
            "Generated Summary: Brazil has globally the second highest new case incidence of leprosy, with 54/10, 000 new cases in 2010. This number remains above the WHO goal of <1 new case per 10, 000 people. In the comparison of past 5-year migrants, household contact exposure was associated with both household consanguineous and/or non-consanguinous contact, close family and other social contact, consistent with previous research identifying contact exposure as the major determinant of transmission.\n",
            "--------------------------------------------------------------------------------\n",
            "Generated Summary: Visceral leishmaniasis is a neglected tropical disease caused by the protozoan parasite Leishmania spp. It is transmitted by the bite of sandflies. The disease is fatal if left untreated and is characterized by severe pathology. In this study, we used a mouse model of L. major infection. Female C57BL/6 mice 6–8 weeks old were purchased from the National Cancer Institute ( Frederick, MD ). We found that BALB/c mice develop an uncontrolled disease that occurs concomitantly with a dominant Th2 response, and IL-27r−/− mice develop more severe pathology than wild-type mice, and also exhibit decreased IL-10 levels concomitant with a Th2 immune response that may also contribute to the disease. On the other hand, IL-17 has been associated with protection against human visceral leishmania and was required in a vaccine model.\n",
            "--------------------------------------------------------------------------------\n",
            "Generated Summary: The MSL complex ( the MSL ) is a protein-protein interaction complex that binds to the nucleotide sequence of the protein-coding genes on the X chromosome of eukaryotic cells. In Drosophila, males compensate for reduced dosage of X-linked genes by hypertranscribing their hemizygous X chromosome through epigenetic modifications. In this study, we show that dosage compensation on the neo-X chromosome of three species has evolved independently and recently, using Chromatin Isolation by RNA Purification ( ChIRP; see Fig 1C ). We find that the majority of novel MSL-binding sites on the younger neo-Y chromosome of these species were created by insertions of a domesticated helitron TE containing the GA-rich sequence motif recognized by the MRE. We also find that diverse mutational paths contributed to MSL–MSL–site evolution, but the vast majority of new MSL sites on\n",
            "--------------------------------------------------------------------------------\n",
            "Generated Summary: The best-studied yeast prions [PSI+], [PIN+] and [URE3] are self-propagating conformations of: Sup35, a translation termination factor; Rnq1, a protein of unknown function; and Ure2, a nitrogen catabolism repression regulator. Modulation of levels and mutations in Hsp70 chaperones and their co-chaperones have various effects on the growth of these prions. In vitro data show that amyloid fibers grow by recruiting protein monomers to fiber ends. In addition, prion propagation requires fibers to be fragmented to create new ends for conversion and to allow efficient transmission of seeds to daughter cells. In a screen of a high-copy yeast library for genes that enhance prion induction, an excess of any of 11 Q/N-rich proteins was found to promote de novo prion appearance upon the overexpression of the prion domain of Sup\n",
            "--------------------------------------------------------------------------------\n"
          ]
        }
      ],
      "source": [
        "for i, summary in enumerate(generated_summaries[:5]):\n",
        "    print(f\"Generated Summary: {summary}\")\n",
        "    print(\"-\"*80)"
      ]
    },
    {
      "cell_type": "code",
      "execution_count": null,
      "metadata": {
        "id": "5JssNTQkBrOx"
      },
      "outputs": [],
      "source": [
        "reference_summaries = test_data_abs_intro_con['summary']"
      ]
    },
    {
      "cell_type": "code",
      "execution_count": null,
      "metadata": {
        "id": "sMuboiFWBrOx",
        "colab": {
          "base_uri": "https://localhost:8080/"
        },
        "outputId": "c51dda76-4b97-4cdc-9eb8-e3da492cf756"
      },
      "outputs": [
        {
          "metadata": {
            "tags": null
          },
          "name": "stdout",
          "output_type": "stream",
          "text": [
            "Reference Summary: Influenza virus continues to pose a significant risk to global health and is responsible for thousands of deaths each year in the United States . This threat is largely due to the ability of the influenza virus to undergo rapid changes , allowing it to escape from immune responses elicited by previous infections or vaccinations . Certain internal determinants of the influenza virus are largely conserved across different viral strains and represent attractive targets for potential “universal” influenza vaccines . Here , we demonstrated that cross-subtype protection against the influenza virus could be obtained through simultaneous priming of multiple arms of the immune response against conserved elements of the influenza virus . These results suggest a novel strategy that could potentially form a primary component of a universal influenza vaccine capable of providing long-lasting protection .\n",
            "--------------------------------------------------------------------------------\n",
            "Reference Summary: In Brazil , leprosy remains a significant public health problem in endemic clusters of high transmission risk throughout the country . Migration is thought to be a factor associated with continued leprosy transmission , as migration has also been found to be associated with other Neglected Tropical Diseases ( NTDs ) . We analyzed the association between past five year migration and leprosy as part of a larger epidemiological study evaluating risk factors for infection among recently diagnosed leprosy cases ( n = 340 ) and a matched clinically unapparent control group ( n = 340 ) in the northeastern state of Maranhão . Among migrants with leprosy , 23 . 5% ( n = 80 ) migrated in the past five years , with 16 . 2% ( n = 55 ) of the control group . Past five year migration was significantly associated with leprosy , and remained significant after controlling for household and familial contact as potential confounders . Factors found to be associated with leprosy among past 5-year migrants included alcohol consumption , poverty , and household , family and other leprosy contact . Key patterns of movement emerged from the study that may aid future regional leprosy control efforts .\n",
            "--------------------------------------------------------------------------------\n",
            "Reference Summary: Leishmaniasis is a tropical disease transmitted by sand flies that causes visceral and cutaneous lesions . In humans , the most severe form of cutaneous leishmaniasis is the mucosal form , causing disfiguring lesions in the nasal and oral mucosa . Why these patients develop severe disease is not clear . It is known , however , that the severe disease is not due to an overwhelming number of parasites , but rather appears to be due to an uncontrolled inflammatory response that includes elevated production of IFN-γ and IL-17 . Here , we used a murine model of leishmaniasis to identify the factors involved in this pathology , and found that mice infected with Leishmania major developed severe lesions in the absence of IL-10 or IL-10 signaling , and similar to patients , contained high levels of IFN-γ and IL-17 . While both of these cytokines have the potential to induce pathology , we found that IL-17 was responsible for the severe pathology seen in the absence of IL-10 regulation , and furthermore that IL-17 levels were higher and pathology greater in the absence of IFN-γ . Thus , our study suggests that IL-17 , but not the IFN-γ , is a strong candidate to be targeted in strategies to control the severe immunopathology observed in mucosal leishmaniasis patients .\n",
            "--------------------------------------------------------------------------------\n",
            "Reference Summary: We address how predictable evolution is at the DNA sequence level in nature by studying the parallel evolution of a phenotype that is well understood at the molecular level: the acquisition of sex chromosome dosage compensation in fruit flies . While female flies have two X chromosomes , the males have to compensate by up-regulating genes on their single X chromosome . They do this by using specific sequence motifs on the X chromosome to recruit a cluster of proteins and RNAs called the male-specific lethal ( MSL ) complex . However , different fruit fly lineages have independently co-opted the MSL complex to dosage compensate newly formed X chromosomes through the acquisition of hundreds of new binding sites , thereby providing independent replicas of the evolutionary process both within and between species . Moreover , dosage compensation has often evolved very recently , allowing us to infer the causative mutations by which the novel binding motifs arose . Genome sequencing and genomic occupancy maps of the MSL complex allowed us to infer the location of novel binding sites on the recently formed sex chromosomes of flies from the Drosophila melanica and D . robusta species groups . We show that species use diverse mechanisms to generate novel MSL-binding sites , including the use of presites , expansion of runs of simple sequences , or insertion of transposable elements . We also show that the propensity for using different types of mutations differs between lineages and depends on genomic properties of a species .\n",
            "--------------------------------------------------------------------------------\n",
            "Reference Summary: Certain proteins can occasionally misfold into infectious aggregates called prions . Once formed , these aggregates grow by attracting the soluble form of that protein to join them . The presence of these aggregates can cause profound effects on cells and , in humans , can cause diseases such as transmissible spongiform encephalopathies ( TSEs ) . In yeast , the aggregates are efficiently transmitted to daughter cells because they are cut into small pieces by molecular scissors ( chaperones ) . Here we show that heritable prion aggregates are frequently lost when we overproduce certain other proteins with curing activity . We analyzed one such protein in detail and found that when it is overproduced it forms aggregates that sequester chaperones . This sequestration appears to block the ability of the chaperones to cut the prion aggregates . The result is that the prions get too large to be transmitted to daughter cells . Such sequestration of molecular scissors provides a potential approach to thwart the propagation of disease-causing infectious protein aggregates .\n",
            "--------------------------------------------------------------------------------\n"
          ]
        }
      ],
      "source": [
        "for i, summary in enumerate(reference_summaries[:5]):\n",
        "    print(f\"Reference Summary: {summary}\")\n",
        "    print(\"-\"*80)"
      ]
    },
    {
      "cell_type": "code",
      "execution_count": null,
      "metadata": {
        "id": "stsUTHNvBrOx",
        "colab": {
          "base_uri": "https://localhost:8080/"
        },
        "outputId": "a5403fcb-846e-4c97-c650-9c1bc460f5a9"
      },
      "outputs": [
        {
          "output_type": "stream",
          "name": "stdout",
          "text": [
            "{'rouge1': {'precision': 0.3865870460952511, 'recall': 0.25631747213157796, 'f1': 0.30154111195250316}, 'rouge2': {'precision': 0.0718250395149877, 'recall': 0.047189250052078885, 'f1': 0.05570895472059664}, 'rougeL': {'precision': 0.19841256031371104, 'recall': 0.1297015715385925, 'f1': 0.15324670658992576}}\n",
            "{'flesch_kincaid_grade': 12.877252906976743, 'gunning_fog_index': 15.284912790697675}\n"
          ]
        }
      ],
      "source": [
        "rouge_scores, readability_metrics = evaluate_summaries(reference_summaries, generated_summaries)\n",
        "print(rouge_scores)\n",
        "print(readability_metrics)"
      ]
    },
    {
      "cell_type": "markdown",
      "metadata": {
        "id": "adNS2m0A1mmV"
      },
      "source": [
        "### Hybrid Summarization w/ Abs, Intro & Con w/ Bio Bert & BART Fine-Tuned on Full Article (Model 4 Run)"
      ]
    },
    {
      "cell_type": "code",
      "execution_count": null,
      "metadata": {
        "colab": {
          "base_uri": "https://localhost:8080/",
          "height": 149,
          "referenced_widgets": [
            "b7fdffb1ef244abe8848d3f06c7205f5",
            "20672d23bf6a4bd8857480b8ae92adea",
            "d787e7ba401541d49c8ec0e06dc8f9a3",
            "f6012a36d9444094b6ca5de6924e63dd",
            "9464cf4701294fd8894664e5b01f1822",
            "d358785b33e1478383a9cb4dd825f300",
            "c770474ae85a4485975a589427b237e9",
            "b7f7ee2e444d431187160e3141746b97",
            "5babc4b1baa74eddb5a17d592c190db7",
            "76fb633ee9ef459db92ea22bb3bd27e3",
            "8ef8f117c92d485faa77bd66bc7cd28a",
            "49271b267a5045859ee1090bcdc118e0",
            "0aae62461327460191bdcf2c30d87503",
            "746376b263e24a7bba49c60a5184415f",
            "3e0ddbd407ec46d1b7f82bb48e10ed3c",
            "ea41581576c849908494980ee7176dff",
            "c5999ac4d5c4482fa7618f4870d3944e",
            "2c7af303424a433db613a3198fb0406d",
            "f3a2886087e14eac8b7ddc01ff730c06",
            "7b8c94abc85940b19c9c79d43f443d53",
            "3184bb94ec954264b1ee74c2d7bf1bde",
            "3ce75d2d9c714e5b82366dcd77f5197e",
            "99788eb3ddce422d8da59be434ebb622",
            "0ba9c3047fd845b9a748a772bd14f2e6",
            "c3e93b2d14334043b44c0d04c716a51b",
            "1af41400be6c4b9ab926d92c08398e64",
            "25232d711ced4be4a2e2bca75720feac",
            "b2c55370408b49dcb235ace6ffe7226d",
            "ba2b0f6383304c0c875041e817a8f511",
            "5b679c00762a492dace5a2b46e46793f",
            "05d18602ccc34c0283149699bc851525",
            "56727867650949c3947b82d1ec2a3a68",
            "b7298f17cb524d31896d6e5713bb5d57"
          ]
        },
        "outputId": "8df29b90-e318-4945-9002-78fd37411a5f",
        "id": "9b_nmNTJ1mmV"
      },
      "outputs": [
        {
          "data": {
            "application/vnd.jupyter.widget-view+json": {
              "model_id": "b7fdffb1ef244abe8848d3f06c7205f5",
              "version_major": 2,
              "version_minor": 0
            },
            "text/plain": [
              "vocab.txt:   0%|          | 0.00/213k [00:00<?, ?B/s]"
            ]
          },
          "metadata": {},
          "output_type": "display_data"
        },
        {
          "data": {
            "application/vnd.jupyter.widget-view+json": {
              "model_id": "49271b267a5045859ee1090bcdc118e0",
              "version_major": 2,
              "version_minor": 0
            },
            "text/plain": [
              "config.json:   0%|          | 0.00/313 [00:00<?, ?B/s]"
            ]
          },
          "metadata": {},
          "output_type": "display_data"
        },
        {
          "data": {
            "application/vnd.jupyter.widget-view+json": {
              "model_id": "99788eb3ddce422d8da59be434ebb622",
              "version_major": 2,
              "version_minor": 0
            },
            "text/plain": [
              "pytorch_model.bin:   0%|          | 0.00/436M [00:00<?, ?B/s]"
            ]
          },
          "metadata": {},
          "output_type": "display_data"
        },
        {
          "name": "stderr",
          "output_type": "stream",
          "text": [
            "Some weights of BertForSequenceClassification were not initialized from the model checkpoint at dmis-lab/biobert-base-cased-v1.1 and are newly initialized: ['classifier.bias', 'classifier.weight']\n",
            "You should probably TRAIN this model on a down-stream task to be able to use it for predictions and inference.\n"
          ]
        }
      ],
      "source": [
        "biobert_tokenizer = BertTokenizer.from_pretrained('dmis-lab/biobert-base-cased-v1.1')\n",
        "biobert_model = BertForSequenceClassification.from_pretrained('dmis-lab/biobert-base-cased-v1.1', num_labels=2)"
      ]
    },
    {
      "cell_type": "code",
      "execution_count": null,
      "metadata": {
        "id": "3XVGpOPw1mmV"
      },
      "outputs": [],
      "source": [
        "def extractive_summarization(article, num_sentences=8):\n",
        "    sentences = nltk.sent_tokenize(article)\n",
        "    inputs = biobert_tokenizer(sentences, return_tensors='pt', padding=True, truncation=True, max_length=512)\n",
        "    with torch.no_grad():\n",
        "        outputs = biobert_model(**inputs)\n",
        "    scores = outputs.logits[:, 1]\n",
        "    ranked_sentences = [sentences[i] for i in scores.argsort(descending=True)]\n",
        "    return ' '.join(ranked_sentences[:num_sentences])\n",
        "\n",
        "def abstractive_summarization(input):\n",
        "    device = torch.device(\"cuda\" if torch.cuda.is_available() else \"cpu\")\n",
        "    bart_model.to(device)\n",
        "\n",
        "    with torch.no_grad():\n",
        "        tokenized_input = tokenizer.encode(input, return_tensors='pt', max_length=1024, truncation=True).to(device)\n",
        "        generated_summary = bart_model.generate(tokenized_input, max_length=200, length_penalty=2, num_beams=4, early_stopping=True)\n",
        "        summary = tokenizer.decode(generated_summary[0], skip_special_tokens=True)\n",
        "\n",
        "    return summary\n",
        "\n",
        "def hybrid_summarization(article):\n",
        "    extracted_summary = extractive_summarization(article)\n",
        "    final_summary = abstractive_summarization(extracted_summary)\n",
        "\n",
        "    return final_summary\n"
      ]
    },
    {
      "cell_type": "code",
      "execution_count": null,
      "metadata": {
        "id": "wwkyNDKV12EH"
      },
      "outputs": [],
      "source": [
        "generated_summaries = [hybrid_summarization(article) for article in test_data['article']]"
      ]
    },
    {
      "cell_type": "code",
      "execution_count": null,
      "metadata": {
        "id": "GlZf1tCd12EI"
      },
      "outputs": [],
      "source": [
        "reference_summaries = test_data['summary']"
      ]
    },
    {
      "cell_type": "code",
      "source": [
        "rouge_scores, readability_metrics = evaluate_summaries(reference_summaries, generated_summaries)\n",
        "print(rouge_scores)\n",
        "print(readability_metrics)"
      ],
      "metadata": {
        "colab": {
          "base_uri": "https://localhost:8080/"
        },
        "id": "uJKEoLPzoH3q",
        "outputId": "61979e45-0fa8-41f0-a15a-3ccffc39e21c"
      },
      "execution_count": null,
      "outputs": [
        {
          "output_type": "stream",
          "name": "stdout",
          "text": [
            "{'rouge1': {'precision': 0.4089115655049195, 'recall': 0.24417731607984006, 'f1': 0.29560308732442686}, 'rouge2': {'precision': 0.07874747972759231, 'recall': 0.046603262351683085, 'f1': 0.05663332233103531}, 'rougeL': {'precision': 0.2176773265986536, 'recall': 0.12679806897797913, 'f1': 0.1546232978869479}}\n",
            "{'flesch_kincaid_grade': 12.303633720930232, 'gunning_fog_index': 14.618895348837208}\n"
          ]
        }
      ]
    },
    {
      "cell_type": "markdown",
      "metadata": {
        "id": "EYWCMKTmeJTu"
      },
      "source": [
        "## Experiments - Pegasus"
      ]
    },
    {
      "cell_type": "markdown",
      "metadata": {
        "id": "lvJHH4NvfXOR"
      },
      "source": [
        "### Pegasus (CNN/DailyMail) w/ Abs, Intro & Con"
      ]
    },
    {
      "cell_type": "code",
      "execution_count": null,
      "metadata": {
        "colab": {
          "base_uri": "https://localhost:8080/",
          "height": 245,
          "referenced_widgets": [
            "3ee4a2d570a34e34b76930daeceeac93",
            "6700a77139fa42e89f63305c290a5739",
            "96c5182a45834038b68f234cac97e016",
            "1e52d4a7879e4aa29444cf610ea4ebb7",
            "a710651ca8ec46f58a850d914e37177b",
            "44f4405bc99743ab8ef494291d0fe7c4",
            "dc7566132c034759895492c0e5194e9e",
            "462fcaaa4d464eb1ba1971180c119a29",
            "cb022effe4524b31a3acfc29fad67024",
            "9a4a591802b14df9b6d5f250e112be93",
            "6e09fd736e86442b8a4a735ece11c96c",
            "b0f5dfc7b8744b6f88b01d46d67cac38",
            "a8351f4e672e4e89b1bc30c4f677312b",
            "0a24de2b0bff4b4e8b2773ecfc17995a",
            "171cedfe3b284954a4a9362a4501718f",
            "f7ed52b61338488fa43e38291241c24a",
            "4678274ee05b445c90c40b4d3db0e575",
            "0722b375232e42408db99976619f3726",
            "d0dba6dcc3e544ee8bd6497bf5f050e3",
            "f35f36cdc5dd416aac01555625b26d94",
            "813b2875ad47431d9a492d4d7c5642b6",
            "6b6cd0bb10dc4f2d870be0f186fed1b6",
            "6b9c302ea074452180a4487dcad417c8",
            "d58ce990cf984e38b0d40211847d83e6",
            "263b22921d694677a7ba72cb1560242d",
            "7a70efa5372449a29870fdad0b7a916d",
            "9749dd836d25467a84cc60cac4924a24",
            "17c9e2cc15004e41ab76654c30dde349",
            "8fad81bc70d346a4b7d9b823d7cf0c5a",
            "98cddde6662340a68961661a1f1cbcdf",
            "23731019109449b7bd4bd09aae287acf",
            "cfca3184d3c74cb6bd4d25986060f078",
            "267fb66bf0b2488784a44ffcb07431ed",
            "1ac3a4540a5a4609bbe6b1084a55755d",
            "09776e291960417485102d0e37c9f50e",
            "7cf8d4db5d2440fbb4f9c1bc9826da69",
            "1ae3528bef3746eeb71435bed85b7d04",
            "0d187a0837614ad48fec04756f0f66d0",
            "33fd414fb2494f88a309e01eb8928eec",
            "9d2513c33fa649929905a72e216ca76d",
            "bc40ba865d654a51921a27ecbdf272b2",
            "c228b7166e504d59982d02b74807ed03",
            "d9ed9b51e8674e30b79ff873d8744e49",
            "dae5aa972d114250809396e05b69f0c0",
            "3bb9dc719a0e401cb0c4f0a5454f0489",
            "1de0ea9f325d48ff94cdb84f2452be19",
            "587be7fc58c2420e97029d3a77ced3f9",
            "7fd17fa010c24143934180c25ce8efa9",
            "da4a563e72d54e36b0077db043bf0887",
            "196acdc878994c6c95e1c433e8c87eb3",
            "0566e490db0c434aa8ae7cdf42f6e7dd",
            "622a8dee8e044edfa955b6f6bb431781",
            "d40757ebface4565bb46f378ad6414a3",
            "8d8a81833a2c4aa49185a2b433b16fd6",
            "9fa0b6494ddb4325b5fc6cce2d74494e",
            "33476241551c45e1b80c97400a757051",
            "afe49f06c6f24bc78dc722c3b101ce40",
            "0d82a07a74ef4ece8b4781948d4ec5cb",
            "2f10bf117c864456a590f451fd0766ba",
            "381ae86e00fb4e7cb56efa2514f93c91",
            "95e1abfdb6cd4feca0610530777a87cc",
            "1857112835d848f199a5843634e901b7",
            "98c962ed71584ba98b544577c5f20bd4",
            "265259fd18bf4768a9aaeeb4c6f9fcec",
            "ee94e463d4c841319db9fc8428feb2ac",
            "6f2da39d1bc34f00a15cea98f5e1e5e1"
          ]
        },
        "id": "sUtMixpTfWQY",
        "outputId": "4c827757-694c-42fa-f127-051044560bc2"
      },
      "outputs": [
        {
          "data": {
            "application/vnd.jupyter.widget-view+json": {
              "model_id": "3ee4a2d570a34e34b76930daeceeac93",
              "version_major": 2,
              "version_minor": 0
            },
            "text/plain": [
              "tokenizer_config.json:   0%|          | 0.00/88.0 [00:00<?, ?B/s]"
            ]
          },
          "metadata": {},
          "output_type": "display_data"
        },
        {
          "data": {
            "application/vnd.jupyter.widget-view+json": {
              "model_id": "b0f5dfc7b8744b6f88b01d46d67cac38",
              "version_major": 2,
              "version_minor": 0
            },
            "text/plain": [
              "config.json:   0%|          | 0.00/1.12k [00:00<?, ?B/s]"
            ]
          },
          "metadata": {},
          "output_type": "display_data"
        },
        {
          "data": {
            "application/vnd.jupyter.widget-view+json": {
              "model_id": "6b9c302ea074452180a4487dcad417c8",
              "version_major": 2,
              "version_minor": 0
            },
            "text/plain": [
              "spiece.model:   0%|          | 0.00/1.91M [00:00<?, ?B/s]"
            ]
          },
          "metadata": {},
          "output_type": "display_data"
        },
        {
          "data": {
            "application/vnd.jupyter.widget-view+json": {
              "model_id": "1ac3a4540a5a4609bbe6b1084a55755d",
              "version_major": 2,
              "version_minor": 0
            },
            "text/plain": [
              "special_tokens_map.json:   0%|          | 0.00/65.0 [00:00<?, ?B/s]"
            ]
          },
          "metadata": {},
          "output_type": "display_data"
        },
        {
          "data": {
            "application/vnd.jupyter.widget-view+json": {
              "model_id": "3bb9dc719a0e401cb0c4f0a5454f0489",
              "version_major": 2,
              "version_minor": 0
            },
            "text/plain": [
              "pytorch_model.bin:   0%|          | 0.00/2.28G [00:00<?, ?B/s]"
            ]
          },
          "metadata": {},
          "output_type": "display_data"
        },
        {
          "name": "stderr",
          "output_type": "stream",
          "text": [
            "Some weights of PegasusForConditionalGeneration were not initialized from the model checkpoint at google/pegasus-cnn_dailymail and are newly initialized: ['model.decoder.embed_positions.weight', 'model.encoder.embed_positions.weight']\n",
            "You should probably TRAIN this model on a down-stream task to be able to use it for predictions and inference.\n"
          ]
        },
        {
          "data": {
            "application/vnd.jupyter.widget-view+json": {
              "model_id": "33476241551c45e1b80c97400a757051",
              "version_major": 2,
              "version_minor": 0
            },
            "text/plain": [
              "generation_config.json:   0%|          | 0.00/280 [00:00<?, ?B/s]"
            ]
          },
          "metadata": {},
          "output_type": "display_data"
        }
      ],
      "source": [
        "# Initialize Pegasus model and tokenizer for CNN/DailyMail\n",
        "model_name = 'google/pegasus-cnn_dailymail'\n",
        "device = 'cuda' if torch.cuda.is_available() else 'cpu'\n",
        "tokenizer = AutoTokenizer.from_pretrained(model_name)\n",
        "model = PegasusForConditionalGeneration.from_pretrained(model_name).to(device)"
      ]
    },
    {
      "cell_type": "code",
      "execution_count": null,
      "metadata": {
        "id": "hfYOJCkJZdL5"
      },
      "outputs": [],
      "source": [
        "test_pegasus = test_data_abs_intro_con['article']"
      ]
    },
    {
      "cell_type": "code",
      "execution_count": null,
      "metadata": {
        "id": "on8ZT08SZpLY"
      },
      "outputs": [],
      "source": [
        "summarize_pipe = pipeline(\"summarization\", model=model, tokenizer=tokenizer, device=0 if device == 'cuda' else -1)"
      ]
    },
    {
      "cell_type": "code",
      "execution_count": null,
      "metadata": {
        "id": "GX46UBA1ZtOB"
      },
      "outputs": [],
      "source": [
        "pipe_out = summarize_pipe(test_pegasus, max_length=200, truncation=True)"
      ]
    },
    {
      "cell_type": "code",
      "execution_count": null,
      "metadata": {
        "id": "EflORb8Wq6NP"
      },
      "outputs": [],
      "source": [
        "generated_summaries = [output['summary_text'] for output in pipe_out]"
      ]
    },
    {
      "cell_type": "code",
      "execution_count": null,
      "metadata": {
        "colab": {
          "base_uri": "https://localhost:8080/"
        },
        "id": "zFQP4-8brnOy",
        "outputId": "193a7365-63b9-407d-e335-43fe1998616f"
      },
      "outputs": [
        {
          "name": "stdout",
          "output_type": "stream",
          "text": [
            "Generated Summary: Seasonal epidemics of influenza virus result in 36 , 000 deaths annually in the United States .<n>Current vaccines against influenza virus elicit an antibody response specific for the envelope glycoproteins .<n>High mutation rates result in the emergence of new viral serotypes, which elude neutralization by preexisting antibodies .\n",
            "--------------------------------------------------------------------------------\n",
            "Generated Summary: Leprosy remains a public health problem in Brazil with new case incidence exceeding WHO goals in endemic clusters throughout the country .<n>Migration can facilitate movement of disease between endemic and non-endemic areas .<n>Alcohol consumption was also associated with leprosy .\n",
            "--------------------------------------------------------------------------------\n",
            "Generated Summary: We investigated what cytokines contribute to increased pathology when IL-10-mediated regulation is absent .<n>Both IFN- and IL-17 levels were substantially elevated in mice lacking the capacity to respond to IL-10 .<n>We propose that regulating IL-17 , possibly by downregulating IL-1 , may be a useful approach for controlling leishmaniasis .\n",
            "--------------------------------------------------------------------------------\n",
            "Generated Summary: The repeatability or predictability of evolution is a central question in evolutionary biology .<n>Here, we infer how genetically heterogeneous natural systems acquire the same molecular changes to address how genomic background affects adaptation in natural populations .\n",
            "--------------------------------------------------------------------------------\n",
            "Generated Summary: Prions are self-propagating conformations of proteins that can cause heritable phenotypic traits .<n> Efficient transmission of infectious aggregates to daughter cells requires that chaperones .<n>including Hsp104 and Sis1 , continually sever the aggregates into smaller “seeds .\n",
            "--------------------------------------------------------------------------------\n"
          ]
        }
      ],
      "source": [
        "for i, summary in enumerate(generated_summaries[:5]):\n",
        "    print(f\"Generated Summary: {summary}\")\n",
        "    print(\"-\"*80)"
      ]
    },
    {
      "cell_type": "code",
      "execution_count": null,
      "metadata": {
        "id": "g4gmS8xdq-dh"
      },
      "outputs": [],
      "source": [
        "reference_summaries = test_data_abs_intro_con['summary']"
      ]
    },
    {
      "cell_type": "code",
      "execution_count": null,
      "metadata": {
        "colab": {
          "base_uri": "https://localhost:8080/"
        },
        "id": "twl-A6IFr1my",
        "outputId": "7cf3a612-6beb-42de-87ab-deafa116a7b2"
      },
      "outputs": [
        {
          "name": "stdout",
          "output_type": "stream",
          "text": [
            "Reference Summary: Influenza virus continues to pose a significant risk to global health and is responsible for thousands of deaths each year in the United States . This threat is largely due to the ability of the influenza virus to undergo rapid changes , allowing it to escape from immune responses elicited by previous infections or vaccinations . Certain internal determinants of the influenza virus are largely conserved across different viral strains and represent attractive targets for potential “universal” influenza vaccines . Here , we demonstrated that cross-subtype protection against the influenza virus could be obtained through simultaneous priming of multiple arms of the immune response against conserved elements of the influenza virus . These results suggest a novel strategy that could potentially form a primary component of a universal influenza vaccine capable of providing long-lasting protection .\n",
            "--------------------------------------------------------------------------------\n",
            "Reference Summary: In Brazil , leprosy remains a significant public health problem in endemic clusters of high transmission risk throughout the country . Migration is thought to be a factor associated with continued leprosy transmission , as migration has also been found to be associated with other Neglected Tropical Diseases ( NTDs ) . We analyzed the association between past five year migration and leprosy as part of a larger epidemiological study evaluating risk factors for infection among recently diagnosed leprosy cases ( n = 340 ) and a matched clinically unapparent control group ( n = 340 ) in the northeastern state of Maranhão . Among migrants with leprosy , 23 . 5% ( n = 80 ) migrated in the past five years , with 16 . 2% ( n = 55 ) of the control group . Past five year migration was significantly associated with leprosy , and remained significant after controlling for household and familial contact as potential confounders . Factors found to be associated with leprosy among past 5-year migrants included alcohol consumption , poverty , and household , family and other leprosy contact . Key patterns of movement emerged from the study that may aid future regional leprosy control efforts .\n",
            "--------------------------------------------------------------------------------\n",
            "Reference Summary: Leishmaniasis is a tropical disease transmitted by sand flies that causes visceral and cutaneous lesions . In humans , the most severe form of cutaneous leishmaniasis is the mucosal form , causing disfiguring lesions in the nasal and oral mucosa . Why these patients develop severe disease is not clear . It is known , however , that the severe disease is not due to an overwhelming number of parasites , but rather appears to be due to an uncontrolled inflammatory response that includes elevated production of IFN-γ and IL-17 . Here , we used a murine model of leishmaniasis to identify the factors involved in this pathology , and found that mice infected with Leishmania major developed severe lesions in the absence of IL-10 or IL-10 signaling , and similar to patients , contained high levels of IFN-γ and IL-17 . While both of these cytokines have the potential to induce pathology , we found that IL-17 was responsible for the severe pathology seen in the absence of IL-10 regulation , and furthermore that IL-17 levels were higher and pathology greater in the absence of IFN-γ . Thus , our study suggests that IL-17 , but not the IFN-γ , is a strong candidate to be targeted in strategies to control the severe immunopathology observed in mucosal leishmaniasis patients .\n",
            "--------------------------------------------------------------------------------\n",
            "Reference Summary: We address how predictable evolution is at the DNA sequence level in nature by studying the parallel evolution of a phenotype that is well understood at the molecular level: the acquisition of sex chromosome dosage compensation in fruit flies . While female flies have two X chromosomes , the males have to compensate by up-regulating genes on their single X chromosome . They do this by using specific sequence motifs on the X chromosome to recruit a cluster of proteins and RNAs called the male-specific lethal ( MSL ) complex . However , different fruit fly lineages have independently co-opted the MSL complex to dosage compensate newly formed X chromosomes through the acquisition of hundreds of new binding sites , thereby providing independent replicas of the evolutionary process both within and between species . Moreover , dosage compensation has often evolved very recently , allowing us to infer the causative mutations by which the novel binding motifs arose . Genome sequencing and genomic occupancy maps of the MSL complex allowed us to infer the location of novel binding sites on the recently formed sex chromosomes of flies from the Drosophila melanica and D . robusta species groups . We show that species use diverse mechanisms to generate novel MSL-binding sites , including the use of presites , expansion of runs of simple sequences , or insertion of transposable elements . We also show that the propensity for using different types of mutations differs between lineages and depends on genomic properties of a species .\n",
            "--------------------------------------------------------------------------------\n",
            "Reference Summary: Certain proteins can occasionally misfold into infectious aggregates called prions . Once formed , these aggregates grow by attracting the soluble form of that protein to join them . The presence of these aggregates can cause profound effects on cells and , in humans , can cause diseases such as transmissible spongiform encephalopathies ( TSEs ) . In yeast , the aggregates are efficiently transmitted to daughter cells because they are cut into small pieces by molecular scissors ( chaperones ) . Here we show that heritable prion aggregates are frequently lost when we overproduce certain other proteins with curing activity . We analyzed one such protein in detail and found that when it is overproduced it forms aggregates that sequester chaperones . This sequestration appears to block the ability of the chaperones to cut the prion aggregates . The result is that the prions get too large to be transmitted to daughter cells . Such sequestration of molecular scissors provides a potential approach to thwart the propagation of disease-causing infectious protein aggregates .\n",
            "--------------------------------------------------------------------------------\n"
          ]
        }
      ],
      "source": [
        "for i, summary in enumerate(reference_summaries[:5]):\n",
        "    print(f\"Reference Summary: {summary}\")\n",
        "    print(\"-\"*80)"
      ]
    },
    {
      "cell_type": "code",
      "execution_count": null,
      "metadata": {
        "id": "3JKi8S6wrGYM"
      },
      "outputs": [],
      "source": [
        "rouge_scores, readability_metrics = evaluate_summaries(reference_summaries, generated_summaries)"
      ]
    },
    {
      "cell_type": "code",
      "execution_count": null,
      "metadata": {
        "colab": {
          "base_uri": "https://localhost:8080/"
        },
        "id": "cxXSTqmqrLHG",
        "outputId": "e9d7297f-5f83-40d5-c1ee-0a5741b01439"
      },
      "outputs": [
        {
          "name": "stdout",
          "output_type": "stream",
          "text": [
            "{'rouge1': {'precision': 0.6187558509211103, 'recall': 0.16820417363425194, 'f1': 0.25868778152793565}, 'rouge2': {'precision': 0.23120701793963774, 'recall': 0.06113934596654327, 'f1': 0.09458982017849499}, 'rougeL': {'precision': 0.41004978553024785, 'recall': 0.10981510866126394, 'f1': 0.16944834066837747}}\n",
            "{'flesch_kincaid_grade': 12.728125, 'gunning_fog_index': 15.292630813953489}\n"
          ]
        }
      ],
      "source": [
        "print(rouge_scores)\n",
        "print(readability_metrics)"
      ]
    },
    {
      "cell_type": "markdown",
      "metadata": {
        "id": "xmP11VmgNMHW"
      },
      "source": [
        "### Pegasus (PubMed) w/ Abs, Intro & Con"
      ]
    },
    {
      "cell_type": "code",
      "execution_count": null,
      "metadata": {
        "colab": {
          "base_uri": "https://localhost:8080/"
        },
        "id": "qWFnWASP6HMf",
        "outputId": "481734fb-5dbb-4781-844c-b58b854689f7"
      },
      "outputs": [
        {
          "name": "stderr",
          "output_type": "stream",
          "text": [
            "Some weights of PegasusForConditionalGeneration were not initialized from the model checkpoint at google/pegasus-pubmed and are newly initialized: ['model.decoder.embed_positions.weight', 'model.encoder.embed_positions.weight']\n",
            "You should probably TRAIN this model on a down-stream task to be able to use it for predictions and inference.\n"
          ]
        }
      ],
      "source": [
        "device = 'cuda' if torch.cuda.is_available() else 'cpu'\n",
        "tokenizer_pubmed = AutoTokenizer.from_pretrained('google/pegasus-pubmed')\n",
        "model_pubmed = PegasusForConditionalGeneration.from_pretrained('google/pegasus-pubmed').to(device)"
      ]
    },
    {
      "cell_type": "code",
      "execution_count": null,
      "metadata": {
        "id": "wjQQV9HK6Sf0"
      },
      "outputs": [],
      "source": [
        "summarize_pipe_pubmed = pipeline(\"summarization\", model=model_pubmed, tokenizer=tokenizer_pubmed, device=0 if device == 'cuda' else -1)"
      ]
    },
    {
      "cell_type": "code",
      "execution_count": null,
      "metadata": {
        "id": "RqM8zzGT6mlM"
      },
      "outputs": [],
      "source": [
        "pipe_out = summarize_pipe_pubmed(test_pegasus, max_length=200, truncation=True)"
      ]
    },
    {
      "cell_type": "code",
      "execution_count": null,
      "metadata": {
        "id": "nUywbuomeZ-N"
      },
      "outputs": [],
      "source": [
        "generated_summaries_pubmed = [output['summary_text'] for output in pipe_out]"
      ]
    },
    {
      "cell_type": "code",
      "execution_count": null,
      "metadata": {
        "colab": {
          "base_uri": "https://localhost:8080/"
        },
        "id": "RAmn5jwaegy7",
        "outputId": "00f4bd7d-2f78-49a8-feee-0dfea85a1786"
      },
      "outputs": [
        {
          "name": "stdout",
          "output_type": "stream",
          "text": [
            "Generated Summary: abstractinfluenza virus causes significant morbidity and mortality in the united states each year . <n> current vaccines elicit specific antibodies against influenza virus serotypes . <n> however , they do not provide adequate protection against multiple strains of the virus . <n> vaccines elicit antibodies against only a small fraction of the viral strains . <n> the majority of these antibodies are nonspecific and do not provide adequate protection against multiple strains of the virus . <n> thus , vaccines elicit antibodies against only a small fraction of the viral strains . <n> the majority of these antibodies are nonspecific and do not provide adequate protection against multiple strains of the virus . <n> vaccines elicit antibodies against only a small fraction of the viral strains . <n> the majority of these antibodies are nonspecific and do not provide adequate protection against multiple strains of the virus . <n> the majority of these antibodies are nonspecific and do not provide adequate protection against multiple strains of the virus .\n",
            "--------------------------------------------------------------------------------\n",
            "Generated Summary: background : leprosy is an infectious disease caused by the mycobacterium leprae . <n> the aim of this study was to examine past five year migration as a risk factor for leprosy , to describe past and temporal patterns of migration among 5-year migrants , and to examine social determinants of health associated leprosy among 5-year migrants.methods:a case control study was conducted comparing individuals newly diagnosed with leprosy ( n = 340 ) with a control group ( n = 55 ) matched for age , sex and household density . <n> logistic regression analysis was employed on multivariate logistic regression analyses.results:multivariate logistic regression analysis was employed on multivariate logistic regression analysis was 23 , 5% cases prior to diagnosis 5-years prior to diagnosis , and 55 controls ( 16 ) . <n> ( 1 ) previous 5-year migration was found to be associated with leprosy ( odds ratio [ or ] = 59 ; 95% confidence interval [ ci ]\n",
            "--------------------------------------------------------------------------------\n",
            "Generated Summary: leishmaniasis is a protozoan disease caused by the protozoan parasite , leishmania spp . <n> ( leishmania species ) . <n> clinical manifestations of leishmaniasis range from asymptomatic lesions to severe , life - threatening , disseminated disease . <n> the disease is controlled by the immune response , that is , the production of cytokines , such as , interleukin- ( il- ) 1 , il-10 , il-17 , and interferon- ( ifn- ) . <n> these cytokines are produced by cells from patients with mucosal leishmaniasis . <n> il-10 and ifn- are increased in patients with cutaneous leishmaniasis . <n> mice lacking these cytokines develop cutaneous leishmaniasis . <n> mice lacking ifn- and infected patients develop cutaneous leishmaniasis . <n> mice lacking il-10 and infected patients develop\n",
            "--------------------------------------------------------------------------------\n",
            "Generated Summary: the ability of a species to adapt to its environment is a fundamental property of life . <n> however , the ability of a species to adapt to its environment is not absolute . <n> it can vary from one species to another or from one generation to another . <n> it can also vary from one species to another depending on the conditions of life at the time . <n> for example , the ability of an insect to adapt to its environment can vary from one species to another or from one generation to another depending on the conditions of life at the time . <n> however , the ability of an animal to adapt to its environment is not absolute . <n> it can vary from one species to another or from one generation to another depending on the conditions of life at the time . <n> for example , the ability of an animal to adapt to its environment can vary from one species to another or from one generation to another depending on the conditions\n",
            "--------------------------------------------------------------------------------\n",
            "Generated Summary: prions are yeast prion proteins that show self-assembly into amyloid fibers . <n> yeast prions include [+]+ , [5]+ , [6]+ , [8]+ , [17]+ , [16]+ , [24]+ , [28]+ , [35]+ , [40]+ , [44]+ , [5]+ , [6]+ , [7]+ , [8]+ , [10]+ , [11]+ , [14]+ , [15]+ , [16]+ , [17]+ , [18]+ , [23]+ , [35]+ , [14]+ , [10]+ , [12]+ , [13]+ , [14]+ ,\n",
            "--------------------------------------------------------------------------------\n",
            "Generated Summary: abstract imprinting in the early embryo is tissue- and stage- specific . <n> imprinting in the heart is tissue- and stage- specific . <n> we show that imprinting in early heart is established and maintained independently of its [cnq1ot1 ] domain , suggesting a role for [cnq1ot1 ] in tissue- and stage- specific gene silencing . <n> [cnq1ot1 ] imprinting in early heart is established and maintained independently of its [cnq1ot1 ] domain , suggesting a role for [cnq1ot1 ] in tissue- and stage- specific gene silencing . <n> [cnq1ot1 ] imprinting in early heart is established and maintained independently of its [cnq1ot1 ] domain , suggesting a role for [cnq1ot1 ] in tissue- and stage- specific gene silencing .\n",
            "--------------------------------------------------------------------------------\n",
            "Generated Summary: background : determining the distribution of neutral genetic variation ( e.g. , alleles ) among newly arising mutations in the human genome is important to resolving important debates in evolutionary and medical genetics . <n> we present a method for assessing the distribution of e.g. , alleles in a population with nonstationary demographic history ( such as modern humans).methods : we use this method to assess the relative contribution of amino acid variation ( e.g. , e.g. , e.g. , e.g. , e.g. , e.g. , e.g. , e.g. , e.g. , e.g. , e.g. , e.g. , e.g. , e.g. , e.g. , e.g. , e.g. , e\n",
            "--------------------------------------------------------------------------------\n",
            "Generated Summary: meiosis is indispensable for the generation of haploid gametes . <n> we report that , in sporadic germ cells , 62dr62 ( serine / threonine protein 62 ) is involved in meiotic initiation via activating signaling . <n> mouse studies demonstrated that , in genetically permissive mice , 62dr62 is required for-8 expression via the activation of signaling , and defects in meiotic initiation from 62dr62-deficient mice could be partially rescued by overexpression of germ cells .\n",
            "--------------------------------------------------------------------------------\n",
            "Generated Summary: abstractthe heart is the most important organ in the body . <n> it provides blood supply to all organs in the body , including the brain and spinal cord . <n> it is the main source of energy and nutrients for the body . <n> it is also the main source of death . <n> it is the main cause of morbidity and mortality in the world . <n> it is the main cause of quality of life in the world . <n> it is the main cause of heart disease in the world . <n> it is the main cause of death in the world . <n> it is the main cause of quality of life in the world . <n> it is the main cause of death in the world . <n> it is the main cause of quality of life in the world . <n> it is the main cause of death in the world . <n> it is the main cause of quality of life in the world\n",
            "--------------------------------------------------------------------------------\n",
            "Generated Summary: abstractinterleukin-10 ( il-10 ) is expressed by regulatory t cells ( tregs ) in the intestinal mucosa . <n> recent studies suggested that il-10-producing t cells ( tregs ) play a role in the prevention of colitis . <n> however , the contribution of these cells in the development of human immune disorders is unknown . <n> recent studies suggested that il-10-producing t cells ( tregs ) are absent in the blood of patients with ulcerative colitis ( uc ) , patients with crohn 's disease ( cd4 + t cells ) , cancer patients and healthy donors . <n> these data suggested that il-10-producing t cells ( tregs ) play a role in the development of human immune disorders . <n> however , the contribution of these cells in the prevention of uc is unknown . <n> recent studies suggested that il-10-producing \n",
            "--------------------------------------------------------------------------------\n"
          ]
        }
      ],
      "source": [
        "for i, summary in enumerate(generated_summaries_pubmed[:10]):\n",
        "    print(f\"Generated Summary: {summary}\")\n",
        "    print(\"-\"*80)"
      ]
    },
    {
      "cell_type": "code",
      "execution_count": null,
      "metadata": {
        "id": "IFRlUCZQej8b"
      },
      "outputs": [],
      "source": [
        "reference_summaries_pubmed = test_data_abs_intro_con['summary']"
      ]
    },
    {
      "cell_type": "code",
      "execution_count": null,
      "metadata": {
        "id": "RtpTQJCQevBe"
      },
      "outputs": [],
      "source": [
        "rouge_scores, readability_metrics = evaluate_summaries(reference_summaries_pubmed, generated_summaries_pubmed)"
      ]
    },
    {
      "cell_type": "code",
      "execution_count": null,
      "metadata": {
        "colab": {
          "base_uri": "https://localhost:8080/"
        },
        "id": "-ERc5A4sezi9",
        "outputId": "e959b92e-282e-47e2-f899-1e12d51bbf03"
      },
      "outputs": [
        {
          "name": "stdout",
          "output_type": "stream",
          "text": [
            "{'rouge1': {'precision': 0.3843653566856268, 'recall': 0.23010030506413415, 'f1': 0.2783010732522601}, 'rouge2': {'precision': 0.0801605663723963, 'recall': 0.046682109298249994, 'f1': 0.056920429132219355}, 'rougeL': {'precision': 0.22916075569755634, 'recall': 0.13581359518279393, 'f1': 0.16442914878354084}}\n",
            "{'flesch_kincaid_grade': 14.176889534883722, 'gunning_fog_index': 13.778452034883722}\n"
          ]
        }
      ],
      "source": [
        "print(rouge_scores)\n",
        "print(readability_metrics)"
      ]
    }
  ],
  "metadata": {
    "accelerator": "GPU",
    "colab": {
      "collapsed_sections": [
        "tHARHoOpmzGp",
        "1GWS4Dahncle",
        "ccufqRWwngTM",
        "itWczNB2f_cp",
        "gYBnTTyyBvnU",
        "tnoV5Xv5hJ7h",
        "I0sGTUuJPZgT",
        "l4HGCLXocZle",
        "n2EQx4XTC4iB",
        "8bDcFwsoYa28",
        "nZZhE7-LGkCs",
        "K5CCGmZTgafD",
        "8flcaoqEU49G",
        "HvttfHYc1ALp",
        "D6vakA2bR5CY",
        "2yySo6UReR9R",
        "-bZsdoIUBkMK",
        "Kr4BLmPEWUNi",
        "EYWCMKTmeJTu",
        "lvJHH4NvfXOR",
        "xmP11VmgNMHW"
      ],
      "gpuType": "T4",
      "provenance": [],
      "machine_shape": "hm"
    },
    "kernelspec": {
      "display_name": "Python 3",
      "name": "python3"
    },
    "language_info": {
      "name": "python"
    },
    "widgets": {
      "application/vnd.jupyter.widget-state+json": {
        "012e9722655841f7a973a69a24f95372": {
          "model_module": "@jupyter-widgets/controls",
          "model_module_version": "1.5.0",
          "model_name": "HTMLModel",
          "state": {
            "_dom_classes": [],
            "_model_module": "@jupyter-widgets/controls",
            "_model_module_version": "1.5.0",
            "_model_name": "HTMLModel",
            "_view_count": null,
            "_view_module": "@jupyter-widgets/controls",
            "_view_module_version": "1.5.0",
            "_view_name": "HTMLView",
            "description": "",
            "description_tooltip": null,
            "layout": "IPY_MODEL_973d29c0ae7c45d9815cd6d3cd59194f",
            "placeholder": "​",
            "style": "IPY_MODEL_872aa60547ff4e72b331168b8e9e1559",
            "value": " 1.36M/1.36M [00:00&lt;00:00, 6.29MB/s]"
          }
        },
        "0156bc7c8fb74a5490fddb58ea8f740e": {
          "model_module": "@jupyter-widgets/base",
          "model_module_version": "1.2.0",
          "model_name": "LayoutModel",
          "state": {
            "_model_module": "@jupyter-widgets/base",
            "_model_module_version": "1.2.0",
            "_model_name": "LayoutModel",
            "_view_count": null,
            "_view_module": "@jupyter-widgets/base",
            "_view_module_version": "1.2.0",
            "_view_name": "LayoutView",
            "align_content": null,
            "align_items": null,
            "align_self": null,
            "border": null,
            "bottom": null,
            "display": null,
            "flex": null,
            "flex_flow": null,
            "grid_area": null,
            "grid_auto_columns": null,
            "grid_auto_flow": null,
            "grid_auto_rows": null,
            "grid_column": null,
            "grid_gap": null,
            "grid_row": null,
            "grid_template_areas": null,
            "grid_template_columns": null,
            "grid_template_rows": null,
            "height": null,
            "justify_content": null,
            "justify_items": null,
            "left": null,
            "margin": null,
            "max_height": null,
            "max_width": null,
            "min_height": null,
            "min_width": null,
            "object_fit": null,
            "object_position": null,
            "order": null,
            "overflow": null,
            "overflow_x": null,
            "overflow_y": null,
            "padding": null,
            "right": null,
            "top": null,
            "visibility": null,
            "width": null
          }
        },
        "016d8275cbdb4125ab34a3d47a532d22": {
          "model_module": "@jupyter-widgets/controls",
          "model_module_version": "1.5.0",
          "model_name": "HTMLModel",
          "state": {
            "_dom_classes": [],
            "_model_module": "@jupyter-widgets/controls",
            "_model_module_version": "1.5.0",
            "_model_name": "HTMLModel",
            "_view_count": null,
            "_view_module": "@jupyter-widgets/controls",
            "_view_module_version": "1.5.0",
            "_view_name": "HTMLView",
            "description": "",
            "description_tooltip": null,
            "layout": "IPY_MODEL_a57508d0a1fa410e8e45ce516b057205",
            "placeholder": "​",
            "style": "IPY_MODEL_8d6da9a1cb064208bab9b5b4b3c76f32",
            "value": "vocab.json: 100%"
          }
        },
        "0566e490db0c434aa8ae7cdf42f6e7dd": {
          "model_module": "@jupyter-widgets/controls",
          "model_module_version": "1.5.0",
          "model_name": "DescriptionStyleModel",
          "state": {
            "_model_module": "@jupyter-widgets/controls",
            "_model_module_version": "1.5.0",
            "_model_name": "DescriptionStyleModel",
            "_view_count": null,
            "_view_module": "@jupyter-widgets/base",
            "_view_module_version": "1.2.0",
            "_view_name": "StyleView",
            "description_width": ""
          }
        },
        "05d18602ccc34c0283149699bc851525": {
          "model_module": "@jupyter-widgets/controls",
          "model_module_version": "1.5.0",
          "model_name": "ProgressStyleModel",
          "state": {
            "_model_module": "@jupyter-widgets/controls",
            "_model_module_version": "1.5.0",
            "_model_name": "ProgressStyleModel",
            "_view_count": null,
            "_view_module": "@jupyter-widgets/base",
            "_view_module_version": "1.2.0",
            "_view_name": "StyleView",
            "bar_color": null,
            "description_width": ""
          }
        },
        "0722b375232e42408db99976619f3726": {
          "model_module": "@jupyter-widgets/controls",
          "model_module_version": "1.5.0",
          "model_name": "DescriptionStyleModel",
          "state": {
            "_model_module": "@jupyter-widgets/controls",
            "_model_module_version": "1.5.0",
            "_model_name": "DescriptionStyleModel",
            "_view_count": null,
            "_view_module": "@jupyter-widgets/base",
            "_view_module_version": "1.2.0",
            "_view_name": "StyleView",
            "description_width": ""
          }
        },
        "074953cf6b68416d983ab55b78da243c": {
          "model_module": "@jupyter-widgets/controls",
          "model_module_version": "1.5.0",
          "model_name": "HBoxModel",
          "state": {
            "_dom_classes": [],
            "_model_module": "@jupyter-widgets/controls",
            "_model_module_version": "1.5.0",
            "_model_name": "HBoxModel",
            "_view_count": null,
            "_view_module": "@jupyter-widgets/controls",
            "_view_module_version": "1.5.0",
            "_view_name": "HBoxView",
            "box_style": "",
            "children": [
              "IPY_MODEL_768ee2c7e4b74dfd8375234dbad73e08",
              "IPY_MODEL_4500f3ebde03464583741b3fa0d1581f",
              "IPY_MODEL_012e9722655841f7a973a69a24f95372"
            ],
            "layout": "IPY_MODEL_2ed533bea80d498b878f98eba97f99e0"
          }
        },
        "09776e291960417485102d0e37c9f50e": {
          "model_module": "@jupyter-widgets/controls",
          "model_module_version": "1.5.0",
          "model_name": "HTMLModel",
          "state": {
            "_dom_classes": [],
            "_model_module": "@jupyter-widgets/controls",
            "_model_module_version": "1.5.0",
            "_model_name": "HTMLModel",
            "_view_count": null,
            "_view_module": "@jupyter-widgets/controls",
            "_view_module_version": "1.5.0",
            "_view_name": "HTMLView",
            "description": "",
            "description_tooltip": null,
            "layout": "IPY_MODEL_33fd414fb2494f88a309e01eb8928eec",
            "placeholder": "​",
            "style": "IPY_MODEL_9d2513c33fa649929905a72e216ca76d",
            "value": "special_tokens_map.json: 100%"
          }
        },
        "0a24de2b0bff4b4e8b2773ecfc17995a": {
          "model_module": "@jupyter-widgets/controls",
          "model_module_version": "1.5.0",
          "model_name": "FloatProgressModel",
          "state": {
            "_dom_classes": [],
            "_model_module": "@jupyter-widgets/controls",
            "_model_module_version": "1.5.0",
            "_model_name": "FloatProgressModel",
            "_view_count": null,
            "_view_module": "@jupyter-widgets/controls",
            "_view_module_version": "1.5.0",
            "_view_name": "ProgressView",
            "bar_style": "success",
            "description": "",
            "description_tooltip": null,
            "layout": "IPY_MODEL_d0dba6dcc3e544ee8bd6497bf5f050e3",
            "max": 1120,
            "min": 0,
            "orientation": "horizontal",
            "style": "IPY_MODEL_f35f36cdc5dd416aac01555625b26d94",
            "value": 1120
          }
        },
        "0aae62461327460191bdcf2c30d87503": {
          "model_module": "@jupyter-widgets/controls",
          "model_module_version": "1.5.0",
          "model_name": "HTMLModel",
          "state": {
            "_dom_classes": [],
            "_model_module": "@jupyter-widgets/controls",
            "_model_module_version": "1.5.0",
            "_model_name": "HTMLModel",
            "_view_count": null,
            "_view_module": "@jupyter-widgets/controls",
            "_view_module_version": "1.5.0",
            "_view_name": "HTMLView",
            "description": "",
            "description_tooltip": null,
            "layout": "IPY_MODEL_c5999ac4d5c4482fa7618f4870d3944e",
            "placeholder": "​",
            "style": "IPY_MODEL_2c7af303424a433db613a3198fb0406d",
            "value": "config.json: 100%"
          }
        },
        "0ba9c3047fd845b9a748a772bd14f2e6": {
          "model_module": "@jupyter-widgets/controls",
          "model_module_version": "1.5.0",
          "model_name": "HTMLModel",
          "state": {
            "_dom_classes": [],
            "_model_module": "@jupyter-widgets/controls",
            "_model_module_version": "1.5.0",
            "_model_name": "HTMLModel",
            "_view_count": null,
            "_view_module": "@jupyter-widgets/controls",
            "_view_module_version": "1.5.0",
            "_view_name": "HTMLView",
            "description": "",
            "description_tooltip": null,
            "layout": "IPY_MODEL_b2c55370408b49dcb235ace6ffe7226d",
            "placeholder": "​",
            "style": "IPY_MODEL_ba2b0f6383304c0c875041e817a8f511",
            "value": "pytorch_model.bin: 100%"
          }
        },
        "0d187a0837614ad48fec04756f0f66d0": {
          "model_module": "@jupyter-widgets/base",
          "model_module_version": "1.2.0",
          "model_name": "LayoutModel",
          "state": {
            "_model_module": "@jupyter-widgets/base",
            "_model_module_version": "1.2.0",
            "_model_name": "LayoutModel",
            "_view_count": null,
            "_view_module": "@jupyter-widgets/base",
            "_view_module_version": "1.2.0",
            "_view_name": "LayoutView",
            "align_content": null,
            "align_items": null,
            "align_self": null,
            "border": null,
            "bottom": null,
            "display": null,
            "flex": null,
            "flex_flow": null,
            "grid_area": null,
            "grid_auto_columns": null,
            "grid_auto_flow": null,
            "grid_auto_rows": null,
            "grid_column": null,
            "grid_gap": null,
            "grid_row": null,
            "grid_template_areas": null,
            "grid_template_columns": null,
            "grid_template_rows": null,
            "height": null,
            "justify_content": null,
            "justify_items": null,
            "left": null,
            "margin": null,
            "max_height": null,
            "max_width": null,
            "min_height": null,
            "min_width": null,
            "object_fit": null,
            "object_position": null,
            "order": null,
            "overflow": null,
            "overflow_x": null,
            "overflow_y": null,
            "padding": null,
            "right": null,
            "top": null,
            "visibility": null,
            "width": null
          }
        },
        "0d82a07a74ef4ece8b4781948d4ec5cb": {
          "model_module": "@jupyter-widgets/controls",
          "model_module_version": "1.5.0",
          "model_name": "FloatProgressModel",
          "state": {
            "_dom_classes": [],
            "_model_module": "@jupyter-widgets/controls",
            "_model_module_version": "1.5.0",
            "_model_name": "FloatProgressModel",
            "_view_count": null,
            "_view_module": "@jupyter-widgets/controls",
            "_view_module_version": "1.5.0",
            "_view_name": "ProgressView",
            "bar_style": "success",
            "description": "",
            "description_tooltip": null,
            "layout": "IPY_MODEL_98c962ed71584ba98b544577c5f20bd4",
            "max": 280,
            "min": 0,
            "orientation": "horizontal",
            "style": "IPY_MODEL_265259fd18bf4768a9aaeeb4c6f9fcec",
            "value": 280
          }
        },
        "0e43308f72694c33a3b4d3b5c236bc8c": {
          "model_module": "@jupyter-widgets/base",
          "model_module_version": "1.2.0",
          "model_name": "LayoutModel",
          "state": {
            "_model_module": "@jupyter-widgets/base",
            "_model_module_version": "1.2.0",
            "_model_name": "LayoutModel",
            "_view_count": null,
            "_view_module": "@jupyter-widgets/base",
            "_view_module_version": "1.2.0",
            "_view_name": "LayoutView",
            "align_content": null,
            "align_items": null,
            "align_self": null,
            "border": null,
            "bottom": null,
            "display": null,
            "flex": null,
            "flex_flow": null,
            "grid_area": null,
            "grid_auto_columns": null,
            "grid_auto_flow": null,
            "grid_auto_rows": null,
            "grid_column": null,
            "grid_gap": null,
            "grid_row": null,
            "grid_template_areas": null,
            "grid_template_columns": null,
            "grid_template_rows": null,
            "height": null,
            "justify_content": null,
            "justify_items": null,
            "left": null,
            "margin": null,
            "max_height": null,
            "max_width": null,
            "min_height": null,
            "min_width": null,
            "object_fit": null,
            "object_position": null,
            "order": null,
            "overflow": null,
            "overflow_x": null,
            "overflow_y": null,
            "padding": null,
            "right": null,
            "top": null,
            "visibility": null,
            "width": null
          }
        },
        "0f8cf2ec980e432a9efee3020c0ee474": {
          "model_module": "@jupyter-widgets/controls",
          "model_module_version": "1.5.0",
          "model_name": "ProgressStyleModel",
          "state": {
            "_model_module": "@jupyter-widgets/controls",
            "_model_module_version": "1.5.0",
            "_model_name": "ProgressStyleModel",
            "_view_count": null,
            "_view_module": "@jupyter-widgets/base",
            "_view_module_version": "1.2.0",
            "_view_name": "StyleView",
            "bar_color": null,
            "description_width": ""
          }
        },
        "153fb34dad6748e3814410a702c6b021": {
          "model_module": "@jupyter-widgets/controls",
          "model_module_version": "1.5.0",
          "model_name": "HTMLModel",
          "state": {
            "_dom_classes": [],
            "_model_module": "@jupyter-widgets/controls",
            "_model_module_version": "1.5.0",
            "_model_name": "HTMLModel",
            "_view_count": null,
            "_view_module": "@jupyter-widgets/controls",
            "_view_module_version": "1.5.0",
            "_view_name": "HTMLView",
            "description": "",
            "description_tooltip": null,
            "layout": "IPY_MODEL_70a91d1008594466bb44eecb1ac21bc2",
            "placeholder": "​",
            "style": "IPY_MODEL_599ed09f1f1d4510be047e7b96b64f05",
            "value": " 1.58k/1.58k [00:00&lt;00:00, 109kB/s]"
          }
        },
        "15af3a8d5f3d445589812b350f5736a8": {
          "model_module": "@jupyter-widgets/controls",
          "model_module_version": "1.5.0",
          "model_name": "HTMLModel",
          "state": {
            "_dom_classes": [],
            "_model_module": "@jupyter-widgets/controls",
            "_model_module_version": "1.5.0",
            "_model_name": "HTMLModel",
            "_view_count": null,
            "_view_module": "@jupyter-widgets/controls",
            "_view_module_version": "1.5.0",
            "_view_name": "HTMLView",
            "description": "",
            "description_tooltip": null,
            "layout": "IPY_MODEL_34bd8b6804aa452dabcc61fd4783bec7",
            "placeholder": "​",
            "style": "IPY_MODEL_3a5f032e4be24d5ebbbd1103b32c1831",
            "value": " 456k/456k [00:00&lt;00:00, 1.08MB/s]"
          }
        },
        "171cedfe3b284954a4a9362a4501718f": {
          "model_module": "@jupyter-widgets/controls",
          "model_module_version": "1.5.0",
          "model_name": "HTMLModel",
          "state": {
            "_dom_classes": [],
            "_model_module": "@jupyter-widgets/controls",
            "_model_module_version": "1.5.0",
            "_model_name": "HTMLModel",
            "_view_count": null,
            "_view_module": "@jupyter-widgets/controls",
            "_view_module_version": "1.5.0",
            "_view_name": "HTMLView",
            "description": "",
            "description_tooltip": null,
            "layout": "IPY_MODEL_813b2875ad47431d9a492d4d7c5642b6",
            "placeholder": "​",
            "style": "IPY_MODEL_6b6cd0bb10dc4f2d870be0f186fed1b6",
            "value": " 1.12k/1.12k [00:00&lt;00:00, 81.2kB/s]"
          }
        },
        "17c9e2cc15004e41ab76654c30dde349": {
          "model_module": "@jupyter-widgets/base",
          "model_module_version": "1.2.0",
          "model_name": "LayoutModel",
          "state": {
            "_model_module": "@jupyter-widgets/base",
            "_model_module_version": "1.2.0",
            "_model_name": "LayoutModel",
            "_view_count": null,
            "_view_module": "@jupyter-widgets/base",
            "_view_module_version": "1.2.0",
            "_view_name": "LayoutView",
            "align_content": null,
            "align_items": null,
            "align_self": null,
            "border": null,
            "bottom": null,
            "display": null,
            "flex": null,
            "flex_flow": null,
            "grid_area": null,
            "grid_auto_columns": null,
            "grid_auto_flow": null,
            "grid_auto_rows": null,
            "grid_column": null,
            "grid_gap": null,
            "grid_row": null,
            "grid_template_areas": null,
            "grid_template_columns": null,
            "grid_template_rows": null,
            "height": null,
            "justify_content": null,
            "justify_items": null,
            "left": null,
            "margin": null,
            "max_height": null,
            "max_width": null,
            "min_height": null,
            "min_width": null,
            "object_fit": null,
            "object_position": null,
            "order": null,
            "overflow": null,
            "overflow_x": null,
            "overflow_y": null,
            "padding": null,
            "right": null,
            "top": null,
            "visibility": null,
            "width": null
          }
        },
        "1857112835d848f199a5843634e901b7": {
          "model_module": "@jupyter-widgets/controls",
          "model_module_version": "1.5.0",
          "model_name": "DescriptionStyleModel",
          "state": {
            "_model_module": "@jupyter-widgets/controls",
            "_model_module_version": "1.5.0",
            "_model_name": "DescriptionStyleModel",
            "_view_count": null,
            "_view_module": "@jupyter-widgets/base",
            "_view_module_version": "1.2.0",
            "_view_name": "StyleView",
            "description_width": ""
          }
        },
        "196acdc878994c6c95e1c433e8c87eb3": {
          "model_module": "@jupyter-widgets/base",
          "model_module_version": "1.2.0",
          "model_name": "LayoutModel",
          "state": {
            "_model_module": "@jupyter-widgets/base",
            "_model_module_version": "1.2.0",
            "_model_name": "LayoutModel",
            "_view_count": null,
            "_view_module": "@jupyter-widgets/base",
            "_view_module_version": "1.2.0",
            "_view_name": "LayoutView",
            "align_content": null,
            "align_items": null,
            "align_self": null,
            "border": null,
            "bottom": null,
            "display": null,
            "flex": null,
            "flex_flow": null,
            "grid_area": null,
            "grid_auto_columns": null,
            "grid_auto_flow": null,
            "grid_auto_rows": null,
            "grid_column": null,
            "grid_gap": null,
            "grid_row": null,
            "grid_template_areas": null,
            "grid_template_columns": null,
            "grid_template_rows": null,
            "height": null,
            "justify_content": null,
            "justify_items": null,
            "left": null,
            "margin": null,
            "max_height": null,
            "max_width": null,
            "min_height": null,
            "min_width": null,
            "object_fit": null,
            "object_position": null,
            "order": null,
            "overflow": null,
            "overflow_x": null,
            "overflow_y": null,
            "padding": null,
            "right": null,
            "top": null,
            "visibility": null,
            "width": null
          }
        },
        "1ac3a4540a5a4609bbe6b1084a55755d": {
          "model_module": "@jupyter-widgets/controls",
          "model_module_version": "1.5.0",
          "model_name": "HBoxModel",
          "state": {
            "_dom_classes": [],
            "_model_module": "@jupyter-widgets/controls",
            "_model_module_version": "1.5.0",
            "_model_name": "HBoxModel",
            "_view_count": null,
            "_view_module": "@jupyter-widgets/controls",
            "_view_module_version": "1.5.0",
            "_view_name": "HBoxView",
            "box_style": "",
            "children": [
              "IPY_MODEL_09776e291960417485102d0e37c9f50e",
              "IPY_MODEL_7cf8d4db5d2440fbb4f9c1bc9826da69",
              "IPY_MODEL_1ae3528bef3746eeb71435bed85b7d04"
            ],
            "layout": "IPY_MODEL_0d187a0837614ad48fec04756f0f66d0"
          }
        },
        "1ae3528bef3746eeb71435bed85b7d04": {
          "model_module": "@jupyter-widgets/controls",
          "model_module_version": "1.5.0",
          "model_name": "HTMLModel",
          "state": {
            "_dom_classes": [],
            "_model_module": "@jupyter-widgets/controls",
            "_model_module_version": "1.5.0",
            "_model_name": "HTMLModel",
            "_view_count": null,
            "_view_module": "@jupyter-widgets/controls",
            "_view_module_version": "1.5.0",
            "_view_name": "HTMLView",
            "description": "",
            "description_tooltip": null,
            "layout": "IPY_MODEL_d9ed9b51e8674e30b79ff873d8744e49",
            "placeholder": "​",
            "style": "IPY_MODEL_dae5aa972d114250809396e05b69f0c0",
            "value": " 65.0/65.0 [00:00&lt;00:00, 6.29kB/s]"
          }
        },
        "1af41400be6c4b9ab926d92c08398e64": {
          "model_module": "@jupyter-widgets/controls",
          "model_module_version": "1.5.0",
          "model_name": "HTMLModel",
          "state": {
            "_dom_classes": [],
            "_model_module": "@jupyter-widgets/controls",
            "_model_module_version": "1.5.0",
            "_model_name": "HTMLModel",
            "_view_count": null,
            "_view_module": "@jupyter-widgets/controls",
            "_view_module_version": "1.5.0",
            "_view_name": "HTMLView",
            "description": "",
            "description_tooltip": null,
            "layout": "IPY_MODEL_56727867650949c3947b82d1ec2a3a68",
            "placeholder": "​",
            "style": "IPY_MODEL_b7298f17cb524d31896d6e5713bb5d57",
            "value": " 436M/436M [00:04&lt;00:00, 96.6MB/s]"
          }
        },
        "1db3d37fbc85463d89e6f0b02608ee50": {
          "model_module": "@jupyter-widgets/base",
          "model_module_version": "1.2.0",
          "model_name": "LayoutModel",
          "state": {
            "_model_module": "@jupyter-widgets/base",
            "_model_module_version": "1.2.0",
            "_model_name": "LayoutModel",
            "_view_count": null,
            "_view_module": "@jupyter-widgets/base",
            "_view_module_version": "1.2.0",
            "_view_name": "LayoutView",
            "align_content": null,
            "align_items": null,
            "align_self": null,
            "border": null,
            "bottom": null,
            "display": null,
            "flex": null,
            "flex_flow": null,
            "grid_area": null,
            "grid_auto_columns": null,
            "grid_auto_flow": null,
            "grid_auto_rows": null,
            "grid_column": null,
            "grid_gap": null,
            "grid_row": null,
            "grid_template_areas": null,
            "grid_template_columns": null,
            "grid_template_rows": null,
            "height": null,
            "justify_content": null,
            "justify_items": null,
            "left": null,
            "margin": null,
            "max_height": null,
            "max_width": null,
            "min_height": null,
            "min_width": null,
            "object_fit": null,
            "object_position": null,
            "order": null,
            "overflow": null,
            "overflow_x": null,
            "overflow_y": null,
            "padding": null,
            "right": null,
            "top": null,
            "visibility": null,
            "width": null
          }
        },
        "1de0ea9f325d48ff94cdb84f2452be19": {
          "model_module": "@jupyter-widgets/controls",
          "model_module_version": "1.5.0",
          "model_name": "HTMLModel",
          "state": {
            "_dom_classes": [],
            "_model_module": "@jupyter-widgets/controls",
            "_model_module_version": "1.5.0",
            "_model_name": "HTMLModel",
            "_view_count": null,
            "_view_module": "@jupyter-widgets/controls",
            "_view_module_version": "1.5.0",
            "_view_name": "HTMLView",
            "description": "",
            "description_tooltip": null,
            "layout": "IPY_MODEL_196acdc878994c6c95e1c433e8c87eb3",
            "placeholder": "​",
            "style": "IPY_MODEL_0566e490db0c434aa8ae7cdf42f6e7dd",
            "value": "pytorch_model.bin: 100%"
          }
        },
        "1e52d4a7879e4aa29444cf610ea4ebb7": {
          "model_module": "@jupyter-widgets/controls",
          "model_module_version": "1.5.0",
          "model_name": "HTMLModel",
          "state": {
            "_dom_classes": [],
            "_model_module": "@jupyter-widgets/controls",
            "_model_module_version": "1.5.0",
            "_model_name": "HTMLModel",
            "_view_count": null,
            "_view_module": "@jupyter-widgets/controls",
            "_view_module_version": "1.5.0",
            "_view_name": "HTMLView",
            "description": "",
            "description_tooltip": null,
            "layout": "IPY_MODEL_9a4a591802b14df9b6d5f250e112be93",
            "placeholder": "​",
            "style": "IPY_MODEL_6e09fd736e86442b8a4a735ece11c96c",
            "value": " 88.0/88.0 [00:00&lt;00:00, 6.49kB/s]"
          }
        },
        "1f48a8abe57140fd9fefddba66623f85": {
          "model_module": "@jupyter-widgets/base",
          "model_module_version": "1.2.0",
          "model_name": "LayoutModel",
          "state": {
            "_model_module": "@jupyter-widgets/base",
            "_model_module_version": "1.2.0",
            "_model_name": "LayoutModel",
            "_view_count": null,
            "_view_module": "@jupyter-widgets/base",
            "_view_module_version": "1.2.0",
            "_view_name": "LayoutView",
            "align_content": null,
            "align_items": null,
            "align_self": null,
            "border": null,
            "bottom": null,
            "display": null,
            "flex": null,
            "flex_flow": null,
            "grid_area": null,
            "grid_auto_columns": null,
            "grid_auto_flow": null,
            "grid_auto_rows": null,
            "grid_column": null,
            "grid_gap": null,
            "grid_row": null,
            "grid_template_areas": null,
            "grid_template_columns": null,
            "grid_template_rows": null,
            "height": null,
            "justify_content": null,
            "justify_items": null,
            "left": null,
            "margin": null,
            "max_height": null,
            "max_width": null,
            "min_height": null,
            "min_width": null,
            "object_fit": null,
            "object_position": null,
            "order": null,
            "overflow": null,
            "overflow_x": null,
            "overflow_y": null,
            "padding": null,
            "right": null,
            "top": null,
            "visibility": null,
            "width": null
          }
        },
        "20672d23bf6a4bd8857480b8ae92adea": {
          "model_module": "@jupyter-widgets/controls",
          "model_module_version": "1.5.0",
          "model_name": "HTMLModel",
          "state": {
            "_dom_classes": [],
            "_model_module": "@jupyter-widgets/controls",
            "_model_module_version": "1.5.0",
            "_model_name": "HTMLModel",
            "_view_count": null,
            "_view_module": "@jupyter-widgets/controls",
            "_view_module_version": "1.5.0",
            "_view_name": "HTMLView",
            "description": "",
            "description_tooltip": null,
            "layout": "IPY_MODEL_d358785b33e1478383a9cb4dd825f300",
            "placeholder": "​",
            "style": "IPY_MODEL_c770474ae85a4485975a589427b237e9",
            "value": "vocab.txt: 100%"
          }
        },
        "23731019109449b7bd4bd09aae287acf": {
          "model_module": "@jupyter-widgets/controls",
          "model_module_version": "1.5.0",
          "model_name": "ProgressStyleModel",
          "state": {
            "_model_module": "@jupyter-widgets/controls",
            "_model_module_version": "1.5.0",
            "_model_name": "ProgressStyleModel",
            "_view_count": null,
            "_view_module": "@jupyter-widgets/base",
            "_view_module_version": "1.2.0",
            "_view_name": "StyleView",
            "bar_color": null,
            "description_width": ""
          }
        },
        "24135dabb31c4c369657a26122c2c171": {
          "model_module": "@jupyter-widgets/controls",
          "model_module_version": "1.5.0",
          "model_name": "HTMLModel",
          "state": {
            "_dom_classes": [],
            "_model_module": "@jupyter-widgets/controls",
            "_model_module_version": "1.5.0",
            "_model_name": "HTMLModel",
            "_view_count": null,
            "_view_module": "@jupyter-widgets/controls",
            "_view_module_version": "1.5.0",
            "_view_name": "HTMLView",
            "description": "",
            "description_tooltip": null,
            "layout": "IPY_MODEL_d268f6325fc44880b8db1486b9ca1a86",
            "placeholder": "​",
            "style": "IPY_MODEL_be41535dea2847d495f6bebb45b40262",
            "value": " 1.63G/1.63G [00:03&lt;00:00, 419MB/s]"
          }
        },
        "25232d711ced4be4a2e2bca75720feac": {
          "model_module": "@jupyter-widgets/base",
          "model_module_version": "1.2.0",
          "model_name": "LayoutModel",
          "state": {
            "_model_module": "@jupyter-widgets/base",
            "_model_module_version": "1.2.0",
            "_model_name": "LayoutModel",
            "_view_count": null,
            "_view_module": "@jupyter-widgets/base",
            "_view_module_version": "1.2.0",
            "_view_name": "LayoutView",
            "align_content": null,
            "align_items": null,
            "align_self": null,
            "border": null,
            "bottom": null,
            "display": null,
            "flex": null,
            "flex_flow": null,
            "grid_area": null,
            "grid_auto_columns": null,
            "grid_auto_flow": null,
            "grid_auto_rows": null,
            "grid_column": null,
            "grid_gap": null,
            "grid_row": null,
            "grid_template_areas": null,
            "grid_template_columns": null,
            "grid_template_rows": null,
            "height": null,
            "justify_content": null,
            "justify_items": null,
            "left": null,
            "margin": null,
            "max_height": null,
            "max_width": null,
            "min_height": null,
            "min_width": null,
            "object_fit": null,
            "object_position": null,
            "order": null,
            "overflow": null,
            "overflow_x": null,
            "overflow_y": null,
            "padding": null,
            "right": null,
            "top": null,
            "visibility": null,
            "width": null
          }
        },
        "263b22921d694677a7ba72cb1560242d": {
          "model_module": "@jupyter-widgets/controls",
          "model_module_version": "1.5.0",
          "model_name": "FloatProgressModel",
          "state": {
            "_dom_classes": [],
            "_model_module": "@jupyter-widgets/controls",
            "_model_module_version": "1.5.0",
            "_model_name": "FloatProgressModel",
            "_view_count": null,
            "_view_module": "@jupyter-widgets/controls",
            "_view_module_version": "1.5.0",
            "_view_name": "ProgressView",
            "bar_style": "success",
            "description": "",
            "description_tooltip": null,
            "layout": "IPY_MODEL_98cddde6662340a68961661a1f1cbcdf",
            "max": 1912529,
            "min": 0,
            "orientation": "horizontal",
            "style": "IPY_MODEL_23731019109449b7bd4bd09aae287acf",
            "value": 1912529
          }
        },
        "265259fd18bf4768a9aaeeb4c6f9fcec": {
          "model_module": "@jupyter-widgets/controls",
          "model_module_version": "1.5.0",
          "model_name": "ProgressStyleModel",
          "state": {
            "_model_module": "@jupyter-widgets/controls",
            "_model_module_version": "1.5.0",
            "_model_name": "ProgressStyleModel",
            "_view_count": null,
            "_view_module": "@jupyter-widgets/base",
            "_view_module_version": "1.2.0",
            "_view_name": "StyleView",
            "bar_color": null,
            "description_width": ""
          }
        },
        "267fb66bf0b2488784a44ffcb07431ed": {
          "model_module": "@jupyter-widgets/controls",
          "model_module_version": "1.5.0",
          "model_name": "DescriptionStyleModel",
          "state": {
            "_model_module": "@jupyter-widgets/controls",
            "_model_module_version": "1.5.0",
            "_model_name": "DescriptionStyleModel",
            "_view_count": null,
            "_view_module": "@jupyter-widgets/base",
            "_view_module_version": "1.2.0",
            "_view_name": "StyleView",
            "description_width": ""
          }
        },
        "2a479f382ee7446692c9425354be9695": {
          "model_module": "@jupyter-widgets/controls",
          "model_module_version": "1.5.0",
          "model_name": "HBoxModel",
          "state": {
            "_dom_classes": [],
            "_model_module": "@jupyter-widgets/controls",
            "_model_module_version": "1.5.0",
            "_model_name": "HBoxModel",
            "_view_count": null,
            "_view_module": "@jupyter-widgets/controls",
            "_view_module_version": "1.5.0",
            "_view_name": "HBoxView",
            "box_style": "",
            "children": [
              "IPY_MODEL_56568c4367b946038cc3a7b93527a697",
              "IPY_MODEL_cf574c3379204708878fd6585ccd9fd6",
              "IPY_MODEL_824893cec3bb40c5a147166ff225e29f"
            ],
            "layout": "IPY_MODEL_0156bc7c8fb74a5490fddb58ea8f740e"
          }
        },
        "2c7af303424a433db613a3198fb0406d": {
          "model_module": "@jupyter-widgets/controls",
          "model_module_version": "1.5.0",
          "model_name": "DescriptionStyleModel",
          "state": {
            "_model_module": "@jupyter-widgets/controls",
            "_model_module_version": "1.5.0",
            "_model_name": "DescriptionStyleModel",
            "_view_count": null,
            "_view_module": "@jupyter-widgets/base",
            "_view_module_version": "1.2.0",
            "_view_name": "StyleView",
            "description_width": ""
          }
        },
        "2ed533bea80d498b878f98eba97f99e0": {
          "model_module": "@jupyter-widgets/base",
          "model_module_version": "1.2.0",
          "model_name": "LayoutModel",
          "state": {
            "_model_module": "@jupyter-widgets/base",
            "_model_module_version": "1.2.0",
            "_model_name": "LayoutModel",
            "_view_count": null,
            "_view_module": "@jupyter-widgets/base",
            "_view_module_version": "1.2.0",
            "_view_name": "LayoutView",
            "align_content": null,
            "align_items": null,
            "align_self": null,
            "border": null,
            "bottom": null,
            "display": null,
            "flex": null,
            "flex_flow": null,
            "grid_area": null,
            "grid_auto_columns": null,
            "grid_auto_flow": null,
            "grid_auto_rows": null,
            "grid_column": null,
            "grid_gap": null,
            "grid_row": null,
            "grid_template_areas": null,
            "grid_template_columns": null,
            "grid_template_rows": null,
            "height": null,
            "justify_content": null,
            "justify_items": null,
            "left": null,
            "margin": null,
            "max_height": null,
            "max_width": null,
            "min_height": null,
            "min_width": null,
            "object_fit": null,
            "object_position": null,
            "order": null,
            "overflow": null,
            "overflow_x": null,
            "overflow_y": null,
            "padding": null,
            "right": null,
            "top": null,
            "visibility": null,
            "width": null
          }
        },
        "2f10bf117c864456a590f451fd0766ba": {
          "model_module": "@jupyter-widgets/controls",
          "model_module_version": "1.5.0",
          "model_name": "HTMLModel",
          "state": {
            "_dom_classes": [],
            "_model_module": "@jupyter-widgets/controls",
            "_model_module_version": "1.5.0",
            "_model_name": "HTMLModel",
            "_view_count": null,
            "_view_module": "@jupyter-widgets/controls",
            "_view_module_version": "1.5.0",
            "_view_name": "HTMLView",
            "description": "",
            "description_tooltip": null,
            "layout": "IPY_MODEL_ee94e463d4c841319db9fc8428feb2ac",
            "placeholder": "​",
            "style": "IPY_MODEL_6f2da39d1bc34f00a15cea98f5e1e5e1",
            "value": " 280/280 [00:00&lt;00:00, 7.65kB/s]"
          }
        },
        "3184bb94ec954264b1ee74c2d7bf1bde": {
          "model_module": "@jupyter-widgets/base",
          "model_module_version": "1.2.0",
          "model_name": "LayoutModel",
          "state": {
            "_model_module": "@jupyter-widgets/base",
            "_model_module_version": "1.2.0",
            "_model_name": "LayoutModel",
            "_view_count": null,
            "_view_module": "@jupyter-widgets/base",
            "_view_module_version": "1.2.0",
            "_view_name": "LayoutView",
            "align_content": null,
            "align_items": null,
            "align_self": null,
            "border": null,
            "bottom": null,
            "display": null,
            "flex": null,
            "flex_flow": null,
            "grid_area": null,
            "grid_auto_columns": null,
            "grid_auto_flow": null,
            "grid_auto_rows": null,
            "grid_column": null,
            "grid_gap": null,
            "grid_row": null,
            "grid_template_areas": null,
            "grid_template_columns": null,
            "grid_template_rows": null,
            "height": null,
            "justify_content": null,
            "justify_items": null,
            "left": null,
            "margin": null,
            "max_height": null,
            "max_width": null,
            "min_height": null,
            "min_width": null,
            "object_fit": null,
            "object_position": null,
            "order": null,
            "overflow": null,
            "overflow_x": null,
            "overflow_y": null,
            "padding": null,
            "right": null,
            "top": null,
            "visibility": null,
            "width": null
          }
        },
        "321270d3940849fcbd7ed8be02ecc0af": {
          "model_module": "@jupyter-widgets/base",
          "model_module_version": "1.2.0",
          "model_name": "LayoutModel",
          "state": {
            "_model_module": "@jupyter-widgets/base",
            "_model_module_version": "1.2.0",
            "_model_name": "LayoutModel",
            "_view_count": null,
            "_view_module": "@jupyter-widgets/base",
            "_view_module_version": "1.2.0",
            "_view_name": "LayoutView",
            "align_content": null,
            "align_items": null,
            "align_self": null,
            "border": null,
            "bottom": null,
            "display": null,
            "flex": null,
            "flex_flow": null,
            "grid_area": null,
            "grid_auto_columns": null,
            "grid_auto_flow": null,
            "grid_auto_rows": null,
            "grid_column": null,
            "grid_gap": null,
            "grid_row": null,
            "grid_template_areas": null,
            "grid_template_columns": null,
            "grid_template_rows": null,
            "height": null,
            "justify_content": null,
            "justify_items": null,
            "left": null,
            "margin": null,
            "max_height": null,
            "max_width": null,
            "min_height": null,
            "min_width": null,
            "object_fit": null,
            "object_position": null,
            "order": null,
            "overflow": null,
            "overflow_x": null,
            "overflow_y": null,
            "padding": null,
            "right": null,
            "top": null,
            "visibility": null,
            "width": null
          }
        },
        "33476241551c45e1b80c97400a757051": {
          "model_module": "@jupyter-widgets/controls",
          "model_module_version": "1.5.0",
          "model_name": "HBoxModel",
          "state": {
            "_dom_classes": [],
            "_model_module": "@jupyter-widgets/controls",
            "_model_module_version": "1.5.0",
            "_model_name": "HBoxModel",
            "_view_count": null,
            "_view_module": "@jupyter-widgets/controls",
            "_view_module_version": "1.5.0",
            "_view_name": "HBoxView",
            "box_style": "",
            "children": [
              "IPY_MODEL_afe49f06c6f24bc78dc722c3b101ce40",
              "IPY_MODEL_0d82a07a74ef4ece8b4781948d4ec5cb",
              "IPY_MODEL_2f10bf117c864456a590f451fd0766ba"
            ],
            "layout": "IPY_MODEL_381ae86e00fb4e7cb56efa2514f93c91"
          }
        },
        "33fd414fb2494f88a309e01eb8928eec": {
          "model_module": "@jupyter-widgets/base",
          "model_module_version": "1.2.0",
          "model_name": "LayoutModel",
          "state": {
            "_model_module": "@jupyter-widgets/base",
            "_model_module_version": "1.2.0",
            "_model_name": "LayoutModel",
            "_view_count": null,
            "_view_module": "@jupyter-widgets/base",
            "_view_module_version": "1.2.0",
            "_view_name": "LayoutView",
            "align_content": null,
            "align_items": null,
            "align_self": null,
            "border": null,
            "bottom": null,
            "display": null,
            "flex": null,
            "flex_flow": null,
            "grid_area": null,
            "grid_auto_columns": null,
            "grid_auto_flow": null,
            "grid_auto_rows": null,
            "grid_column": null,
            "grid_gap": null,
            "grid_row": null,
            "grid_template_areas": null,
            "grid_template_columns": null,
            "grid_template_rows": null,
            "height": null,
            "justify_content": null,
            "justify_items": null,
            "left": null,
            "margin": null,
            "max_height": null,
            "max_width": null,
            "min_height": null,
            "min_width": null,
            "object_fit": null,
            "object_position": null,
            "order": null,
            "overflow": null,
            "overflow_x": null,
            "overflow_y": null,
            "padding": null,
            "right": null,
            "top": null,
            "visibility": null,
            "width": null
          }
        },
        "34bd8b6804aa452dabcc61fd4783bec7": {
          "model_module": "@jupyter-widgets/base",
          "model_module_version": "1.2.0",
          "model_name": "LayoutModel",
          "state": {
            "_model_module": "@jupyter-widgets/base",
            "_model_module_version": "1.2.0",
            "_model_name": "LayoutModel",
            "_view_count": null,
            "_view_module": "@jupyter-widgets/base",
            "_view_module_version": "1.2.0",
            "_view_name": "LayoutView",
            "align_content": null,
            "align_items": null,
            "align_self": null,
            "border": null,
            "bottom": null,
            "display": null,
            "flex": null,
            "flex_flow": null,
            "grid_area": null,
            "grid_auto_columns": null,
            "grid_auto_flow": null,
            "grid_auto_rows": null,
            "grid_column": null,
            "grid_gap": null,
            "grid_row": null,
            "grid_template_areas": null,
            "grid_template_columns": null,
            "grid_template_rows": null,
            "height": null,
            "justify_content": null,
            "justify_items": null,
            "left": null,
            "margin": null,
            "max_height": null,
            "max_width": null,
            "min_height": null,
            "min_width": null,
            "object_fit": null,
            "object_position": null,
            "order": null,
            "overflow": null,
            "overflow_x": null,
            "overflow_y": null,
            "padding": null,
            "right": null,
            "top": null,
            "visibility": null,
            "width": null
          }
        },
        "36b72ef6f4e348e8b1ca9cf43747125a": {
          "model_module": "@jupyter-widgets/base",
          "model_module_version": "1.2.0",
          "model_name": "LayoutModel",
          "state": {
            "_model_module": "@jupyter-widgets/base",
            "_model_module_version": "1.2.0",
            "_model_name": "LayoutModel",
            "_view_count": null,
            "_view_module": "@jupyter-widgets/base",
            "_view_module_version": "1.2.0",
            "_view_name": "LayoutView",
            "align_content": null,
            "align_items": null,
            "align_self": null,
            "border": null,
            "bottom": null,
            "display": null,
            "flex": null,
            "flex_flow": null,
            "grid_area": null,
            "grid_auto_columns": null,
            "grid_auto_flow": null,
            "grid_auto_rows": null,
            "grid_column": null,
            "grid_gap": null,
            "grid_row": null,
            "grid_template_areas": null,
            "grid_template_columns": null,
            "grid_template_rows": null,
            "height": null,
            "justify_content": null,
            "justify_items": null,
            "left": null,
            "margin": null,
            "max_height": null,
            "max_width": null,
            "min_height": null,
            "min_width": null,
            "object_fit": null,
            "object_position": null,
            "order": null,
            "overflow": null,
            "overflow_x": null,
            "overflow_y": null,
            "padding": null,
            "right": null,
            "top": null,
            "visibility": null,
            "width": null
          }
        },
        "372ab5b8d48e427db866193092215875": {
          "model_module": "@jupyter-widgets/controls",
          "model_module_version": "1.5.0",
          "model_name": "HBoxModel",
          "state": {
            "_dom_classes": [],
            "_model_module": "@jupyter-widgets/controls",
            "_model_module_version": "1.5.0",
            "_model_name": "HBoxModel",
            "_view_count": null,
            "_view_module": "@jupyter-widgets/controls",
            "_view_module_version": "1.5.0",
            "_view_name": "HBoxView",
            "box_style": "",
            "children": [
              "IPY_MODEL_016d8275cbdb4125ab34a3d47a532d22",
              "IPY_MODEL_4d96d5f254954bd3bc119b7797d1d2a4",
              "IPY_MODEL_c5dee52a6432478195c3dee9a1d752e4"
            ],
            "layout": "IPY_MODEL_36b72ef6f4e348e8b1ca9cf43747125a"
          }
        },
        "381ae86e00fb4e7cb56efa2514f93c91": {
          "model_module": "@jupyter-widgets/base",
          "model_module_version": "1.2.0",
          "model_name": "LayoutModel",
          "state": {
            "_model_module": "@jupyter-widgets/base",
            "_model_module_version": "1.2.0",
            "_model_name": "LayoutModel",
            "_view_count": null,
            "_view_module": "@jupyter-widgets/base",
            "_view_module_version": "1.2.0",
            "_view_name": "LayoutView",
            "align_content": null,
            "align_items": null,
            "align_self": null,
            "border": null,
            "bottom": null,
            "display": null,
            "flex": null,
            "flex_flow": null,
            "grid_area": null,
            "grid_auto_columns": null,
            "grid_auto_flow": null,
            "grid_auto_rows": null,
            "grid_column": null,
            "grid_gap": null,
            "grid_row": null,
            "grid_template_areas": null,
            "grid_template_columns": null,
            "grid_template_rows": null,
            "height": null,
            "justify_content": null,
            "justify_items": null,
            "left": null,
            "margin": null,
            "max_height": null,
            "max_width": null,
            "min_height": null,
            "min_width": null,
            "object_fit": null,
            "object_position": null,
            "order": null,
            "overflow": null,
            "overflow_x": null,
            "overflow_y": null,
            "padding": null,
            "right": null,
            "top": null,
            "visibility": null,
            "width": null
          }
        },
        "38484a49e88a4bdaab42914e6b2d1950": {
          "model_module": "@jupyter-widgets/controls",
          "model_module_version": "1.5.0",
          "model_name": "ProgressStyleModel",
          "state": {
            "_model_module": "@jupyter-widgets/controls",
            "_model_module_version": "1.5.0",
            "_model_name": "ProgressStyleModel",
            "_view_count": null,
            "_view_module": "@jupyter-widgets/base",
            "_view_module_version": "1.2.0",
            "_view_name": "StyleView",
            "bar_color": null,
            "description_width": ""
          }
        },
        "3a5f032e4be24d5ebbbd1103b32c1831": {
          "model_module": "@jupyter-widgets/controls",
          "model_module_version": "1.5.0",
          "model_name": "DescriptionStyleModel",
          "state": {
            "_model_module": "@jupyter-widgets/controls",
            "_model_module_version": "1.5.0",
            "_model_name": "DescriptionStyleModel",
            "_view_count": null,
            "_view_module": "@jupyter-widgets/base",
            "_view_module_version": "1.2.0",
            "_view_name": "StyleView",
            "description_width": ""
          }
        },
        "3bb9dc719a0e401cb0c4f0a5454f0489": {
          "model_module": "@jupyter-widgets/controls",
          "model_module_version": "1.5.0",
          "model_name": "HBoxModel",
          "state": {
            "_dom_classes": [],
            "_model_module": "@jupyter-widgets/controls",
            "_model_module_version": "1.5.0",
            "_model_name": "HBoxModel",
            "_view_count": null,
            "_view_module": "@jupyter-widgets/controls",
            "_view_module_version": "1.5.0",
            "_view_name": "HBoxView",
            "box_style": "",
            "children": [
              "IPY_MODEL_1de0ea9f325d48ff94cdb84f2452be19",
              "IPY_MODEL_587be7fc58c2420e97029d3a77ced3f9",
              "IPY_MODEL_7fd17fa010c24143934180c25ce8efa9"
            ],
            "layout": "IPY_MODEL_da4a563e72d54e36b0077db043bf0887"
          }
        },
        "3ce75d2d9c714e5b82366dcd77f5197e": {
          "model_module": "@jupyter-widgets/controls",
          "model_module_version": "1.5.0",
          "model_name": "DescriptionStyleModel",
          "state": {
            "_model_module": "@jupyter-widgets/controls",
            "_model_module_version": "1.5.0",
            "_model_name": "DescriptionStyleModel",
            "_view_count": null,
            "_view_module": "@jupyter-widgets/base",
            "_view_module_version": "1.2.0",
            "_view_name": "StyleView",
            "description_width": ""
          }
        },
        "3e0ddbd407ec46d1b7f82bb48e10ed3c": {
          "model_module": "@jupyter-widgets/controls",
          "model_module_version": "1.5.0",
          "model_name": "HTMLModel",
          "state": {
            "_dom_classes": [],
            "_model_module": "@jupyter-widgets/controls",
            "_model_module_version": "1.5.0",
            "_model_name": "HTMLModel",
            "_view_count": null,
            "_view_module": "@jupyter-widgets/controls",
            "_view_module_version": "1.5.0",
            "_view_name": "HTMLView",
            "description": "",
            "description_tooltip": null,
            "layout": "IPY_MODEL_3184bb94ec954264b1ee74c2d7bf1bde",
            "placeholder": "​",
            "style": "IPY_MODEL_3ce75d2d9c714e5b82366dcd77f5197e",
            "value": " 313/313 [00:00&lt;00:00, 26.4kB/s]"
          }
        },
        "3ee4a2d570a34e34b76930daeceeac93": {
          "model_module": "@jupyter-widgets/controls",
          "model_module_version": "1.5.0",
          "model_name": "HBoxModel",
          "state": {
            "_dom_classes": [],
            "_model_module": "@jupyter-widgets/controls",
            "_model_module_version": "1.5.0",
            "_model_name": "HBoxModel",
            "_view_count": null,
            "_view_module": "@jupyter-widgets/controls",
            "_view_module_version": "1.5.0",
            "_view_name": "HBoxView",
            "box_style": "",
            "children": [
              "IPY_MODEL_6700a77139fa42e89f63305c290a5739",
              "IPY_MODEL_96c5182a45834038b68f234cac97e016",
              "IPY_MODEL_1e52d4a7879e4aa29444cf610ea4ebb7"
            ],
            "layout": "IPY_MODEL_a710651ca8ec46f58a850d914e37177b"
          }
        },
        "41f9e8a55228493fbbd8e5d9520d5d1b": {
          "model_module": "@jupyter-widgets/controls",
          "model_module_version": "1.5.0",
          "model_name": "FloatProgressModel",
          "state": {
            "_dom_classes": [],
            "_model_module": "@jupyter-widgets/controls",
            "_model_module_version": "1.5.0",
            "_model_name": "FloatProgressModel",
            "_view_count": null,
            "_view_module": "@jupyter-widgets/controls",
            "_view_module_version": "1.5.0",
            "_view_name": "ProgressView",
            "bar_style": "success",
            "description": "",
            "description_tooltip": null,
            "layout": "IPY_MODEL_8e82c76f3feb4a3db40c3b413a901d8c",
            "max": 1625222120,
            "min": 0,
            "orientation": "horizontal",
            "style": "IPY_MODEL_aca07dca8429411ca832a7da1b9fc042",
            "value": 1625222120
          }
        },
        "436f11725c9848c19091f9948ddf10bc": {
          "model_module": "@jupyter-widgets/base",
          "model_module_version": "1.2.0",
          "model_name": "LayoutModel",
          "state": {
            "_model_module": "@jupyter-widgets/base",
            "_model_module_version": "1.2.0",
            "_model_name": "LayoutModel",
            "_view_count": null,
            "_view_module": "@jupyter-widgets/base",
            "_view_module_version": "1.2.0",
            "_view_name": "LayoutView",
            "align_content": null,
            "align_items": null,
            "align_self": null,
            "border": null,
            "bottom": null,
            "display": null,
            "flex": null,
            "flex_flow": null,
            "grid_area": null,
            "grid_auto_columns": null,
            "grid_auto_flow": null,
            "grid_auto_rows": null,
            "grid_column": null,
            "grid_gap": null,
            "grid_row": null,
            "grid_template_areas": null,
            "grid_template_columns": null,
            "grid_template_rows": null,
            "height": null,
            "justify_content": null,
            "justify_items": null,
            "left": null,
            "margin": null,
            "max_height": null,
            "max_width": null,
            "min_height": null,
            "min_width": null,
            "object_fit": null,
            "object_position": null,
            "order": null,
            "overflow": null,
            "overflow_x": null,
            "overflow_y": null,
            "padding": null,
            "right": null,
            "top": null,
            "visibility": null,
            "width": null
          }
        },
        "44f4405bc99743ab8ef494291d0fe7c4": {
          "model_module": "@jupyter-widgets/base",
          "model_module_version": "1.2.0",
          "model_name": "LayoutModel",
          "state": {
            "_model_module": "@jupyter-widgets/base",
            "_model_module_version": "1.2.0",
            "_model_name": "LayoutModel",
            "_view_count": null,
            "_view_module": "@jupyter-widgets/base",
            "_view_module_version": "1.2.0",
            "_view_name": "LayoutView",
            "align_content": null,
            "align_items": null,
            "align_self": null,
            "border": null,
            "bottom": null,
            "display": null,
            "flex": null,
            "flex_flow": null,
            "grid_area": null,
            "grid_auto_columns": null,
            "grid_auto_flow": null,
            "grid_auto_rows": null,
            "grid_column": null,
            "grid_gap": null,
            "grid_row": null,
            "grid_template_areas": null,
            "grid_template_columns": null,
            "grid_template_rows": null,
            "height": null,
            "justify_content": null,
            "justify_items": null,
            "left": null,
            "margin": null,
            "max_height": null,
            "max_width": null,
            "min_height": null,
            "min_width": null,
            "object_fit": null,
            "object_position": null,
            "order": null,
            "overflow": null,
            "overflow_x": null,
            "overflow_y": null,
            "padding": null,
            "right": null,
            "top": null,
            "visibility": null,
            "width": null
          }
        },
        "4500f3ebde03464583741b3fa0d1581f": {
          "model_module": "@jupyter-widgets/controls",
          "model_module_version": "1.5.0",
          "model_name": "FloatProgressModel",
          "state": {
            "_dom_classes": [],
            "_model_module": "@jupyter-widgets/controls",
            "_model_module_version": "1.5.0",
            "_model_name": "FloatProgressModel",
            "_view_count": null,
            "_view_module": "@jupyter-widgets/controls",
            "_view_module_version": "1.5.0",
            "_view_name": "ProgressView",
            "bar_style": "success",
            "description": "",
            "description_tooltip": null,
            "layout": "IPY_MODEL_321270d3940849fcbd7ed8be02ecc0af",
            "max": 1355863,
            "min": 0,
            "orientation": "horizontal",
            "style": "IPY_MODEL_a8a4b20a6142484d876e20d50586dbb0",
            "value": 1355863
          }
        },
        "462fcaaa4d464eb1ba1971180c119a29": {
          "model_module": "@jupyter-widgets/base",
          "model_module_version": "1.2.0",
          "model_name": "LayoutModel",
          "state": {
            "_model_module": "@jupyter-widgets/base",
            "_model_module_version": "1.2.0",
            "_model_name": "LayoutModel",
            "_view_count": null,
            "_view_module": "@jupyter-widgets/base",
            "_view_module_version": "1.2.0",
            "_view_name": "LayoutView",
            "align_content": null,
            "align_items": null,
            "align_self": null,
            "border": null,
            "bottom": null,
            "display": null,
            "flex": null,
            "flex_flow": null,
            "grid_area": null,
            "grid_auto_columns": null,
            "grid_auto_flow": null,
            "grid_auto_rows": null,
            "grid_column": null,
            "grid_gap": null,
            "grid_row": null,
            "grid_template_areas": null,
            "grid_template_columns": null,
            "grid_template_rows": null,
            "height": null,
            "justify_content": null,
            "justify_items": null,
            "left": null,
            "margin": null,
            "max_height": null,
            "max_width": null,
            "min_height": null,
            "min_width": null,
            "object_fit": null,
            "object_position": null,
            "order": null,
            "overflow": null,
            "overflow_x": null,
            "overflow_y": null,
            "padding": null,
            "right": null,
            "top": null,
            "visibility": null,
            "width": null
          }
        },
        "4678274ee05b445c90c40b4d3db0e575": {
          "model_module": "@jupyter-widgets/base",
          "model_module_version": "1.2.0",
          "model_name": "LayoutModel",
          "state": {
            "_model_module": "@jupyter-widgets/base",
            "_model_module_version": "1.2.0",
            "_model_name": "LayoutModel",
            "_view_count": null,
            "_view_module": "@jupyter-widgets/base",
            "_view_module_version": "1.2.0",
            "_view_name": "LayoutView",
            "align_content": null,
            "align_items": null,
            "align_self": null,
            "border": null,
            "bottom": null,
            "display": null,
            "flex": null,
            "flex_flow": null,
            "grid_area": null,
            "grid_auto_columns": null,
            "grid_auto_flow": null,
            "grid_auto_rows": null,
            "grid_column": null,
            "grid_gap": null,
            "grid_row": null,
            "grid_template_areas": null,
            "grid_template_columns": null,
            "grid_template_rows": null,
            "height": null,
            "justify_content": null,
            "justify_items": null,
            "left": null,
            "margin": null,
            "max_height": null,
            "max_width": null,
            "min_height": null,
            "min_width": null,
            "object_fit": null,
            "object_position": null,
            "order": null,
            "overflow": null,
            "overflow_x": null,
            "overflow_y": null,
            "padding": null,
            "right": null,
            "top": null,
            "visibility": null,
            "width": null
          }
        },
        "4923a1b7de57492da2ad4c5d37756968": {
          "model_module": "@jupyter-widgets/base",
          "model_module_version": "1.2.0",
          "model_name": "LayoutModel",
          "state": {
            "_model_module": "@jupyter-widgets/base",
            "_model_module_version": "1.2.0",
            "_model_name": "LayoutModel",
            "_view_count": null,
            "_view_module": "@jupyter-widgets/base",
            "_view_module_version": "1.2.0",
            "_view_name": "LayoutView",
            "align_content": null,
            "align_items": null,
            "align_self": null,
            "border": null,
            "bottom": null,
            "display": null,
            "flex": null,
            "flex_flow": null,
            "grid_area": null,
            "grid_auto_columns": null,
            "grid_auto_flow": null,
            "grid_auto_rows": null,
            "grid_column": null,
            "grid_gap": null,
            "grid_row": null,
            "grid_template_areas": null,
            "grid_template_columns": null,
            "grid_template_rows": null,
            "height": null,
            "justify_content": null,
            "justify_items": null,
            "left": null,
            "margin": null,
            "max_height": null,
            "max_width": null,
            "min_height": null,
            "min_width": null,
            "object_fit": null,
            "object_position": null,
            "order": null,
            "overflow": null,
            "overflow_x": null,
            "overflow_y": null,
            "padding": null,
            "right": null,
            "top": null,
            "visibility": null,
            "width": null
          }
        },
        "49271b267a5045859ee1090bcdc118e0": {
          "model_module": "@jupyter-widgets/controls",
          "model_module_version": "1.5.0",
          "model_name": "HBoxModel",
          "state": {
            "_dom_classes": [],
            "_model_module": "@jupyter-widgets/controls",
            "_model_module_version": "1.5.0",
            "_model_name": "HBoxModel",
            "_view_count": null,
            "_view_module": "@jupyter-widgets/controls",
            "_view_module_version": "1.5.0",
            "_view_name": "HBoxView",
            "box_style": "",
            "children": [
              "IPY_MODEL_0aae62461327460191bdcf2c30d87503",
              "IPY_MODEL_746376b263e24a7bba49c60a5184415f",
              "IPY_MODEL_3e0ddbd407ec46d1b7f82bb48e10ed3c"
            ],
            "layout": "IPY_MODEL_ea41581576c849908494980ee7176dff"
          }
        },
        "4b01cf7de1b84949bdd441f6d59a7d42": {
          "model_module": "@jupyter-widgets/controls",
          "model_module_version": "1.5.0",
          "model_name": "DescriptionStyleModel",
          "state": {
            "_model_module": "@jupyter-widgets/controls",
            "_model_module_version": "1.5.0",
            "_model_name": "DescriptionStyleModel",
            "_view_count": null,
            "_view_module": "@jupyter-widgets/base",
            "_view_module_version": "1.2.0",
            "_view_name": "StyleView",
            "description_width": ""
          }
        },
        "4d96d5f254954bd3bc119b7797d1d2a4": {
          "model_module": "@jupyter-widgets/controls",
          "model_module_version": "1.5.0",
          "model_name": "FloatProgressModel",
          "state": {
            "_dom_classes": [],
            "_model_module": "@jupyter-widgets/controls",
            "_model_module_version": "1.5.0",
            "_model_name": "FloatProgressModel",
            "_view_count": null,
            "_view_module": "@jupyter-widgets/controls",
            "_view_module_version": "1.5.0",
            "_view_name": "ProgressView",
            "bar_style": "success",
            "description": "",
            "description_tooltip": null,
            "layout": "IPY_MODEL_4923a1b7de57492da2ad4c5d37756968",
            "max": 898823,
            "min": 0,
            "orientation": "horizontal",
            "style": "IPY_MODEL_38484a49e88a4bdaab42914e6b2d1950",
            "value": 898823
          }
        },
        "4e0c3b9e7bda48a986efa8c2005b9024": {
          "model_module": "@jupyter-widgets/controls",
          "model_module_version": "1.5.0",
          "model_name": "ProgressStyleModel",
          "state": {
            "_model_module": "@jupyter-widgets/controls",
            "_model_module_version": "1.5.0",
            "_model_name": "ProgressStyleModel",
            "_view_count": null,
            "_view_module": "@jupyter-widgets/base",
            "_view_module_version": "1.2.0",
            "_view_name": "StyleView",
            "bar_color": null,
            "description_width": ""
          }
        },
        "55db235ead1d4be9ac0a14421b502b51": {
          "model_module": "@jupyter-widgets/controls",
          "model_module_version": "1.5.0",
          "model_name": "DescriptionStyleModel",
          "state": {
            "_model_module": "@jupyter-widgets/controls",
            "_model_module_version": "1.5.0",
            "_model_name": "DescriptionStyleModel",
            "_view_count": null,
            "_view_module": "@jupyter-widgets/base",
            "_view_module_version": "1.2.0",
            "_view_name": "StyleView",
            "description_width": ""
          }
        },
        "56568c4367b946038cc3a7b93527a697": {
          "model_module": "@jupyter-widgets/controls",
          "model_module_version": "1.5.0",
          "model_name": "HTMLModel",
          "state": {
            "_dom_classes": [],
            "_model_module": "@jupyter-widgets/controls",
            "_model_module_version": "1.5.0",
            "_model_name": "HTMLModel",
            "_view_count": null,
            "_view_module": "@jupyter-widgets/controls",
            "_view_module_version": "1.5.0",
            "_view_name": "HTMLView",
            "description": "",
            "description_tooltip": null,
            "layout": "IPY_MODEL_1f48a8abe57140fd9fefddba66623f85",
            "placeholder": "​",
            "style": "IPY_MODEL_cb5a4320b6274fda96955fcf5862d97d",
            "value": "generation_config.json: 100%"
          }
        },
        "56727867650949c3947b82d1ec2a3a68": {
          "model_module": "@jupyter-widgets/base",
          "model_module_version": "1.2.0",
          "model_name": "LayoutModel",
          "state": {
            "_model_module": "@jupyter-widgets/base",
            "_model_module_version": "1.2.0",
            "_model_name": "LayoutModel",
            "_view_count": null,
            "_view_module": "@jupyter-widgets/base",
            "_view_module_version": "1.2.0",
            "_view_name": "LayoutView",
            "align_content": null,
            "align_items": null,
            "align_self": null,
            "border": null,
            "bottom": null,
            "display": null,
            "flex": null,
            "flex_flow": null,
            "grid_area": null,
            "grid_auto_columns": null,
            "grid_auto_flow": null,
            "grid_auto_rows": null,
            "grid_column": null,
            "grid_gap": null,
            "grid_row": null,
            "grid_template_areas": null,
            "grid_template_columns": null,
            "grid_template_rows": null,
            "height": null,
            "justify_content": null,
            "justify_items": null,
            "left": null,
            "margin": null,
            "max_height": null,
            "max_width": null,
            "min_height": null,
            "min_width": null,
            "object_fit": null,
            "object_position": null,
            "order": null,
            "overflow": null,
            "overflow_x": null,
            "overflow_y": null,
            "padding": null,
            "right": null,
            "top": null,
            "visibility": null,
            "width": null
          }
        },
        "587be7fc58c2420e97029d3a77ced3f9": {
          "model_module": "@jupyter-widgets/controls",
          "model_module_version": "1.5.0",
          "model_name": "FloatProgressModel",
          "state": {
            "_dom_classes": [],
            "_model_module": "@jupyter-widgets/controls",
            "_model_module_version": "1.5.0",
            "_model_name": "FloatProgressModel",
            "_view_count": null,
            "_view_module": "@jupyter-widgets/controls",
            "_view_module_version": "1.5.0",
            "_view_name": "ProgressView",
            "bar_style": "success",
            "description": "",
            "description_tooltip": null,
            "layout": "IPY_MODEL_622a8dee8e044edfa955b6f6bb431781",
            "max": 2275327883,
            "min": 0,
            "orientation": "horizontal",
            "style": "IPY_MODEL_d40757ebface4565bb46f378ad6414a3",
            "value": 2275327883
          }
        },
        "599ed09f1f1d4510be047e7b96b64f05": {
          "model_module": "@jupyter-widgets/controls",
          "model_module_version": "1.5.0",
          "model_name": "DescriptionStyleModel",
          "state": {
            "_model_module": "@jupyter-widgets/controls",
            "_model_module_version": "1.5.0",
            "_model_name": "DescriptionStyleModel",
            "_view_count": null,
            "_view_module": "@jupyter-widgets/base",
            "_view_module_version": "1.2.0",
            "_view_name": "StyleView",
            "description_width": ""
          }
        },
        "5b679c00762a492dace5a2b46e46793f": {
          "model_module": "@jupyter-widgets/base",
          "model_module_version": "1.2.0",
          "model_name": "LayoutModel",
          "state": {
            "_model_module": "@jupyter-widgets/base",
            "_model_module_version": "1.2.0",
            "_model_name": "LayoutModel",
            "_view_count": null,
            "_view_module": "@jupyter-widgets/base",
            "_view_module_version": "1.2.0",
            "_view_name": "LayoutView",
            "align_content": null,
            "align_items": null,
            "align_self": null,
            "border": null,
            "bottom": null,
            "display": null,
            "flex": null,
            "flex_flow": null,
            "grid_area": null,
            "grid_auto_columns": null,
            "grid_auto_flow": null,
            "grid_auto_rows": null,
            "grid_column": null,
            "grid_gap": null,
            "grid_row": null,
            "grid_template_areas": null,
            "grid_template_columns": null,
            "grid_template_rows": null,
            "height": null,
            "justify_content": null,
            "justify_items": null,
            "left": null,
            "margin": null,
            "max_height": null,
            "max_width": null,
            "min_height": null,
            "min_width": null,
            "object_fit": null,
            "object_position": null,
            "order": null,
            "overflow": null,
            "overflow_x": null,
            "overflow_y": null,
            "padding": null,
            "right": null,
            "top": null,
            "visibility": null,
            "width": null
          }
        },
        "5babc4b1baa74eddb5a17d592c190db7": {
          "model_module": "@jupyter-widgets/controls",
          "model_module_version": "1.5.0",
          "model_name": "ProgressStyleModel",
          "state": {
            "_model_module": "@jupyter-widgets/controls",
            "_model_module_version": "1.5.0",
            "_model_name": "ProgressStyleModel",
            "_view_count": null,
            "_view_module": "@jupyter-widgets/base",
            "_view_module_version": "1.2.0",
            "_view_name": "StyleView",
            "bar_color": null,
            "description_width": ""
          }
        },
        "622a8dee8e044edfa955b6f6bb431781": {
          "model_module": "@jupyter-widgets/base",
          "model_module_version": "1.2.0",
          "model_name": "LayoutModel",
          "state": {
            "_model_module": "@jupyter-widgets/base",
            "_model_module_version": "1.2.0",
            "_model_name": "LayoutModel",
            "_view_count": null,
            "_view_module": "@jupyter-widgets/base",
            "_view_module_version": "1.2.0",
            "_view_name": "LayoutView",
            "align_content": null,
            "align_items": null,
            "align_self": null,
            "border": null,
            "bottom": null,
            "display": null,
            "flex": null,
            "flex_flow": null,
            "grid_area": null,
            "grid_auto_columns": null,
            "grid_auto_flow": null,
            "grid_auto_rows": null,
            "grid_column": null,
            "grid_gap": null,
            "grid_row": null,
            "grid_template_areas": null,
            "grid_template_columns": null,
            "grid_template_rows": null,
            "height": null,
            "justify_content": null,
            "justify_items": null,
            "left": null,
            "margin": null,
            "max_height": null,
            "max_width": null,
            "min_height": null,
            "min_width": null,
            "object_fit": null,
            "object_position": null,
            "order": null,
            "overflow": null,
            "overflow_x": null,
            "overflow_y": null,
            "padding": null,
            "right": null,
            "top": null,
            "visibility": null,
            "width": null
          }
        },
        "63e2e85a21fa42bab8f09eb8df7c4d0b": {
          "model_module": "@jupyter-widgets/base",
          "model_module_version": "1.2.0",
          "model_name": "LayoutModel",
          "state": {
            "_model_module": "@jupyter-widgets/base",
            "_model_module_version": "1.2.0",
            "_model_name": "LayoutModel",
            "_view_count": null,
            "_view_module": "@jupyter-widgets/base",
            "_view_module_version": "1.2.0",
            "_view_name": "LayoutView",
            "align_content": null,
            "align_items": null,
            "align_self": null,
            "border": null,
            "bottom": null,
            "display": null,
            "flex": null,
            "flex_flow": null,
            "grid_area": null,
            "grid_auto_columns": null,
            "grid_auto_flow": null,
            "grid_auto_rows": null,
            "grid_column": null,
            "grid_gap": null,
            "grid_row": null,
            "grid_template_areas": null,
            "grid_template_columns": null,
            "grid_template_rows": null,
            "height": null,
            "justify_content": null,
            "justify_items": null,
            "left": null,
            "margin": null,
            "max_height": null,
            "max_width": null,
            "min_height": null,
            "min_width": null,
            "object_fit": null,
            "object_position": null,
            "order": null,
            "overflow": null,
            "overflow_x": null,
            "overflow_y": null,
            "padding": null,
            "right": null,
            "top": null,
            "visibility": null,
            "width": null
          }
        },
        "6700a77139fa42e89f63305c290a5739": {
          "model_module": "@jupyter-widgets/controls",
          "model_module_version": "1.5.0",
          "model_name": "HTMLModel",
          "state": {
            "_dom_classes": [],
            "_model_module": "@jupyter-widgets/controls",
            "_model_module_version": "1.5.0",
            "_model_name": "HTMLModel",
            "_view_count": null,
            "_view_module": "@jupyter-widgets/controls",
            "_view_module_version": "1.5.0",
            "_view_name": "HTMLView",
            "description": "",
            "description_tooltip": null,
            "layout": "IPY_MODEL_44f4405bc99743ab8ef494291d0fe7c4",
            "placeholder": "​",
            "style": "IPY_MODEL_dc7566132c034759895492c0e5194e9e",
            "value": "tokenizer_config.json: 100%"
          }
        },
        "68e9948a66234d4ab3c49cde5b7d371c": {
          "model_module": "@jupyter-widgets/base",
          "model_module_version": "1.2.0",
          "model_name": "LayoutModel",
          "state": {
            "_model_module": "@jupyter-widgets/base",
            "_model_module_version": "1.2.0",
            "_model_name": "LayoutModel",
            "_view_count": null,
            "_view_module": "@jupyter-widgets/base",
            "_view_module_version": "1.2.0",
            "_view_name": "LayoutView",
            "align_content": null,
            "align_items": null,
            "align_self": null,
            "border": null,
            "bottom": null,
            "display": null,
            "flex": null,
            "flex_flow": null,
            "grid_area": null,
            "grid_auto_columns": null,
            "grid_auto_flow": null,
            "grid_auto_rows": null,
            "grid_column": null,
            "grid_gap": null,
            "grid_row": null,
            "grid_template_areas": null,
            "grid_template_columns": null,
            "grid_template_rows": null,
            "height": null,
            "justify_content": null,
            "justify_items": null,
            "left": null,
            "margin": null,
            "max_height": null,
            "max_width": null,
            "min_height": null,
            "min_width": null,
            "object_fit": null,
            "object_position": null,
            "order": null,
            "overflow": null,
            "overflow_x": null,
            "overflow_y": null,
            "padding": null,
            "right": null,
            "top": null,
            "visibility": null,
            "width": null
          }
        },
        "6b6cd0bb10dc4f2d870be0f186fed1b6": {
          "model_module": "@jupyter-widgets/controls",
          "model_module_version": "1.5.0",
          "model_name": "DescriptionStyleModel",
          "state": {
            "_model_module": "@jupyter-widgets/controls",
            "_model_module_version": "1.5.0",
            "_model_name": "DescriptionStyleModel",
            "_view_count": null,
            "_view_module": "@jupyter-widgets/base",
            "_view_module_version": "1.2.0",
            "_view_name": "StyleView",
            "description_width": ""
          }
        },
        "6b9c302ea074452180a4487dcad417c8": {
          "model_module": "@jupyter-widgets/controls",
          "model_module_version": "1.5.0",
          "model_name": "HBoxModel",
          "state": {
            "_dom_classes": [],
            "_model_module": "@jupyter-widgets/controls",
            "_model_module_version": "1.5.0",
            "_model_name": "HBoxModel",
            "_view_count": null,
            "_view_module": "@jupyter-widgets/controls",
            "_view_module_version": "1.5.0",
            "_view_name": "HBoxView",
            "box_style": "",
            "children": [
              "IPY_MODEL_d58ce990cf984e38b0d40211847d83e6",
              "IPY_MODEL_263b22921d694677a7ba72cb1560242d",
              "IPY_MODEL_7a70efa5372449a29870fdad0b7a916d"
            ],
            "layout": "IPY_MODEL_9749dd836d25467a84cc60cac4924a24"
          }
        },
        "6bcda1a76ee84cc8b016d8d7456b8659": {
          "model_module": "@jupyter-widgets/base",
          "model_module_version": "1.2.0",
          "model_name": "LayoutModel",
          "state": {
            "_model_module": "@jupyter-widgets/base",
            "_model_module_version": "1.2.0",
            "_model_name": "LayoutModel",
            "_view_count": null,
            "_view_module": "@jupyter-widgets/base",
            "_view_module_version": "1.2.0",
            "_view_name": "LayoutView",
            "align_content": null,
            "align_items": null,
            "align_self": null,
            "border": null,
            "bottom": null,
            "display": null,
            "flex": null,
            "flex_flow": null,
            "grid_area": null,
            "grid_auto_columns": null,
            "grid_auto_flow": null,
            "grid_auto_rows": null,
            "grid_column": null,
            "grid_gap": null,
            "grid_row": null,
            "grid_template_areas": null,
            "grid_template_columns": null,
            "grid_template_rows": null,
            "height": null,
            "justify_content": null,
            "justify_items": null,
            "left": null,
            "margin": null,
            "max_height": null,
            "max_width": null,
            "min_height": null,
            "min_width": null,
            "object_fit": null,
            "object_position": null,
            "order": null,
            "overflow": null,
            "overflow_x": null,
            "overflow_y": null,
            "padding": null,
            "right": null,
            "top": null,
            "visibility": null,
            "width": null
          }
        },
        "6e09fd736e86442b8a4a735ece11c96c": {
          "model_module": "@jupyter-widgets/controls",
          "model_module_version": "1.5.0",
          "model_name": "DescriptionStyleModel",
          "state": {
            "_model_module": "@jupyter-widgets/controls",
            "_model_module_version": "1.5.0",
            "_model_name": "DescriptionStyleModel",
            "_view_count": null,
            "_view_module": "@jupyter-widgets/base",
            "_view_module_version": "1.2.0",
            "_view_name": "StyleView",
            "description_width": ""
          }
        },
        "6f2da39d1bc34f00a15cea98f5e1e5e1": {
          "model_module": "@jupyter-widgets/controls",
          "model_module_version": "1.5.0",
          "model_name": "DescriptionStyleModel",
          "state": {
            "_model_module": "@jupyter-widgets/controls",
            "_model_module_version": "1.5.0",
            "_model_name": "DescriptionStyleModel",
            "_view_count": null,
            "_view_module": "@jupyter-widgets/base",
            "_view_module_version": "1.2.0",
            "_view_name": "StyleView",
            "description_width": ""
          }
        },
        "70a91d1008594466bb44eecb1ac21bc2": {
          "model_module": "@jupyter-widgets/base",
          "model_module_version": "1.2.0",
          "model_name": "LayoutModel",
          "state": {
            "_model_module": "@jupyter-widgets/base",
            "_model_module_version": "1.2.0",
            "_model_name": "LayoutModel",
            "_view_count": null,
            "_view_module": "@jupyter-widgets/base",
            "_view_module_version": "1.2.0",
            "_view_name": "LayoutView",
            "align_content": null,
            "align_items": null,
            "align_self": null,
            "border": null,
            "bottom": null,
            "display": null,
            "flex": null,
            "flex_flow": null,
            "grid_area": null,
            "grid_auto_columns": null,
            "grid_auto_flow": null,
            "grid_auto_rows": null,
            "grid_column": null,
            "grid_gap": null,
            "grid_row": null,
            "grid_template_areas": null,
            "grid_template_columns": null,
            "grid_template_rows": null,
            "height": null,
            "justify_content": null,
            "justify_items": null,
            "left": null,
            "margin": null,
            "max_height": null,
            "max_width": null,
            "min_height": null,
            "min_width": null,
            "object_fit": null,
            "object_position": null,
            "order": null,
            "overflow": null,
            "overflow_x": null,
            "overflow_y": null,
            "padding": null,
            "right": null,
            "top": null,
            "visibility": null,
            "width": null
          }
        },
        "736b5b93736d412891529a6f4fd45bf0": {
          "model_module": "@jupyter-widgets/base",
          "model_module_version": "1.2.0",
          "model_name": "LayoutModel",
          "state": {
            "_model_module": "@jupyter-widgets/base",
            "_model_module_version": "1.2.0",
            "_model_name": "LayoutModel",
            "_view_count": null,
            "_view_module": "@jupyter-widgets/base",
            "_view_module_version": "1.2.0",
            "_view_name": "LayoutView",
            "align_content": null,
            "align_items": null,
            "align_self": null,
            "border": null,
            "bottom": null,
            "display": null,
            "flex": null,
            "flex_flow": null,
            "grid_area": null,
            "grid_auto_columns": null,
            "grid_auto_flow": null,
            "grid_auto_rows": null,
            "grid_column": null,
            "grid_gap": null,
            "grid_row": null,
            "grid_template_areas": null,
            "grid_template_columns": null,
            "grid_template_rows": null,
            "height": null,
            "justify_content": null,
            "justify_items": null,
            "left": null,
            "margin": null,
            "max_height": null,
            "max_width": null,
            "min_height": null,
            "min_width": null,
            "object_fit": null,
            "object_position": null,
            "order": null,
            "overflow": null,
            "overflow_x": null,
            "overflow_y": null,
            "padding": null,
            "right": null,
            "top": null,
            "visibility": null,
            "width": null
          }
        },
        "746376b263e24a7bba49c60a5184415f": {
          "model_module": "@jupyter-widgets/controls",
          "model_module_version": "1.5.0",
          "model_name": "FloatProgressModel",
          "state": {
            "_dom_classes": [],
            "_model_module": "@jupyter-widgets/controls",
            "_model_module_version": "1.5.0",
            "_model_name": "FloatProgressModel",
            "_view_count": null,
            "_view_module": "@jupyter-widgets/controls",
            "_view_module_version": "1.5.0",
            "_view_name": "ProgressView",
            "bar_style": "success",
            "description": "",
            "description_tooltip": null,
            "layout": "IPY_MODEL_f3a2886087e14eac8b7ddc01ff730c06",
            "max": 313,
            "min": 0,
            "orientation": "horizontal",
            "style": "IPY_MODEL_7b8c94abc85940b19c9c79d43f443d53",
            "value": 313
          }
        },
        "768ee2c7e4b74dfd8375234dbad73e08": {
          "model_module": "@jupyter-widgets/controls",
          "model_module_version": "1.5.0",
          "model_name": "HTMLModel",
          "state": {
            "_dom_classes": [],
            "_model_module": "@jupyter-widgets/controls",
            "_model_module_version": "1.5.0",
            "_model_name": "HTMLModel",
            "_view_count": null,
            "_view_module": "@jupyter-widgets/controls",
            "_view_module_version": "1.5.0",
            "_view_name": "HTMLView",
            "description": "",
            "description_tooltip": null,
            "layout": "IPY_MODEL_68e9948a66234d4ab3c49cde5b7d371c",
            "placeholder": "​",
            "style": "IPY_MODEL_e776d10cf6294dc39837dac653cfe37c",
            "value": "tokenizer.json: 100%"
          }
        },
        "76fb633ee9ef459db92ea22bb3bd27e3": {
          "model_module": "@jupyter-widgets/base",
          "model_module_version": "1.2.0",
          "model_name": "LayoutModel",
          "state": {
            "_model_module": "@jupyter-widgets/base",
            "_model_module_version": "1.2.0",
            "_model_name": "LayoutModel",
            "_view_count": null,
            "_view_module": "@jupyter-widgets/base",
            "_view_module_version": "1.2.0",
            "_view_name": "LayoutView",
            "align_content": null,
            "align_items": null,
            "align_self": null,
            "border": null,
            "bottom": null,
            "display": null,
            "flex": null,
            "flex_flow": null,
            "grid_area": null,
            "grid_auto_columns": null,
            "grid_auto_flow": null,
            "grid_auto_rows": null,
            "grid_column": null,
            "grid_gap": null,
            "grid_row": null,
            "grid_template_areas": null,
            "grid_template_columns": null,
            "grid_template_rows": null,
            "height": null,
            "justify_content": null,
            "justify_items": null,
            "left": null,
            "margin": null,
            "max_height": null,
            "max_width": null,
            "min_height": null,
            "min_width": null,
            "object_fit": null,
            "object_position": null,
            "order": null,
            "overflow": null,
            "overflow_x": null,
            "overflow_y": null,
            "padding": null,
            "right": null,
            "top": null,
            "visibility": null,
            "width": null
          }
        },
        "7a70efa5372449a29870fdad0b7a916d": {
          "model_module": "@jupyter-widgets/controls",
          "model_module_version": "1.5.0",
          "model_name": "HTMLModel",
          "state": {
            "_dom_classes": [],
            "_model_module": "@jupyter-widgets/controls",
            "_model_module_version": "1.5.0",
            "_model_name": "HTMLModel",
            "_view_count": null,
            "_view_module": "@jupyter-widgets/controls",
            "_view_module_version": "1.5.0",
            "_view_name": "HTMLView",
            "description": "",
            "description_tooltip": null,
            "layout": "IPY_MODEL_cfca3184d3c74cb6bd4d25986060f078",
            "placeholder": "​",
            "style": "IPY_MODEL_267fb66bf0b2488784a44ffcb07431ed",
            "value": " 1.91M/1.91M [00:00&lt;00:00, 6.71MB/s]"
          }
        },
        "7b8c94abc85940b19c9c79d43f443d53": {
          "model_module": "@jupyter-widgets/controls",
          "model_module_version": "1.5.0",
          "model_name": "ProgressStyleModel",
          "state": {
            "_model_module": "@jupyter-widgets/controls",
            "_model_module_version": "1.5.0",
            "_model_name": "ProgressStyleModel",
            "_view_count": null,
            "_view_module": "@jupyter-widgets/base",
            "_view_module_version": "1.2.0",
            "_view_name": "StyleView",
            "bar_color": null,
            "description_width": ""
          }
        },
        "7cf8d4db5d2440fbb4f9c1bc9826da69": {
          "model_module": "@jupyter-widgets/controls",
          "model_module_version": "1.5.0",
          "model_name": "FloatProgressModel",
          "state": {
            "_dom_classes": [],
            "_model_module": "@jupyter-widgets/controls",
            "_model_module_version": "1.5.0",
            "_model_name": "FloatProgressModel",
            "_view_count": null,
            "_view_module": "@jupyter-widgets/controls",
            "_view_module_version": "1.5.0",
            "_view_name": "ProgressView",
            "bar_style": "success",
            "description": "",
            "description_tooltip": null,
            "layout": "IPY_MODEL_bc40ba865d654a51921a27ecbdf272b2",
            "max": 65,
            "min": 0,
            "orientation": "horizontal",
            "style": "IPY_MODEL_c228b7166e504d59982d02b74807ed03",
            "value": 65
          }
        },
        "7e2bce8f72314c9d80595d6063fa37b7": {
          "model_module": "@jupyter-widgets/controls",
          "model_module_version": "1.5.0",
          "model_name": "DescriptionStyleModel",
          "state": {
            "_model_module": "@jupyter-widgets/controls",
            "_model_module_version": "1.5.0",
            "_model_name": "DescriptionStyleModel",
            "_view_count": null,
            "_view_module": "@jupyter-widgets/base",
            "_view_module_version": "1.2.0",
            "_view_name": "StyleView",
            "description_width": ""
          }
        },
        "7fd17fa010c24143934180c25ce8efa9": {
          "model_module": "@jupyter-widgets/controls",
          "model_module_version": "1.5.0",
          "model_name": "HTMLModel",
          "state": {
            "_dom_classes": [],
            "_model_module": "@jupyter-widgets/controls",
            "_model_module_version": "1.5.0",
            "_model_name": "HTMLModel",
            "_view_count": null,
            "_view_module": "@jupyter-widgets/controls",
            "_view_module_version": "1.5.0",
            "_view_name": "HTMLView",
            "description": "",
            "description_tooltip": null,
            "layout": "IPY_MODEL_8d8a81833a2c4aa49185a2b433b16fd6",
            "placeholder": "​",
            "style": "IPY_MODEL_9fa0b6494ddb4325b5fc6cce2d74494e",
            "value": " 2.28G/2.28G [00:19&lt;00:00, 137MB/s]"
          }
        },
        "811323e9c51747f190a956ba085192a9": {
          "model_module": "@jupyter-widgets/base",
          "model_module_version": "1.2.0",
          "model_name": "LayoutModel",
          "state": {
            "_model_module": "@jupyter-widgets/base",
            "_model_module_version": "1.2.0",
            "_model_name": "LayoutModel",
            "_view_count": null,
            "_view_module": "@jupyter-widgets/base",
            "_view_module_version": "1.2.0",
            "_view_name": "LayoutView",
            "align_content": null,
            "align_items": null,
            "align_self": null,
            "border": null,
            "bottom": null,
            "display": null,
            "flex": null,
            "flex_flow": null,
            "grid_area": null,
            "grid_auto_columns": null,
            "grid_auto_flow": null,
            "grid_auto_rows": null,
            "grid_column": null,
            "grid_gap": null,
            "grid_row": null,
            "grid_template_areas": null,
            "grid_template_columns": null,
            "grid_template_rows": null,
            "height": null,
            "justify_content": null,
            "justify_items": null,
            "left": null,
            "margin": null,
            "max_height": null,
            "max_width": null,
            "min_height": null,
            "min_width": null,
            "object_fit": null,
            "object_position": null,
            "order": null,
            "overflow": null,
            "overflow_x": null,
            "overflow_y": null,
            "padding": null,
            "right": null,
            "top": null,
            "visibility": null,
            "width": null
          }
        },
        "813b2875ad47431d9a492d4d7c5642b6": {
          "model_module": "@jupyter-widgets/base",
          "model_module_version": "1.2.0",
          "model_name": "LayoutModel",
          "state": {
            "_model_module": "@jupyter-widgets/base",
            "_model_module_version": "1.2.0",
            "_model_name": "LayoutModel",
            "_view_count": null,
            "_view_module": "@jupyter-widgets/base",
            "_view_module_version": "1.2.0",
            "_view_name": "LayoutView",
            "align_content": null,
            "align_items": null,
            "align_self": null,
            "border": null,
            "bottom": null,
            "display": null,
            "flex": null,
            "flex_flow": null,
            "grid_area": null,
            "grid_auto_columns": null,
            "grid_auto_flow": null,
            "grid_auto_rows": null,
            "grid_column": null,
            "grid_gap": null,
            "grid_row": null,
            "grid_template_areas": null,
            "grid_template_columns": null,
            "grid_template_rows": null,
            "height": null,
            "justify_content": null,
            "justify_items": null,
            "left": null,
            "margin": null,
            "max_height": null,
            "max_width": null,
            "min_height": null,
            "min_width": null,
            "object_fit": null,
            "object_position": null,
            "order": null,
            "overflow": null,
            "overflow_x": null,
            "overflow_y": null,
            "padding": null,
            "right": null,
            "top": null,
            "visibility": null,
            "width": null
          }
        },
        "824893cec3bb40c5a147166ff225e29f": {
          "model_module": "@jupyter-widgets/controls",
          "model_module_version": "1.5.0",
          "model_name": "HTMLModel",
          "state": {
            "_dom_classes": [],
            "_model_module": "@jupyter-widgets/controls",
            "_model_module_version": "1.5.0",
            "_model_name": "HTMLModel",
            "_view_count": null,
            "_view_module": "@jupyter-widgets/controls",
            "_view_module_version": "1.5.0",
            "_view_name": "HTMLView",
            "description": "",
            "description_tooltip": null,
            "layout": "IPY_MODEL_0e43308f72694c33a3b4d3b5c236bc8c",
            "placeholder": "​",
            "style": "IPY_MODEL_8780e64bdbbb40eaa9111aaf854dd08f",
            "value": " 363/363 [00:00&lt;00:00, 26.2kB/s]"
          }
        },
        "872aa60547ff4e72b331168b8e9e1559": {
          "model_module": "@jupyter-widgets/controls",
          "model_module_version": "1.5.0",
          "model_name": "DescriptionStyleModel",
          "state": {
            "_model_module": "@jupyter-widgets/controls",
            "_model_module_version": "1.5.0",
            "_model_name": "DescriptionStyleModel",
            "_view_count": null,
            "_view_module": "@jupyter-widgets/base",
            "_view_module_version": "1.2.0",
            "_view_name": "StyleView",
            "description_width": ""
          }
        },
        "8780e64bdbbb40eaa9111aaf854dd08f": {
          "model_module": "@jupyter-widgets/controls",
          "model_module_version": "1.5.0",
          "model_name": "DescriptionStyleModel",
          "state": {
            "_model_module": "@jupyter-widgets/controls",
            "_model_module_version": "1.5.0",
            "_model_name": "DescriptionStyleModel",
            "_view_count": null,
            "_view_module": "@jupyter-widgets/base",
            "_view_module_version": "1.2.0",
            "_view_name": "StyleView",
            "description_width": ""
          }
        },
        "8bfdcab2b1e447b6b18cdc4931e0d6f5": {
          "model_module": "@jupyter-widgets/controls",
          "model_module_version": "1.5.0",
          "model_name": "FloatProgressModel",
          "state": {
            "_dom_classes": [],
            "_model_module": "@jupyter-widgets/controls",
            "_model_module_version": "1.5.0",
            "_model_name": "FloatProgressModel",
            "_view_count": null,
            "_view_module": "@jupyter-widgets/controls",
            "_view_module_version": "1.5.0",
            "_view_name": "ProgressView",
            "bar_style": "success",
            "description": "",
            "description_tooltip": null,
            "layout": "IPY_MODEL_1db3d37fbc85463d89e6f0b02608ee50",
            "max": 1585,
            "min": 0,
            "orientation": "horizontal",
            "style": "IPY_MODEL_dfd83e23a5cd4263bb02df196da2f49f",
            "value": 1585
          }
        },
        "8d6da9a1cb064208bab9b5b4b3c76f32": {
          "model_module": "@jupyter-widgets/controls",
          "model_module_version": "1.5.0",
          "model_name": "DescriptionStyleModel",
          "state": {
            "_model_module": "@jupyter-widgets/controls",
            "_model_module_version": "1.5.0",
            "_model_name": "DescriptionStyleModel",
            "_view_count": null,
            "_view_module": "@jupyter-widgets/base",
            "_view_module_version": "1.2.0",
            "_view_name": "StyleView",
            "description_width": ""
          }
        },
        "8d8a81833a2c4aa49185a2b433b16fd6": {
          "model_module": "@jupyter-widgets/base",
          "model_module_version": "1.2.0",
          "model_name": "LayoutModel",
          "state": {
            "_model_module": "@jupyter-widgets/base",
            "_model_module_version": "1.2.0",
            "_model_name": "LayoutModel",
            "_view_count": null,
            "_view_module": "@jupyter-widgets/base",
            "_view_module_version": "1.2.0",
            "_view_name": "LayoutView",
            "align_content": null,
            "align_items": null,
            "align_self": null,
            "border": null,
            "bottom": null,
            "display": null,
            "flex": null,
            "flex_flow": null,
            "grid_area": null,
            "grid_auto_columns": null,
            "grid_auto_flow": null,
            "grid_auto_rows": null,
            "grid_column": null,
            "grid_gap": null,
            "grid_row": null,
            "grid_template_areas": null,
            "grid_template_columns": null,
            "grid_template_rows": null,
            "height": null,
            "justify_content": null,
            "justify_items": null,
            "left": null,
            "margin": null,
            "max_height": null,
            "max_width": null,
            "min_height": null,
            "min_width": null,
            "object_fit": null,
            "object_position": null,
            "order": null,
            "overflow": null,
            "overflow_x": null,
            "overflow_y": null,
            "padding": null,
            "right": null,
            "top": null,
            "visibility": null,
            "width": null
          }
        },
        "8e82c76f3feb4a3db40c3b413a901d8c": {
          "model_module": "@jupyter-widgets/base",
          "model_module_version": "1.2.0",
          "model_name": "LayoutModel",
          "state": {
            "_model_module": "@jupyter-widgets/base",
            "_model_module_version": "1.2.0",
            "_model_name": "LayoutModel",
            "_view_count": null,
            "_view_module": "@jupyter-widgets/base",
            "_view_module_version": "1.2.0",
            "_view_name": "LayoutView",
            "align_content": null,
            "align_items": null,
            "align_self": null,
            "border": null,
            "bottom": null,
            "display": null,
            "flex": null,
            "flex_flow": null,
            "grid_area": null,
            "grid_auto_columns": null,
            "grid_auto_flow": null,
            "grid_auto_rows": null,
            "grid_column": null,
            "grid_gap": null,
            "grid_row": null,
            "grid_template_areas": null,
            "grid_template_columns": null,
            "grid_template_rows": null,
            "height": null,
            "justify_content": null,
            "justify_items": null,
            "left": null,
            "margin": null,
            "max_height": null,
            "max_width": null,
            "min_height": null,
            "min_width": null,
            "object_fit": null,
            "object_position": null,
            "order": null,
            "overflow": null,
            "overflow_x": null,
            "overflow_y": null,
            "padding": null,
            "right": null,
            "top": null,
            "visibility": null,
            "width": null
          }
        },
        "8ef8f117c92d485faa77bd66bc7cd28a": {
          "model_module": "@jupyter-widgets/controls",
          "model_module_version": "1.5.0",
          "model_name": "DescriptionStyleModel",
          "state": {
            "_model_module": "@jupyter-widgets/controls",
            "_model_module_version": "1.5.0",
            "_model_name": "DescriptionStyleModel",
            "_view_count": null,
            "_view_module": "@jupyter-widgets/base",
            "_view_module_version": "1.2.0",
            "_view_name": "StyleView",
            "description_width": ""
          }
        },
        "8fad81bc70d346a4b7d9b823d7cf0c5a": {
          "model_module": "@jupyter-widgets/controls",
          "model_module_version": "1.5.0",
          "model_name": "DescriptionStyleModel",
          "state": {
            "_model_module": "@jupyter-widgets/controls",
            "_model_module_version": "1.5.0",
            "_model_name": "DescriptionStyleModel",
            "_view_count": null,
            "_view_module": "@jupyter-widgets/base",
            "_view_module_version": "1.2.0",
            "_view_name": "StyleView",
            "description_width": ""
          }
        },
        "90a011ee306144149ad9237c593777c8": {
          "model_module": "@jupyter-widgets/base",
          "model_module_version": "1.2.0",
          "model_name": "LayoutModel",
          "state": {
            "_model_module": "@jupyter-widgets/base",
            "_model_module_version": "1.2.0",
            "_model_name": "LayoutModel",
            "_view_count": null,
            "_view_module": "@jupyter-widgets/base",
            "_view_module_version": "1.2.0",
            "_view_name": "LayoutView",
            "align_content": null,
            "align_items": null,
            "align_self": null,
            "border": null,
            "bottom": null,
            "display": null,
            "flex": null,
            "flex_flow": null,
            "grid_area": null,
            "grid_auto_columns": null,
            "grid_auto_flow": null,
            "grid_auto_rows": null,
            "grid_column": null,
            "grid_gap": null,
            "grid_row": null,
            "grid_template_areas": null,
            "grid_template_columns": null,
            "grid_template_rows": null,
            "height": null,
            "justify_content": null,
            "justify_items": null,
            "left": null,
            "margin": null,
            "max_height": null,
            "max_width": null,
            "min_height": null,
            "min_width": null,
            "object_fit": null,
            "object_position": null,
            "order": null,
            "overflow": null,
            "overflow_x": null,
            "overflow_y": null,
            "padding": null,
            "right": null,
            "top": null,
            "visibility": null,
            "width": null
          }
        },
        "9464cf4701294fd8894664e5b01f1822": {
          "model_module": "@jupyter-widgets/base",
          "model_module_version": "1.2.0",
          "model_name": "LayoutModel",
          "state": {
            "_model_module": "@jupyter-widgets/base",
            "_model_module_version": "1.2.0",
            "_model_name": "LayoutModel",
            "_view_count": null,
            "_view_module": "@jupyter-widgets/base",
            "_view_module_version": "1.2.0",
            "_view_name": "LayoutView",
            "align_content": null,
            "align_items": null,
            "align_self": null,
            "border": null,
            "bottom": null,
            "display": null,
            "flex": null,
            "flex_flow": null,
            "grid_area": null,
            "grid_auto_columns": null,
            "grid_auto_flow": null,
            "grid_auto_rows": null,
            "grid_column": null,
            "grid_gap": null,
            "grid_row": null,
            "grid_template_areas": null,
            "grid_template_columns": null,
            "grid_template_rows": null,
            "height": null,
            "justify_content": null,
            "justify_items": null,
            "left": null,
            "margin": null,
            "max_height": null,
            "max_width": null,
            "min_height": null,
            "min_width": null,
            "object_fit": null,
            "object_position": null,
            "order": null,
            "overflow": null,
            "overflow_x": null,
            "overflow_y": null,
            "padding": null,
            "right": null,
            "top": null,
            "visibility": null,
            "width": null
          }
        },
        "95e1abfdb6cd4feca0610530777a87cc": {
          "model_module": "@jupyter-widgets/base",
          "model_module_version": "1.2.0",
          "model_name": "LayoutModel",
          "state": {
            "_model_module": "@jupyter-widgets/base",
            "_model_module_version": "1.2.0",
            "_model_name": "LayoutModel",
            "_view_count": null,
            "_view_module": "@jupyter-widgets/base",
            "_view_module_version": "1.2.0",
            "_view_name": "LayoutView",
            "align_content": null,
            "align_items": null,
            "align_self": null,
            "border": null,
            "bottom": null,
            "display": null,
            "flex": null,
            "flex_flow": null,
            "grid_area": null,
            "grid_auto_columns": null,
            "grid_auto_flow": null,
            "grid_auto_rows": null,
            "grid_column": null,
            "grid_gap": null,
            "grid_row": null,
            "grid_template_areas": null,
            "grid_template_columns": null,
            "grid_template_rows": null,
            "height": null,
            "justify_content": null,
            "justify_items": null,
            "left": null,
            "margin": null,
            "max_height": null,
            "max_width": null,
            "min_height": null,
            "min_width": null,
            "object_fit": null,
            "object_position": null,
            "order": null,
            "overflow": null,
            "overflow_x": null,
            "overflow_y": null,
            "padding": null,
            "right": null,
            "top": null,
            "visibility": null,
            "width": null
          }
        },
        "96c5182a45834038b68f234cac97e016": {
          "model_module": "@jupyter-widgets/controls",
          "model_module_version": "1.5.0",
          "model_name": "FloatProgressModel",
          "state": {
            "_dom_classes": [],
            "_model_module": "@jupyter-widgets/controls",
            "_model_module_version": "1.5.0",
            "_model_name": "FloatProgressModel",
            "_view_count": null,
            "_view_module": "@jupyter-widgets/controls",
            "_view_module_version": "1.5.0",
            "_view_name": "ProgressView",
            "bar_style": "success",
            "description": "",
            "description_tooltip": null,
            "layout": "IPY_MODEL_462fcaaa4d464eb1ba1971180c119a29",
            "max": 88,
            "min": 0,
            "orientation": "horizontal",
            "style": "IPY_MODEL_cb022effe4524b31a3acfc29fad67024",
            "value": 88
          }
        },
        "973d29c0ae7c45d9815cd6d3cd59194f": {
          "model_module": "@jupyter-widgets/base",
          "model_module_version": "1.2.0",
          "model_name": "LayoutModel",
          "state": {
            "_model_module": "@jupyter-widgets/base",
            "_model_module_version": "1.2.0",
            "_model_name": "LayoutModel",
            "_view_count": null,
            "_view_module": "@jupyter-widgets/base",
            "_view_module_version": "1.2.0",
            "_view_name": "LayoutView",
            "align_content": null,
            "align_items": null,
            "align_self": null,
            "border": null,
            "bottom": null,
            "display": null,
            "flex": null,
            "flex_flow": null,
            "grid_area": null,
            "grid_auto_columns": null,
            "grid_auto_flow": null,
            "grid_auto_rows": null,
            "grid_column": null,
            "grid_gap": null,
            "grid_row": null,
            "grid_template_areas": null,
            "grid_template_columns": null,
            "grid_template_rows": null,
            "height": null,
            "justify_content": null,
            "justify_items": null,
            "left": null,
            "margin": null,
            "max_height": null,
            "max_width": null,
            "min_height": null,
            "min_width": null,
            "object_fit": null,
            "object_position": null,
            "order": null,
            "overflow": null,
            "overflow_x": null,
            "overflow_y": null,
            "padding": null,
            "right": null,
            "top": null,
            "visibility": null,
            "width": null
          }
        },
        "9749dd836d25467a84cc60cac4924a24": {
          "model_module": "@jupyter-widgets/base",
          "model_module_version": "1.2.0",
          "model_name": "LayoutModel",
          "state": {
            "_model_module": "@jupyter-widgets/base",
            "_model_module_version": "1.2.0",
            "_model_name": "LayoutModel",
            "_view_count": null,
            "_view_module": "@jupyter-widgets/base",
            "_view_module_version": "1.2.0",
            "_view_name": "LayoutView",
            "align_content": null,
            "align_items": null,
            "align_self": null,
            "border": null,
            "bottom": null,
            "display": null,
            "flex": null,
            "flex_flow": null,
            "grid_area": null,
            "grid_auto_columns": null,
            "grid_auto_flow": null,
            "grid_auto_rows": null,
            "grid_column": null,
            "grid_gap": null,
            "grid_row": null,
            "grid_template_areas": null,
            "grid_template_columns": null,
            "grid_template_rows": null,
            "height": null,
            "justify_content": null,
            "justify_items": null,
            "left": null,
            "margin": null,
            "max_height": null,
            "max_width": null,
            "min_height": null,
            "min_width": null,
            "object_fit": null,
            "object_position": null,
            "order": null,
            "overflow": null,
            "overflow_x": null,
            "overflow_y": null,
            "padding": null,
            "right": null,
            "top": null,
            "visibility": null,
            "width": null
          }
        },
        "98321b8570f44956a743ac863fce9cfc": {
          "model_module": "@jupyter-widgets/controls",
          "model_module_version": "1.5.0",
          "model_name": "HTMLModel",
          "state": {
            "_dom_classes": [],
            "_model_module": "@jupyter-widgets/controls",
            "_model_module_version": "1.5.0",
            "_model_name": "HTMLModel",
            "_view_count": null,
            "_view_module": "@jupyter-widgets/controls",
            "_view_module_version": "1.5.0",
            "_view_name": "HTMLView",
            "description": "",
            "description_tooltip": null,
            "layout": "IPY_MODEL_6bcda1a76ee84cc8b016d8d7456b8659",
            "placeholder": "​",
            "style": "IPY_MODEL_af8f50bc3ebf45fe8c6c067249ed459f",
            "value": "merges.txt: 100%"
          }
        },
        "98c962ed71584ba98b544577c5f20bd4": {
          "model_module": "@jupyter-widgets/base",
          "model_module_version": "1.2.0",
          "model_name": "LayoutModel",
          "state": {
            "_model_module": "@jupyter-widgets/base",
            "_model_module_version": "1.2.0",
            "_model_name": "LayoutModel",
            "_view_count": null,
            "_view_module": "@jupyter-widgets/base",
            "_view_module_version": "1.2.0",
            "_view_name": "LayoutView",
            "align_content": null,
            "align_items": null,
            "align_self": null,
            "border": null,
            "bottom": null,
            "display": null,
            "flex": null,
            "flex_flow": null,
            "grid_area": null,
            "grid_auto_columns": null,
            "grid_auto_flow": null,
            "grid_auto_rows": null,
            "grid_column": null,
            "grid_gap": null,
            "grid_row": null,
            "grid_template_areas": null,
            "grid_template_columns": null,
            "grid_template_rows": null,
            "height": null,
            "justify_content": null,
            "justify_items": null,
            "left": null,
            "margin": null,
            "max_height": null,
            "max_width": null,
            "min_height": null,
            "min_width": null,
            "object_fit": null,
            "object_position": null,
            "order": null,
            "overflow": null,
            "overflow_x": null,
            "overflow_y": null,
            "padding": null,
            "right": null,
            "top": null,
            "visibility": null,
            "width": null
          }
        },
        "98cddde6662340a68961661a1f1cbcdf": {
          "model_module": "@jupyter-widgets/base",
          "model_module_version": "1.2.0",
          "model_name": "LayoutModel",
          "state": {
            "_model_module": "@jupyter-widgets/base",
            "_model_module_version": "1.2.0",
            "_model_name": "LayoutModel",
            "_view_count": null,
            "_view_module": "@jupyter-widgets/base",
            "_view_module_version": "1.2.0",
            "_view_name": "LayoutView",
            "align_content": null,
            "align_items": null,
            "align_self": null,
            "border": null,
            "bottom": null,
            "display": null,
            "flex": null,
            "flex_flow": null,
            "grid_area": null,
            "grid_auto_columns": null,
            "grid_auto_flow": null,
            "grid_auto_rows": null,
            "grid_column": null,
            "grid_gap": null,
            "grid_row": null,
            "grid_template_areas": null,
            "grid_template_columns": null,
            "grid_template_rows": null,
            "height": null,
            "justify_content": null,
            "justify_items": null,
            "left": null,
            "margin": null,
            "max_height": null,
            "max_width": null,
            "min_height": null,
            "min_width": null,
            "object_fit": null,
            "object_position": null,
            "order": null,
            "overflow": null,
            "overflow_x": null,
            "overflow_y": null,
            "padding": null,
            "right": null,
            "top": null,
            "visibility": null,
            "width": null
          }
        },
        "99788eb3ddce422d8da59be434ebb622": {
          "model_module": "@jupyter-widgets/controls",
          "model_module_version": "1.5.0",
          "model_name": "HBoxModel",
          "state": {
            "_dom_classes": [],
            "_model_module": "@jupyter-widgets/controls",
            "_model_module_version": "1.5.0",
            "_model_name": "HBoxModel",
            "_view_count": null,
            "_view_module": "@jupyter-widgets/controls",
            "_view_module_version": "1.5.0",
            "_view_name": "HBoxView",
            "box_style": "",
            "children": [
              "IPY_MODEL_0ba9c3047fd845b9a748a772bd14f2e6",
              "IPY_MODEL_c3e93b2d14334043b44c0d04c716a51b",
              "IPY_MODEL_1af41400be6c4b9ab926d92c08398e64"
            ],
            "layout": "IPY_MODEL_25232d711ced4be4a2e2bca75720feac"
          }
        },
        "9a08bb67c2a1408b9ac5288452ed558c": {
          "model_module": "@jupyter-widgets/controls",
          "model_module_version": "1.5.0",
          "model_name": "HBoxModel",
          "state": {
            "_dom_classes": [],
            "_model_module": "@jupyter-widgets/controls",
            "_model_module_version": "1.5.0",
            "_model_name": "HBoxModel",
            "_view_count": null,
            "_view_module": "@jupyter-widgets/controls",
            "_view_module_version": "1.5.0",
            "_view_name": "HBoxView",
            "box_style": "",
            "children": [
              "IPY_MODEL_ae320d04af874a4ca3f7c58075b58446",
              "IPY_MODEL_8bfdcab2b1e447b6b18cdc4931e0d6f5",
              "IPY_MODEL_153fb34dad6748e3814410a702c6b021"
            ],
            "layout": "IPY_MODEL_90a011ee306144149ad9237c593777c8"
          }
        },
        "9a4a591802b14df9b6d5f250e112be93": {
          "model_module": "@jupyter-widgets/base",
          "model_module_version": "1.2.0",
          "model_name": "LayoutModel",
          "state": {
            "_model_module": "@jupyter-widgets/base",
            "_model_module_version": "1.2.0",
            "_model_name": "LayoutModel",
            "_view_count": null,
            "_view_module": "@jupyter-widgets/base",
            "_view_module_version": "1.2.0",
            "_view_name": "LayoutView",
            "align_content": null,
            "align_items": null,
            "align_self": null,
            "border": null,
            "bottom": null,
            "display": null,
            "flex": null,
            "flex_flow": null,
            "grid_area": null,
            "grid_auto_columns": null,
            "grid_auto_flow": null,
            "grid_auto_rows": null,
            "grid_column": null,
            "grid_gap": null,
            "grid_row": null,
            "grid_template_areas": null,
            "grid_template_columns": null,
            "grid_template_rows": null,
            "height": null,
            "justify_content": null,
            "justify_items": null,
            "left": null,
            "margin": null,
            "max_height": null,
            "max_width": null,
            "min_height": null,
            "min_width": null,
            "object_fit": null,
            "object_position": null,
            "order": null,
            "overflow": null,
            "overflow_x": null,
            "overflow_y": null,
            "padding": null,
            "right": null,
            "top": null,
            "visibility": null,
            "width": null
          }
        },
        "9d2513c33fa649929905a72e216ca76d": {
          "model_module": "@jupyter-widgets/controls",
          "model_module_version": "1.5.0",
          "model_name": "DescriptionStyleModel",
          "state": {
            "_model_module": "@jupyter-widgets/controls",
            "_model_module_version": "1.5.0",
            "_model_name": "DescriptionStyleModel",
            "_view_count": null,
            "_view_module": "@jupyter-widgets/base",
            "_view_module_version": "1.2.0",
            "_view_name": "StyleView",
            "description_width": ""
          }
        },
        "9fa0b6494ddb4325b5fc6cce2d74494e": {
          "model_module": "@jupyter-widgets/controls",
          "model_module_version": "1.5.0",
          "model_name": "DescriptionStyleModel",
          "state": {
            "_model_module": "@jupyter-widgets/controls",
            "_model_module_version": "1.5.0",
            "_model_name": "DescriptionStyleModel",
            "_view_count": null,
            "_view_module": "@jupyter-widgets/base",
            "_view_module_version": "1.2.0",
            "_view_name": "StyleView",
            "description_width": ""
          }
        },
        "a4675f2681474a54971d3fabd1f2c83d": {
          "model_module": "@jupyter-widgets/controls",
          "model_module_version": "1.5.0",
          "model_name": "FloatProgressModel",
          "state": {
            "_dom_classes": [],
            "_model_module": "@jupyter-widgets/controls",
            "_model_module_version": "1.5.0",
            "_model_name": "FloatProgressModel",
            "_view_count": null,
            "_view_module": "@jupyter-widgets/controls",
            "_view_module_version": "1.5.0",
            "_view_name": "ProgressView",
            "bar_style": "success",
            "description": "",
            "description_tooltip": null,
            "layout": "IPY_MODEL_436f11725c9848c19091f9948ddf10bc",
            "max": 456318,
            "min": 0,
            "orientation": "horizontal",
            "style": "IPY_MODEL_0f8cf2ec980e432a9efee3020c0ee474",
            "value": 456318
          }
        },
        "a57508d0a1fa410e8e45ce516b057205": {
          "model_module": "@jupyter-widgets/base",
          "model_module_version": "1.2.0",
          "model_name": "LayoutModel",
          "state": {
            "_model_module": "@jupyter-widgets/base",
            "_model_module_version": "1.2.0",
            "_model_name": "LayoutModel",
            "_view_count": null,
            "_view_module": "@jupyter-widgets/base",
            "_view_module_version": "1.2.0",
            "_view_name": "LayoutView",
            "align_content": null,
            "align_items": null,
            "align_self": null,
            "border": null,
            "bottom": null,
            "display": null,
            "flex": null,
            "flex_flow": null,
            "grid_area": null,
            "grid_auto_columns": null,
            "grid_auto_flow": null,
            "grid_auto_rows": null,
            "grid_column": null,
            "grid_gap": null,
            "grid_row": null,
            "grid_template_areas": null,
            "grid_template_columns": null,
            "grid_template_rows": null,
            "height": null,
            "justify_content": null,
            "justify_items": null,
            "left": null,
            "margin": null,
            "max_height": null,
            "max_width": null,
            "min_height": null,
            "min_width": null,
            "object_fit": null,
            "object_position": null,
            "order": null,
            "overflow": null,
            "overflow_x": null,
            "overflow_y": null,
            "padding": null,
            "right": null,
            "top": null,
            "visibility": null,
            "width": null
          }
        },
        "a710651ca8ec46f58a850d914e37177b": {
          "model_module": "@jupyter-widgets/base",
          "model_module_version": "1.2.0",
          "model_name": "LayoutModel",
          "state": {
            "_model_module": "@jupyter-widgets/base",
            "_model_module_version": "1.2.0",
            "_model_name": "LayoutModel",
            "_view_count": null,
            "_view_module": "@jupyter-widgets/base",
            "_view_module_version": "1.2.0",
            "_view_name": "LayoutView",
            "align_content": null,
            "align_items": null,
            "align_self": null,
            "border": null,
            "bottom": null,
            "display": null,
            "flex": null,
            "flex_flow": null,
            "grid_area": null,
            "grid_auto_columns": null,
            "grid_auto_flow": null,
            "grid_auto_rows": null,
            "grid_column": null,
            "grid_gap": null,
            "grid_row": null,
            "grid_template_areas": null,
            "grid_template_columns": null,
            "grid_template_rows": null,
            "height": null,
            "justify_content": null,
            "justify_items": null,
            "left": null,
            "margin": null,
            "max_height": null,
            "max_width": null,
            "min_height": null,
            "min_width": null,
            "object_fit": null,
            "object_position": null,
            "order": null,
            "overflow": null,
            "overflow_x": null,
            "overflow_y": null,
            "padding": null,
            "right": null,
            "top": null,
            "visibility": null,
            "width": null
          }
        },
        "a8351f4e672e4e89b1bc30c4f677312b": {
          "model_module": "@jupyter-widgets/controls",
          "model_module_version": "1.5.0",
          "model_name": "HTMLModel",
          "state": {
            "_dom_classes": [],
            "_model_module": "@jupyter-widgets/controls",
            "_model_module_version": "1.5.0",
            "_model_name": "HTMLModel",
            "_view_count": null,
            "_view_module": "@jupyter-widgets/controls",
            "_view_module_version": "1.5.0",
            "_view_name": "HTMLView",
            "description": "",
            "description_tooltip": null,
            "layout": "IPY_MODEL_4678274ee05b445c90c40b4d3db0e575",
            "placeholder": "​",
            "style": "IPY_MODEL_0722b375232e42408db99976619f3726",
            "value": "config.json: 100%"
          }
        },
        "a8a4b20a6142484d876e20d50586dbb0": {
          "model_module": "@jupyter-widgets/controls",
          "model_module_version": "1.5.0",
          "model_name": "ProgressStyleModel",
          "state": {
            "_model_module": "@jupyter-widgets/controls",
            "_model_module_version": "1.5.0",
            "_model_name": "ProgressStyleModel",
            "_view_count": null,
            "_view_module": "@jupyter-widgets/base",
            "_view_module_version": "1.2.0",
            "_view_name": "StyleView",
            "bar_color": null,
            "description_width": ""
          }
        },
        "aca07dca8429411ca832a7da1b9fc042": {
          "model_module": "@jupyter-widgets/controls",
          "model_module_version": "1.5.0",
          "model_name": "ProgressStyleModel",
          "state": {
            "_model_module": "@jupyter-widgets/controls",
            "_model_module_version": "1.5.0",
            "_model_name": "ProgressStyleModel",
            "_view_count": null,
            "_view_module": "@jupyter-widgets/base",
            "_view_module_version": "1.2.0",
            "_view_name": "StyleView",
            "bar_color": null,
            "description_width": ""
          }
        },
        "ae320d04af874a4ca3f7c58075b58446": {
          "model_module": "@jupyter-widgets/controls",
          "model_module_version": "1.5.0",
          "model_name": "HTMLModel",
          "state": {
            "_dom_classes": [],
            "_model_module": "@jupyter-widgets/controls",
            "_model_module_version": "1.5.0",
            "_model_name": "HTMLModel",
            "_view_count": null,
            "_view_module": "@jupyter-widgets/controls",
            "_view_module_version": "1.5.0",
            "_view_name": "HTMLView",
            "description": "",
            "description_tooltip": null,
            "layout": "IPY_MODEL_f539c3eaeefa4d97a0913bf15b3f6827",
            "placeholder": "​",
            "style": "IPY_MODEL_7e2bce8f72314c9d80595d6063fa37b7",
            "value": "config.json: 100%"
          }
        },
        "af8f50bc3ebf45fe8c6c067249ed459f": {
          "model_module": "@jupyter-widgets/controls",
          "model_module_version": "1.5.0",
          "model_name": "DescriptionStyleModel",
          "state": {
            "_model_module": "@jupyter-widgets/controls",
            "_model_module_version": "1.5.0",
            "_model_name": "DescriptionStyleModel",
            "_view_count": null,
            "_view_module": "@jupyter-widgets/base",
            "_view_module_version": "1.2.0",
            "_view_name": "StyleView",
            "description_width": ""
          }
        },
        "afe49f06c6f24bc78dc722c3b101ce40": {
          "model_module": "@jupyter-widgets/controls",
          "model_module_version": "1.5.0",
          "model_name": "HTMLModel",
          "state": {
            "_dom_classes": [],
            "_model_module": "@jupyter-widgets/controls",
            "_model_module_version": "1.5.0",
            "_model_name": "HTMLModel",
            "_view_count": null,
            "_view_module": "@jupyter-widgets/controls",
            "_view_module_version": "1.5.0",
            "_view_name": "HTMLView",
            "description": "",
            "description_tooltip": null,
            "layout": "IPY_MODEL_95e1abfdb6cd4feca0610530777a87cc",
            "placeholder": "​",
            "style": "IPY_MODEL_1857112835d848f199a5843634e901b7",
            "value": "generation_config.json: 100%"
          }
        },
        "b0f5dfc7b8744b6f88b01d46d67cac38": {
          "model_module": "@jupyter-widgets/controls",
          "model_module_version": "1.5.0",
          "model_name": "HBoxModel",
          "state": {
            "_dom_classes": [],
            "_model_module": "@jupyter-widgets/controls",
            "_model_module_version": "1.5.0",
            "_model_name": "HBoxModel",
            "_view_count": null,
            "_view_module": "@jupyter-widgets/controls",
            "_view_module_version": "1.5.0",
            "_view_name": "HBoxView",
            "box_style": "",
            "children": [
              "IPY_MODEL_a8351f4e672e4e89b1bc30c4f677312b",
              "IPY_MODEL_0a24de2b0bff4b4e8b2773ecfc17995a",
              "IPY_MODEL_171cedfe3b284954a4a9362a4501718f"
            ],
            "layout": "IPY_MODEL_f7ed52b61338488fa43e38291241c24a"
          }
        },
        "b2c55370408b49dcb235ace6ffe7226d": {
          "model_module": "@jupyter-widgets/base",
          "model_module_version": "1.2.0",
          "model_name": "LayoutModel",
          "state": {
            "_model_module": "@jupyter-widgets/base",
            "_model_module_version": "1.2.0",
            "_model_name": "LayoutModel",
            "_view_count": null,
            "_view_module": "@jupyter-widgets/base",
            "_view_module_version": "1.2.0",
            "_view_name": "LayoutView",
            "align_content": null,
            "align_items": null,
            "align_self": null,
            "border": null,
            "bottom": null,
            "display": null,
            "flex": null,
            "flex_flow": null,
            "grid_area": null,
            "grid_auto_columns": null,
            "grid_auto_flow": null,
            "grid_auto_rows": null,
            "grid_column": null,
            "grid_gap": null,
            "grid_row": null,
            "grid_template_areas": null,
            "grid_template_columns": null,
            "grid_template_rows": null,
            "height": null,
            "justify_content": null,
            "justify_items": null,
            "left": null,
            "margin": null,
            "max_height": null,
            "max_width": null,
            "min_height": null,
            "min_width": null,
            "object_fit": null,
            "object_position": null,
            "order": null,
            "overflow": null,
            "overflow_x": null,
            "overflow_y": null,
            "padding": null,
            "right": null,
            "top": null,
            "visibility": null,
            "width": null
          }
        },
        "b7298f17cb524d31896d6e5713bb5d57": {
          "model_module": "@jupyter-widgets/controls",
          "model_module_version": "1.5.0",
          "model_name": "DescriptionStyleModel",
          "state": {
            "_model_module": "@jupyter-widgets/controls",
            "_model_module_version": "1.5.0",
            "_model_name": "DescriptionStyleModel",
            "_view_count": null,
            "_view_module": "@jupyter-widgets/base",
            "_view_module_version": "1.2.0",
            "_view_name": "StyleView",
            "description_width": ""
          }
        },
        "b7f7ee2e444d431187160e3141746b97": {
          "model_module": "@jupyter-widgets/base",
          "model_module_version": "1.2.0",
          "model_name": "LayoutModel",
          "state": {
            "_model_module": "@jupyter-widgets/base",
            "_model_module_version": "1.2.0",
            "_model_name": "LayoutModel",
            "_view_count": null,
            "_view_module": "@jupyter-widgets/base",
            "_view_module_version": "1.2.0",
            "_view_name": "LayoutView",
            "align_content": null,
            "align_items": null,
            "align_self": null,
            "border": null,
            "bottom": null,
            "display": null,
            "flex": null,
            "flex_flow": null,
            "grid_area": null,
            "grid_auto_columns": null,
            "grid_auto_flow": null,
            "grid_auto_rows": null,
            "grid_column": null,
            "grid_gap": null,
            "grid_row": null,
            "grid_template_areas": null,
            "grid_template_columns": null,
            "grid_template_rows": null,
            "height": null,
            "justify_content": null,
            "justify_items": null,
            "left": null,
            "margin": null,
            "max_height": null,
            "max_width": null,
            "min_height": null,
            "min_width": null,
            "object_fit": null,
            "object_position": null,
            "order": null,
            "overflow": null,
            "overflow_x": null,
            "overflow_y": null,
            "padding": null,
            "right": null,
            "top": null,
            "visibility": null,
            "width": null
          }
        },
        "b7fdffb1ef244abe8848d3f06c7205f5": {
          "model_module": "@jupyter-widgets/controls",
          "model_module_version": "1.5.0",
          "model_name": "HBoxModel",
          "state": {
            "_dom_classes": [],
            "_model_module": "@jupyter-widgets/controls",
            "_model_module_version": "1.5.0",
            "_model_name": "HBoxModel",
            "_view_count": null,
            "_view_module": "@jupyter-widgets/controls",
            "_view_module_version": "1.5.0",
            "_view_name": "HBoxView",
            "box_style": "",
            "children": [
              "IPY_MODEL_20672d23bf6a4bd8857480b8ae92adea",
              "IPY_MODEL_d787e7ba401541d49c8ec0e06dc8f9a3",
              "IPY_MODEL_f6012a36d9444094b6ca5de6924e63dd"
            ],
            "layout": "IPY_MODEL_9464cf4701294fd8894664e5b01f1822"
          }
        },
        "b95e725f7dae4b888f37777c552c91d0": {
          "model_module": "@jupyter-widgets/base",
          "model_module_version": "1.2.0",
          "model_name": "LayoutModel",
          "state": {
            "_model_module": "@jupyter-widgets/base",
            "_model_module_version": "1.2.0",
            "_model_name": "LayoutModel",
            "_view_count": null,
            "_view_module": "@jupyter-widgets/base",
            "_view_module_version": "1.2.0",
            "_view_name": "LayoutView",
            "align_content": null,
            "align_items": null,
            "align_self": null,
            "border": null,
            "bottom": null,
            "display": null,
            "flex": null,
            "flex_flow": null,
            "grid_area": null,
            "grid_auto_columns": null,
            "grid_auto_flow": null,
            "grid_auto_rows": null,
            "grid_column": null,
            "grid_gap": null,
            "grid_row": null,
            "grid_template_areas": null,
            "grid_template_columns": null,
            "grid_template_rows": null,
            "height": null,
            "justify_content": null,
            "justify_items": null,
            "left": null,
            "margin": null,
            "max_height": null,
            "max_width": null,
            "min_height": null,
            "min_width": null,
            "object_fit": null,
            "object_position": null,
            "order": null,
            "overflow": null,
            "overflow_x": null,
            "overflow_y": null,
            "padding": null,
            "right": null,
            "top": null,
            "visibility": null,
            "width": null
          }
        },
        "ba2b0f6383304c0c875041e817a8f511": {
          "model_module": "@jupyter-widgets/controls",
          "model_module_version": "1.5.0",
          "model_name": "DescriptionStyleModel",
          "state": {
            "_model_module": "@jupyter-widgets/controls",
            "_model_module_version": "1.5.0",
            "_model_name": "DescriptionStyleModel",
            "_view_count": null,
            "_view_module": "@jupyter-widgets/base",
            "_view_module_version": "1.2.0",
            "_view_name": "StyleView",
            "description_width": ""
          }
        },
        "bc40ba865d654a51921a27ecbdf272b2": {
          "model_module": "@jupyter-widgets/base",
          "model_module_version": "1.2.0",
          "model_name": "LayoutModel",
          "state": {
            "_model_module": "@jupyter-widgets/base",
            "_model_module_version": "1.2.0",
            "_model_name": "LayoutModel",
            "_view_count": null,
            "_view_module": "@jupyter-widgets/base",
            "_view_module_version": "1.2.0",
            "_view_name": "LayoutView",
            "align_content": null,
            "align_items": null,
            "align_self": null,
            "border": null,
            "bottom": null,
            "display": null,
            "flex": null,
            "flex_flow": null,
            "grid_area": null,
            "grid_auto_columns": null,
            "grid_auto_flow": null,
            "grid_auto_rows": null,
            "grid_column": null,
            "grid_gap": null,
            "grid_row": null,
            "grid_template_areas": null,
            "grid_template_columns": null,
            "grid_template_rows": null,
            "height": null,
            "justify_content": null,
            "justify_items": null,
            "left": null,
            "margin": null,
            "max_height": null,
            "max_width": null,
            "min_height": null,
            "min_width": null,
            "object_fit": null,
            "object_position": null,
            "order": null,
            "overflow": null,
            "overflow_x": null,
            "overflow_y": null,
            "padding": null,
            "right": null,
            "top": null,
            "visibility": null,
            "width": null
          }
        },
        "bd3089e49697421fbfbae0108dbc3440": {
          "model_module": "@jupyter-widgets/base",
          "model_module_version": "1.2.0",
          "model_name": "LayoutModel",
          "state": {
            "_model_module": "@jupyter-widgets/base",
            "_model_module_version": "1.2.0",
            "_model_name": "LayoutModel",
            "_view_count": null,
            "_view_module": "@jupyter-widgets/base",
            "_view_module_version": "1.2.0",
            "_view_name": "LayoutView",
            "align_content": null,
            "align_items": null,
            "align_self": null,
            "border": null,
            "bottom": null,
            "display": null,
            "flex": null,
            "flex_flow": null,
            "grid_area": null,
            "grid_auto_columns": null,
            "grid_auto_flow": null,
            "grid_auto_rows": null,
            "grid_column": null,
            "grid_gap": null,
            "grid_row": null,
            "grid_template_areas": null,
            "grid_template_columns": null,
            "grid_template_rows": null,
            "height": null,
            "justify_content": null,
            "justify_items": null,
            "left": null,
            "margin": null,
            "max_height": null,
            "max_width": null,
            "min_height": null,
            "min_width": null,
            "object_fit": null,
            "object_position": null,
            "order": null,
            "overflow": null,
            "overflow_x": null,
            "overflow_y": null,
            "padding": null,
            "right": null,
            "top": null,
            "visibility": null,
            "width": null
          }
        },
        "be41535dea2847d495f6bebb45b40262": {
          "model_module": "@jupyter-widgets/controls",
          "model_module_version": "1.5.0",
          "model_name": "DescriptionStyleModel",
          "state": {
            "_model_module": "@jupyter-widgets/controls",
            "_model_module_version": "1.5.0",
            "_model_name": "DescriptionStyleModel",
            "_view_count": null,
            "_view_module": "@jupyter-widgets/base",
            "_view_module_version": "1.2.0",
            "_view_name": "StyleView",
            "description_width": ""
          }
        },
        "be45bcd74cb34f88b01fba45b747bcc4": {
          "model_module": "@jupyter-widgets/controls",
          "model_module_version": "1.5.0",
          "model_name": "HTMLModel",
          "state": {
            "_dom_classes": [],
            "_model_module": "@jupyter-widgets/controls",
            "_model_module_version": "1.5.0",
            "_model_name": "HTMLModel",
            "_view_count": null,
            "_view_module": "@jupyter-widgets/controls",
            "_view_module_version": "1.5.0",
            "_view_name": "HTMLView",
            "description": "",
            "description_tooltip": null,
            "layout": "IPY_MODEL_811323e9c51747f190a956ba085192a9",
            "placeholder": "​",
            "style": "IPY_MODEL_4b01cf7de1b84949bdd441f6d59a7d42",
            "value": "model.safetensors: 100%"
          }
        },
        "c228b7166e504d59982d02b74807ed03": {
          "model_module": "@jupyter-widgets/controls",
          "model_module_version": "1.5.0",
          "model_name": "ProgressStyleModel",
          "state": {
            "_model_module": "@jupyter-widgets/controls",
            "_model_module_version": "1.5.0",
            "_model_name": "ProgressStyleModel",
            "_view_count": null,
            "_view_module": "@jupyter-widgets/base",
            "_view_module_version": "1.2.0",
            "_view_name": "StyleView",
            "bar_color": null,
            "description_width": ""
          }
        },
        "c3e93b2d14334043b44c0d04c716a51b": {
          "model_module": "@jupyter-widgets/controls",
          "model_module_version": "1.5.0",
          "model_name": "FloatProgressModel",
          "state": {
            "_dom_classes": [],
            "_model_module": "@jupyter-widgets/controls",
            "_model_module_version": "1.5.0",
            "_model_name": "FloatProgressModel",
            "_view_count": null,
            "_view_module": "@jupyter-widgets/controls",
            "_view_module_version": "1.5.0",
            "_view_name": "ProgressView",
            "bar_style": "success",
            "description": "",
            "description_tooltip": null,
            "layout": "IPY_MODEL_5b679c00762a492dace5a2b46e46793f",
            "max": 435780550,
            "min": 0,
            "orientation": "horizontal",
            "style": "IPY_MODEL_05d18602ccc34c0283149699bc851525",
            "value": 435780550
          }
        },
        "c5999ac4d5c4482fa7618f4870d3944e": {
          "model_module": "@jupyter-widgets/base",
          "model_module_version": "1.2.0",
          "model_name": "LayoutModel",
          "state": {
            "_model_module": "@jupyter-widgets/base",
            "_model_module_version": "1.2.0",
            "_model_name": "LayoutModel",
            "_view_count": null,
            "_view_module": "@jupyter-widgets/base",
            "_view_module_version": "1.2.0",
            "_view_name": "LayoutView",
            "align_content": null,
            "align_items": null,
            "align_self": null,
            "border": null,
            "bottom": null,
            "display": null,
            "flex": null,
            "flex_flow": null,
            "grid_area": null,
            "grid_auto_columns": null,
            "grid_auto_flow": null,
            "grid_auto_rows": null,
            "grid_column": null,
            "grid_gap": null,
            "grid_row": null,
            "grid_template_areas": null,
            "grid_template_columns": null,
            "grid_template_rows": null,
            "height": null,
            "justify_content": null,
            "justify_items": null,
            "left": null,
            "margin": null,
            "max_height": null,
            "max_width": null,
            "min_height": null,
            "min_width": null,
            "object_fit": null,
            "object_position": null,
            "order": null,
            "overflow": null,
            "overflow_x": null,
            "overflow_y": null,
            "padding": null,
            "right": null,
            "top": null,
            "visibility": null,
            "width": null
          }
        },
        "c5dee52a6432478195c3dee9a1d752e4": {
          "model_module": "@jupyter-widgets/controls",
          "model_module_version": "1.5.0",
          "model_name": "HTMLModel",
          "state": {
            "_dom_classes": [],
            "_model_module": "@jupyter-widgets/controls",
            "_model_module_version": "1.5.0",
            "_model_name": "HTMLModel",
            "_view_count": null,
            "_view_module": "@jupyter-widgets/controls",
            "_view_module_version": "1.5.0",
            "_view_name": "HTMLView",
            "description": "",
            "description_tooltip": null,
            "layout": "IPY_MODEL_b95e725f7dae4b888f37777c552c91d0",
            "placeholder": "​",
            "style": "IPY_MODEL_55db235ead1d4be9ac0a14421b502b51",
            "value": " 899k/899k [00:00&lt;00:00, 2.10MB/s]"
          }
        },
        "c770474ae85a4485975a589427b237e9": {
          "model_module": "@jupyter-widgets/controls",
          "model_module_version": "1.5.0",
          "model_name": "DescriptionStyleModel",
          "state": {
            "_model_module": "@jupyter-widgets/controls",
            "_model_module_version": "1.5.0",
            "_model_name": "DescriptionStyleModel",
            "_view_count": null,
            "_view_module": "@jupyter-widgets/base",
            "_view_module_version": "1.2.0",
            "_view_name": "StyleView",
            "description_width": ""
          }
        },
        "cb022effe4524b31a3acfc29fad67024": {
          "model_module": "@jupyter-widgets/controls",
          "model_module_version": "1.5.0",
          "model_name": "ProgressStyleModel",
          "state": {
            "_model_module": "@jupyter-widgets/controls",
            "_model_module_version": "1.5.0",
            "_model_name": "ProgressStyleModel",
            "_view_count": null,
            "_view_module": "@jupyter-widgets/base",
            "_view_module_version": "1.2.0",
            "_view_name": "StyleView",
            "bar_color": null,
            "description_width": ""
          }
        },
        "cb5a4320b6274fda96955fcf5862d97d": {
          "model_module": "@jupyter-widgets/controls",
          "model_module_version": "1.5.0",
          "model_name": "DescriptionStyleModel",
          "state": {
            "_model_module": "@jupyter-widgets/controls",
            "_model_module_version": "1.5.0",
            "_model_name": "DescriptionStyleModel",
            "_view_count": null,
            "_view_module": "@jupyter-widgets/base",
            "_view_module_version": "1.2.0",
            "_view_name": "StyleView",
            "description_width": ""
          }
        },
        "cf574c3379204708878fd6585ccd9fd6": {
          "model_module": "@jupyter-widgets/controls",
          "model_module_version": "1.5.0",
          "model_name": "FloatProgressModel",
          "state": {
            "_dom_classes": [],
            "_model_module": "@jupyter-widgets/controls",
            "_model_module_version": "1.5.0",
            "_model_name": "FloatProgressModel",
            "_view_count": null,
            "_view_module": "@jupyter-widgets/controls",
            "_view_module_version": "1.5.0",
            "_view_name": "ProgressView",
            "bar_style": "success",
            "description": "",
            "description_tooltip": null,
            "layout": "IPY_MODEL_63e2e85a21fa42bab8f09eb8df7c4d0b",
            "max": 363,
            "min": 0,
            "orientation": "horizontal",
            "style": "IPY_MODEL_4e0c3b9e7bda48a986efa8c2005b9024",
            "value": 363
          }
        },
        "cfca3184d3c74cb6bd4d25986060f078": {
          "model_module": "@jupyter-widgets/base",
          "model_module_version": "1.2.0",
          "model_name": "LayoutModel",
          "state": {
            "_model_module": "@jupyter-widgets/base",
            "_model_module_version": "1.2.0",
            "_model_name": "LayoutModel",
            "_view_count": null,
            "_view_module": "@jupyter-widgets/base",
            "_view_module_version": "1.2.0",
            "_view_name": "LayoutView",
            "align_content": null,
            "align_items": null,
            "align_self": null,
            "border": null,
            "bottom": null,
            "display": null,
            "flex": null,
            "flex_flow": null,
            "grid_area": null,
            "grid_auto_columns": null,
            "grid_auto_flow": null,
            "grid_auto_rows": null,
            "grid_column": null,
            "grid_gap": null,
            "grid_row": null,
            "grid_template_areas": null,
            "grid_template_columns": null,
            "grid_template_rows": null,
            "height": null,
            "justify_content": null,
            "justify_items": null,
            "left": null,
            "margin": null,
            "max_height": null,
            "max_width": null,
            "min_height": null,
            "min_width": null,
            "object_fit": null,
            "object_position": null,
            "order": null,
            "overflow": null,
            "overflow_x": null,
            "overflow_y": null,
            "padding": null,
            "right": null,
            "top": null,
            "visibility": null,
            "width": null
          }
        },
        "d0dba6dcc3e544ee8bd6497bf5f050e3": {
          "model_module": "@jupyter-widgets/base",
          "model_module_version": "1.2.0",
          "model_name": "LayoutModel",
          "state": {
            "_model_module": "@jupyter-widgets/base",
            "_model_module_version": "1.2.0",
            "_model_name": "LayoutModel",
            "_view_count": null,
            "_view_module": "@jupyter-widgets/base",
            "_view_module_version": "1.2.0",
            "_view_name": "LayoutView",
            "align_content": null,
            "align_items": null,
            "align_self": null,
            "border": null,
            "bottom": null,
            "display": null,
            "flex": null,
            "flex_flow": null,
            "grid_area": null,
            "grid_auto_columns": null,
            "grid_auto_flow": null,
            "grid_auto_rows": null,
            "grid_column": null,
            "grid_gap": null,
            "grid_row": null,
            "grid_template_areas": null,
            "grid_template_columns": null,
            "grid_template_rows": null,
            "height": null,
            "justify_content": null,
            "justify_items": null,
            "left": null,
            "margin": null,
            "max_height": null,
            "max_width": null,
            "min_height": null,
            "min_width": null,
            "object_fit": null,
            "object_position": null,
            "order": null,
            "overflow": null,
            "overflow_x": null,
            "overflow_y": null,
            "padding": null,
            "right": null,
            "top": null,
            "visibility": null,
            "width": null
          }
        },
        "d22b9e4bd3c24f32a3c1c0680031aa37": {
          "model_module": "@jupyter-widgets/controls",
          "model_module_version": "1.5.0",
          "model_name": "HBoxModel",
          "state": {
            "_dom_classes": [],
            "_model_module": "@jupyter-widgets/controls",
            "_model_module_version": "1.5.0",
            "_model_name": "HBoxModel",
            "_view_count": null,
            "_view_module": "@jupyter-widgets/controls",
            "_view_module_version": "1.5.0",
            "_view_name": "HBoxView",
            "box_style": "",
            "children": [
              "IPY_MODEL_98321b8570f44956a743ac863fce9cfc",
              "IPY_MODEL_a4675f2681474a54971d3fabd1f2c83d",
              "IPY_MODEL_15af3a8d5f3d445589812b350f5736a8"
            ],
            "layout": "IPY_MODEL_bd3089e49697421fbfbae0108dbc3440"
          }
        },
        "d268f6325fc44880b8db1486b9ca1a86": {
          "model_module": "@jupyter-widgets/base",
          "model_module_version": "1.2.0",
          "model_name": "LayoutModel",
          "state": {
            "_model_module": "@jupyter-widgets/base",
            "_model_module_version": "1.2.0",
            "_model_name": "LayoutModel",
            "_view_count": null,
            "_view_module": "@jupyter-widgets/base",
            "_view_module_version": "1.2.0",
            "_view_name": "LayoutView",
            "align_content": null,
            "align_items": null,
            "align_self": null,
            "border": null,
            "bottom": null,
            "display": null,
            "flex": null,
            "flex_flow": null,
            "grid_area": null,
            "grid_auto_columns": null,
            "grid_auto_flow": null,
            "grid_auto_rows": null,
            "grid_column": null,
            "grid_gap": null,
            "grid_row": null,
            "grid_template_areas": null,
            "grid_template_columns": null,
            "grid_template_rows": null,
            "height": null,
            "justify_content": null,
            "justify_items": null,
            "left": null,
            "margin": null,
            "max_height": null,
            "max_width": null,
            "min_height": null,
            "min_width": null,
            "object_fit": null,
            "object_position": null,
            "order": null,
            "overflow": null,
            "overflow_x": null,
            "overflow_y": null,
            "padding": null,
            "right": null,
            "top": null,
            "visibility": null,
            "width": null
          }
        },
        "d358785b33e1478383a9cb4dd825f300": {
          "model_module": "@jupyter-widgets/base",
          "model_module_version": "1.2.0",
          "model_name": "LayoutModel",
          "state": {
            "_model_module": "@jupyter-widgets/base",
            "_model_module_version": "1.2.0",
            "_model_name": "LayoutModel",
            "_view_count": null,
            "_view_module": "@jupyter-widgets/base",
            "_view_module_version": "1.2.0",
            "_view_name": "LayoutView",
            "align_content": null,
            "align_items": null,
            "align_self": null,
            "border": null,
            "bottom": null,
            "display": null,
            "flex": null,
            "flex_flow": null,
            "grid_area": null,
            "grid_auto_columns": null,
            "grid_auto_flow": null,
            "grid_auto_rows": null,
            "grid_column": null,
            "grid_gap": null,
            "grid_row": null,
            "grid_template_areas": null,
            "grid_template_columns": null,
            "grid_template_rows": null,
            "height": null,
            "justify_content": null,
            "justify_items": null,
            "left": null,
            "margin": null,
            "max_height": null,
            "max_width": null,
            "min_height": null,
            "min_width": null,
            "object_fit": null,
            "object_position": null,
            "order": null,
            "overflow": null,
            "overflow_x": null,
            "overflow_y": null,
            "padding": null,
            "right": null,
            "top": null,
            "visibility": null,
            "width": null
          }
        },
        "d40757ebface4565bb46f378ad6414a3": {
          "model_module": "@jupyter-widgets/controls",
          "model_module_version": "1.5.0",
          "model_name": "ProgressStyleModel",
          "state": {
            "_model_module": "@jupyter-widgets/controls",
            "_model_module_version": "1.5.0",
            "_model_name": "ProgressStyleModel",
            "_view_count": null,
            "_view_module": "@jupyter-widgets/base",
            "_view_module_version": "1.2.0",
            "_view_name": "StyleView",
            "bar_color": null,
            "description_width": ""
          }
        },
        "d58ce990cf984e38b0d40211847d83e6": {
          "model_module": "@jupyter-widgets/controls",
          "model_module_version": "1.5.0",
          "model_name": "HTMLModel",
          "state": {
            "_dom_classes": [],
            "_model_module": "@jupyter-widgets/controls",
            "_model_module_version": "1.5.0",
            "_model_name": "HTMLModel",
            "_view_count": null,
            "_view_module": "@jupyter-widgets/controls",
            "_view_module_version": "1.5.0",
            "_view_name": "HTMLView",
            "description": "",
            "description_tooltip": null,
            "layout": "IPY_MODEL_17c9e2cc15004e41ab76654c30dde349",
            "placeholder": "​",
            "style": "IPY_MODEL_8fad81bc70d346a4b7d9b823d7cf0c5a",
            "value": "spiece.model: 100%"
          }
        },
        "d787e7ba401541d49c8ec0e06dc8f9a3": {
          "model_module": "@jupyter-widgets/controls",
          "model_module_version": "1.5.0",
          "model_name": "FloatProgressModel",
          "state": {
            "_dom_classes": [],
            "_model_module": "@jupyter-widgets/controls",
            "_model_module_version": "1.5.0",
            "_model_name": "FloatProgressModel",
            "_view_count": null,
            "_view_module": "@jupyter-widgets/controls",
            "_view_module_version": "1.5.0",
            "_view_name": "ProgressView",
            "bar_style": "success",
            "description": "",
            "description_tooltip": null,
            "layout": "IPY_MODEL_b7f7ee2e444d431187160e3141746b97",
            "max": 213450,
            "min": 0,
            "orientation": "horizontal",
            "style": "IPY_MODEL_5babc4b1baa74eddb5a17d592c190db7",
            "value": 213450
          }
        },
        "d9ed9b51e8674e30b79ff873d8744e49": {
          "model_module": "@jupyter-widgets/base",
          "model_module_version": "1.2.0",
          "model_name": "LayoutModel",
          "state": {
            "_model_module": "@jupyter-widgets/base",
            "_model_module_version": "1.2.0",
            "_model_name": "LayoutModel",
            "_view_count": null,
            "_view_module": "@jupyter-widgets/base",
            "_view_module_version": "1.2.0",
            "_view_name": "LayoutView",
            "align_content": null,
            "align_items": null,
            "align_self": null,
            "border": null,
            "bottom": null,
            "display": null,
            "flex": null,
            "flex_flow": null,
            "grid_area": null,
            "grid_auto_columns": null,
            "grid_auto_flow": null,
            "grid_auto_rows": null,
            "grid_column": null,
            "grid_gap": null,
            "grid_row": null,
            "grid_template_areas": null,
            "grid_template_columns": null,
            "grid_template_rows": null,
            "height": null,
            "justify_content": null,
            "justify_items": null,
            "left": null,
            "margin": null,
            "max_height": null,
            "max_width": null,
            "min_height": null,
            "min_width": null,
            "object_fit": null,
            "object_position": null,
            "order": null,
            "overflow": null,
            "overflow_x": null,
            "overflow_y": null,
            "padding": null,
            "right": null,
            "top": null,
            "visibility": null,
            "width": null
          }
        },
        "da4a563e72d54e36b0077db043bf0887": {
          "model_module": "@jupyter-widgets/base",
          "model_module_version": "1.2.0",
          "model_name": "LayoutModel",
          "state": {
            "_model_module": "@jupyter-widgets/base",
            "_model_module_version": "1.2.0",
            "_model_name": "LayoutModel",
            "_view_count": null,
            "_view_module": "@jupyter-widgets/base",
            "_view_module_version": "1.2.0",
            "_view_name": "LayoutView",
            "align_content": null,
            "align_items": null,
            "align_self": null,
            "border": null,
            "bottom": null,
            "display": null,
            "flex": null,
            "flex_flow": null,
            "grid_area": null,
            "grid_auto_columns": null,
            "grid_auto_flow": null,
            "grid_auto_rows": null,
            "grid_column": null,
            "grid_gap": null,
            "grid_row": null,
            "grid_template_areas": null,
            "grid_template_columns": null,
            "grid_template_rows": null,
            "height": null,
            "justify_content": null,
            "justify_items": null,
            "left": null,
            "margin": null,
            "max_height": null,
            "max_width": null,
            "min_height": null,
            "min_width": null,
            "object_fit": null,
            "object_position": null,
            "order": null,
            "overflow": null,
            "overflow_x": null,
            "overflow_y": null,
            "padding": null,
            "right": null,
            "top": null,
            "visibility": null,
            "width": null
          }
        },
        "dae5aa972d114250809396e05b69f0c0": {
          "model_module": "@jupyter-widgets/controls",
          "model_module_version": "1.5.0",
          "model_name": "DescriptionStyleModel",
          "state": {
            "_model_module": "@jupyter-widgets/controls",
            "_model_module_version": "1.5.0",
            "_model_name": "DescriptionStyleModel",
            "_view_count": null,
            "_view_module": "@jupyter-widgets/base",
            "_view_module_version": "1.2.0",
            "_view_name": "StyleView",
            "description_width": ""
          }
        },
        "dc7566132c034759895492c0e5194e9e": {
          "model_module": "@jupyter-widgets/controls",
          "model_module_version": "1.5.0",
          "model_name": "DescriptionStyleModel",
          "state": {
            "_model_module": "@jupyter-widgets/controls",
            "_model_module_version": "1.5.0",
            "_model_name": "DescriptionStyleModel",
            "_view_count": null,
            "_view_module": "@jupyter-widgets/base",
            "_view_module_version": "1.2.0",
            "_view_name": "StyleView",
            "description_width": ""
          }
        },
        "dfd83e23a5cd4263bb02df196da2f49f": {
          "model_module": "@jupyter-widgets/controls",
          "model_module_version": "1.5.0",
          "model_name": "ProgressStyleModel",
          "state": {
            "_model_module": "@jupyter-widgets/controls",
            "_model_module_version": "1.5.0",
            "_model_name": "ProgressStyleModel",
            "_view_count": null,
            "_view_module": "@jupyter-widgets/base",
            "_view_module_version": "1.2.0",
            "_view_name": "StyleView",
            "bar_color": null,
            "description_width": ""
          }
        },
        "e4317de7b54640dbaf1f0216c67f5fa2": {
          "model_module": "@jupyter-widgets/controls",
          "model_module_version": "1.5.0",
          "model_name": "HBoxModel",
          "state": {
            "_dom_classes": [],
            "_model_module": "@jupyter-widgets/controls",
            "_model_module_version": "1.5.0",
            "_model_name": "HBoxModel",
            "_view_count": null,
            "_view_module": "@jupyter-widgets/controls",
            "_view_module_version": "1.5.0",
            "_view_name": "HBoxView",
            "box_style": "",
            "children": [
              "IPY_MODEL_be45bcd74cb34f88b01fba45b747bcc4",
              "IPY_MODEL_41f9e8a55228493fbbd8e5d9520d5d1b",
              "IPY_MODEL_24135dabb31c4c369657a26122c2c171"
            ],
            "layout": "IPY_MODEL_736b5b93736d412891529a6f4fd45bf0"
          }
        },
        "e776d10cf6294dc39837dac653cfe37c": {
          "model_module": "@jupyter-widgets/controls",
          "model_module_version": "1.5.0",
          "model_name": "DescriptionStyleModel",
          "state": {
            "_model_module": "@jupyter-widgets/controls",
            "_model_module_version": "1.5.0",
            "_model_name": "DescriptionStyleModel",
            "_view_count": null,
            "_view_module": "@jupyter-widgets/base",
            "_view_module_version": "1.2.0",
            "_view_name": "StyleView",
            "description_width": ""
          }
        },
        "ea41581576c849908494980ee7176dff": {
          "model_module": "@jupyter-widgets/base",
          "model_module_version": "1.2.0",
          "model_name": "LayoutModel",
          "state": {
            "_model_module": "@jupyter-widgets/base",
            "_model_module_version": "1.2.0",
            "_model_name": "LayoutModel",
            "_view_count": null,
            "_view_module": "@jupyter-widgets/base",
            "_view_module_version": "1.2.0",
            "_view_name": "LayoutView",
            "align_content": null,
            "align_items": null,
            "align_self": null,
            "border": null,
            "bottom": null,
            "display": null,
            "flex": null,
            "flex_flow": null,
            "grid_area": null,
            "grid_auto_columns": null,
            "grid_auto_flow": null,
            "grid_auto_rows": null,
            "grid_column": null,
            "grid_gap": null,
            "grid_row": null,
            "grid_template_areas": null,
            "grid_template_columns": null,
            "grid_template_rows": null,
            "height": null,
            "justify_content": null,
            "justify_items": null,
            "left": null,
            "margin": null,
            "max_height": null,
            "max_width": null,
            "min_height": null,
            "min_width": null,
            "object_fit": null,
            "object_position": null,
            "order": null,
            "overflow": null,
            "overflow_x": null,
            "overflow_y": null,
            "padding": null,
            "right": null,
            "top": null,
            "visibility": null,
            "width": null
          }
        },
        "ee94e463d4c841319db9fc8428feb2ac": {
          "model_module": "@jupyter-widgets/base",
          "model_module_version": "1.2.0",
          "model_name": "LayoutModel",
          "state": {
            "_model_module": "@jupyter-widgets/base",
            "_model_module_version": "1.2.0",
            "_model_name": "LayoutModel",
            "_view_count": null,
            "_view_module": "@jupyter-widgets/base",
            "_view_module_version": "1.2.0",
            "_view_name": "LayoutView",
            "align_content": null,
            "align_items": null,
            "align_self": null,
            "border": null,
            "bottom": null,
            "display": null,
            "flex": null,
            "flex_flow": null,
            "grid_area": null,
            "grid_auto_columns": null,
            "grid_auto_flow": null,
            "grid_auto_rows": null,
            "grid_column": null,
            "grid_gap": null,
            "grid_row": null,
            "grid_template_areas": null,
            "grid_template_columns": null,
            "grid_template_rows": null,
            "height": null,
            "justify_content": null,
            "justify_items": null,
            "left": null,
            "margin": null,
            "max_height": null,
            "max_width": null,
            "min_height": null,
            "min_width": null,
            "object_fit": null,
            "object_position": null,
            "order": null,
            "overflow": null,
            "overflow_x": null,
            "overflow_y": null,
            "padding": null,
            "right": null,
            "top": null,
            "visibility": null,
            "width": null
          }
        },
        "f35f36cdc5dd416aac01555625b26d94": {
          "model_module": "@jupyter-widgets/controls",
          "model_module_version": "1.5.0",
          "model_name": "ProgressStyleModel",
          "state": {
            "_model_module": "@jupyter-widgets/controls",
            "_model_module_version": "1.5.0",
            "_model_name": "ProgressStyleModel",
            "_view_count": null,
            "_view_module": "@jupyter-widgets/base",
            "_view_module_version": "1.2.0",
            "_view_name": "StyleView",
            "bar_color": null,
            "description_width": ""
          }
        },
        "f3a2886087e14eac8b7ddc01ff730c06": {
          "model_module": "@jupyter-widgets/base",
          "model_module_version": "1.2.0",
          "model_name": "LayoutModel",
          "state": {
            "_model_module": "@jupyter-widgets/base",
            "_model_module_version": "1.2.0",
            "_model_name": "LayoutModel",
            "_view_count": null,
            "_view_module": "@jupyter-widgets/base",
            "_view_module_version": "1.2.0",
            "_view_name": "LayoutView",
            "align_content": null,
            "align_items": null,
            "align_self": null,
            "border": null,
            "bottom": null,
            "display": null,
            "flex": null,
            "flex_flow": null,
            "grid_area": null,
            "grid_auto_columns": null,
            "grid_auto_flow": null,
            "grid_auto_rows": null,
            "grid_column": null,
            "grid_gap": null,
            "grid_row": null,
            "grid_template_areas": null,
            "grid_template_columns": null,
            "grid_template_rows": null,
            "height": null,
            "justify_content": null,
            "justify_items": null,
            "left": null,
            "margin": null,
            "max_height": null,
            "max_width": null,
            "min_height": null,
            "min_width": null,
            "object_fit": null,
            "object_position": null,
            "order": null,
            "overflow": null,
            "overflow_x": null,
            "overflow_y": null,
            "padding": null,
            "right": null,
            "top": null,
            "visibility": null,
            "width": null
          }
        },
        "f539c3eaeefa4d97a0913bf15b3f6827": {
          "model_module": "@jupyter-widgets/base",
          "model_module_version": "1.2.0",
          "model_name": "LayoutModel",
          "state": {
            "_model_module": "@jupyter-widgets/base",
            "_model_module_version": "1.2.0",
            "_model_name": "LayoutModel",
            "_view_count": null,
            "_view_module": "@jupyter-widgets/base",
            "_view_module_version": "1.2.0",
            "_view_name": "LayoutView",
            "align_content": null,
            "align_items": null,
            "align_self": null,
            "border": null,
            "bottom": null,
            "display": null,
            "flex": null,
            "flex_flow": null,
            "grid_area": null,
            "grid_auto_columns": null,
            "grid_auto_flow": null,
            "grid_auto_rows": null,
            "grid_column": null,
            "grid_gap": null,
            "grid_row": null,
            "grid_template_areas": null,
            "grid_template_columns": null,
            "grid_template_rows": null,
            "height": null,
            "justify_content": null,
            "justify_items": null,
            "left": null,
            "margin": null,
            "max_height": null,
            "max_width": null,
            "min_height": null,
            "min_width": null,
            "object_fit": null,
            "object_position": null,
            "order": null,
            "overflow": null,
            "overflow_x": null,
            "overflow_y": null,
            "padding": null,
            "right": null,
            "top": null,
            "visibility": null,
            "width": null
          }
        },
        "f6012a36d9444094b6ca5de6924e63dd": {
          "model_module": "@jupyter-widgets/controls",
          "model_module_version": "1.5.0",
          "model_name": "HTMLModel",
          "state": {
            "_dom_classes": [],
            "_model_module": "@jupyter-widgets/controls",
            "_model_module_version": "1.5.0",
            "_model_name": "HTMLModel",
            "_view_count": null,
            "_view_module": "@jupyter-widgets/controls",
            "_view_module_version": "1.5.0",
            "_view_name": "HTMLView",
            "description": "",
            "description_tooltip": null,
            "layout": "IPY_MODEL_76fb633ee9ef459db92ea22bb3bd27e3",
            "placeholder": "​",
            "style": "IPY_MODEL_8ef8f117c92d485faa77bd66bc7cd28a",
            "value": " 213k/213k [00:00&lt;00:00, 1.58MB/s]"
          }
        },
        "f7ed52b61338488fa43e38291241c24a": {
          "model_module": "@jupyter-widgets/base",
          "model_module_version": "1.2.0",
          "model_name": "LayoutModel",
          "state": {
            "_model_module": "@jupyter-widgets/base",
            "_model_module_version": "1.2.0",
            "_model_name": "LayoutModel",
            "_view_count": null,
            "_view_module": "@jupyter-widgets/base",
            "_view_module_version": "1.2.0",
            "_view_name": "LayoutView",
            "align_content": null,
            "align_items": null,
            "align_self": null,
            "border": null,
            "bottom": null,
            "display": null,
            "flex": null,
            "flex_flow": null,
            "grid_area": null,
            "grid_auto_columns": null,
            "grid_auto_flow": null,
            "grid_auto_rows": null,
            "grid_column": null,
            "grid_gap": null,
            "grid_row": null,
            "grid_template_areas": null,
            "grid_template_columns": null,
            "grid_template_rows": null,
            "height": null,
            "justify_content": null,
            "justify_items": null,
            "left": null,
            "margin": null,
            "max_height": null,
            "max_width": null,
            "min_height": null,
            "min_width": null,
            "object_fit": null,
            "object_position": null,
            "order": null,
            "overflow": null,
            "overflow_x": null,
            "overflow_y": null,
            "padding": null,
            "right": null,
            "top": null,
            "visibility": null,
            "width": null
          }
        },
        "5413de63cec344b991a6bd69ade422ac": {
          "model_module": "@jupyter-widgets/controls",
          "model_name": "HBoxModel",
          "model_module_version": "1.5.0",
          "state": {
            "_dom_classes": [],
            "_model_module": "@jupyter-widgets/controls",
            "_model_module_version": "1.5.0",
            "_model_name": "HBoxModel",
            "_view_count": null,
            "_view_module": "@jupyter-widgets/controls",
            "_view_module_version": "1.5.0",
            "_view_name": "HBoxView",
            "box_style": "",
            "children": [
              "IPY_MODEL_5397b12109d048968510c3fc3b9d9f9c",
              "IPY_MODEL_e5b5c943e9f94b2da7f4d9eed9379feb",
              "IPY_MODEL_8bd509f0d6044b2aa71e358eb440c1ca"
            ],
            "layout": "IPY_MODEL_5fc0f358b3d443a6a6bf6bf7681e234d"
          }
        },
        "5397b12109d048968510c3fc3b9d9f9c": {
          "model_module": "@jupyter-widgets/controls",
          "model_name": "HTMLModel",
          "model_module_version": "1.5.0",
          "state": {
            "_dom_classes": [],
            "_model_module": "@jupyter-widgets/controls",
            "_model_module_version": "1.5.0",
            "_model_name": "HTMLModel",
            "_view_count": null,
            "_view_module": "@jupyter-widgets/controls",
            "_view_module_version": "1.5.0",
            "_view_name": "HTMLView",
            "description": "",
            "description_tooltip": null,
            "layout": "IPY_MODEL_bbdc156cebdb4cd688b8c45e4c6d5574",
            "placeholder": "​",
            "style": "IPY_MODEL_f67c87ba53594804858f0d54ed284ee6",
            "value": "Map: 100%"
          }
        },
        "e5b5c943e9f94b2da7f4d9eed9379feb": {
          "model_module": "@jupyter-widgets/controls",
          "model_name": "FloatProgressModel",
          "model_module_version": "1.5.0",
          "state": {
            "_dom_classes": [],
            "_model_module": "@jupyter-widgets/controls",
            "_model_module_version": "1.5.0",
            "_model_name": "FloatProgressModel",
            "_view_count": null,
            "_view_module": "@jupyter-widgets/controls",
            "_view_module_version": "1.5.0",
            "_view_name": "ProgressView",
            "bar_style": "success",
            "description": "",
            "description_tooltip": null,
            "layout": "IPY_MODEL_111cded231b041e890da4f2998bf382f",
            "max": 24773,
            "min": 0,
            "orientation": "horizontal",
            "style": "IPY_MODEL_c4325a73d7874acab035a0d9bc2bce8f",
            "value": 24773
          }
        },
        "8bd509f0d6044b2aa71e358eb440c1ca": {
          "model_module": "@jupyter-widgets/controls",
          "model_name": "HTMLModel",
          "model_module_version": "1.5.0",
          "state": {
            "_dom_classes": [],
            "_model_module": "@jupyter-widgets/controls",
            "_model_module_version": "1.5.0",
            "_model_name": "HTMLModel",
            "_view_count": null,
            "_view_module": "@jupyter-widgets/controls",
            "_view_module_version": "1.5.0",
            "_view_name": "HTMLView",
            "description": "",
            "description_tooltip": null,
            "layout": "IPY_MODEL_8e36f294930e417eb5c04239091b476a",
            "placeholder": "​",
            "style": "IPY_MODEL_4015de7340dc425c9c3ea5d38fb32c1e",
            "value": " 24773/24773 [00:04&lt;00:00, 4318.36 examples/s]"
          }
        },
        "5fc0f358b3d443a6a6bf6bf7681e234d": {
          "model_module": "@jupyter-widgets/base",
          "model_name": "LayoutModel",
          "model_module_version": "1.2.0",
          "state": {
            "_model_module": "@jupyter-widgets/base",
            "_model_module_version": "1.2.0",
            "_model_name": "LayoutModel",
            "_view_count": null,
            "_view_module": "@jupyter-widgets/base",
            "_view_module_version": "1.2.0",
            "_view_name": "LayoutView",
            "align_content": null,
            "align_items": null,
            "align_self": null,
            "border": null,
            "bottom": null,
            "display": null,
            "flex": null,
            "flex_flow": null,
            "grid_area": null,
            "grid_auto_columns": null,
            "grid_auto_flow": null,
            "grid_auto_rows": null,
            "grid_column": null,
            "grid_gap": null,
            "grid_row": null,
            "grid_template_areas": null,
            "grid_template_columns": null,
            "grid_template_rows": null,
            "height": null,
            "justify_content": null,
            "justify_items": null,
            "left": null,
            "margin": null,
            "max_height": null,
            "max_width": null,
            "min_height": null,
            "min_width": null,
            "object_fit": null,
            "object_position": null,
            "order": null,
            "overflow": null,
            "overflow_x": null,
            "overflow_y": null,
            "padding": null,
            "right": null,
            "top": null,
            "visibility": null,
            "width": null
          }
        },
        "bbdc156cebdb4cd688b8c45e4c6d5574": {
          "model_module": "@jupyter-widgets/base",
          "model_name": "LayoutModel",
          "model_module_version": "1.2.0",
          "state": {
            "_model_module": "@jupyter-widgets/base",
            "_model_module_version": "1.2.0",
            "_model_name": "LayoutModel",
            "_view_count": null,
            "_view_module": "@jupyter-widgets/base",
            "_view_module_version": "1.2.0",
            "_view_name": "LayoutView",
            "align_content": null,
            "align_items": null,
            "align_self": null,
            "border": null,
            "bottom": null,
            "display": null,
            "flex": null,
            "flex_flow": null,
            "grid_area": null,
            "grid_auto_columns": null,
            "grid_auto_flow": null,
            "grid_auto_rows": null,
            "grid_column": null,
            "grid_gap": null,
            "grid_row": null,
            "grid_template_areas": null,
            "grid_template_columns": null,
            "grid_template_rows": null,
            "height": null,
            "justify_content": null,
            "justify_items": null,
            "left": null,
            "margin": null,
            "max_height": null,
            "max_width": null,
            "min_height": null,
            "min_width": null,
            "object_fit": null,
            "object_position": null,
            "order": null,
            "overflow": null,
            "overflow_x": null,
            "overflow_y": null,
            "padding": null,
            "right": null,
            "top": null,
            "visibility": null,
            "width": null
          }
        },
        "f67c87ba53594804858f0d54ed284ee6": {
          "model_module": "@jupyter-widgets/controls",
          "model_name": "DescriptionStyleModel",
          "model_module_version": "1.5.0",
          "state": {
            "_model_module": "@jupyter-widgets/controls",
            "_model_module_version": "1.5.0",
            "_model_name": "DescriptionStyleModel",
            "_view_count": null,
            "_view_module": "@jupyter-widgets/base",
            "_view_module_version": "1.2.0",
            "_view_name": "StyleView",
            "description_width": ""
          }
        },
        "111cded231b041e890da4f2998bf382f": {
          "model_module": "@jupyter-widgets/base",
          "model_name": "LayoutModel",
          "model_module_version": "1.2.0",
          "state": {
            "_model_module": "@jupyter-widgets/base",
            "_model_module_version": "1.2.0",
            "_model_name": "LayoutModel",
            "_view_count": null,
            "_view_module": "@jupyter-widgets/base",
            "_view_module_version": "1.2.0",
            "_view_name": "LayoutView",
            "align_content": null,
            "align_items": null,
            "align_self": null,
            "border": null,
            "bottom": null,
            "display": null,
            "flex": null,
            "flex_flow": null,
            "grid_area": null,
            "grid_auto_columns": null,
            "grid_auto_flow": null,
            "grid_auto_rows": null,
            "grid_column": null,
            "grid_gap": null,
            "grid_row": null,
            "grid_template_areas": null,
            "grid_template_columns": null,
            "grid_template_rows": null,
            "height": null,
            "justify_content": null,
            "justify_items": null,
            "left": null,
            "margin": null,
            "max_height": null,
            "max_width": null,
            "min_height": null,
            "min_width": null,
            "object_fit": null,
            "object_position": null,
            "order": null,
            "overflow": null,
            "overflow_x": null,
            "overflow_y": null,
            "padding": null,
            "right": null,
            "top": null,
            "visibility": null,
            "width": null
          }
        },
        "c4325a73d7874acab035a0d9bc2bce8f": {
          "model_module": "@jupyter-widgets/controls",
          "model_name": "ProgressStyleModel",
          "model_module_version": "1.5.0",
          "state": {
            "_model_module": "@jupyter-widgets/controls",
            "_model_module_version": "1.5.0",
            "_model_name": "ProgressStyleModel",
            "_view_count": null,
            "_view_module": "@jupyter-widgets/base",
            "_view_module_version": "1.2.0",
            "_view_name": "StyleView",
            "bar_color": null,
            "description_width": ""
          }
        },
        "8e36f294930e417eb5c04239091b476a": {
          "model_module": "@jupyter-widgets/base",
          "model_name": "LayoutModel",
          "model_module_version": "1.2.0",
          "state": {
            "_model_module": "@jupyter-widgets/base",
            "_model_module_version": "1.2.0",
            "_model_name": "LayoutModel",
            "_view_count": null,
            "_view_module": "@jupyter-widgets/base",
            "_view_module_version": "1.2.0",
            "_view_name": "LayoutView",
            "align_content": null,
            "align_items": null,
            "align_self": null,
            "border": null,
            "bottom": null,
            "display": null,
            "flex": null,
            "flex_flow": null,
            "grid_area": null,
            "grid_auto_columns": null,
            "grid_auto_flow": null,
            "grid_auto_rows": null,
            "grid_column": null,
            "grid_gap": null,
            "grid_row": null,
            "grid_template_areas": null,
            "grid_template_columns": null,
            "grid_template_rows": null,
            "height": null,
            "justify_content": null,
            "justify_items": null,
            "left": null,
            "margin": null,
            "max_height": null,
            "max_width": null,
            "min_height": null,
            "min_width": null,
            "object_fit": null,
            "object_position": null,
            "order": null,
            "overflow": null,
            "overflow_x": null,
            "overflow_y": null,
            "padding": null,
            "right": null,
            "top": null,
            "visibility": null,
            "width": null
          }
        },
        "4015de7340dc425c9c3ea5d38fb32c1e": {
          "model_module": "@jupyter-widgets/controls",
          "model_name": "DescriptionStyleModel",
          "model_module_version": "1.5.0",
          "state": {
            "_model_module": "@jupyter-widgets/controls",
            "_model_module_version": "1.5.0",
            "_model_name": "DescriptionStyleModel",
            "_view_count": null,
            "_view_module": "@jupyter-widgets/base",
            "_view_module_version": "1.2.0",
            "_view_name": "StyleView",
            "description_width": ""
          }
        },
        "0ae8bf93966247a4beee7688441defad": {
          "model_module": "@jupyter-widgets/controls",
          "model_name": "HBoxModel",
          "model_module_version": "1.5.0",
          "state": {
            "_dom_classes": [],
            "_model_module": "@jupyter-widgets/controls",
            "_model_module_version": "1.5.0",
            "_model_name": "HBoxModel",
            "_view_count": null,
            "_view_module": "@jupyter-widgets/controls",
            "_view_module_version": "1.5.0",
            "_view_name": "HBoxView",
            "box_style": "",
            "children": [
              "IPY_MODEL_6b841dad9b184d26a3304cd5d5f3d056",
              "IPY_MODEL_44ba2a4f876b466b800837a6fe3c63ba",
              "IPY_MODEL_042ee2fa19374b4e9816fea3ca760990"
            ],
            "layout": "IPY_MODEL_e8a7680707d04accafe275a1faea2612"
          }
        },
        "6b841dad9b184d26a3304cd5d5f3d056": {
          "model_module": "@jupyter-widgets/controls",
          "model_name": "HTMLModel",
          "model_module_version": "1.5.0",
          "state": {
            "_dom_classes": [],
            "_model_module": "@jupyter-widgets/controls",
            "_model_module_version": "1.5.0",
            "_model_name": "HTMLModel",
            "_view_count": null,
            "_view_module": "@jupyter-widgets/controls",
            "_view_module_version": "1.5.0",
            "_view_name": "HTMLView",
            "description": "",
            "description_tooltip": null,
            "layout": "IPY_MODEL_3872b2b14ee647f28225e536210a9115",
            "placeholder": "​",
            "style": "IPY_MODEL_544a6db7428a423083f59bb209ab2ca1",
            "value": "Map: 100%"
          }
        },
        "44ba2a4f876b466b800837a6fe3c63ba": {
          "model_module": "@jupyter-widgets/controls",
          "model_name": "FloatProgressModel",
          "model_module_version": "1.5.0",
          "state": {
            "_dom_classes": [],
            "_model_module": "@jupyter-widgets/controls",
            "_model_module_version": "1.5.0",
            "_model_name": "FloatProgressModel",
            "_view_count": null,
            "_view_module": "@jupyter-widgets/controls",
            "_view_module_version": "1.5.0",
            "_view_name": "ProgressView",
            "bar_style": "success",
            "description": "",
            "description_tooltip": null,
            "layout": "IPY_MODEL_ac8e314e250245a4a1978631037d864f",
            "max": 1376,
            "min": 0,
            "orientation": "horizontal",
            "style": "IPY_MODEL_32495d5bd439495bbce9be597a478025",
            "value": 1376
          }
        },
        "042ee2fa19374b4e9816fea3ca760990": {
          "model_module": "@jupyter-widgets/controls",
          "model_name": "HTMLModel",
          "model_module_version": "1.5.0",
          "state": {
            "_dom_classes": [],
            "_model_module": "@jupyter-widgets/controls",
            "_model_module_version": "1.5.0",
            "_model_name": "HTMLModel",
            "_view_count": null,
            "_view_module": "@jupyter-widgets/controls",
            "_view_module_version": "1.5.0",
            "_view_name": "HTMLView",
            "description": "",
            "description_tooltip": null,
            "layout": "IPY_MODEL_48e14e88e28442978a2df5a5ae65064d",
            "placeholder": "​",
            "style": "IPY_MODEL_1006db1422bb40a8906fc4c6701af004",
            "value": " 1376/1376 [00:00&lt;00:00, 4964.90 examples/s]"
          }
        },
        "e8a7680707d04accafe275a1faea2612": {
          "model_module": "@jupyter-widgets/base",
          "model_name": "LayoutModel",
          "model_module_version": "1.2.0",
          "state": {
            "_model_module": "@jupyter-widgets/base",
            "_model_module_version": "1.2.0",
            "_model_name": "LayoutModel",
            "_view_count": null,
            "_view_module": "@jupyter-widgets/base",
            "_view_module_version": "1.2.0",
            "_view_name": "LayoutView",
            "align_content": null,
            "align_items": null,
            "align_self": null,
            "border": null,
            "bottom": null,
            "display": null,
            "flex": null,
            "flex_flow": null,
            "grid_area": null,
            "grid_auto_columns": null,
            "grid_auto_flow": null,
            "grid_auto_rows": null,
            "grid_column": null,
            "grid_gap": null,
            "grid_row": null,
            "grid_template_areas": null,
            "grid_template_columns": null,
            "grid_template_rows": null,
            "height": null,
            "justify_content": null,
            "justify_items": null,
            "left": null,
            "margin": null,
            "max_height": null,
            "max_width": null,
            "min_height": null,
            "min_width": null,
            "object_fit": null,
            "object_position": null,
            "order": null,
            "overflow": null,
            "overflow_x": null,
            "overflow_y": null,
            "padding": null,
            "right": null,
            "top": null,
            "visibility": null,
            "width": null
          }
        },
        "3872b2b14ee647f28225e536210a9115": {
          "model_module": "@jupyter-widgets/base",
          "model_name": "LayoutModel",
          "model_module_version": "1.2.0",
          "state": {
            "_model_module": "@jupyter-widgets/base",
            "_model_module_version": "1.2.0",
            "_model_name": "LayoutModel",
            "_view_count": null,
            "_view_module": "@jupyter-widgets/base",
            "_view_module_version": "1.2.0",
            "_view_name": "LayoutView",
            "align_content": null,
            "align_items": null,
            "align_self": null,
            "border": null,
            "bottom": null,
            "display": null,
            "flex": null,
            "flex_flow": null,
            "grid_area": null,
            "grid_auto_columns": null,
            "grid_auto_flow": null,
            "grid_auto_rows": null,
            "grid_column": null,
            "grid_gap": null,
            "grid_row": null,
            "grid_template_areas": null,
            "grid_template_columns": null,
            "grid_template_rows": null,
            "height": null,
            "justify_content": null,
            "justify_items": null,
            "left": null,
            "margin": null,
            "max_height": null,
            "max_width": null,
            "min_height": null,
            "min_width": null,
            "object_fit": null,
            "object_position": null,
            "order": null,
            "overflow": null,
            "overflow_x": null,
            "overflow_y": null,
            "padding": null,
            "right": null,
            "top": null,
            "visibility": null,
            "width": null
          }
        },
        "544a6db7428a423083f59bb209ab2ca1": {
          "model_module": "@jupyter-widgets/controls",
          "model_name": "DescriptionStyleModel",
          "model_module_version": "1.5.0",
          "state": {
            "_model_module": "@jupyter-widgets/controls",
            "_model_module_version": "1.5.0",
            "_model_name": "DescriptionStyleModel",
            "_view_count": null,
            "_view_module": "@jupyter-widgets/base",
            "_view_module_version": "1.2.0",
            "_view_name": "StyleView",
            "description_width": ""
          }
        },
        "ac8e314e250245a4a1978631037d864f": {
          "model_module": "@jupyter-widgets/base",
          "model_name": "LayoutModel",
          "model_module_version": "1.2.0",
          "state": {
            "_model_module": "@jupyter-widgets/base",
            "_model_module_version": "1.2.0",
            "_model_name": "LayoutModel",
            "_view_count": null,
            "_view_module": "@jupyter-widgets/base",
            "_view_module_version": "1.2.0",
            "_view_name": "LayoutView",
            "align_content": null,
            "align_items": null,
            "align_self": null,
            "border": null,
            "bottom": null,
            "display": null,
            "flex": null,
            "flex_flow": null,
            "grid_area": null,
            "grid_auto_columns": null,
            "grid_auto_flow": null,
            "grid_auto_rows": null,
            "grid_column": null,
            "grid_gap": null,
            "grid_row": null,
            "grid_template_areas": null,
            "grid_template_columns": null,
            "grid_template_rows": null,
            "height": null,
            "justify_content": null,
            "justify_items": null,
            "left": null,
            "margin": null,
            "max_height": null,
            "max_width": null,
            "min_height": null,
            "min_width": null,
            "object_fit": null,
            "object_position": null,
            "order": null,
            "overflow": null,
            "overflow_x": null,
            "overflow_y": null,
            "padding": null,
            "right": null,
            "top": null,
            "visibility": null,
            "width": null
          }
        },
        "32495d5bd439495bbce9be597a478025": {
          "model_module": "@jupyter-widgets/controls",
          "model_name": "ProgressStyleModel",
          "model_module_version": "1.5.0",
          "state": {
            "_model_module": "@jupyter-widgets/controls",
            "_model_module_version": "1.5.0",
            "_model_name": "ProgressStyleModel",
            "_view_count": null,
            "_view_module": "@jupyter-widgets/base",
            "_view_module_version": "1.2.0",
            "_view_name": "StyleView",
            "bar_color": null,
            "description_width": ""
          }
        },
        "48e14e88e28442978a2df5a5ae65064d": {
          "model_module": "@jupyter-widgets/base",
          "model_name": "LayoutModel",
          "model_module_version": "1.2.0",
          "state": {
            "_model_module": "@jupyter-widgets/base",
            "_model_module_version": "1.2.0",
            "_model_name": "LayoutModel",
            "_view_count": null,
            "_view_module": "@jupyter-widgets/base",
            "_view_module_version": "1.2.0",
            "_view_name": "LayoutView",
            "align_content": null,
            "align_items": null,
            "align_self": null,
            "border": null,
            "bottom": null,
            "display": null,
            "flex": null,
            "flex_flow": null,
            "grid_area": null,
            "grid_auto_columns": null,
            "grid_auto_flow": null,
            "grid_auto_rows": null,
            "grid_column": null,
            "grid_gap": null,
            "grid_row": null,
            "grid_template_areas": null,
            "grid_template_columns": null,
            "grid_template_rows": null,
            "height": null,
            "justify_content": null,
            "justify_items": null,
            "left": null,
            "margin": null,
            "max_height": null,
            "max_width": null,
            "min_height": null,
            "min_width": null,
            "object_fit": null,
            "object_position": null,
            "order": null,
            "overflow": null,
            "overflow_x": null,
            "overflow_y": null,
            "padding": null,
            "right": null,
            "top": null,
            "visibility": null,
            "width": null
          }
        },
        "1006db1422bb40a8906fc4c6701af004": {
          "model_module": "@jupyter-widgets/controls",
          "model_name": "DescriptionStyleModel",
          "model_module_version": "1.5.0",
          "state": {
            "_model_module": "@jupyter-widgets/controls",
            "_model_module_version": "1.5.0",
            "_model_name": "DescriptionStyleModel",
            "_view_count": null,
            "_view_module": "@jupyter-widgets/base",
            "_view_module_version": "1.2.0",
            "_view_name": "StyleView",
            "description_width": ""
          }
        },
        "9dc0d18dcca94587afc009a399b2a7ec": {
          "model_module": "@jupyter-widgets/controls",
          "model_name": "HBoxModel",
          "model_module_version": "1.5.0",
          "state": {
            "_dom_classes": [],
            "_model_module": "@jupyter-widgets/controls",
            "_model_module_version": "1.5.0",
            "_model_name": "HBoxModel",
            "_view_count": null,
            "_view_module": "@jupyter-widgets/controls",
            "_view_module_version": "1.5.0",
            "_view_name": "HBoxView",
            "box_style": "",
            "children": [
              "IPY_MODEL_b8438034f4fe45edbc0f7358df43f263",
              "IPY_MODEL_688f729dfa054d528b3d30db5cad8712",
              "IPY_MODEL_f002d53064dc42b2bcac17ae54a12a5c"
            ],
            "layout": "IPY_MODEL_eb4556e8f885416aa9940bcf8e464562"
          }
        },
        "b8438034f4fe45edbc0f7358df43f263": {
          "model_module": "@jupyter-widgets/controls",
          "model_name": "HTMLModel",
          "model_module_version": "1.5.0",
          "state": {
            "_dom_classes": [],
            "_model_module": "@jupyter-widgets/controls",
            "_model_module_version": "1.5.0",
            "_model_name": "HTMLModel",
            "_view_count": null,
            "_view_module": "@jupyter-widgets/controls",
            "_view_module_version": "1.5.0",
            "_view_name": "HTMLView",
            "description": "",
            "description_tooltip": null,
            "layout": "IPY_MODEL_102918ac1b1a4508b2cc1e5d168464b1",
            "placeholder": "​",
            "style": "IPY_MODEL_fae62889ad2648dea8d8841d7572da41",
            "value": "Map: 100%"
          }
        },
        "688f729dfa054d528b3d30db5cad8712": {
          "model_module": "@jupyter-widgets/controls",
          "model_name": "FloatProgressModel",
          "model_module_version": "1.5.0",
          "state": {
            "_dom_classes": [],
            "_model_module": "@jupyter-widgets/controls",
            "_model_module_version": "1.5.0",
            "_model_name": "FloatProgressModel",
            "_view_count": null,
            "_view_module": "@jupyter-widgets/controls",
            "_view_module_version": "1.5.0",
            "_view_name": "ProgressView",
            "bar_style": "success",
            "description": "",
            "description_tooltip": null,
            "layout": "IPY_MODEL_8e745e5d520d410eba2c9f4fdb22e770",
            "max": 1376,
            "min": 0,
            "orientation": "horizontal",
            "style": "IPY_MODEL_39d20edcf23f4bdda89248f83d63e712",
            "value": 1376
          }
        },
        "f002d53064dc42b2bcac17ae54a12a5c": {
          "model_module": "@jupyter-widgets/controls",
          "model_name": "HTMLModel",
          "model_module_version": "1.5.0",
          "state": {
            "_dom_classes": [],
            "_model_module": "@jupyter-widgets/controls",
            "_model_module_version": "1.5.0",
            "_model_name": "HTMLModel",
            "_view_count": null,
            "_view_module": "@jupyter-widgets/controls",
            "_view_module_version": "1.5.0",
            "_view_name": "HTMLView",
            "description": "",
            "description_tooltip": null,
            "layout": "IPY_MODEL_2a1dac246b5d480bb7ee9065e25733ef",
            "placeholder": "​",
            "style": "IPY_MODEL_faa1103ad73a4ea7961650eec240ea4f",
            "value": " 1376/1376 [00:00&lt;00:00, 4697.76 examples/s]"
          }
        },
        "eb4556e8f885416aa9940bcf8e464562": {
          "model_module": "@jupyter-widgets/base",
          "model_name": "LayoutModel",
          "model_module_version": "1.2.0",
          "state": {
            "_model_module": "@jupyter-widgets/base",
            "_model_module_version": "1.2.0",
            "_model_name": "LayoutModel",
            "_view_count": null,
            "_view_module": "@jupyter-widgets/base",
            "_view_module_version": "1.2.0",
            "_view_name": "LayoutView",
            "align_content": null,
            "align_items": null,
            "align_self": null,
            "border": null,
            "bottom": null,
            "display": null,
            "flex": null,
            "flex_flow": null,
            "grid_area": null,
            "grid_auto_columns": null,
            "grid_auto_flow": null,
            "grid_auto_rows": null,
            "grid_column": null,
            "grid_gap": null,
            "grid_row": null,
            "grid_template_areas": null,
            "grid_template_columns": null,
            "grid_template_rows": null,
            "height": null,
            "justify_content": null,
            "justify_items": null,
            "left": null,
            "margin": null,
            "max_height": null,
            "max_width": null,
            "min_height": null,
            "min_width": null,
            "object_fit": null,
            "object_position": null,
            "order": null,
            "overflow": null,
            "overflow_x": null,
            "overflow_y": null,
            "padding": null,
            "right": null,
            "top": null,
            "visibility": null,
            "width": null
          }
        },
        "102918ac1b1a4508b2cc1e5d168464b1": {
          "model_module": "@jupyter-widgets/base",
          "model_name": "LayoutModel",
          "model_module_version": "1.2.0",
          "state": {
            "_model_module": "@jupyter-widgets/base",
            "_model_module_version": "1.2.0",
            "_model_name": "LayoutModel",
            "_view_count": null,
            "_view_module": "@jupyter-widgets/base",
            "_view_module_version": "1.2.0",
            "_view_name": "LayoutView",
            "align_content": null,
            "align_items": null,
            "align_self": null,
            "border": null,
            "bottom": null,
            "display": null,
            "flex": null,
            "flex_flow": null,
            "grid_area": null,
            "grid_auto_columns": null,
            "grid_auto_flow": null,
            "grid_auto_rows": null,
            "grid_column": null,
            "grid_gap": null,
            "grid_row": null,
            "grid_template_areas": null,
            "grid_template_columns": null,
            "grid_template_rows": null,
            "height": null,
            "justify_content": null,
            "justify_items": null,
            "left": null,
            "margin": null,
            "max_height": null,
            "max_width": null,
            "min_height": null,
            "min_width": null,
            "object_fit": null,
            "object_position": null,
            "order": null,
            "overflow": null,
            "overflow_x": null,
            "overflow_y": null,
            "padding": null,
            "right": null,
            "top": null,
            "visibility": null,
            "width": null
          }
        },
        "fae62889ad2648dea8d8841d7572da41": {
          "model_module": "@jupyter-widgets/controls",
          "model_name": "DescriptionStyleModel",
          "model_module_version": "1.5.0",
          "state": {
            "_model_module": "@jupyter-widgets/controls",
            "_model_module_version": "1.5.0",
            "_model_name": "DescriptionStyleModel",
            "_view_count": null,
            "_view_module": "@jupyter-widgets/base",
            "_view_module_version": "1.2.0",
            "_view_name": "StyleView",
            "description_width": ""
          }
        },
        "8e745e5d520d410eba2c9f4fdb22e770": {
          "model_module": "@jupyter-widgets/base",
          "model_name": "LayoutModel",
          "model_module_version": "1.2.0",
          "state": {
            "_model_module": "@jupyter-widgets/base",
            "_model_module_version": "1.2.0",
            "_model_name": "LayoutModel",
            "_view_count": null,
            "_view_module": "@jupyter-widgets/base",
            "_view_module_version": "1.2.0",
            "_view_name": "LayoutView",
            "align_content": null,
            "align_items": null,
            "align_self": null,
            "border": null,
            "bottom": null,
            "display": null,
            "flex": null,
            "flex_flow": null,
            "grid_area": null,
            "grid_auto_columns": null,
            "grid_auto_flow": null,
            "grid_auto_rows": null,
            "grid_column": null,
            "grid_gap": null,
            "grid_row": null,
            "grid_template_areas": null,
            "grid_template_columns": null,
            "grid_template_rows": null,
            "height": null,
            "justify_content": null,
            "justify_items": null,
            "left": null,
            "margin": null,
            "max_height": null,
            "max_width": null,
            "min_height": null,
            "min_width": null,
            "object_fit": null,
            "object_position": null,
            "order": null,
            "overflow": null,
            "overflow_x": null,
            "overflow_y": null,
            "padding": null,
            "right": null,
            "top": null,
            "visibility": null,
            "width": null
          }
        },
        "39d20edcf23f4bdda89248f83d63e712": {
          "model_module": "@jupyter-widgets/controls",
          "model_name": "ProgressStyleModel",
          "model_module_version": "1.5.0",
          "state": {
            "_model_module": "@jupyter-widgets/controls",
            "_model_module_version": "1.5.0",
            "_model_name": "ProgressStyleModel",
            "_view_count": null,
            "_view_module": "@jupyter-widgets/base",
            "_view_module_version": "1.2.0",
            "_view_name": "StyleView",
            "bar_color": null,
            "description_width": ""
          }
        },
        "2a1dac246b5d480bb7ee9065e25733ef": {
          "model_module": "@jupyter-widgets/base",
          "model_name": "LayoutModel",
          "model_module_version": "1.2.0",
          "state": {
            "_model_module": "@jupyter-widgets/base",
            "_model_module_version": "1.2.0",
            "_model_name": "LayoutModel",
            "_view_count": null,
            "_view_module": "@jupyter-widgets/base",
            "_view_module_version": "1.2.0",
            "_view_name": "LayoutView",
            "align_content": null,
            "align_items": null,
            "align_self": null,
            "border": null,
            "bottom": null,
            "display": null,
            "flex": null,
            "flex_flow": null,
            "grid_area": null,
            "grid_auto_columns": null,
            "grid_auto_flow": null,
            "grid_auto_rows": null,
            "grid_column": null,
            "grid_gap": null,
            "grid_row": null,
            "grid_template_areas": null,
            "grid_template_columns": null,
            "grid_template_rows": null,
            "height": null,
            "justify_content": null,
            "justify_items": null,
            "left": null,
            "margin": null,
            "max_height": null,
            "max_width": null,
            "min_height": null,
            "min_width": null,
            "object_fit": null,
            "object_position": null,
            "order": null,
            "overflow": null,
            "overflow_x": null,
            "overflow_y": null,
            "padding": null,
            "right": null,
            "top": null,
            "visibility": null,
            "width": null
          }
        },
        "faa1103ad73a4ea7961650eec240ea4f": {
          "model_module": "@jupyter-widgets/controls",
          "model_name": "DescriptionStyleModel",
          "model_module_version": "1.5.0",
          "state": {
            "_model_module": "@jupyter-widgets/controls",
            "_model_module_version": "1.5.0",
            "_model_name": "DescriptionStyleModel",
            "_view_count": null,
            "_view_module": "@jupyter-widgets/base",
            "_view_module_version": "1.2.0",
            "_view_name": "StyleView",
            "description_width": ""
          }
        },
        "e782cd96c84a414b9ce302fc19b06bcf": {
          "model_module": "@jupyter-widgets/controls",
          "model_name": "HBoxModel",
          "model_module_version": "1.5.0",
          "state": {
            "_dom_classes": [],
            "_model_module": "@jupyter-widgets/controls",
            "_model_module_version": "1.5.0",
            "_model_name": "HBoxModel",
            "_view_count": null,
            "_view_module": "@jupyter-widgets/controls",
            "_view_module_version": "1.5.0",
            "_view_name": "HBoxView",
            "box_style": "",
            "children": [
              "IPY_MODEL_a7fef017f594411eacae0f823e456008",
              "IPY_MODEL_a2b5ff7815914b34afd263233b861dee",
              "IPY_MODEL_7cef6ab29dd343c0a4b0bc891d9c80f2"
            ],
            "layout": "IPY_MODEL_eb94a9d1340d4430a2c9b924df938a2a"
          }
        },
        "a7fef017f594411eacae0f823e456008": {
          "model_module": "@jupyter-widgets/controls",
          "model_name": "HTMLModel",
          "model_module_version": "1.5.0",
          "state": {
            "_dom_classes": [],
            "_model_module": "@jupyter-widgets/controls",
            "_model_module_version": "1.5.0",
            "_model_name": "HTMLModel",
            "_view_count": null,
            "_view_module": "@jupyter-widgets/controls",
            "_view_module_version": "1.5.0",
            "_view_name": "HTMLView",
            "description": "",
            "description_tooltip": null,
            "layout": "IPY_MODEL_f12620ca9b864ff285c3a5180595f0b3",
            "placeholder": "​",
            "style": "IPY_MODEL_5dcba2d81b2f4ef2a0978444dd256be9",
            "value": "vocab.txt: 100%"
          }
        },
        "a2b5ff7815914b34afd263233b861dee": {
          "model_module": "@jupyter-widgets/controls",
          "model_name": "FloatProgressModel",
          "model_module_version": "1.5.0",
          "state": {
            "_dom_classes": [],
            "_model_module": "@jupyter-widgets/controls",
            "_model_module_version": "1.5.0",
            "_model_name": "FloatProgressModel",
            "_view_count": null,
            "_view_module": "@jupyter-widgets/controls",
            "_view_module_version": "1.5.0",
            "_view_name": "ProgressView",
            "bar_style": "success",
            "description": "",
            "description_tooltip": null,
            "layout": "IPY_MODEL_a8ae22a69d454c8e8aaa76814d6fb5d4",
            "max": 213450,
            "min": 0,
            "orientation": "horizontal",
            "style": "IPY_MODEL_9868c3ea0df9464184ed283d90e62a29",
            "value": 213450
          }
        },
        "7cef6ab29dd343c0a4b0bc891d9c80f2": {
          "model_module": "@jupyter-widgets/controls",
          "model_name": "HTMLModel",
          "model_module_version": "1.5.0",
          "state": {
            "_dom_classes": [],
            "_model_module": "@jupyter-widgets/controls",
            "_model_module_version": "1.5.0",
            "_model_name": "HTMLModel",
            "_view_count": null,
            "_view_module": "@jupyter-widgets/controls",
            "_view_module_version": "1.5.0",
            "_view_name": "HTMLView",
            "description": "",
            "description_tooltip": null,
            "layout": "IPY_MODEL_5693af8e244a47bdaab69d5914752e07",
            "placeholder": "​",
            "style": "IPY_MODEL_09d016dc635a4b21b7e1dafd0c9e1624",
            "value": " 213k/213k [00:00&lt;00:00, 1.58MB/s]"
          }
        },
        "eb94a9d1340d4430a2c9b924df938a2a": {
          "model_module": "@jupyter-widgets/base",
          "model_name": "LayoutModel",
          "model_module_version": "1.2.0",
          "state": {
            "_model_module": "@jupyter-widgets/base",
            "_model_module_version": "1.2.0",
            "_model_name": "LayoutModel",
            "_view_count": null,
            "_view_module": "@jupyter-widgets/base",
            "_view_module_version": "1.2.0",
            "_view_name": "LayoutView",
            "align_content": null,
            "align_items": null,
            "align_self": null,
            "border": null,
            "bottom": null,
            "display": null,
            "flex": null,
            "flex_flow": null,
            "grid_area": null,
            "grid_auto_columns": null,
            "grid_auto_flow": null,
            "grid_auto_rows": null,
            "grid_column": null,
            "grid_gap": null,
            "grid_row": null,
            "grid_template_areas": null,
            "grid_template_columns": null,
            "grid_template_rows": null,
            "height": null,
            "justify_content": null,
            "justify_items": null,
            "left": null,
            "margin": null,
            "max_height": null,
            "max_width": null,
            "min_height": null,
            "min_width": null,
            "object_fit": null,
            "object_position": null,
            "order": null,
            "overflow": null,
            "overflow_x": null,
            "overflow_y": null,
            "padding": null,
            "right": null,
            "top": null,
            "visibility": null,
            "width": null
          }
        },
        "f12620ca9b864ff285c3a5180595f0b3": {
          "model_module": "@jupyter-widgets/base",
          "model_name": "LayoutModel",
          "model_module_version": "1.2.0",
          "state": {
            "_model_module": "@jupyter-widgets/base",
            "_model_module_version": "1.2.0",
            "_model_name": "LayoutModel",
            "_view_count": null,
            "_view_module": "@jupyter-widgets/base",
            "_view_module_version": "1.2.0",
            "_view_name": "LayoutView",
            "align_content": null,
            "align_items": null,
            "align_self": null,
            "border": null,
            "bottom": null,
            "display": null,
            "flex": null,
            "flex_flow": null,
            "grid_area": null,
            "grid_auto_columns": null,
            "grid_auto_flow": null,
            "grid_auto_rows": null,
            "grid_column": null,
            "grid_gap": null,
            "grid_row": null,
            "grid_template_areas": null,
            "grid_template_columns": null,
            "grid_template_rows": null,
            "height": null,
            "justify_content": null,
            "justify_items": null,
            "left": null,
            "margin": null,
            "max_height": null,
            "max_width": null,
            "min_height": null,
            "min_width": null,
            "object_fit": null,
            "object_position": null,
            "order": null,
            "overflow": null,
            "overflow_x": null,
            "overflow_y": null,
            "padding": null,
            "right": null,
            "top": null,
            "visibility": null,
            "width": null
          }
        },
        "5dcba2d81b2f4ef2a0978444dd256be9": {
          "model_module": "@jupyter-widgets/controls",
          "model_name": "DescriptionStyleModel",
          "model_module_version": "1.5.0",
          "state": {
            "_model_module": "@jupyter-widgets/controls",
            "_model_module_version": "1.5.0",
            "_model_name": "DescriptionStyleModel",
            "_view_count": null,
            "_view_module": "@jupyter-widgets/base",
            "_view_module_version": "1.2.0",
            "_view_name": "StyleView",
            "description_width": ""
          }
        },
        "a8ae22a69d454c8e8aaa76814d6fb5d4": {
          "model_module": "@jupyter-widgets/base",
          "model_name": "LayoutModel",
          "model_module_version": "1.2.0",
          "state": {
            "_model_module": "@jupyter-widgets/base",
            "_model_module_version": "1.2.0",
            "_model_name": "LayoutModel",
            "_view_count": null,
            "_view_module": "@jupyter-widgets/base",
            "_view_module_version": "1.2.0",
            "_view_name": "LayoutView",
            "align_content": null,
            "align_items": null,
            "align_self": null,
            "border": null,
            "bottom": null,
            "display": null,
            "flex": null,
            "flex_flow": null,
            "grid_area": null,
            "grid_auto_columns": null,
            "grid_auto_flow": null,
            "grid_auto_rows": null,
            "grid_column": null,
            "grid_gap": null,
            "grid_row": null,
            "grid_template_areas": null,
            "grid_template_columns": null,
            "grid_template_rows": null,
            "height": null,
            "justify_content": null,
            "justify_items": null,
            "left": null,
            "margin": null,
            "max_height": null,
            "max_width": null,
            "min_height": null,
            "min_width": null,
            "object_fit": null,
            "object_position": null,
            "order": null,
            "overflow": null,
            "overflow_x": null,
            "overflow_y": null,
            "padding": null,
            "right": null,
            "top": null,
            "visibility": null,
            "width": null
          }
        },
        "9868c3ea0df9464184ed283d90e62a29": {
          "model_module": "@jupyter-widgets/controls",
          "model_name": "ProgressStyleModel",
          "model_module_version": "1.5.0",
          "state": {
            "_model_module": "@jupyter-widgets/controls",
            "_model_module_version": "1.5.0",
            "_model_name": "ProgressStyleModel",
            "_view_count": null,
            "_view_module": "@jupyter-widgets/base",
            "_view_module_version": "1.2.0",
            "_view_name": "StyleView",
            "bar_color": null,
            "description_width": ""
          }
        },
        "5693af8e244a47bdaab69d5914752e07": {
          "model_module": "@jupyter-widgets/base",
          "model_name": "LayoutModel",
          "model_module_version": "1.2.0",
          "state": {
            "_model_module": "@jupyter-widgets/base",
            "_model_module_version": "1.2.0",
            "_model_name": "LayoutModel",
            "_view_count": null,
            "_view_module": "@jupyter-widgets/base",
            "_view_module_version": "1.2.0",
            "_view_name": "LayoutView",
            "align_content": null,
            "align_items": null,
            "align_self": null,
            "border": null,
            "bottom": null,
            "display": null,
            "flex": null,
            "flex_flow": null,
            "grid_area": null,
            "grid_auto_columns": null,
            "grid_auto_flow": null,
            "grid_auto_rows": null,
            "grid_column": null,
            "grid_gap": null,
            "grid_row": null,
            "grid_template_areas": null,
            "grid_template_columns": null,
            "grid_template_rows": null,
            "height": null,
            "justify_content": null,
            "justify_items": null,
            "left": null,
            "margin": null,
            "max_height": null,
            "max_width": null,
            "min_height": null,
            "min_width": null,
            "object_fit": null,
            "object_position": null,
            "order": null,
            "overflow": null,
            "overflow_x": null,
            "overflow_y": null,
            "padding": null,
            "right": null,
            "top": null,
            "visibility": null,
            "width": null
          }
        },
        "09d016dc635a4b21b7e1dafd0c9e1624": {
          "model_module": "@jupyter-widgets/controls",
          "model_name": "DescriptionStyleModel",
          "model_module_version": "1.5.0",
          "state": {
            "_model_module": "@jupyter-widgets/controls",
            "_model_module_version": "1.5.0",
            "_model_name": "DescriptionStyleModel",
            "_view_count": null,
            "_view_module": "@jupyter-widgets/base",
            "_view_module_version": "1.2.0",
            "_view_name": "StyleView",
            "description_width": ""
          }
        },
        "cf36f292b0db42b9a1929813ee9a95e1": {
          "model_module": "@jupyter-widgets/controls",
          "model_name": "HBoxModel",
          "model_module_version": "1.5.0",
          "state": {
            "_dom_classes": [],
            "_model_module": "@jupyter-widgets/controls",
            "_model_module_version": "1.5.0",
            "_model_name": "HBoxModel",
            "_view_count": null,
            "_view_module": "@jupyter-widgets/controls",
            "_view_module_version": "1.5.0",
            "_view_name": "HBoxView",
            "box_style": "",
            "children": [
              "IPY_MODEL_426828842af342bdaf9fc7113d233296",
              "IPY_MODEL_eda193f5c3d64376b018530e617dd1f9",
              "IPY_MODEL_f0fc9d51e82a4c339417f28768a45347"
            ],
            "layout": "IPY_MODEL_5bea4aac25d842498db3833a15cba64c"
          }
        },
        "426828842af342bdaf9fc7113d233296": {
          "model_module": "@jupyter-widgets/controls",
          "model_name": "HTMLModel",
          "model_module_version": "1.5.0",
          "state": {
            "_dom_classes": [],
            "_model_module": "@jupyter-widgets/controls",
            "_model_module_version": "1.5.0",
            "_model_name": "HTMLModel",
            "_view_count": null,
            "_view_module": "@jupyter-widgets/controls",
            "_view_module_version": "1.5.0",
            "_view_name": "HTMLView",
            "description": "",
            "description_tooltip": null,
            "layout": "IPY_MODEL_b3c2583226a04bb59cb9fa83a808b90c",
            "placeholder": "​",
            "style": "IPY_MODEL_338e69821a014efb80d01a35c60f657f",
            "value": "config.json: 100%"
          }
        },
        "eda193f5c3d64376b018530e617dd1f9": {
          "model_module": "@jupyter-widgets/controls",
          "model_name": "FloatProgressModel",
          "model_module_version": "1.5.0",
          "state": {
            "_dom_classes": [],
            "_model_module": "@jupyter-widgets/controls",
            "_model_module_version": "1.5.0",
            "_model_name": "FloatProgressModel",
            "_view_count": null,
            "_view_module": "@jupyter-widgets/controls",
            "_view_module_version": "1.5.0",
            "_view_name": "ProgressView",
            "bar_style": "success",
            "description": "",
            "description_tooltip": null,
            "layout": "IPY_MODEL_495d9d96d54c4dd1a8babd23bfb9b7ad",
            "max": 313,
            "min": 0,
            "orientation": "horizontal",
            "style": "IPY_MODEL_cae2c60224134ecfb0ebf7bcc1c71c14",
            "value": 313
          }
        },
        "f0fc9d51e82a4c339417f28768a45347": {
          "model_module": "@jupyter-widgets/controls",
          "model_name": "HTMLModel",
          "model_module_version": "1.5.0",
          "state": {
            "_dom_classes": [],
            "_model_module": "@jupyter-widgets/controls",
            "_model_module_version": "1.5.0",
            "_model_name": "HTMLModel",
            "_view_count": null,
            "_view_module": "@jupyter-widgets/controls",
            "_view_module_version": "1.5.0",
            "_view_name": "HTMLView",
            "description": "",
            "description_tooltip": null,
            "layout": "IPY_MODEL_6ff3db8536524bfabb27be747b59ee63",
            "placeholder": "​",
            "style": "IPY_MODEL_260879c0dbc64aaf98cd7738a1995c88",
            "value": " 313/313 [00:00&lt;00:00, 25.4kB/s]"
          }
        },
        "5bea4aac25d842498db3833a15cba64c": {
          "model_module": "@jupyter-widgets/base",
          "model_name": "LayoutModel",
          "model_module_version": "1.2.0",
          "state": {
            "_model_module": "@jupyter-widgets/base",
            "_model_module_version": "1.2.0",
            "_model_name": "LayoutModel",
            "_view_count": null,
            "_view_module": "@jupyter-widgets/base",
            "_view_module_version": "1.2.0",
            "_view_name": "LayoutView",
            "align_content": null,
            "align_items": null,
            "align_self": null,
            "border": null,
            "bottom": null,
            "display": null,
            "flex": null,
            "flex_flow": null,
            "grid_area": null,
            "grid_auto_columns": null,
            "grid_auto_flow": null,
            "grid_auto_rows": null,
            "grid_column": null,
            "grid_gap": null,
            "grid_row": null,
            "grid_template_areas": null,
            "grid_template_columns": null,
            "grid_template_rows": null,
            "height": null,
            "justify_content": null,
            "justify_items": null,
            "left": null,
            "margin": null,
            "max_height": null,
            "max_width": null,
            "min_height": null,
            "min_width": null,
            "object_fit": null,
            "object_position": null,
            "order": null,
            "overflow": null,
            "overflow_x": null,
            "overflow_y": null,
            "padding": null,
            "right": null,
            "top": null,
            "visibility": null,
            "width": null
          }
        },
        "b3c2583226a04bb59cb9fa83a808b90c": {
          "model_module": "@jupyter-widgets/base",
          "model_name": "LayoutModel",
          "model_module_version": "1.2.0",
          "state": {
            "_model_module": "@jupyter-widgets/base",
            "_model_module_version": "1.2.0",
            "_model_name": "LayoutModel",
            "_view_count": null,
            "_view_module": "@jupyter-widgets/base",
            "_view_module_version": "1.2.0",
            "_view_name": "LayoutView",
            "align_content": null,
            "align_items": null,
            "align_self": null,
            "border": null,
            "bottom": null,
            "display": null,
            "flex": null,
            "flex_flow": null,
            "grid_area": null,
            "grid_auto_columns": null,
            "grid_auto_flow": null,
            "grid_auto_rows": null,
            "grid_column": null,
            "grid_gap": null,
            "grid_row": null,
            "grid_template_areas": null,
            "grid_template_columns": null,
            "grid_template_rows": null,
            "height": null,
            "justify_content": null,
            "justify_items": null,
            "left": null,
            "margin": null,
            "max_height": null,
            "max_width": null,
            "min_height": null,
            "min_width": null,
            "object_fit": null,
            "object_position": null,
            "order": null,
            "overflow": null,
            "overflow_x": null,
            "overflow_y": null,
            "padding": null,
            "right": null,
            "top": null,
            "visibility": null,
            "width": null
          }
        },
        "338e69821a014efb80d01a35c60f657f": {
          "model_module": "@jupyter-widgets/controls",
          "model_name": "DescriptionStyleModel",
          "model_module_version": "1.5.0",
          "state": {
            "_model_module": "@jupyter-widgets/controls",
            "_model_module_version": "1.5.0",
            "_model_name": "DescriptionStyleModel",
            "_view_count": null,
            "_view_module": "@jupyter-widgets/base",
            "_view_module_version": "1.2.0",
            "_view_name": "StyleView",
            "description_width": ""
          }
        },
        "495d9d96d54c4dd1a8babd23bfb9b7ad": {
          "model_module": "@jupyter-widgets/base",
          "model_name": "LayoutModel",
          "model_module_version": "1.2.0",
          "state": {
            "_model_module": "@jupyter-widgets/base",
            "_model_module_version": "1.2.0",
            "_model_name": "LayoutModel",
            "_view_count": null,
            "_view_module": "@jupyter-widgets/base",
            "_view_module_version": "1.2.0",
            "_view_name": "LayoutView",
            "align_content": null,
            "align_items": null,
            "align_self": null,
            "border": null,
            "bottom": null,
            "display": null,
            "flex": null,
            "flex_flow": null,
            "grid_area": null,
            "grid_auto_columns": null,
            "grid_auto_flow": null,
            "grid_auto_rows": null,
            "grid_column": null,
            "grid_gap": null,
            "grid_row": null,
            "grid_template_areas": null,
            "grid_template_columns": null,
            "grid_template_rows": null,
            "height": null,
            "justify_content": null,
            "justify_items": null,
            "left": null,
            "margin": null,
            "max_height": null,
            "max_width": null,
            "min_height": null,
            "min_width": null,
            "object_fit": null,
            "object_position": null,
            "order": null,
            "overflow": null,
            "overflow_x": null,
            "overflow_y": null,
            "padding": null,
            "right": null,
            "top": null,
            "visibility": null,
            "width": null
          }
        },
        "cae2c60224134ecfb0ebf7bcc1c71c14": {
          "model_module": "@jupyter-widgets/controls",
          "model_name": "ProgressStyleModel",
          "model_module_version": "1.5.0",
          "state": {
            "_model_module": "@jupyter-widgets/controls",
            "_model_module_version": "1.5.0",
            "_model_name": "ProgressStyleModel",
            "_view_count": null,
            "_view_module": "@jupyter-widgets/base",
            "_view_module_version": "1.2.0",
            "_view_name": "StyleView",
            "bar_color": null,
            "description_width": ""
          }
        },
        "6ff3db8536524bfabb27be747b59ee63": {
          "model_module": "@jupyter-widgets/base",
          "model_name": "LayoutModel",
          "model_module_version": "1.2.0",
          "state": {
            "_model_module": "@jupyter-widgets/base",
            "_model_module_version": "1.2.0",
            "_model_name": "LayoutModel",
            "_view_count": null,
            "_view_module": "@jupyter-widgets/base",
            "_view_module_version": "1.2.0",
            "_view_name": "LayoutView",
            "align_content": null,
            "align_items": null,
            "align_self": null,
            "border": null,
            "bottom": null,
            "display": null,
            "flex": null,
            "flex_flow": null,
            "grid_area": null,
            "grid_auto_columns": null,
            "grid_auto_flow": null,
            "grid_auto_rows": null,
            "grid_column": null,
            "grid_gap": null,
            "grid_row": null,
            "grid_template_areas": null,
            "grid_template_columns": null,
            "grid_template_rows": null,
            "height": null,
            "justify_content": null,
            "justify_items": null,
            "left": null,
            "margin": null,
            "max_height": null,
            "max_width": null,
            "min_height": null,
            "min_width": null,
            "object_fit": null,
            "object_position": null,
            "order": null,
            "overflow": null,
            "overflow_x": null,
            "overflow_y": null,
            "padding": null,
            "right": null,
            "top": null,
            "visibility": null,
            "width": null
          }
        },
        "260879c0dbc64aaf98cd7738a1995c88": {
          "model_module": "@jupyter-widgets/controls",
          "model_name": "DescriptionStyleModel",
          "model_module_version": "1.5.0",
          "state": {
            "_model_module": "@jupyter-widgets/controls",
            "_model_module_version": "1.5.0",
            "_model_name": "DescriptionStyleModel",
            "_view_count": null,
            "_view_module": "@jupyter-widgets/base",
            "_view_module_version": "1.2.0",
            "_view_name": "StyleView",
            "description_width": ""
          }
        },
        "de4e7109745a43dbbaf549e6884562d7": {
          "model_module": "@jupyter-widgets/controls",
          "model_name": "HBoxModel",
          "model_module_version": "1.5.0",
          "state": {
            "_dom_classes": [],
            "_model_module": "@jupyter-widgets/controls",
            "_model_module_version": "1.5.0",
            "_model_name": "HBoxModel",
            "_view_count": null,
            "_view_module": "@jupyter-widgets/controls",
            "_view_module_version": "1.5.0",
            "_view_name": "HBoxView",
            "box_style": "",
            "children": [
              "IPY_MODEL_4460e934dbbd4dd09fb11092cb9c1cdf",
              "IPY_MODEL_7147f4827fdc4808b9c250d8405dcc35",
              "IPY_MODEL_dd819a0aba3d493a9ed9eec3b6040cef"
            ],
            "layout": "IPY_MODEL_b8bc68810f044d24b035f095cbe3dcde"
          }
        },
        "4460e934dbbd4dd09fb11092cb9c1cdf": {
          "model_module": "@jupyter-widgets/controls",
          "model_name": "HTMLModel",
          "model_module_version": "1.5.0",
          "state": {
            "_dom_classes": [],
            "_model_module": "@jupyter-widgets/controls",
            "_model_module_version": "1.5.0",
            "_model_name": "HTMLModel",
            "_view_count": null,
            "_view_module": "@jupyter-widgets/controls",
            "_view_module_version": "1.5.0",
            "_view_name": "HTMLView",
            "description": "",
            "description_tooltip": null,
            "layout": "IPY_MODEL_78a4acc7156b49019e4b7a7413d4aa9b",
            "placeholder": "​",
            "style": "IPY_MODEL_c57ab1ee9749405497432ed915f429d7",
            "value": "pytorch_model.bin: 100%"
          }
        },
        "7147f4827fdc4808b9c250d8405dcc35": {
          "model_module": "@jupyter-widgets/controls",
          "model_name": "FloatProgressModel",
          "model_module_version": "1.5.0",
          "state": {
            "_dom_classes": [],
            "_model_module": "@jupyter-widgets/controls",
            "_model_module_version": "1.5.0",
            "_model_name": "FloatProgressModel",
            "_view_count": null,
            "_view_module": "@jupyter-widgets/controls",
            "_view_module_version": "1.5.0",
            "_view_name": "ProgressView",
            "bar_style": "success",
            "description": "",
            "description_tooltip": null,
            "layout": "IPY_MODEL_b1a570ee09804bc09310fa3abaf1534a",
            "max": 435780550,
            "min": 0,
            "orientation": "horizontal",
            "style": "IPY_MODEL_502286cd64914859ab9ee0ccaffdf038",
            "value": 435780550
          }
        },
        "dd819a0aba3d493a9ed9eec3b6040cef": {
          "model_module": "@jupyter-widgets/controls",
          "model_name": "HTMLModel",
          "model_module_version": "1.5.0",
          "state": {
            "_dom_classes": [],
            "_model_module": "@jupyter-widgets/controls",
            "_model_module_version": "1.5.0",
            "_model_name": "HTMLModel",
            "_view_count": null,
            "_view_module": "@jupyter-widgets/controls",
            "_view_module_version": "1.5.0",
            "_view_name": "HTMLView",
            "description": "",
            "description_tooltip": null,
            "layout": "IPY_MODEL_7c66865c4694475dbc307c54d55f603f",
            "placeholder": "​",
            "style": "IPY_MODEL_3efdc5d27d9e40d59094675cfb0fd99b",
            "value": " 436M/436M [00:05&lt;00:00, 47.9MB/s]"
          }
        },
        "b8bc68810f044d24b035f095cbe3dcde": {
          "model_module": "@jupyter-widgets/base",
          "model_name": "LayoutModel",
          "model_module_version": "1.2.0",
          "state": {
            "_model_module": "@jupyter-widgets/base",
            "_model_module_version": "1.2.0",
            "_model_name": "LayoutModel",
            "_view_count": null,
            "_view_module": "@jupyter-widgets/base",
            "_view_module_version": "1.2.0",
            "_view_name": "LayoutView",
            "align_content": null,
            "align_items": null,
            "align_self": null,
            "border": null,
            "bottom": null,
            "display": null,
            "flex": null,
            "flex_flow": null,
            "grid_area": null,
            "grid_auto_columns": null,
            "grid_auto_flow": null,
            "grid_auto_rows": null,
            "grid_column": null,
            "grid_gap": null,
            "grid_row": null,
            "grid_template_areas": null,
            "grid_template_columns": null,
            "grid_template_rows": null,
            "height": null,
            "justify_content": null,
            "justify_items": null,
            "left": null,
            "margin": null,
            "max_height": null,
            "max_width": null,
            "min_height": null,
            "min_width": null,
            "object_fit": null,
            "object_position": null,
            "order": null,
            "overflow": null,
            "overflow_x": null,
            "overflow_y": null,
            "padding": null,
            "right": null,
            "top": null,
            "visibility": null,
            "width": null
          }
        },
        "78a4acc7156b49019e4b7a7413d4aa9b": {
          "model_module": "@jupyter-widgets/base",
          "model_name": "LayoutModel",
          "model_module_version": "1.2.0",
          "state": {
            "_model_module": "@jupyter-widgets/base",
            "_model_module_version": "1.2.0",
            "_model_name": "LayoutModel",
            "_view_count": null,
            "_view_module": "@jupyter-widgets/base",
            "_view_module_version": "1.2.0",
            "_view_name": "LayoutView",
            "align_content": null,
            "align_items": null,
            "align_self": null,
            "border": null,
            "bottom": null,
            "display": null,
            "flex": null,
            "flex_flow": null,
            "grid_area": null,
            "grid_auto_columns": null,
            "grid_auto_flow": null,
            "grid_auto_rows": null,
            "grid_column": null,
            "grid_gap": null,
            "grid_row": null,
            "grid_template_areas": null,
            "grid_template_columns": null,
            "grid_template_rows": null,
            "height": null,
            "justify_content": null,
            "justify_items": null,
            "left": null,
            "margin": null,
            "max_height": null,
            "max_width": null,
            "min_height": null,
            "min_width": null,
            "object_fit": null,
            "object_position": null,
            "order": null,
            "overflow": null,
            "overflow_x": null,
            "overflow_y": null,
            "padding": null,
            "right": null,
            "top": null,
            "visibility": null,
            "width": null
          }
        },
        "c57ab1ee9749405497432ed915f429d7": {
          "model_module": "@jupyter-widgets/controls",
          "model_name": "DescriptionStyleModel",
          "model_module_version": "1.5.0",
          "state": {
            "_model_module": "@jupyter-widgets/controls",
            "_model_module_version": "1.5.0",
            "_model_name": "DescriptionStyleModel",
            "_view_count": null,
            "_view_module": "@jupyter-widgets/base",
            "_view_module_version": "1.2.0",
            "_view_name": "StyleView",
            "description_width": ""
          }
        },
        "b1a570ee09804bc09310fa3abaf1534a": {
          "model_module": "@jupyter-widgets/base",
          "model_name": "LayoutModel",
          "model_module_version": "1.2.0",
          "state": {
            "_model_module": "@jupyter-widgets/base",
            "_model_module_version": "1.2.0",
            "_model_name": "LayoutModel",
            "_view_count": null,
            "_view_module": "@jupyter-widgets/base",
            "_view_module_version": "1.2.0",
            "_view_name": "LayoutView",
            "align_content": null,
            "align_items": null,
            "align_self": null,
            "border": null,
            "bottom": null,
            "display": null,
            "flex": null,
            "flex_flow": null,
            "grid_area": null,
            "grid_auto_columns": null,
            "grid_auto_flow": null,
            "grid_auto_rows": null,
            "grid_column": null,
            "grid_gap": null,
            "grid_row": null,
            "grid_template_areas": null,
            "grid_template_columns": null,
            "grid_template_rows": null,
            "height": null,
            "justify_content": null,
            "justify_items": null,
            "left": null,
            "margin": null,
            "max_height": null,
            "max_width": null,
            "min_height": null,
            "min_width": null,
            "object_fit": null,
            "object_position": null,
            "order": null,
            "overflow": null,
            "overflow_x": null,
            "overflow_y": null,
            "padding": null,
            "right": null,
            "top": null,
            "visibility": null,
            "width": null
          }
        },
        "502286cd64914859ab9ee0ccaffdf038": {
          "model_module": "@jupyter-widgets/controls",
          "model_name": "ProgressStyleModel",
          "model_module_version": "1.5.0",
          "state": {
            "_model_module": "@jupyter-widgets/controls",
            "_model_module_version": "1.5.0",
            "_model_name": "ProgressStyleModel",
            "_view_count": null,
            "_view_module": "@jupyter-widgets/base",
            "_view_module_version": "1.2.0",
            "_view_name": "StyleView",
            "bar_color": null,
            "description_width": ""
          }
        },
        "7c66865c4694475dbc307c54d55f603f": {
          "model_module": "@jupyter-widgets/base",
          "model_name": "LayoutModel",
          "model_module_version": "1.2.0",
          "state": {
            "_model_module": "@jupyter-widgets/base",
            "_model_module_version": "1.2.0",
            "_model_name": "LayoutModel",
            "_view_count": null,
            "_view_module": "@jupyter-widgets/base",
            "_view_module_version": "1.2.0",
            "_view_name": "LayoutView",
            "align_content": null,
            "align_items": null,
            "align_self": null,
            "border": null,
            "bottom": null,
            "display": null,
            "flex": null,
            "flex_flow": null,
            "grid_area": null,
            "grid_auto_columns": null,
            "grid_auto_flow": null,
            "grid_auto_rows": null,
            "grid_column": null,
            "grid_gap": null,
            "grid_row": null,
            "grid_template_areas": null,
            "grid_template_columns": null,
            "grid_template_rows": null,
            "height": null,
            "justify_content": null,
            "justify_items": null,
            "left": null,
            "margin": null,
            "max_height": null,
            "max_width": null,
            "min_height": null,
            "min_width": null,
            "object_fit": null,
            "object_position": null,
            "order": null,
            "overflow": null,
            "overflow_x": null,
            "overflow_y": null,
            "padding": null,
            "right": null,
            "top": null,
            "visibility": null,
            "width": null
          }
        },
        "3efdc5d27d9e40d59094675cfb0fd99b": {
          "model_module": "@jupyter-widgets/controls",
          "model_name": "DescriptionStyleModel",
          "model_module_version": "1.5.0",
          "state": {
            "_model_module": "@jupyter-widgets/controls",
            "_model_module_version": "1.5.0",
            "_model_name": "DescriptionStyleModel",
            "_view_count": null,
            "_view_module": "@jupyter-widgets/base",
            "_view_module_version": "1.2.0",
            "_view_name": "StyleView",
            "description_width": ""
          }
        },
        "b39ffa5bae70432089b56bd761b497a6": {
          "model_module": "@jupyter-widgets/controls",
          "model_name": "HBoxModel",
          "model_module_version": "1.5.0",
          "state": {
            "_dom_classes": [],
            "_model_module": "@jupyter-widgets/controls",
            "_model_module_version": "1.5.0",
            "_model_name": "HBoxModel",
            "_view_count": null,
            "_view_module": "@jupyter-widgets/controls",
            "_view_module_version": "1.5.0",
            "_view_name": "HBoxView",
            "box_style": "",
            "children": [
              "IPY_MODEL_976403413cf345f1ab8ba0ae6e2820c8",
              "IPY_MODEL_56bf9e056b6d43c2be9499d5ed427404",
              "IPY_MODEL_1df7dc27ca19433b8d69c9ceb35fbeb5"
            ],
            "layout": "IPY_MODEL_29188f6d151546cea150f17e449179aa"
          }
        },
        "976403413cf345f1ab8ba0ae6e2820c8": {
          "model_module": "@jupyter-widgets/controls",
          "model_name": "HTMLModel",
          "model_module_version": "1.5.0",
          "state": {
            "_dom_classes": [],
            "_model_module": "@jupyter-widgets/controls",
            "_model_module_version": "1.5.0",
            "_model_name": "HTMLModel",
            "_view_count": null,
            "_view_module": "@jupyter-widgets/controls",
            "_view_module_version": "1.5.0",
            "_view_name": "HTMLView",
            "description": "",
            "description_tooltip": null,
            "layout": "IPY_MODEL_ddec84e997eb48029cd62d1a1f159d70",
            "placeholder": "​",
            "style": "IPY_MODEL_ef092f7e91784aa1891f7337e5aa6c16",
            "value": "Map: 100%"
          }
        },
        "56bf9e056b6d43c2be9499d5ed427404": {
          "model_module": "@jupyter-widgets/controls",
          "model_name": "FloatProgressModel",
          "model_module_version": "1.5.0",
          "state": {
            "_dom_classes": [],
            "_model_module": "@jupyter-widgets/controls",
            "_model_module_version": "1.5.0",
            "_model_name": "FloatProgressModel",
            "_view_count": null,
            "_view_module": "@jupyter-widgets/controls",
            "_view_module_version": "1.5.0",
            "_view_name": "ProgressView",
            "bar_style": "success",
            "description": "",
            "description_tooltip": null,
            "layout": "IPY_MODEL_cf39a5cbebe34624a072c96d9c97aaf5",
            "max": 24773,
            "min": 0,
            "orientation": "horizontal",
            "style": "IPY_MODEL_c7a76678212f470bbc16700dfa4c5da6",
            "value": 24773
          }
        },
        "1df7dc27ca19433b8d69c9ceb35fbeb5": {
          "model_module": "@jupyter-widgets/controls",
          "model_name": "HTMLModel",
          "model_module_version": "1.5.0",
          "state": {
            "_dom_classes": [],
            "_model_module": "@jupyter-widgets/controls",
            "_model_module_version": "1.5.0",
            "_model_name": "HTMLModel",
            "_view_count": null,
            "_view_module": "@jupyter-widgets/controls",
            "_view_module_version": "1.5.0",
            "_view_name": "HTMLView",
            "description": "",
            "description_tooltip": null,
            "layout": "IPY_MODEL_8ec74fc8eb094c18bbb6a9c07d3b62ce",
            "placeholder": "​",
            "style": "IPY_MODEL_12cc717248e34fb98da9c2624f400410",
            "value": " 24773/24773 [00:06&lt;00:00, 3979.24 examples/s]"
          }
        },
        "29188f6d151546cea150f17e449179aa": {
          "model_module": "@jupyter-widgets/base",
          "model_name": "LayoutModel",
          "model_module_version": "1.2.0",
          "state": {
            "_model_module": "@jupyter-widgets/base",
            "_model_module_version": "1.2.0",
            "_model_name": "LayoutModel",
            "_view_count": null,
            "_view_module": "@jupyter-widgets/base",
            "_view_module_version": "1.2.0",
            "_view_name": "LayoutView",
            "align_content": null,
            "align_items": null,
            "align_self": null,
            "border": null,
            "bottom": null,
            "display": null,
            "flex": null,
            "flex_flow": null,
            "grid_area": null,
            "grid_auto_columns": null,
            "grid_auto_flow": null,
            "grid_auto_rows": null,
            "grid_column": null,
            "grid_gap": null,
            "grid_row": null,
            "grid_template_areas": null,
            "grid_template_columns": null,
            "grid_template_rows": null,
            "height": null,
            "justify_content": null,
            "justify_items": null,
            "left": null,
            "margin": null,
            "max_height": null,
            "max_width": null,
            "min_height": null,
            "min_width": null,
            "object_fit": null,
            "object_position": null,
            "order": null,
            "overflow": null,
            "overflow_x": null,
            "overflow_y": null,
            "padding": null,
            "right": null,
            "top": null,
            "visibility": null,
            "width": null
          }
        },
        "ddec84e997eb48029cd62d1a1f159d70": {
          "model_module": "@jupyter-widgets/base",
          "model_name": "LayoutModel",
          "model_module_version": "1.2.0",
          "state": {
            "_model_module": "@jupyter-widgets/base",
            "_model_module_version": "1.2.0",
            "_model_name": "LayoutModel",
            "_view_count": null,
            "_view_module": "@jupyter-widgets/base",
            "_view_module_version": "1.2.0",
            "_view_name": "LayoutView",
            "align_content": null,
            "align_items": null,
            "align_self": null,
            "border": null,
            "bottom": null,
            "display": null,
            "flex": null,
            "flex_flow": null,
            "grid_area": null,
            "grid_auto_columns": null,
            "grid_auto_flow": null,
            "grid_auto_rows": null,
            "grid_column": null,
            "grid_gap": null,
            "grid_row": null,
            "grid_template_areas": null,
            "grid_template_columns": null,
            "grid_template_rows": null,
            "height": null,
            "justify_content": null,
            "justify_items": null,
            "left": null,
            "margin": null,
            "max_height": null,
            "max_width": null,
            "min_height": null,
            "min_width": null,
            "object_fit": null,
            "object_position": null,
            "order": null,
            "overflow": null,
            "overflow_x": null,
            "overflow_y": null,
            "padding": null,
            "right": null,
            "top": null,
            "visibility": null,
            "width": null
          }
        },
        "ef092f7e91784aa1891f7337e5aa6c16": {
          "model_module": "@jupyter-widgets/controls",
          "model_name": "DescriptionStyleModel",
          "model_module_version": "1.5.0",
          "state": {
            "_model_module": "@jupyter-widgets/controls",
            "_model_module_version": "1.5.0",
            "_model_name": "DescriptionStyleModel",
            "_view_count": null,
            "_view_module": "@jupyter-widgets/base",
            "_view_module_version": "1.2.0",
            "_view_name": "StyleView",
            "description_width": ""
          }
        },
        "cf39a5cbebe34624a072c96d9c97aaf5": {
          "model_module": "@jupyter-widgets/base",
          "model_name": "LayoutModel",
          "model_module_version": "1.2.0",
          "state": {
            "_model_module": "@jupyter-widgets/base",
            "_model_module_version": "1.2.0",
            "_model_name": "LayoutModel",
            "_view_count": null,
            "_view_module": "@jupyter-widgets/base",
            "_view_module_version": "1.2.0",
            "_view_name": "LayoutView",
            "align_content": null,
            "align_items": null,
            "align_self": null,
            "border": null,
            "bottom": null,
            "display": null,
            "flex": null,
            "flex_flow": null,
            "grid_area": null,
            "grid_auto_columns": null,
            "grid_auto_flow": null,
            "grid_auto_rows": null,
            "grid_column": null,
            "grid_gap": null,
            "grid_row": null,
            "grid_template_areas": null,
            "grid_template_columns": null,
            "grid_template_rows": null,
            "height": null,
            "justify_content": null,
            "justify_items": null,
            "left": null,
            "margin": null,
            "max_height": null,
            "max_width": null,
            "min_height": null,
            "min_width": null,
            "object_fit": null,
            "object_position": null,
            "order": null,
            "overflow": null,
            "overflow_x": null,
            "overflow_y": null,
            "padding": null,
            "right": null,
            "top": null,
            "visibility": null,
            "width": null
          }
        },
        "c7a76678212f470bbc16700dfa4c5da6": {
          "model_module": "@jupyter-widgets/controls",
          "model_name": "ProgressStyleModel",
          "model_module_version": "1.5.0",
          "state": {
            "_model_module": "@jupyter-widgets/controls",
            "_model_module_version": "1.5.0",
            "_model_name": "ProgressStyleModel",
            "_view_count": null,
            "_view_module": "@jupyter-widgets/base",
            "_view_module_version": "1.2.0",
            "_view_name": "StyleView",
            "bar_color": null,
            "description_width": ""
          }
        },
        "8ec74fc8eb094c18bbb6a9c07d3b62ce": {
          "model_module": "@jupyter-widgets/base",
          "model_name": "LayoutModel",
          "model_module_version": "1.2.0",
          "state": {
            "_model_module": "@jupyter-widgets/base",
            "_model_module_version": "1.2.0",
            "_model_name": "LayoutModel",
            "_view_count": null,
            "_view_module": "@jupyter-widgets/base",
            "_view_module_version": "1.2.0",
            "_view_name": "LayoutView",
            "align_content": null,
            "align_items": null,
            "align_self": null,
            "border": null,
            "bottom": null,
            "display": null,
            "flex": null,
            "flex_flow": null,
            "grid_area": null,
            "grid_auto_columns": null,
            "grid_auto_flow": null,
            "grid_auto_rows": null,
            "grid_column": null,
            "grid_gap": null,
            "grid_row": null,
            "grid_template_areas": null,
            "grid_template_columns": null,
            "grid_template_rows": null,
            "height": null,
            "justify_content": null,
            "justify_items": null,
            "left": null,
            "margin": null,
            "max_height": null,
            "max_width": null,
            "min_height": null,
            "min_width": null,
            "object_fit": null,
            "object_position": null,
            "order": null,
            "overflow": null,
            "overflow_x": null,
            "overflow_y": null,
            "padding": null,
            "right": null,
            "top": null,
            "visibility": null,
            "width": null
          }
        },
        "12cc717248e34fb98da9c2624f400410": {
          "model_module": "@jupyter-widgets/controls",
          "model_name": "DescriptionStyleModel",
          "model_module_version": "1.5.0",
          "state": {
            "_model_module": "@jupyter-widgets/controls",
            "_model_module_version": "1.5.0",
            "_model_name": "DescriptionStyleModel",
            "_view_count": null,
            "_view_module": "@jupyter-widgets/base",
            "_view_module_version": "1.2.0",
            "_view_name": "StyleView",
            "description_width": ""
          }
        },
        "d3a3dd814d5a4d0aba4e82b530eb2430": {
          "model_module": "@jupyter-widgets/controls",
          "model_name": "HBoxModel",
          "model_module_version": "1.5.0",
          "state": {
            "_dom_classes": [],
            "_model_module": "@jupyter-widgets/controls",
            "_model_module_version": "1.5.0",
            "_model_name": "HBoxModel",
            "_view_count": null,
            "_view_module": "@jupyter-widgets/controls",
            "_view_module_version": "1.5.0",
            "_view_name": "HBoxView",
            "box_style": "",
            "children": [
              "IPY_MODEL_8eec4c29f2514bbb8f8c8e7319477ca8",
              "IPY_MODEL_82982fa9ed8b4d2da44d3b2910112248",
              "IPY_MODEL_b13d31bc2da3458ab30acb639c3d05fb"
            ],
            "layout": "IPY_MODEL_fd06fa26389443eb9b9e92b091b03031"
          }
        },
        "8eec4c29f2514bbb8f8c8e7319477ca8": {
          "model_module": "@jupyter-widgets/controls",
          "model_name": "HTMLModel",
          "model_module_version": "1.5.0",
          "state": {
            "_dom_classes": [],
            "_model_module": "@jupyter-widgets/controls",
            "_model_module_version": "1.5.0",
            "_model_name": "HTMLModel",
            "_view_count": null,
            "_view_module": "@jupyter-widgets/controls",
            "_view_module_version": "1.5.0",
            "_view_name": "HTMLView",
            "description": "",
            "description_tooltip": null,
            "layout": "IPY_MODEL_a66a2975d6f04f958a60c9c8ceb432f8",
            "placeholder": "​",
            "style": "IPY_MODEL_c64e109207ca4f59a727fbcd2d14834b",
            "value": "Map: 100%"
          }
        },
        "82982fa9ed8b4d2da44d3b2910112248": {
          "model_module": "@jupyter-widgets/controls",
          "model_name": "FloatProgressModel",
          "model_module_version": "1.5.0",
          "state": {
            "_dom_classes": [],
            "_model_module": "@jupyter-widgets/controls",
            "_model_module_version": "1.5.0",
            "_model_name": "FloatProgressModel",
            "_view_count": null,
            "_view_module": "@jupyter-widgets/controls",
            "_view_module_version": "1.5.0",
            "_view_name": "ProgressView",
            "bar_style": "success",
            "description": "",
            "description_tooltip": null,
            "layout": "IPY_MODEL_d17972a78b9344bfb132ce1ed6bb0a92",
            "max": 1376,
            "min": 0,
            "orientation": "horizontal",
            "style": "IPY_MODEL_4910ea34b351442a8cc4fe90fc2a5d49",
            "value": 1376
          }
        },
        "b13d31bc2da3458ab30acb639c3d05fb": {
          "model_module": "@jupyter-widgets/controls",
          "model_name": "HTMLModel",
          "model_module_version": "1.5.0",
          "state": {
            "_dom_classes": [],
            "_model_module": "@jupyter-widgets/controls",
            "_model_module_version": "1.5.0",
            "_model_name": "HTMLModel",
            "_view_count": null,
            "_view_module": "@jupyter-widgets/controls",
            "_view_module_version": "1.5.0",
            "_view_name": "HTMLView",
            "description": "",
            "description_tooltip": null,
            "layout": "IPY_MODEL_9a349a140f0346ecb71510bc683d587a",
            "placeholder": "​",
            "style": "IPY_MODEL_56498d04e66f42769766b2f901d409a8",
            "value": " 1376/1376 [00:00&lt;00:00, 3128.06 examples/s]"
          }
        },
        "fd06fa26389443eb9b9e92b091b03031": {
          "model_module": "@jupyter-widgets/base",
          "model_name": "LayoutModel",
          "model_module_version": "1.2.0",
          "state": {
            "_model_module": "@jupyter-widgets/base",
            "_model_module_version": "1.2.0",
            "_model_name": "LayoutModel",
            "_view_count": null,
            "_view_module": "@jupyter-widgets/base",
            "_view_module_version": "1.2.0",
            "_view_name": "LayoutView",
            "align_content": null,
            "align_items": null,
            "align_self": null,
            "border": null,
            "bottom": null,
            "display": null,
            "flex": null,
            "flex_flow": null,
            "grid_area": null,
            "grid_auto_columns": null,
            "grid_auto_flow": null,
            "grid_auto_rows": null,
            "grid_column": null,
            "grid_gap": null,
            "grid_row": null,
            "grid_template_areas": null,
            "grid_template_columns": null,
            "grid_template_rows": null,
            "height": null,
            "justify_content": null,
            "justify_items": null,
            "left": null,
            "margin": null,
            "max_height": null,
            "max_width": null,
            "min_height": null,
            "min_width": null,
            "object_fit": null,
            "object_position": null,
            "order": null,
            "overflow": null,
            "overflow_x": null,
            "overflow_y": null,
            "padding": null,
            "right": null,
            "top": null,
            "visibility": null,
            "width": null
          }
        },
        "a66a2975d6f04f958a60c9c8ceb432f8": {
          "model_module": "@jupyter-widgets/base",
          "model_name": "LayoutModel",
          "model_module_version": "1.2.0",
          "state": {
            "_model_module": "@jupyter-widgets/base",
            "_model_module_version": "1.2.0",
            "_model_name": "LayoutModel",
            "_view_count": null,
            "_view_module": "@jupyter-widgets/base",
            "_view_module_version": "1.2.0",
            "_view_name": "LayoutView",
            "align_content": null,
            "align_items": null,
            "align_self": null,
            "border": null,
            "bottom": null,
            "display": null,
            "flex": null,
            "flex_flow": null,
            "grid_area": null,
            "grid_auto_columns": null,
            "grid_auto_flow": null,
            "grid_auto_rows": null,
            "grid_column": null,
            "grid_gap": null,
            "grid_row": null,
            "grid_template_areas": null,
            "grid_template_columns": null,
            "grid_template_rows": null,
            "height": null,
            "justify_content": null,
            "justify_items": null,
            "left": null,
            "margin": null,
            "max_height": null,
            "max_width": null,
            "min_height": null,
            "min_width": null,
            "object_fit": null,
            "object_position": null,
            "order": null,
            "overflow": null,
            "overflow_x": null,
            "overflow_y": null,
            "padding": null,
            "right": null,
            "top": null,
            "visibility": null,
            "width": null
          }
        },
        "c64e109207ca4f59a727fbcd2d14834b": {
          "model_module": "@jupyter-widgets/controls",
          "model_name": "DescriptionStyleModel",
          "model_module_version": "1.5.0",
          "state": {
            "_model_module": "@jupyter-widgets/controls",
            "_model_module_version": "1.5.0",
            "_model_name": "DescriptionStyleModel",
            "_view_count": null,
            "_view_module": "@jupyter-widgets/base",
            "_view_module_version": "1.2.0",
            "_view_name": "StyleView",
            "description_width": ""
          }
        },
        "d17972a78b9344bfb132ce1ed6bb0a92": {
          "model_module": "@jupyter-widgets/base",
          "model_name": "LayoutModel",
          "model_module_version": "1.2.0",
          "state": {
            "_model_module": "@jupyter-widgets/base",
            "_model_module_version": "1.2.0",
            "_model_name": "LayoutModel",
            "_view_count": null,
            "_view_module": "@jupyter-widgets/base",
            "_view_module_version": "1.2.0",
            "_view_name": "LayoutView",
            "align_content": null,
            "align_items": null,
            "align_self": null,
            "border": null,
            "bottom": null,
            "display": null,
            "flex": null,
            "flex_flow": null,
            "grid_area": null,
            "grid_auto_columns": null,
            "grid_auto_flow": null,
            "grid_auto_rows": null,
            "grid_column": null,
            "grid_gap": null,
            "grid_row": null,
            "grid_template_areas": null,
            "grid_template_columns": null,
            "grid_template_rows": null,
            "height": null,
            "justify_content": null,
            "justify_items": null,
            "left": null,
            "margin": null,
            "max_height": null,
            "max_width": null,
            "min_height": null,
            "min_width": null,
            "object_fit": null,
            "object_position": null,
            "order": null,
            "overflow": null,
            "overflow_x": null,
            "overflow_y": null,
            "padding": null,
            "right": null,
            "top": null,
            "visibility": null,
            "width": null
          }
        },
        "4910ea34b351442a8cc4fe90fc2a5d49": {
          "model_module": "@jupyter-widgets/controls",
          "model_name": "ProgressStyleModel",
          "model_module_version": "1.5.0",
          "state": {
            "_model_module": "@jupyter-widgets/controls",
            "_model_module_version": "1.5.0",
            "_model_name": "ProgressStyleModel",
            "_view_count": null,
            "_view_module": "@jupyter-widgets/base",
            "_view_module_version": "1.2.0",
            "_view_name": "StyleView",
            "bar_color": null,
            "description_width": ""
          }
        },
        "9a349a140f0346ecb71510bc683d587a": {
          "model_module": "@jupyter-widgets/base",
          "model_name": "LayoutModel",
          "model_module_version": "1.2.0",
          "state": {
            "_model_module": "@jupyter-widgets/base",
            "_model_module_version": "1.2.0",
            "_model_name": "LayoutModel",
            "_view_count": null,
            "_view_module": "@jupyter-widgets/base",
            "_view_module_version": "1.2.0",
            "_view_name": "LayoutView",
            "align_content": null,
            "align_items": null,
            "align_self": null,
            "border": null,
            "bottom": null,
            "display": null,
            "flex": null,
            "flex_flow": null,
            "grid_area": null,
            "grid_auto_columns": null,
            "grid_auto_flow": null,
            "grid_auto_rows": null,
            "grid_column": null,
            "grid_gap": null,
            "grid_row": null,
            "grid_template_areas": null,
            "grid_template_columns": null,
            "grid_template_rows": null,
            "height": null,
            "justify_content": null,
            "justify_items": null,
            "left": null,
            "margin": null,
            "max_height": null,
            "max_width": null,
            "min_height": null,
            "min_width": null,
            "object_fit": null,
            "object_position": null,
            "order": null,
            "overflow": null,
            "overflow_x": null,
            "overflow_y": null,
            "padding": null,
            "right": null,
            "top": null,
            "visibility": null,
            "width": null
          }
        },
        "56498d04e66f42769766b2f901d409a8": {
          "model_module": "@jupyter-widgets/controls",
          "model_name": "DescriptionStyleModel",
          "model_module_version": "1.5.0",
          "state": {
            "_model_module": "@jupyter-widgets/controls",
            "_model_module_version": "1.5.0",
            "_model_name": "DescriptionStyleModel",
            "_view_count": null,
            "_view_module": "@jupyter-widgets/base",
            "_view_module_version": "1.2.0",
            "_view_name": "StyleView",
            "description_width": ""
          }
        },
        "4680a75c577e4ea8b4da4070bda68ab5": {
          "model_module": "@jupyter-widgets/controls",
          "model_name": "HBoxModel",
          "model_module_version": "1.5.0",
          "state": {
            "_dom_classes": [],
            "_model_module": "@jupyter-widgets/controls",
            "_model_module_version": "1.5.0",
            "_model_name": "HBoxModel",
            "_view_count": null,
            "_view_module": "@jupyter-widgets/controls",
            "_view_module_version": "1.5.0",
            "_view_name": "HBoxView",
            "box_style": "",
            "children": [
              "IPY_MODEL_64625a1051f94d49ade92197a8cedd4f",
              "IPY_MODEL_a64427e5a2ae4b97a5968d75d4c546b2",
              "IPY_MODEL_ffc4f2ffc1bd47599e394dd04245805a"
            ],
            "layout": "IPY_MODEL_a262b55141d6469eb0a58cf68a7512ee"
          }
        },
        "64625a1051f94d49ade92197a8cedd4f": {
          "model_module": "@jupyter-widgets/controls",
          "model_name": "HTMLModel",
          "model_module_version": "1.5.0",
          "state": {
            "_dom_classes": [],
            "_model_module": "@jupyter-widgets/controls",
            "_model_module_version": "1.5.0",
            "_model_name": "HTMLModel",
            "_view_count": null,
            "_view_module": "@jupyter-widgets/controls",
            "_view_module_version": "1.5.0",
            "_view_name": "HTMLView",
            "description": "",
            "description_tooltip": null,
            "layout": "IPY_MODEL_3e84fdfc11ed40b7b83522c245e6ff78",
            "placeholder": "​",
            "style": "IPY_MODEL_77ede9b5a78e4c0cbdedd9c5521e952d",
            "value": "Map: 100%"
          }
        },
        "a64427e5a2ae4b97a5968d75d4c546b2": {
          "model_module": "@jupyter-widgets/controls",
          "model_name": "FloatProgressModel",
          "model_module_version": "1.5.0",
          "state": {
            "_dom_classes": [],
            "_model_module": "@jupyter-widgets/controls",
            "_model_module_version": "1.5.0",
            "_model_name": "FloatProgressModel",
            "_view_count": null,
            "_view_module": "@jupyter-widgets/controls",
            "_view_module_version": "1.5.0",
            "_view_name": "ProgressView",
            "bar_style": "success",
            "description": "",
            "description_tooltip": null,
            "layout": "IPY_MODEL_14436e83e59d48ab9795016b1b013f7f",
            "max": 1376,
            "min": 0,
            "orientation": "horizontal",
            "style": "IPY_MODEL_1659a4f4d79e4143ac43132a02dacbd0",
            "value": 1376
          }
        },
        "ffc4f2ffc1bd47599e394dd04245805a": {
          "model_module": "@jupyter-widgets/controls",
          "model_name": "HTMLModel",
          "model_module_version": "1.5.0",
          "state": {
            "_dom_classes": [],
            "_model_module": "@jupyter-widgets/controls",
            "_model_module_version": "1.5.0",
            "_model_name": "HTMLModel",
            "_view_count": null,
            "_view_module": "@jupyter-widgets/controls",
            "_view_module_version": "1.5.0",
            "_view_name": "HTMLView",
            "description": "",
            "description_tooltip": null,
            "layout": "IPY_MODEL_0d5cc5ebf05e47f68cb3a58de6d15daa",
            "placeholder": "​",
            "style": "IPY_MODEL_890a3bf5463e4fd6afba435a1aef959a",
            "value": " 1376/1376 [00:00&lt;00:00, 4700.25 examples/s]"
          }
        },
        "a262b55141d6469eb0a58cf68a7512ee": {
          "model_module": "@jupyter-widgets/base",
          "model_name": "LayoutModel",
          "model_module_version": "1.2.0",
          "state": {
            "_model_module": "@jupyter-widgets/base",
            "_model_module_version": "1.2.0",
            "_model_name": "LayoutModel",
            "_view_count": null,
            "_view_module": "@jupyter-widgets/base",
            "_view_module_version": "1.2.0",
            "_view_name": "LayoutView",
            "align_content": null,
            "align_items": null,
            "align_self": null,
            "border": null,
            "bottom": null,
            "display": null,
            "flex": null,
            "flex_flow": null,
            "grid_area": null,
            "grid_auto_columns": null,
            "grid_auto_flow": null,
            "grid_auto_rows": null,
            "grid_column": null,
            "grid_gap": null,
            "grid_row": null,
            "grid_template_areas": null,
            "grid_template_columns": null,
            "grid_template_rows": null,
            "height": null,
            "justify_content": null,
            "justify_items": null,
            "left": null,
            "margin": null,
            "max_height": null,
            "max_width": null,
            "min_height": null,
            "min_width": null,
            "object_fit": null,
            "object_position": null,
            "order": null,
            "overflow": null,
            "overflow_x": null,
            "overflow_y": null,
            "padding": null,
            "right": null,
            "top": null,
            "visibility": null,
            "width": null
          }
        },
        "3e84fdfc11ed40b7b83522c245e6ff78": {
          "model_module": "@jupyter-widgets/base",
          "model_name": "LayoutModel",
          "model_module_version": "1.2.0",
          "state": {
            "_model_module": "@jupyter-widgets/base",
            "_model_module_version": "1.2.0",
            "_model_name": "LayoutModel",
            "_view_count": null,
            "_view_module": "@jupyter-widgets/base",
            "_view_module_version": "1.2.0",
            "_view_name": "LayoutView",
            "align_content": null,
            "align_items": null,
            "align_self": null,
            "border": null,
            "bottom": null,
            "display": null,
            "flex": null,
            "flex_flow": null,
            "grid_area": null,
            "grid_auto_columns": null,
            "grid_auto_flow": null,
            "grid_auto_rows": null,
            "grid_column": null,
            "grid_gap": null,
            "grid_row": null,
            "grid_template_areas": null,
            "grid_template_columns": null,
            "grid_template_rows": null,
            "height": null,
            "justify_content": null,
            "justify_items": null,
            "left": null,
            "margin": null,
            "max_height": null,
            "max_width": null,
            "min_height": null,
            "min_width": null,
            "object_fit": null,
            "object_position": null,
            "order": null,
            "overflow": null,
            "overflow_x": null,
            "overflow_y": null,
            "padding": null,
            "right": null,
            "top": null,
            "visibility": null,
            "width": null
          }
        },
        "77ede9b5a78e4c0cbdedd9c5521e952d": {
          "model_module": "@jupyter-widgets/controls",
          "model_name": "DescriptionStyleModel",
          "model_module_version": "1.5.0",
          "state": {
            "_model_module": "@jupyter-widgets/controls",
            "_model_module_version": "1.5.0",
            "_model_name": "DescriptionStyleModel",
            "_view_count": null,
            "_view_module": "@jupyter-widgets/base",
            "_view_module_version": "1.2.0",
            "_view_name": "StyleView",
            "description_width": ""
          }
        },
        "14436e83e59d48ab9795016b1b013f7f": {
          "model_module": "@jupyter-widgets/base",
          "model_name": "LayoutModel",
          "model_module_version": "1.2.0",
          "state": {
            "_model_module": "@jupyter-widgets/base",
            "_model_module_version": "1.2.0",
            "_model_name": "LayoutModel",
            "_view_count": null,
            "_view_module": "@jupyter-widgets/base",
            "_view_module_version": "1.2.0",
            "_view_name": "LayoutView",
            "align_content": null,
            "align_items": null,
            "align_self": null,
            "border": null,
            "bottom": null,
            "display": null,
            "flex": null,
            "flex_flow": null,
            "grid_area": null,
            "grid_auto_columns": null,
            "grid_auto_flow": null,
            "grid_auto_rows": null,
            "grid_column": null,
            "grid_gap": null,
            "grid_row": null,
            "grid_template_areas": null,
            "grid_template_columns": null,
            "grid_template_rows": null,
            "height": null,
            "justify_content": null,
            "justify_items": null,
            "left": null,
            "margin": null,
            "max_height": null,
            "max_width": null,
            "min_height": null,
            "min_width": null,
            "object_fit": null,
            "object_position": null,
            "order": null,
            "overflow": null,
            "overflow_x": null,
            "overflow_y": null,
            "padding": null,
            "right": null,
            "top": null,
            "visibility": null,
            "width": null
          }
        },
        "1659a4f4d79e4143ac43132a02dacbd0": {
          "model_module": "@jupyter-widgets/controls",
          "model_name": "ProgressStyleModel",
          "model_module_version": "1.5.0",
          "state": {
            "_model_module": "@jupyter-widgets/controls",
            "_model_module_version": "1.5.0",
            "_model_name": "ProgressStyleModel",
            "_view_count": null,
            "_view_module": "@jupyter-widgets/base",
            "_view_module_version": "1.2.0",
            "_view_name": "StyleView",
            "bar_color": null,
            "description_width": ""
          }
        },
        "0d5cc5ebf05e47f68cb3a58de6d15daa": {
          "model_module": "@jupyter-widgets/base",
          "model_name": "LayoutModel",
          "model_module_version": "1.2.0",
          "state": {
            "_model_module": "@jupyter-widgets/base",
            "_model_module_version": "1.2.0",
            "_model_name": "LayoutModel",
            "_view_count": null,
            "_view_module": "@jupyter-widgets/base",
            "_view_module_version": "1.2.0",
            "_view_name": "LayoutView",
            "align_content": null,
            "align_items": null,
            "align_self": null,
            "border": null,
            "bottom": null,
            "display": null,
            "flex": null,
            "flex_flow": null,
            "grid_area": null,
            "grid_auto_columns": null,
            "grid_auto_flow": null,
            "grid_auto_rows": null,
            "grid_column": null,
            "grid_gap": null,
            "grid_row": null,
            "grid_template_areas": null,
            "grid_template_columns": null,
            "grid_template_rows": null,
            "height": null,
            "justify_content": null,
            "justify_items": null,
            "left": null,
            "margin": null,
            "max_height": null,
            "max_width": null,
            "min_height": null,
            "min_width": null,
            "object_fit": null,
            "object_position": null,
            "order": null,
            "overflow": null,
            "overflow_x": null,
            "overflow_y": null,
            "padding": null,
            "right": null,
            "top": null,
            "visibility": null,
            "width": null
          }
        },
        "890a3bf5463e4fd6afba435a1aef959a": {
          "model_module": "@jupyter-widgets/controls",
          "model_name": "DescriptionStyleModel",
          "model_module_version": "1.5.0",
          "state": {
            "_model_module": "@jupyter-widgets/controls",
            "_model_module_version": "1.5.0",
            "_model_name": "DescriptionStyleModel",
            "_view_count": null,
            "_view_module": "@jupyter-widgets/base",
            "_view_module_version": "1.2.0",
            "_view_name": "StyleView",
            "description_width": ""
          }
        },
        "69011204059645f688a600c99b8660c0": {
          "model_module": "@jupyter-widgets/controls",
          "model_name": "HBoxModel",
          "model_module_version": "1.5.0",
          "state": {
            "_dom_classes": [],
            "_model_module": "@jupyter-widgets/controls",
            "_model_module_version": "1.5.0",
            "_model_name": "HBoxModel",
            "_view_count": null,
            "_view_module": "@jupyter-widgets/controls",
            "_view_module_version": "1.5.0",
            "_view_name": "HBoxView",
            "box_style": "",
            "children": [
              "IPY_MODEL_a9e92b285501479c81cd15d2231f7e4d",
              "IPY_MODEL_3aaaf2c743634459950760532c6dc1f6",
              "IPY_MODEL_77ac5db0ad144e2a997bcdef8bdc26d7"
            ],
            "layout": "IPY_MODEL_fcdf7a43cf864395b7c743e03c98e510"
          }
        },
        "a9e92b285501479c81cd15d2231f7e4d": {
          "model_module": "@jupyter-widgets/controls",
          "model_name": "HTMLModel",
          "model_module_version": "1.5.0",
          "state": {
            "_dom_classes": [],
            "_model_module": "@jupyter-widgets/controls",
            "_model_module_version": "1.5.0",
            "_model_name": "HTMLModel",
            "_view_count": null,
            "_view_module": "@jupyter-widgets/controls",
            "_view_module_version": "1.5.0",
            "_view_name": "HTMLView",
            "description": "",
            "description_tooltip": null,
            "layout": "IPY_MODEL_671854dc86324c64ba43388a5bfdd69e",
            "placeholder": "​",
            "style": "IPY_MODEL_a4888b86c5f6406aabf6b667efcfaf5f",
            "value": "Map: 100%"
          }
        },
        "3aaaf2c743634459950760532c6dc1f6": {
          "model_module": "@jupyter-widgets/controls",
          "model_name": "FloatProgressModel",
          "model_module_version": "1.5.0",
          "state": {
            "_dom_classes": [],
            "_model_module": "@jupyter-widgets/controls",
            "_model_module_version": "1.5.0",
            "_model_name": "FloatProgressModel",
            "_view_count": null,
            "_view_module": "@jupyter-widgets/controls",
            "_view_module_version": "1.5.0",
            "_view_name": "ProgressView",
            "bar_style": "success",
            "description": "",
            "description_tooltip": null,
            "layout": "IPY_MODEL_896435c389f641edadcb7a3dd88858b9",
            "max": 24773,
            "min": 0,
            "orientation": "horizontal",
            "style": "IPY_MODEL_4f63d953d6324c559ee133ea70d97014",
            "value": 24773
          }
        },
        "77ac5db0ad144e2a997bcdef8bdc26d7": {
          "model_module": "@jupyter-widgets/controls",
          "model_name": "HTMLModel",
          "model_module_version": "1.5.0",
          "state": {
            "_dom_classes": [],
            "_model_module": "@jupyter-widgets/controls",
            "_model_module_version": "1.5.0",
            "_model_name": "HTMLModel",
            "_view_count": null,
            "_view_module": "@jupyter-widgets/controls",
            "_view_module_version": "1.5.0",
            "_view_name": "HTMLView",
            "description": "",
            "description_tooltip": null,
            "layout": "IPY_MODEL_51dd7a85fdbf4a41a16b20d394d744a6",
            "placeholder": "​",
            "style": "IPY_MODEL_bd127b1fc176493e9a597efe1a0f9867",
            "value": " 24773/24773 [00:58&lt;00:00, 424.54 examples/s]"
          }
        },
        "fcdf7a43cf864395b7c743e03c98e510": {
          "model_module": "@jupyter-widgets/base",
          "model_name": "LayoutModel",
          "model_module_version": "1.2.0",
          "state": {
            "_model_module": "@jupyter-widgets/base",
            "_model_module_version": "1.2.0",
            "_model_name": "LayoutModel",
            "_view_count": null,
            "_view_module": "@jupyter-widgets/base",
            "_view_module_version": "1.2.0",
            "_view_name": "LayoutView",
            "align_content": null,
            "align_items": null,
            "align_self": null,
            "border": null,
            "bottom": null,
            "display": null,
            "flex": null,
            "flex_flow": null,
            "grid_area": null,
            "grid_auto_columns": null,
            "grid_auto_flow": null,
            "grid_auto_rows": null,
            "grid_column": null,
            "grid_gap": null,
            "grid_row": null,
            "grid_template_areas": null,
            "grid_template_columns": null,
            "grid_template_rows": null,
            "height": null,
            "justify_content": null,
            "justify_items": null,
            "left": null,
            "margin": null,
            "max_height": null,
            "max_width": null,
            "min_height": null,
            "min_width": null,
            "object_fit": null,
            "object_position": null,
            "order": null,
            "overflow": null,
            "overflow_x": null,
            "overflow_y": null,
            "padding": null,
            "right": null,
            "top": null,
            "visibility": null,
            "width": null
          }
        },
        "671854dc86324c64ba43388a5bfdd69e": {
          "model_module": "@jupyter-widgets/base",
          "model_name": "LayoutModel",
          "model_module_version": "1.2.0",
          "state": {
            "_model_module": "@jupyter-widgets/base",
            "_model_module_version": "1.2.0",
            "_model_name": "LayoutModel",
            "_view_count": null,
            "_view_module": "@jupyter-widgets/base",
            "_view_module_version": "1.2.0",
            "_view_name": "LayoutView",
            "align_content": null,
            "align_items": null,
            "align_self": null,
            "border": null,
            "bottom": null,
            "display": null,
            "flex": null,
            "flex_flow": null,
            "grid_area": null,
            "grid_auto_columns": null,
            "grid_auto_flow": null,
            "grid_auto_rows": null,
            "grid_column": null,
            "grid_gap": null,
            "grid_row": null,
            "grid_template_areas": null,
            "grid_template_columns": null,
            "grid_template_rows": null,
            "height": null,
            "justify_content": null,
            "justify_items": null,
            "left": null,
            "margin": null,
            "max_height": null,
            "max_width": null,
            "min_height": null,
            "min_width": null,
            "object_fit": null,
            "object_position": null,
            "order": null,
            "overflow": null,
            "overflow_x": null,
            "overflow_y": null,
            "padding": null,
            "right": null,
            "top": null,
            "visibility": null,
            "width": null
          }
        },
        "a4888b86c5f6406aabf6b667efcfaf5f": {
          "model_module": "@jupyter-widgets/controls",
          "model_name": "DescriptionStyleModel",
          "model_module_version": "1.5.0",
          "state": {
            "_model_module": "@jupyter-widgets/controls",
            "_model_module_version": "1.5.0",
            "_model_name": "DescriptionStyleModel",
            "_view_count": null,
            "_view_module": "@jupyter-widgets/base",
            "_view_module_version": "1.2.0",
            "_view_name": "StyleView",
            "description_width": ""
          }
        },
        "896435c389f641edadcb7a3dd88858b9": {
          "model_module": "@jupyter-widgets/base",
          "model_name": "LayoutModel",
          "model_module_version": "1.2.0",
          "state": {
            "_model_module": "@jupyter-widgets/base",
            "_model_module_version": "1.2.0",
            "_model_name": "LayoutModel",
            "_view_count": null,
            "_view_module": "@jupyter-widgets/base",
            "_view_module_version": "1.2.0",
            "_view_name": "LayoutView",
            "align_content": null,
            "align_items": null,
            "align_self": null,
            "border": null,
            "bottom": null,
            "display": null,
            "flex": null,
            "flex_flow": null,
            "grid_area": null,
            "grid_auto_columns": null,
            "grid_auto_flow": null,
            "grid_auto_rows": null,
            "grid_column": null,
            "grid_gap": null,
            "grid_row": null,
            "grid_template_areas": null,
            "grid_template_columns": null,
            "grid_template_rows": null,
            "height": null,
            "justify_content": null,
            "justify_items": null,
            "left": null,
            "margin": null,
            "max_height": null,
            "max_width": null,
            "min_height": null,
            "min_width": null,
            "object_fit": null,
            "object_position": null,
            "order": null,
            "overflow": null,
            "overflow_x": null,
            "overflow_y": null,
            "padding": null,
            "right": null,
            "top": null,
            "visibility": null,
            "width": null
          }
        },
        "4f63d953d6324c559ee133ea70d97014": {
          "model_module": "@jupyter-widgets/controls",
          "model_name": "ProgressStyleModel",
          "model_module_version": "1.5.0",
          "state": {
            "_model_module": "@jupyter-widgets/controls",
            "_model_module_version": "1.5.0",
            "_model_name": "ProgressStyleModel",
            "_view_count": null,
            "_view_module": "@jupyter-widgets/base",
            "_view_module_version": "1.2.0",
            "_view_name": "StyleView",
            "bar_color": null,
            "description_width": ""
          }
        },
        "51dd7a85fdbf4a41a16b20d394d744a6": {
          "model_module": "@jupyter-widgets/base",
          "model_name": "LayoutModel",
          "model_module_version": "1.2.0",
          "state": {
            "_model_module": "@jupyter-widgets/base",
            "_model_module_version": "1.2.0",
            "_model_name": "LayoutModel",
            "_view_count": null,
            "_view_module": "@jupyter-widgets/base",
            "_view_module_version": "1.2.0",
            "_view_name": "LayoutView",
            "align_content": null,
            "align_items": null,
            "align_self": null,
            "border": null,
            "bottom": null,
            "display": null,
            "flex": null,
            "flex_flow": null,
            "grid_area": null,
            "grid_auto_columns": null,
            "grid_auto_flow": null,
            "grid_auto_rows": null,
            "grid_column": null,
            "grid_gap": null,
            "grid_row": null,
            "grid_template_areas": null,
            "grid_template_columns": null,
            "grid_template_rows": null,
            "height": null,
            "justify_content": null,
            "justify_items": null,
            "left": null,
            "margin": null,
            "max_height": null,
            "max_width": null,
            "min_height": null,
            "min_width": null,
            "object_fit": null,
            "object_position": null,
            "order": null,
            "overflow": null,
            "overflow_x": null,
            "overflow_y": null,
            "padding": null,
            "right": null,
            "top": null,
            "visibility": null,
            "width": null
          }
        },
        "bd127b1fc176493e9a597efe1a0f9867": {
          "model_module": "@jupyter-widgets/controls",
          "model_name": "DescriptionStyleModel",
          "model_module_version": "1.5.0",
          "state": {
            "_model_module": "@jupyter-widgets/controls",
            "_model_module_version": "1.5.0",
            "_model_name": "DescriptionStyleModel",
            "_view_count": null,
            "_view_module": "@jupyter-widgets/base",
            "_view_module_version": "1.2.0",
            "_view_name": "StyleView",
            "description_width": ""
          }
        },
        "b9d38f6931354b99b414395abd7f566f": {
          "model_module": "@jupyter-widgets/controls",
          "model_name": "HBoxModel",
          "model_module_version": "1.5.0",
          "state": {
            "_dom_classes": [],
            "_model_module": "@jupyter-widgets/controls",
            "_model_module_version": "1.5.0",
            "_model_name": "HBoxModel",
            "_view_count": null,
            "_view_module": "@jupyter-widgets/controls",
            "_view_module_version": "1.5.0",
            "_view_name": "HBoxView",
            "box_style": "",
            "children": [
              "IPY_MODEL_02ec72afb3014f448d1c27639ad11bc4",
              "IPY_MODEL_8422c167244d45a6b717a4645ecefdf2",
              "IPY_MODEL_9ed2e07df5b84a9b99218d6b104b6fb0"
            ],
            "layout": "IPY_MODEL_386fec0050af4b29995ad59cb878d18b"
          }
        },
        "02ec72afb3014f448d1c27639ad11bc4": {
          "model_module": "@jupyter-widgets/controls",
          "model_name": "HTMLModel",
          "model_module_version": "1.5.0",
          "state": {
            "_dom_classes": [],
            "_model_module": "@jupyter-widgets/controls",
            "_model_module_version": "1.5.0",
            "_model_name": "HTMLModel",
            "_view_count": null,
            "_view_module": "@jupyter-widgets/controls",
            "_view_module_version": "1.5.0",
            "_view_name": "HTMLView",
            "description": "",
            "description_tooltip": null,
            "layout": "IPY_MODEL_09cdca7b444c4cd3a8f25b265e4db639",
            "placeholder": "​",
            "style": "IPY_MODEL_dfd7587bed0149d5bbad01ca4f24ef6c",
            "value": "Map: 100%"
          }
        },
        "8422c167244d45a6b717a4645ecefdf2": {
          "model_module": "@jupyter-widgets/controls",
          "model_name": "FloatProgressModel",
          "model_module_version": "1.5.0",
          "state": {
            "_dom_classes": [],
            "_model_module": "@jupyter-widgets/controls",
            "_model_module_version": "1.5.0",
            "_model_name": "FloatProgressModel",
            "_view_count": null,
            "_view_module": "@jupyter-widgets/controls",
            "_view_module_version": "1.5.0",
            "_view_name": "ProgressView",
            "bar_style": "success",
            "description": "",
            "description_tooltip": null,
            "layout": "IPY_MODEL_05365f2d7a094db78b070d8812ebcac2",
            "max": 1376,
            "min": 0,
            "orientation": "horizontal",
            "style": "IPY_MODEL_6f4dba752c0d47da83c7580ed59e5974",
            "value": 1376
          }
        },
        "9ed2e07df5b84a9b99218d6b104b6fb0": {
          "model_module": "@jupyter-widgets/controls",
          "model_name": "HTMLModel",
          "model_module_version": "1.5.0",
          "state": {
            "_dom_classes": [],
            "_model_module": "@jupyter-widgets/controls",
            "_model_module_version": "1.5.0",
            "_model_name": "HTMLModel",
            "_view_count": null,
            "_view_module": "@jupyter-widgets/controls",
            "_view_module_version": "1.5.0",
            "_view_name": "HTMLView",
            "description": "",
            "description_tooltip": null,
            "layout": "IPY_MODEL_475ca9b2b68146ee81ee808d9f465cf7",
            "placeholder": "​",
            "style": "IPY_MODEL_69408b16ae4e4ac2b3796b6318ce7805",
            "value": " 1376/1376 [00:03&lt;00:00, 437.01 examples/s]"
          }
        },
        "386fec0050af4b29995ad59cb878d18b": {
          "model_module": "@jupyter-widgets/base",
          "model_name": "LayoutModel",
          "model_module_version": "1.2.0",
          "state": {
            "_model_module": "@jupyter-widgets/base",
            "_model_module_version": "1.2.0",
            "_model_name": "LayoutModel",
            "_view_count": null,
            "_view_module": "@jupyter-widgets/base",
            "_view_module_version": "1.2.0",
            "_view_name": "LayoutView",
            "align_content": null,
            "align_items": null,
            "align_self": null,
            "border": null,
            "bottom": null,
            "display": null,
            "flex": null,
            "flex_flow": null,
            "grid_area": null,
            "grid_auto_columns": null,
            "grid_auto_flow": null,
            "grid_auto_rows": null,
            "grid_column": null,
            "grid_gap": null,
            "grid_row": null,
            "grid_template_areas": null,
            "grid_template_columns": null,
            "grid_template_rows": null,
            "height": null,
            "justify_content": null,
            "justify_items": null,
            "left": null,
            "margin": null,
            "max_height": null,
            "max_width": null,
            "min_height": null,
            "min_width": null,
            "object_fit": null,
            "object_position": null,
            "order": null,
            "overflow": null,
            "overflow_x": null,
            "overflow_y": null,
            "padding": null,
            "right": null,
            "top": null,
            "visibility": null,
            "width": null
          }
        },
        "09cdca7b444c4cd3a8f25b265e4db639": {
          "model_module": "@jupyter-widgets/base",
          "model_name": "LayoutModel",
          "model_module_version": "1.2.0",
          "state": {
            "_model_module": "@jupyter-widgets/base",
            "_model_module_version": "1.2.0",
            "_model_name": "LayoutModel",
            "_view_count": null,
            "_view_module": "@jupyter-widgets/base",
            "_view_module_version": "1.2.0",
            "_view_name": "LayoutView",
            "align_content": null,
            "align_items": null,
            "align_self": null,
            "border": null,
            "bottom": null,
            "display": null,
            "flex": null,
            "flex_flow": null,
            "grid_area": null,
            "grid_auto_columns": null,
            "grid_auto_flow": null,
            "grid_auto_rows": null,
            "grid_column": null,
            "grid_gap": null,
            "grid_row": null,
            "grid_template_areas": null,
            "grid_template_columns": null,
            "grid_template_rows": null,
            "height": null,
            "justify_content": null,
            "justify_items": null,
            "left": null,
            "margin": null,
            "max_height": null,
            "max_width": null,
            "min_height": null,
            "min_width": null,
            "object_fit": null,
            "object_position": null,
            "order": null,
            "overflow": null,
            "overflow_x": null,
            "overflow_y": null,
            "padding": null,
            "right": null,
            "top": null,
            "visibility": null,
            "width": null
          }
        },
        "dfd7587bed0149d5bbad01ca4f24ef6c": {
          "model_module": "@jupyter-widgets/controls",
          "model_name": "DescriptionStyleModel",
          "model_module_version": "1.5.0",
          "state": {
            "_model_module": "@jupyter-widgets/controls",
            "_model_module_version": "1.5.0",
            "_model_name": "DescriptionStyleModel",
            "_view_count": null,
            "_view_module": "@jupyter-widgets/base",
            "_view_module_version": "1.2.0",
            "_view_name": "StyleView",
            "description_width": ""
          }
        },
        "05365f2d7a094db78b070d8812ebcac2": {
          "model_module": "@jupyter-widgets/base",
          "model_name": "LayoutModel",
          "model_module_version": "1.2.0",
          "state": {
            "_model_module": "@jupyter-widgets/base",
            "_model_module_version": "1.2.0",
            "_model_name": "LayoutModel",
            "_view_count": null,
            "_view_module": "@jupyter-widgets/base",
            "_view_module_version": "1.2.0",
            "_view_name": "LayoutView",
            "align_content": null,
            "align_items": null,
            "align_self": null,
            "border": null,
            "bottom": null,
            "display": null,
            "flex": null,
            "flex_flow": null,
            "grid_area": null,
            "grid_auto_columns": null,
            "grid_auto_flow": null,
            "grid_auto_rows": null,
            "grid_column": null,
            "grid_gap": null,
            "grid_row": null,
            "grid_template_areas": null,
            "grid_template_columns": null,
            "grid_template_rows": null,
            "height": null,
            "justify_content": null,
            "justify_items": null,
            "left": null,
            "margin": null,
            "max_height": null,
            "max_width": null,
            "min_height": null,
            "min_width": null,
            "object_fit": null,
            "object_position": null,
            "order": null,
            "overflow": null,
            "overflow_x": null,
            "overflow_y": null,
            "padding": null,
            "right": null,
            "top": null,
            "visibility": null,
            "width": null
          }
        },
        "6f4dba752c0d47da83c7580ed59e5974": {
          "model_module": "@jupyter-widgets/controls",
          "model_name": "ProgressStyleModel",
          "model_module_version": "1.5.0",
          "state": {
            "_model_module": "@jupyter-widgets/controls",
            "_model_module_version": "1.5.0",
            "_model_name": "ProgressStyleModel",
            "_view_count": null,
            "_view_module": "@jupyter-widgets/base",
            "_view_module_version": "1.2.0",
            "_view_name": "StyleView",
            "bar_color": null,
            "description_width": ""
          }
        },
        "475ca9b2b68146ee81ee808d9f465cf7": {
          "model_module": "@jupyter-widgets/base",
          "model_name": "LayoutModel",
          "model_module_version": "1.2.0",
          "state": {
            "_model_module": "@jupyter-widgets/base",
            "_model_module_version": "1.2.0",
            "_model_name": "LayoutModel",
            "_view_count": null,
            "_view_module": "@jupyter-widgets/base",
            "_view_module_version": "1.2.0",
            "_view_name": "LayoutView",
            "align_content": null,
            "align_items": null,
            "align_self": null,
            "border": null,
            "bottom": null,
            "display": null,
            "flex": null,
            "flex_flow": null,
            "grid_area": null,
            "grid_auto_columns": null,
            "grid_auto_flow": null,
            "grid_auto_rows": null,
            "grid_column": null,
            "grid_gap": null,
            "grid_row": null,
            "grid_template_areas": null,
            "grid_template_columns": null,
            "grid_template_rows": null,
            "height": null,
            "justify_content": null,
            "justify_items": null,
            "left": null,
            "margin": null,
            "max_height": null,
            "max_width": null,
            "min_height": null,
            "min_width": null,
            "object_fit": null,
            "object_position": null,
            "order": null,
            "overflow": null,
            "overflow_x": null,
            "overflow_y": null,
            "padding": null,
            "right": null,
            "top": null,
            "visibility": null,
            "width": null
          }
        },
        "69408b16ae4e4ac2b3796b6318ce7805": {
          "model_module": "@jupyter-widgets/controls",
          "model_name": "DescriptionStyleModel",
          "model_module_version": "1.5.0",
          "state": {
            "_model_module": "@jupyter-widgets/controls",
            "_model_module_version": "1.5.0",
            "_model_name": "DescriptionStyleModel",
            "_view_count": null,
            "_view_module": "@jupyter-widgets/base",
            "_view_module_version": "1.2.0",
            "_view_name": "StyleView",
            "description_width": ""
          }
        },
        "915ea98d15e641a2a0e33c135a1ec2f8": {
          "model_module": "@jupyter-widgets/controls",
          "model_name": "HBoxModel",
          "model_module_version": "1.5.0",
          "state": {
            "_dom_classes": [],
            "_model_module": "@jupyter-widgets/controls",
            "_model_module_version": "1.5.0",
            "_model_name": "HBoxModel",
            "_view_count": null,
            "_view_module": "@jupyter-widgets/controls",
            "_view_module_version": "1.5.0",
            "_view_name": "HBoxView",
            "box_style": "",
            "children": [
              "IPY_MODEL_154affbf7f7f4d53a37e4820a2e40167",
              "IPY_MODEL_6c1175d4c57f44088a361ea26d425f19",
              "IPY_MODEL_745f4ef5a33843e292ae4de081f2a640"
            ],
            "layout": "IPY_MODEL_ce87b104dce04b2aa2232868eea6d3fc"
          }
        },
        "154affbf7f7f4d53a37e4820a2e40167": {
          "model_module": "@jupyter-widgets/controls",
          "model_name": "HTMLModel",
          "model_module_version": "1.5.0",
          "state": {
            "_dom_classes": [],
            "_model_module": "@jupyter-widgets/controls",
            "_model_module_version": "1.5.0",
            "_model_name": "HTMLModel",
            "_view_count": null,
            "_view_module": "@jupyter-widgets/controls",
            "_view_module_version": "1.5.0",
            "_view_name": "HTMLView",
            "description": "",
            "description_tooltip": null,
            "layout": "IPY_MODEL_906beafdcad9454593f17e81bf4b13ab",
            "placeholder": "​",
            "style": "IPY_MODEL_29503177d89c473c929d875ad921bcb6",
            "value": "Map: 100%"
          }
        },
        "6c1175d4c57f44088a361ea26d425f19": {
          "model_module": "@jupyter-widgets/controls",
          "model_name": "FloatProgressModel",
          "model_module_version": "1.5.0",
          "state": {
            "_dom_classes": [],
            "_model_module": "@jupyter-widgets/controls",
            "_model_module_version": "1.5.0",
            "_model_name": "FloatProgressModel",
            "_view_count": null,
            "_view_module": "@jupyter-widgets/controls",
            "_view_module_version": "1.5.0",
            "_view_name": "ProgressView",
            "bar_style": "success",
            "description": "",
            "description_tooltip": null,
            "layout": "IPY_MODEL_c955db84ee4c4e4489d133ec0e82393d",
            "max": 1376,
            "min": 0,
            "orientation": "horizontal",
            "style": "IPY_MODEL_3efabd9f95a9437fab88267503ee281d",
            "value": 1376
          }
        },
        "745f4ef5a33843e292ae4de081f2a640": {
          "model_module": "@jupyter-widgets/controls",
          "model_name": "HTMLModel",
          "model_module_version": "1.5.0",
          "state": {
            "_dom_classes": [],
            "_model_module": "@jupyter-widgets/controls",
            "_model_module_version": "1.5.0",
            "_model_name": "HTMLModel",
            "_view_count": null,
            "_view_module": "@jupyter-widgets/controls",
            "_view_module_version": "1.5.0",
            "_view_name": "HTMLView",
            "description": "",
            "description_tooltip": null,
            "layout": "IPY_MODEL_72f524862d1245039e95077b3928258a",
            "placeholder": "​",
            "style": "IPY_MODEL_5d93a5bba57b4edab22049b1e775263d",
            "value": " 1376/1376 [00:03&lt;00:00, 431.64 examples/s]"
          }
        },
        "ce87b104dce04b2aa2232868eea6d3fc": {
          "model_module": "@jupyter-widgets/base",
          "model_name": "LayoutModel",
          "model_module_version": "1.2.0",
          "state": {
            "_model_module": "@jupyter-widgets/base",
            "_model_module_version": "1.2.0",
            "_model_name": "LayoutModel",
            "_view_count": null,
            "_view_module": "@jupyter-widgets/base",
            "_view_module_version": "1.2.0",
            "_view_name": "LayoutView",
            "align_content": null,
            "align_items": null,
            "align_self": null,
            "border": null,
            "bottom": null,
            "display": null,
            "flex": null,
            "flex_flow": null,
            "grid_area": null,
            "grid_auto_columns": null,
            "grid_auto_flow": null,
            "grid_auto_rows": null,
            "grid_column": null,
            "grid_gap": null,
            "grid_row": null,
            "grid_template_areas": null,
            "grid_template_columns": null,
            "grid_template_rows": null,
            "height": null,
            "justify_content": null,
            "justify_items": null,
            "left": null,
            "margin": null,
            "max_height": null,
            "max_width": null,
            "min_height": null,
            "min_width": null,
            "object_fit": null,
            "object_position": null,
            "order": null,
            "overflow": null,
            "overflow_x": null,
            "overflow_y": null,
            "padding": null,
            "right": null,
            "top": null,
            "visibility": null,
            "width": null
          }
        },
        "906beafdcad9454593f17e81bf4b13ab": {
          "model_module": "@jupyter-widgets/base",
          "model_name": "LayoutModel",
          "model_module_version": "1.2.0",
          "state": {
            "_model_module": "@jupyter-widgets/base",
            "_model_module_version": "1.2.0",
            "_model_name": "LayoutModel",
            "_view_count": null,
            "_view_module": "@jupyter-widgets/base",
            "_view_module_version": "1.2.0",
            "_view_name": "LayoutView",
            "align_content": null,
            "align_items": null,
            "align_self": null,
            "border": null,
            "bottom": null,
            "display": null,
            "flex": null,
            "flex_flow": null,
            "grid_area": null,
            "grid_auto_columns": null,
            "grid_auto_flow": null,
            "grid_auto_rows": null,
            "grid_column": null,
            "grid_gap": null,
            "grid_row": null,
            "grid_template_areas": null,
            "grid_template_columns": null,
            "grid_template_rows": null,
            "height": null,
            "justify_content": null,
            "justify_items": null,
            "left": null,
            "margin": null,
            "max_height": null,
            "max_width": null,
            "min_height": null,
            "min_width": null,
            "object_fit": null,
            "object_position": null,
            "order": null,
            "overflow": null,
            "overflow_x": null,
            "overflow_y": null,
            "padding": null,
            "right": null,
            "top": null,
            "visibility": null,
            "width": null
          }
        },
        "29503177d89c473c929d875ad921bcb6": {
          "model_module": "@jupyter-widgets/controls",
          "model_name": "DescriptionStyleModel",
          "model_module_version": "1.5.0",
          "state": {
            "_model_module": "@jupyter-widgets/controls",
            "_model_module_version": "1.5.0",
            "_model_name": "DescriptionStyleModel",
            "_view_count": null,
            "_view_module": "@jupyter-widgets/base",
            "_view_module_version": "1.2.0",
            "_view_name": "StyleView",
            "description_width": ""
          }
        },
        "c955db84ee4c4e4489d133ec0e82393d": {
          "model_module": "@jupyter-widgets/base",
          "model_name": "LayoutModel",
          "model_module_version": "1.2.0",
          "state": {
            "_model_module": "@jupyter-widgets/base",
            "_model_module_version": "1.2.0",
            "_model_name": "LayoutModel",
            "_view_count": null,
            "_view_module": "@jupyter-widgets/base",
            "_view_module_version": "1.2.0",
            "_view_name": "LayoutView",
            "align_content": null,
            "align_items": null,
            "align_self": null,
            "border": null,
            "bottom": null,
            "display": null,
            "flex": null,
            "flex_flow": null,
            "grid_area": null,
            "grid_auto_columns": null,
            "grid_auto_flow": null,
            "grid_auto_rows": null,
            "grid_column": null,
            "grid_gap": null,
            "grid_row": null,
            "grid_template_areas": null,
            "grid_template_columns": null,
            "grid_template_rows": null,
            "height": null,
            "justify_content": null,
            "justify_items": null,
            "left": null,
            "margin": null,
            "max_height": null,
            "max_width": null,
            "min_height": null,
            "min_width": null,
            "object_fit": null,
            "object_position": null,
            "order": null,
            "overflow": null,
            "overflow_x": null,
            "overflow_y": null,
            "padding": null,
            "right": null,
            "top": null,
            "visibility": null,
            "width": null
          }
        },
        "3efabd9f95a9437fab88267503ee281d": {
          "model_module": "@jupyter-widgets/controls",
          "model_name": "ProgressStyleModel",
          "model_module_version": "1.5.0",
          "state": {
            "_model_module": "@jupyter-widgets/controls",
            "_model_module_version": "1.5.0",
            "_model_name": "ProgressStyleModel",
            "_view_count": null,
            "_view_module": "@jupyter-widgets/base",
            "_view_module_version": "1.2.0",
            "_view_name": "StyleView",
            "bar_color": null,
            "description_width": ""
          }
        },
        "72f524862d1245039e95077b3928258a": {
          "model_module": "@jupyter-widgets/base",
          "model_name": "LayoutModel",
          "model_module_version": "1.2.0",
          "state": {
            "_model_module": "@jupyter-widgets/base",
            "_model_module_version": "1.2.0",
            "_model_name": "LayoutModel",
            "_view_count": null,
            "_view_module": "@jupyter-widgets/base",
            "_view_module_version": "1.2.0",
            "_view_name": "LayoutView",
            "align_content": null,
            "align_items": null,
            "align_self": null,
            "border": null,
            "bottom": null,
            "display": null,
            "flex": null,
            "flex_flow": null,
            "grid_area": null,
            "grid_auto_columns": null,
            "grid_auto_flow": null,
            "grid_auto_rows": null,
            "grid_column": null,
            "grid_gap": null,
            "grid_row": null,
            "grid_template_areas": null,
            "grid_template_columns": null,
            "grid_template_rows": null,
            "height": null,
            "justify_content": null,
            "justify_items": null,
            "left": null,
            "margin": null,
            "max_height": null,
            "max_width": null,
            "min_height": null,
            "min_width": null,
            "object_fit": null,
            "object_position": null,
            "order": null,
            "overflow": null,
            "overflow_x": null,
            "overflow_y": null,
            "padding": null,
            "right": null,
            "top": null,
            "visibility": null,
            "width": null
          }
        },
        "5d93a5bba57b4edab22049b1e775263d": {
          "model_module": "@jupyter-widgets/controls",
          "model_name": "DescriptionStyleModel",
          "model_module_version": "1.5.0",
          "state": {
            "_model_module": "@jupyter-widgets/controls",
            "_model_module_version": "1.5.0",
            "_model_name": "DescriptionStyleModel",
            "_view_count": null,
            "_view_module": "@jupyter-widgets/base",
            "_view_module_version": "1.2.0",
            "_view_name": "StyleView",
            "description_width": ""
          }
        },
        "81acfaf77bb548cbb19e69569cb47546": {
          "model_module": "@jupyter-widgets/controls",
          "model_name": "HBoxModel",
          "model_module_version": "1.5.0",
          "state": {
            "_dom_classes": [],
            "_model_module": "@jupyter-widgets/controls",
            "_model_module_version": "1.5.0",
            "_model_name": "HBoxModel",
            "_view_count": null,
            "_view_module": "@jupyter-widgets/controls",
            "_view_module_version": "1.5.0",
            "_view_name": "HBoxView",
            "box_style": "",
            "children": [
              "IPY_MODEL_9f9165918c0940df8f55f55cd5760dff",
              "IPY_MODEL_10c85efc455148c89a56e882582e9abe",
              "IPY_MODEL_a0630bd32015434dbf482f805ecb42d9"
            ],
            "layout": "IPY_MODEL_bae4a01589544a9ab245cfbac6df6bd4"
          }
        },
        "9f9165918c0940df8f55f55cd5760dff": {
          "model_module": "@jupyter-widgets/controls",
          "model_name": "HTMLModel",
          "model_module_version": "1.5.0",
          "state": {
            "_dom_classes": [],
            "_model_module": "@jupyter-widgets/controls",
            "_model_module_version": "1.5.0",
            "_model_name": "HTMLModel",
            "_view_count": null,
            "_view_module": "@jupyter-widgets/controls",
            "_view_module_version": "1.5.0",
            "_view_name": "HTMLView",
            "description": "",
            "description_tooltip": null,
            "layout": "IPY_MODEL_893e802adc5b4880957ec3bd8af7ce51",
            "placeholder": "​",
            "style": "IPY_MODEL_834feb144d5549ecbbb47b0fce9cd572",
            "value": "Downloading data: 100%"
          }
        },
        "10c85efc455148c89a56e882582e9abe": {
          "model_module": "@jupyter-widgets/controls",
          "model_name": "FloatProgressModel",
          "model_module_version": "1.5.0",
          "state": {
            "_dom_classes": [],
            "_model_module": "@jupyter-widgets/controls",
            "_model_module_version": "1.5.0",
            "_model_name": "FloatProgressModel",
            "_view_count": null,
            "_view_module": "@jupyter-widgets/controls",
            "_view_module_version": "1.5.0",
            "_view_name": "ProgressView",
            "bar_style": "success",
            "description": "",
            "description_tooltip": null,
            "layout": "IPY_MODEL_9ca042dbc4024cea85ba4744312f35b7",
            "max": 357175122,
            "min": 0,
            "orientation": "horizontal",
            "style": "IPY_MODEL_57624a7a554041d29053a1f7923d60d5",
            "value": 357175122
          }
        },
        "a0630bd32015434dbf482f805ecb42d9": {
          "model_module": "@jupyter-widgets/controls",
          "model_name": "HTMLModel",
          "model_module_version": "1.5.0",
          "state": {
            "_dom_classes": [],
            "_model_module": "@jupyter-widgets/controls",
            "_model_module_version": "1.5.0",
            "_model_name": "HTMLModel",
            "_view_count": null,
            "_view_module": "@jupyter-widgets/controls",
            "_view_module_version": "1.5.0",
            "_view_name": "HTMLView",
            "description": "",
            "description_tooltip": null,
            "layout": "IPY_MODEL_faeba1c655e94fd8a59fc5b2102ee4eb",
            "placeholder": "​",
            "style": "IPY_MODEL_9b66d223d46846b7821d7aeb9f76f2e5",
            "value": " 357M/357M [00:20&lt;00:00, 31.9MB/s]"
          }
        },
        "bae4a01589544a9ab245cfbac6df6bd4": {
          "model_module": "@jupyter-widgets/base",
          "model_name": "LayoutModel",
          "model_module_version": "1.2.0",
          "state": {
            "_model_module": "@jupyter-widgets/base",
            "_model_module_version": "1.2.0",
            "_model_name": "LayoutModel",
            "_view_count": null,
            "_view_module": "@jupyter-widgets/base",
            "_view_module_version": "1.2.0",
            "_view_name": "LayoutView",
            "align_content": null,
            "align_items": null,
            "align_self": null,
            "border": null,
            "bottom": null,
            "display": null,
            "flex": null,
            "flex_flow": null,
            "grid_area": null,
            "grid_auto_columns": null,
            "grid_auto_flow": null,
            "grid_auto_rows": null,
            "grid_column": null,
            "grid_gap": null,
            "grid_row": null,
            "grid_template_areas": null,
            "grid_template_columns": null,
            "grid_template_rows": null,
            "height": null,
            "justify_content": null,
            "justify_items": null,
            "left": null,
            "margin": null,
            "max_height": null,
            "max_width": null,
            "min_height": null,
            "min_width": null,
            "object_fit": null,
            "object_position": null,
            "order": null,
            "overflow": null,
            "overflow_x": null,
            "overflow_y": null,
            "padding": null,
            "right": null,
            "top": null,
            "visibility": null,
            "width": null
          }
        },
        "893e802adc5b4880957ec3bd8af7ce51": {
          "model_module": "@jupyter-widgets/base",
          "model_name": "LayoutModel",
          "model_module_version": "1.2.0",
          "state": {
            "_model_module": "@jupyter-widgets/base",
            "_model_module_version": "1.2.0",
            "_model_name": "LayoutModel",
            "_view_count": null,
            "_view_module": "@jupyter-widgets/base",
            "_view_module_version": "1.2.0",
            "_view_name": "LayoutView",
            "align_content": null,
            "align_items": null,
            "align_self": null,
            "border": null,
            "bottom": null,
            "display": null,
            "flex": null,
            "flex_flow": null,
            "grid_area": null,
            "grid_auto_columns": null,
            "grid_auto_flow": null,
            "grid_auto_rows": null,
            "grid_column": null,
            "grid_gap": null,
            "grid_row": null,
            "grid_template_areas": null,
            "grid_template_columns": null,
            "grid_template_rows": null,
            "height": null,
            "justify_content": null,
            "justify_items": null,
            "left": null,
            "margin": null,
            "max_height": null,
            "max_width": null,
            "min_height": null,
            "min_width": null,
            "object_fit": null,
            "object_position": null,
            "order": null,
            "overflow": null,
            "overflow_x": null,
            "overflow_y": null,
            "padding": null,
            "right": null,
            "top": null,
            "visibility": null,
            "width": null
          }
        },
        "834feb144d5549ecbbb47b0fce9cd572": {
          "model_module": "@jupyter-widgets/controls",
          "model_name": "DescriptionStyleModel",
          "model_module_version": "1.5.0",
          "state": {
            "_model_module": "@jupyter-widgets/controls",
            "_model_module_version": "1.5.0",
            "_model_name": "DescriptionStyleModel",
            "_view_count": null,
            "_view_module": "@jupyter-widgets/base",
            "_view_module_version": "1.2.0",
            "_view_name": "StyleView",
            "description_width": ""
          }
        },
        "9ca042dbc4024cea85ba4744312f35b7": {
          "model_module": "@jupyter-widgets/base",
          "model_name": "LayoutModel",
          "model_module_version": "1.2.0",
          "state": {
            "_model_module": "@jupyter-widgets/base",
            "_model_module_version": "1.2.0",
            "_model_name": "LayoutModel",
            "_view_count": null,
            "_view_module": "@jupyter-widgets/base",
            "_view_module_version": "1.2.0",
            "_view_name": "LayoutView",
            "align_content": null,
            "align_items": null,
            "align_self": null,
            "border": null,
            "bottom": null,
            "display": null,
            "flex": null,
            "flex_flow": null,
            "grid_area": null,
            "grid_auto_columns": null,
            "grid_auto_flow": null,
            "grid_auto_rows": null,
            "grid_column": null,
            "grid_gap": null,
            "grid_row": null,
            "grid_template_areas": null,
            "grid_template_columns": null,
            "grid_template_rows": null,
            "height": null,
            "justify_content": null,
            "justify_items": null,
            "left": null,
            "margin": null,
            "max_height": null,
            "max_width": null,
            "min_height": null,
            "min_width": null,
            "object_fit": null,
            "object_position": null,
            "order": null,
            "overflow": null,
            "overflow_x": null,
            "overflow_y": null,
            "padding": null,
            "right": null,
            "top": null,
            "visibility": null,
            "width": null
          }
        },
        "57624a7a554041d29053a1f7923d60d5": {
          "model_module": "@jupyter-widgets/controls",
          "model_name": "ProgressStyleModel",
          "model_module_version": "1.5.0",
          "state": {
            "_model_module": "@jupyter-widgets/controls",
            "_model_module_version": "1.5.0",
            "_model_name": "ProgressStyleModel",
            "_view_count": null,
            "_view_module": "@jupyter-widgets/base",
            "_view_module_version": "1.2.0",
            "_view_name": "StyleView",
            "bar_color": null,
            "description_width": ""
          }
        },
        "faeba1c655e94fd8a59fc5b2102ee4eb": {
          "model_module": "@jupyter-widgets/base",
          "model_name": "LayoutModel",
          "model_module_version": "1.2.0",
          "state": {
            "_model_module": "@jupyter-widgets/base",
            "_model_module_version": "1.2.0",
            "_model_name": "LayoutModel",
            "_view_count": null,
            "_view_module": "@jupyter-widgets/base",
            "_view_module_version": "1.2.0",
            "_view_name": "LayoutView",
            "align_content": null,
            "align_items": null,
            "align_self": null,
            "border": null,
            "bottom": null,
            "display": null,
            "flex": null,
            "flex_flow": null,
            "grid_area": null,
            "grid_auto_columns": null,
            "grid_auto_flow": null,
            "grid_auto_rows": null,
            "grid_column": null,
            "grid_gap": null,
            "grid_row": null,
            "grid_template_areas": null,
            "grid_template_columns": null,
            "grid_template_rows": null,
            "height": null,
            "justify_content": null,
            "justify_items": null,
            "left": null,
            "margin": null,
            "max_height": null,
            "max_width": null,
            "min_height": null,
            "min_width": null,
            "object_fit": null,
            "object_position": null,
            "order": null,
            "overflow": null,
            "overflow_x": null,
            "overflow_y": null,
            "padding": null,
            "right": null,
            "top": null,
            "visibility": null,
            "width": null
          }
        },
        "9b66d223d46846b7821d7aeb9f76f2e5": {
          "model_module": "@jupyter-widgets/controls",
          "model_name": "DescriptionStyleModel",
          "model_module_version": "1.5.0",
          "state": {
            "_model_module": "@jupyter-widgets/controls",
            "_model_module_version": "1.5.0",
            "_model_name": "DescriptionStyleModel",
            "_view_count": null,
            "_view_module": "@jupyter-widgets/base",
            "_view_module_version": "1.2.0",
            "_view_name": "StyleView",
            "description_width": ""
          }
        },
        "5f962b41ffa44faa815b37b17a67ccb9": {
          "model_module": "@jupyter-widgets/controls",
          "model_name": "HBoxModel",
          "model_module_version": "1.5.0",
          "state": {
            "_dom_classes": [],
            "_model_module": "@jupyter-widgets/controls",
            "_model_module_version": "1.5.0",
            "_model_name": "HBoxModel",
            "_view_count": null,
            "_view_module": "@jupyter-widgets/controls",
            "_view_module_version": "1.5.0",
            "_view_name": "HBoxView",
            "box_style": "",
            "children": [
              "IPY_MODEL_b1a37817cdde40d3b0a76ffbd6c433dd",
              "IPY_MODEL_eba1c71efcc44bd585c651b7a5a70844",
              "IPY_MODEL_d38c4d40535c491f9be43d43f1bfbd11"
            ],
            "layout": "IPY_MODEL_b4799bd3f900439dba191bc57ee18f61"
          }
        },
        "b1a37817cdde40d3b0a76ffbd6c433dd": {
          "model_module": "@jupyter-widgets/controls",
          "model_name": "HTMLModel",
          "model_module_version": "1.5.0",
          "state": {
            "_dom_classes": [],
            "_model_module": "@jupyter-widgets/controls",
            "_model_module_version": "1.5.0",
            "_model_name": "HTMLModel",
            "_view_count": null,
            "_view_module": "@jupyter-widgets/controls",
            "_view_module_version": "1.5.0",
            "_view_name": "HTMLView",
            "description": "",
            "description_tooltip": null,
            "layout": "IPY_MODEL_b726348e95fd45eab86e7311ce990be1",
            "placeholder": "​",
            "style": "IPY_MODEL_f64d2cd787674c04a3be18da246b92f8",
            "value": "Downloading data: 100%"
          }
        },
        "eba1c71efcc44bd585c651b7a5a70844": {
          "model_module": "@jupyter-widgets/controls",
          "model_name": "FloatProgressModel",
          "model_module_version": "1.5.0",
          "state": {
            "_dom_classes": [],
            "_model_module": "@jupyter-widgets/controls",
            "_model_module_version": "1.5.0",
            "_model_name": "FloatProgressModel",
            "_view_count": null,
            "_view_module": "@jupyter-widgets/controls",
            "_view_module_version": "1.5.0",
            "_view_name": "ProgressView",
            "bar_style": "success",
            "description": "",
            "description_tooltip": null,
            "layout": "IPY_MODEL_9ad2734dec764cf7b76bb73940e9371f",
            "max": 88704247,
            "min": 0,
            "orientation": "horizontal",
            "style": "IPY_MODEL_1ad91c33bae74fcd87cac6ac3dc694b3",
            "value": 88704247
          }
        },
        "d38c4d40535c491f9be43d43f1bfbd11": {
          "model_module": "@jupyter-widgets/controls",
          "model_name": "HTMLModel",
          "model_module_version": "1.5.0",
          "state": {
            "_dom_classes": [],
            "_model_module": "@jupyter-widgets/controls",
            "_model_module_version": "1.5.0",
            "_model_name": "HTMLModel",
            "_view_count": null,
            "_view_module": "@jupyter-widgets/controls",
            "_view_module_version": "1.5.0",
            "_view_name": "HTMLView",
            "description": "",
            "description_tooltip": null,
            "layout": "IPY_MODEL_5ec7d3ae12a64df7b74b73b69e3f1af5",
            "placeholder": "​",
            "style": "IPY_MODEL_bfa9d1456b724ef7b04550aa12fb234e",
            "value": " 88.7M/88.7M [00:05&lt;00:00, 21.4MB/s]"
          }
        },
        "b4799bd3f900439dba191bc57ee18f61": {
          "model_module": "@jupyter-widgets/base",
          "model_name": "LayoutModel",
          "model_module_version": "1.2.0",
          "state": {
            "_model_module": "@jupyter-widgets/base",
            "_model_module_version": "1.2.0",
            "_model_name": "LayoutModel",
            "_view_count": null,
            "_view_module": "@jupyter-widgets/base",
            "_view_module_version": "1.2.0",
            "_view_name": "LayoutView",
            "align_content": null,
            "align_items": null,
            "align_self": null,
            "border": null,
            "bottom": null,
            "display": null,
            "flex": null,
            "flex_flow": null,
            "grid_area": null,
            "grid_auto_columns": null,
            "grid_auto_flow": null,
            "grid_auto_rows": null,
            "grid_column": null,
            "grid_gap": null,
            "grid_row": null,
            "grid_template_areas": null,
            "grid_template_columns": null,
            "grid_template_rows": null,
            "height": null,
            "justify_content": null,
            "justify_items": null,
            "left": null,
            "margin": null,
            "max_height": null,
            "max_width": null,
            "min_height": null,
            "min_width": null,
            "object_fit": null,
            "object_position": null,
            "order": null,
            "overflow": null,
            "overflow_x": null,
            "overflow_y": null,
            "padding": null,
            "right": null,
            "top": null,
            "visibility": null,
            "width": null
          }
        },
        "b726348e95fd45eab86e7311ce990be1": {
          "model_module": "@jupyter-widgets/base",
          "model_name": "LayoutModel",
          "model_module_version": "1.2.0",
          "state": {
            "_model_module": "@jupyter-widgets/base",
            "_model_module_version": "1.2.0",
            "_model_name": "LayoutModel",
            "_view_count": null,
            "_view_module": "@jupyter-widgets/base",
            "_view_module_version": "1.2.0",
            "_view_name": "LayoutView",
            "align_content": null,
            "align_items": null,
            "align_self": null,
            "border": null,
            "bottom": null,
            "display": null,
            "flex": null,
            "flex_flow": null,
            "grid_area": null,
            "grid_auto_columns": null,
            "grid_auto_flow": null,
            "grid_auto_rows": null,
            "grid_column": null,
            "grid_gap": null,
            "grid_row": null,
            "grid_template_areas": null,
            "grid_template_columns": null,
            "grid_template_rows": null,
            "height": null,
            "justify_content": null,
            "justify_items": null,
            "left": null,
            "margin": null,
            "max_height": null,
            "max_width": null,
            "min_height": null,
            "min_width": null,
            "object_fit": null,
            "object_position": null,
            "order": null,
            "overflow": null,
            "overflow_x": null,
            "overflow_y": null,
            "padding": null,
            "right": null,
            "top": null,
            "visibility": null,
            "width": null
          }
        },
        "f64d2cd787674c04a3be18da246b92f8": {
          "model_module": "@jupyter-widgets/controls",
          "model_name": "DescriptionStyleModel",
          "model_module_version": "1.5.0",
          "state": {
            "_model_module": "@jupyter-widgets/controls",
            "_model_module_version": "1.5.0",
            "_model_name": "DescriptionStyleModel",
            "_view_count": null,
            "_view_module": "@jupyter-widgets/base",
            "_view_module_version": "1.2.0",
            "_view_name": "StyleView",
            "description_width": ""
          }
        },
        "9ad2734dec764cf7b76bb73940e9371f": {
          "model_module": "@jupyter-widgets/base",
          "model_name": "LayoutModel",
          "model_module_version": "1.2.0",
          "state": {
            "_model_module": "@jupyter-widgets/base",
            "_model_module_version": "1.2.0",
            "_model_name": "LayoutModel",
            "_view_count": null,
            "_view_module": "@jupyter-widgets/base",
            "_view_module_version": "1.2.0",
            "_view_name": "LayoutView",
            "align_content": null,
            "align_items": null,
            "align_self": null,
            "border": null,
            "bottom": null,
            "display": null,
            "flex": null,
            "flex_flow": null,
            "grid_area": null,
            "grid_auto_columns": null,
            "grid_auto_flow": null,
            "grid_auto_rows": null,
            "grid_column": null,
            "grid_gap": null,
            "grid_row": null,
            "grid_template_areas": null,
            "grid_template_columns": null,
            "grid_template_rows": null,
            "height": null,
            "justify_content": null,
            "justify_items": null,
            "left": null,
            "margin": null,
            "max_height": null,
            "max_width": null,
            "min_height": null,
            "min_width": null,
            "object_fit": null,
            "object_position": null,
            "order": null,
            "overflow": null,
            "overflow_x": null,
            "overflow_y": null,
            "padding": null,
            "right": null,
            "top": null,
            "visibility": null,
            "width": null
          }
        },
        "1ad91c33bae74fcd87cac6ac3dc694b3": {
          "model_module": "@jupyter-widgets/controls",
          "model_name": "ProgressStyleModel",
          "model_module_version": "1.5.0",
          "state": {
            "_model_module": "@jupyter-widgets/controls",
            "_model_module_version": "1.5.0",
            "_model_name": "ProgressStyleModel",
            "_view_count": null,
            "_view_module": "@jupyter-widgets/base",
            "_view_module_version": "1.2.0",
            "_view_name": "StyleView",
            "bar_color": null,
            "description_width": ""
          }
        },
        "5ec7d3ae12a64df7b74b73b69e3f1af5": {
          "model_module": "@jupyter-widgets/base",
          "model_name": "LayoutModel",
          "model_module_version": "1.2.0",
          "state": {
            "_model_module": "@jupyter-widgets/base",
            "_model_module_version": "1.2.0",
            "_model_name": "LayoutModel",
            "_view_count": null,
            "_view_module": "@jupyter-widgets/base",
            "_view_module_version": "1.2.0",
            "_view_name": "LayoutView",
            "align_content": null,
            "align_items": null,
            "align_self": null,
            "border": null,
            "bottom": null,
            "display": null,
            "flex": null,
            "flex_flow": null,
            "grid_area": null,
            "grid_auto_columns": null,
            "grid_auto_flow": null,
            "grid_auto_rows": null,
            "grid_column": null,
            "grid_gap": null,
            "grid_row": null,
            "grid_template_areas": null,
            "grid_template_columns": null,
            "grid_template_rows": null,
            "height": null,
            "justify_content": null,
            "justify_items": null,
            "left": null,
            "margin": null,
            "max_height": null,
            "max_width": null,
            "min_height": null,
            "min_width": null,
            "object_fit": null,
            "object_position": null,
            "order": null,
            "overflow": null,
            "overflow_x": null,
            "overflow_y": null,
            "padding": null,
            "right": null,
            "top": null,
            "visibility": null,
            "width": null
          }
        },
        "bfa9d1456b724ef7b04550aa12fb234e": {
          "model_module": "@jupyter-widgets/controls",
          "model_name": "DescriptionStyleModel",
          "model_module_version": "1.5.0",
          "state": {
            "_model_module": "@jupyter-widgets/controls",
            "_model_module_version": "1.5.0",
            "_model_name": "DescriptionStyleModel",
            "_view_count": null,
            "_view_module": "@jupyter-widgets/base",
            "_view_module_version": "1.2.0",
            "_view_name": "StyleView",
            "description_width": ""
          }
        },
        "da056dc19f6740d9a0f395bddd67eae0": {
          "model_module": "@jupyter-widgets/controls",
          "model_name": "HBoxModel",
          "model_module_version": "1.5.0",
          "state": {
            "_dom_classes": [],
            "_model_module": "@jupyter-widgets/controls",
            "_model_module_version": "1.5.0",
            "_model_name": "HBoxModel",
            "_view_count": null,
            "_view_module": "@jupyter-widgets/controls",
            "_view_module_version": "1.5.0",
            "_view_name": "HBoxView",
            "box_style": "",
            "children": [
              "IPY_MODEL_ddb05fdec3624c8d891abca81a27936c",
              "IPY_MODEL_1f4e329461cb4d4aabc6a47959c3241c",
              "IPY_MODEL_79b59f4de93c4757bc1767f7de8df7e7"
            ],
            "layout": "IPY_MODEL_fb04081f59a4401d8ec6449d7de7a77c"
          }
        },
        "ddb05fdec3624c8d891abca81a27936c": {
          "model_module": "@jupyter-widgets/controls",
          "model_name": "HTMLModel",
          "model_module_version": "1.5.0",
          "state": {
            "_dom_classes": [],
            "_model_module": "@jupyter-widgets/controls",
            "_model_module_version": "1.5.0",
            "_model_name": "HTMLModel",
            "_view_count": null,
            "_view_module": "@jupyter-widgets/controls",
            "_view_module_version": "1.5.0",
            "_view_name": "HTMLView",
            "description": "",
            "description_tooltip": null,
            "layout": "IPY_MODEL_d2042cdd74464a75bd76065c74d744ac",
            "placeholder": "​",
            "style": "IPY_MODEL_aab29edb9bc44b33a835c550bfaf6154",
            "value": "Generating train split: 100%"
          }
        },
        "1f4e329461cb4d4aabc6a47959c3241c": {
          "model_module": "@jupyter-widgets/controls",
          "model_name": "FloatProgressModel",
          "model_module_version": "1.5.0",
          "state": {
            "_dom_classes": [],
            "_model_module": "@jupyter-widgets/controls",
            "_model_module_version": "1.5.0",
            "_model_name": "FloatProgressModel",
            "_view_count": null,
            "_view_module": "@jupyter-widgets/controls",
            "_view_module_version": "1.5.0",
            "_view_name": "ProgressView",
            "bar_style": "success",
            "description": "",
            "description_tooltip": null,
            "layout": "IPY_MODEL_1ec2f1c7703745758e6a4777f78b7111",
            "max": 24773,
            "min": 0,
            "orientation": "horizontal",
            "style": "IPY_MODEL_88740889f4164062afffa9bdf436ab84",
            "value": 24773
          }
        },
        "79b59f4de93c4757bc1767f7de8df7e7": {
          "model_module": "@jupyter-widgets/controls",
          "model_name": "HTMLModel",
          "model_module_version": "1.5.0",
          "state": {
            "_dom_classes": [],
            "_model_module": "@jupyter-widgets/controls",
            "_model_module_version": "1.5.0",
            "_model_name": "HTMLModel",
            "_view_count": null,
            "_view_module": "@jupyter-widgets/controls",
            "_view_module_version": "1.5.0",
            "_view_name": "HTMLView",
            "description": "",
            "description_tooltip": null,
            "layout": "IPY_MODEL_197dc67f8b384481acb0355fb6af1a69",
            "placeholder": "​",
            "style": "IPY_MODEL_4f98ef62fd9e43e58d58f099422b9b14",
            "value": " 24773/24773 [00:15&lt;00:00, 1599.81 examples/s]"
          }
        },
        "fb04081f59a4401d8ec6449d7de7a77c": {
          "model_module": "@jupyter-widgets/base",
          "model_name": "LayoutModel",
          "model_module_version": "1.2.0",
          "state": {
            "_model_module": "@jupyter-widgets/base",
            "_model_module_version": "1.2.0",
            "_model_name": "LayoutModel",
            "_view_count": null,
            "_view_module": "@jupyter-widgets/base",
            "_view_module_version": "1.2.0",
            "_view_name": "LayoutView",
            "align_content": null,
            "align_items": null,
            "align_self": null,
            "border": null,
            "bottom": null,
            "display": null,
            "flex": null,
            "flex_flow": null,
            "grid_area": null,
            "grid_auto_columns": null,
            "grid_auto_flow": null,
            "grid_auto_rows": null,
            "grid_column": null,
            "grid_gap": null,
            "grid_row": null,
            "grid_template_areas": null,
            "grid_template_columns": null,
            "grid_template_rows": null,
            "height": null,
            "justify_content": null,
            "justify_items": null,
            "left": null,
            "margin": null,
            "max_height": null,
            "max_width": null,
            "min_height": null,
            "min_width": null,
            "object_fit": null,
            "object_position": null,
            "order": null,
            "overflow": null,
            "overflow_x": null,
            "overflow_y": null,
            "padding": null,
            "right": null,
            "top": null,
            "visibility": null,
            "width": null
          }
        },
        "d2042cdd74464a75bd76065c74d744ac": {
          "model_module": "@jupyter-widgets/base",
          "model_name": "LayoutModel",
          "model_module_version": "1.2.0",
          "state": {
            "_model_module": "@jupyter-widgets/base",
            "_model_module_version": "1.2.0",
            "_model_name": "LayoutModel",
            "_view_count": null,
            "_view_module": "@jupyter-widgets/base",
            "_view_module_version": "1.2.0",
            "_view_name": "LayoutView",
            "align_content": null,
            "align_items": null,
            "align_self": null,
            "border": null,
            "bottom": null,
            "display": null,
            "flex": null,
            "flex_flow": null,
            "grid_area": null,
            "grid_auto_columns": null,
            "grid_auto_flow": null,
            "grid_auto_rows": null,
            "grid_column": null,
            "grid_gap": null,
            "grid_row": null,
            "grid_template_areas": null,
            "grid_template_columns": null,
            "grid_template_rows": null,
            "height": null,
            "justify_content": null,
            "justify_items": null,
            "left": null,
            "margin": null,
            "max_height": null,
            "max_width": null,
            "min_height": null,
            "min_width": null,
            "object_fit": null,
            "object_position": null,
            "order": null,
            "overflow": null,
            "overflow_x": null,
            "overflow_y": null,
            "padding": null,
            "right": null,
            "top": null,
            "visibility": null,
            "width": null
          }
        },
        "aab29edb9bc44b33a835c550bfaf6154": {
          "model_module": "@jupyter-widgets/controls",
          "model_name": "DescriptionStyleModel",
          "model_module_version": "1.5.0",
          "state": {
            "_model_module": "@jupyter-widgets/controls",
            "_model_module_version": "1.5.0",
            "_model_name": "DescriptionStyleModel",
            "_view_count": null,
            "_view_module": "@jupyter-widgets/base",
            "_view_module_version": "1.2.0",
            "_view_name": "StyleView",
            "description_width": ""
          }
        },
        "1ec2f1c7703745758e6a4777f78b7111": {
          "model_module": "@jupyter-widgets/base",
          "model_name": "LayoutModel",
          "model_module_version": "1.2.0",
          "state": {
            "_model_module": "@jupyter-widgets/base",
            "_model_module_version": "1.2.0",
            "_model_name": "LayoutModel",
            "_view_count": null,
            "_view_module": "@jupyter-widgets/base",
            "_view_module_version": "1.2.0",
            "_view_name": "LayoutView",
            "align_content": null,
            "align_items": null,
            "align_self": null,
            "border": null,
            "bottom": null,
            "display": null,
            "flex": null,
            "flex_flow": null,
            "grid_area": null,
            "grid_auto_columns": null,
            "grid_auto_flow": null,
            "grid_auto_rows": null,
            "grid_column": null,
            "grid_gap": null,
            "grid_row": null,
            "grid_template_areas": null,
            "grid_template_columns": null,
            "grid_template_rows": null,
            "height": null,
            "justify_content": null,
            "justify_items": null,
            "left": null,
            "margin": null,
            "max_height": null,
            "max_width": null,
            "min_height": null,
            "min_width": null,
            "object_fit": null,
            "object_position": null,
            "order": null,
            "overflow": null,
            "overflow_x": null,
            "overflow_y": null,
            "padding": null,
            "right": null,
            "top": null,
            "visibility": null,
            "width": null
          }
        },
        "88740889f4164062afffa9bdf436ab84": {
          "model_module": "@jupyter-widgets/controls",
          "model_name": "ProgressStyleModel",
          "model_module_version": "1.5.0",
          "state": {
            "_model_module": "@jupyter-widgets/controls",
            "_model_module_version": "1.5.0",
            "_model_name": "ProgressStyleModel",
            "_view_count": null,
            "_view_module": "@jupyter-widgets/base",
            "_view_module_version": "1.2.0",
            "_view_name": "StyleView",
            "bar_color": null,
            "description_width": ""
          }
        },
        "197dc67f8b384481acb0355fb6af1a69": {
          "model_module": "@jupyter-widgets/base",
          "model_name": "LayoutModel",
          "model_module_version": "1.2.0",
          "state": {
            "_model_module": "@jupyter-widgets/base",
            "_model_module_version": "1.2.0",
            "_model_name": "LayoutModel",
            "_view_count": null,
            "_view_module": "@jupyter-widgets/base",
            "_view_module_version": "1.2.0",
            "_view_name": "LayoutView",
            "align_content": null,
            "align_items": null,
            "align_self": null,
            "border": null,
            "bottom": null,
            "display": null,
            "flex": null,
            "flex_flow": null,
            "grid_area": null,
            "grid_auto_columns": null,
            "grid_auto_flow": null,
            "grid_auto_rows": null,
            "grid_column": null,
            "grid_gap": null,
            "grid_row": null,
            "grid_template_areas": null,
            "grid_template_columns": null,
            "grid_template_rows": null,
            "height": null,
            "justify_content": null,
            "justify_items": null,
            "left": null,
            "margin": null,
            "max_height": null,
            "max_width": null,
            "min_height": null,
            "min_width": null,
            "object_fit": null,
            "object_position": null,
            "order": null,
            "overflow": null,
            "overflow_x": null,
            "overflow_y": null,
            "padding": null,
            "right": null,
            "top": null,
            "visibility": null,
            "width": null
          }
        },
        "4f98ef62fd9e43e58d58f099422b9b14": {
          "model_module": "@jupyter-widgets/controls",
          "model_name": "DescriptionStyleModel",
          "model_module_version": "1.5.0",
          "state": {
            "_model_module": "@jupyter-widgets/controls",
            "_model_module_version": "1.5.0",
            "_model_name": "DescriptionStyleModel",
            "_view_count": null,
            "_view_module": "@jupyter-widgets/base",
            "_view_module_version": "1.2.0",
            "_view_name": "StyleView",
            "description_width": ""
          }
        },
        "e0974dad18fc4255b27c302d65ed4559": {
          "model_module": "@jupyter-widgets/controls",
          "model_name": "HBoxModel",
          "model_module_version": "1.5.0",
          "state": {
            "_dom_classes": [],
            "_model_module": "@jupyter-widgets/controls",
            "_model_module_version": "1.5.0",
            "_model_name": "HBoxModel",
            "_view_count": null,
            "_view_module": "@jupyter-widgets/controls",
            "_view_module_version": "1.5.0",
            "_view_name": "HBoxView",
            "box_style": "",
            "children": [
              "IPY_MODEL_837241f561324bdbae8d782eacef6141",
              "IPY_MODEL_e451b05f196542da8812e394e02b0882",
              "IPY_MODEL_5c4b4ef44dda47b6b321ba447de8f905"
            ],
            "layout": "IPY_MODEL_d0f3e9ff859342eb9550e3c8644d85f5"
          }
        },
        "837241f561324bdbae8d782eacef6141": {
          "model_module": "@jupyter-widgets/controls",
          "model_name": "HTMLModel",
          "model_module_version": "1.5.0",
          "state": {
            "_dom_classes": [],
            "_model_module": "@jupyter-widgets/controls",
            "_model_module_version": "1.5.0",
            "_model_name": "HTMLModel",
            "_view_count": null,
            "_view_module": "@jupyter-widgets/controls",
            "_view_module_version": "1.5.0",
            "_view_name": "HTMLView",
            "description": "",
            "description_tooltip": null,
            "layout": "IPY_MODEL_a0c34c745acf4b3eb4098ea81ced6386",
            "placeholder": "​",
            "style": "IPY_MODEL_a8dfa37abc38480d887784ae4a941838",
            "value": "Generating validation split: 100%"
          }
        },
        "e451b05f196542da8812e394e02b0882": {
          "model_module": "@jupyter-widgets/controls",
          "model_name": "FloatProgressModel",
          "model_module_version": "1.5.0",
          "state": {
            "_dom_classes": [],
            "_model_module": "@jupyter-widgets/controls",
            "_model_module_version": "1.5.0",
            "_model_name": "FloatProgressModel",
            "_view_count": null,
            "_view_module": "@jupyter-widgets/controls",
            "_view_module_version": "1.5.0",
            "_view_name": "ProgressView",
            "bar_style": "success",
            "description": "",
            "description_tooltip": null,
            "layout": "IPY_MODEL_80261a0b02c74830a88e57aaa6b7ccc9",
            "max": 1376,
            "min": 0,
            "orientation": "horizontal",
            "style": "IPY_MODEL_123d65fc8d0b4480a43e8bc07765714b",
            "value": 1376
          }
        },
        "5c4b4ef44dda47b6b321ba447de8f905": {
          "model_module": "@jupyter-widgets/controls",
          "model_name": "HTMLModel",
          "model_module_version": "1.5.0",
          "state": {
            "_dom_classes": [],
            "_model_module": "@jupyter-widgets/controls",
            "_model_module_version": "1.5.0",
            "_model_name": "HTMLModel",
            "_view_count": null,
            "_view_module": "@jupyter-widgets/controls",
            "_view_module_version": "1.5.0",
            "_view_name": "HTMLView",
            "description": "",
            "description_tooltip": null,
            "layout": "IPY_MODEL_f7bf0bd881bc4dde850ff5605d402e64",
            "placeholder": "​",
            "style": "IPY_MODEL_757602818e884524a1b1f28f312a267e",
            "value": " 1376/1376 [00:00&lt;00:00, 1561.52 examples/s]"
          }
        },
        "d0f3e9ff859342eb9550e3c8644d85f5": {
          "model_module": "@jupyter-widgets/base",
          "model_name": "LayoutModel",
          "model_module_version": "1.2.0",
          "state": {
            "_model_module": "@jupyter-widgets/base",
            "_model_module_version": "1.2.0",
            "_model_name": "LayoutModel",
            "_view_count": null,
            "_view_module": "@jupyter-widgets/base",
            "_view_module_version": "1.2.0",
            "_view_name": "LayoutView",
            "align_content": null,
            "align_items": null,
            "align_self": null,
            "border": null,
            "bottom": null,
            "display": null,
            "flex": null,
            "flex_flow": null,
            "grid_area": null,
            "grid_auto_columns": null,
            "grid_auto_flow": null,
            "grid_auto_rows": null,
            "grid_column": null,
            "grid_gap": null,
            "grid_row": null,
            "grid_template_areas": null,
            "grid_template_columns": null,
            "grid_template_rows": null,
            "height": null,
            "justify_content": null,
            "justify_items": null,
            "left": null,
            "margin": null,
            "max_height": null,
            "max_width": null,
            "min_height": null,
            "min_width": null,
            "object_fit": null,
            "object_position": null,
            "order": null,
            "overflow": null,
            "overflow_x": null,
            "overflow_y": null,
            "padding": null,
            "right": null,
            "top": null,
            "visibility": null,
            "width": null
          }
        },
        "a0c34c745acf4b3eb4098ea81ced6386": {
          "model_module": "@jupyter-widgets/base",
          "model_name": "LayoutModel",
          "model_module_version": "1.2.0",
          "state": {
            "_model_module": "@jupyter-widgets/base",
            "_model_module_version": "1.2.0",
            "_model_name": "LayoutModel",
            "_view_count": null,
            "_view_module": "@jupyter-widgets/base",
            "_view_module_version": "1.2.0",
            "_view_name": "LayoutView",
            "align_content": null,
            "align_items": null,
            "align_self": null,
            "border": null,
            "bottom": null,
            "display": null,
            "flex": null,
            "flex_flow": null,
            "grid_area": null,
            "grid_auto_columns": null,
            "grid_auto_flow": null,
            "grid_auto_rows": null,
            "grid_column": null,
            "grid_gap": null,
            "grid_row": null,
            "grid_template_areas": null,
            "grid_template_columns": null,
            "grid_template_rows": null,
            "height": null,
            "justify_content": null,
            "justify_items": null,
            "left": null,
            "margin": null,
            "max_height": null,
            "max_width": null,
            "min_height": null,
            "min_width": null,
            "object_fit": null,
            "object_position": null,
            "order": null,
            "overflow": null,
            "overflow_x": null,
            "overflow_y": null,
            "padding": null,
            "right": null,
            "top": null,
            "visibility": null,
            "width": null
          }
        },
        "a8dfa37abc38480d887784ae4a941838": {
          "model_module": "@jupyter-widgets/controls",
          "model_name": "DescriptionStyleModel",
          "model_module_version": "1.5.0",
          "state": {
            "_model_module": "@jupyter-widgets/controls",
            "_model_module_version": "1.5.0",
            "_model_name": "DescriptionStyleModel",
            "_view_count": null,
            "_view_module": "@jupyter-widgets/base",
            "_view_module_version": "1.2.0",
            "_view_name": "StyleView",
            "description_width": ""
          }
        },
        "80261a0b02c74830a88e57aaa6b7ccc9": {
          "model_module": "@jupyter-widgets/base",
          "model_name": "LayoutModel",
          "model_module_version": "1.2.0",
          "state": {
            "_model_module": "@jupyter-widgets/base",
            "_model_module_version": "1.2.0",
            "_model_name": "LayoutModel",
            "_view_count": null,
            "_view_module": "@jupyter-widgets/base",
            "_view_module_version": "1.2.0",
            "_view_name": "LayoutView",
            "align_content": null,
            "align_items": null,
            "align_self": null,
            "border": null,
            "bottom": null,
            "display": null,
            "flex": null,
            "flex_flow": null,
            "grid_area": null,
            "grid_auto_columns": null,
            "grid_auto_flow": null,
            "grid_auto_rows": null,
            "grid_column": null,
            "grid_gap": null,
            "grid_row": null,
            "grid_template_areas": null,
            "grid_template_columns": null,
            "grid_template_rows": null,
            "height": null,
            "justify_content": null,
            "justify_items": null,
            "left": null,
            "margin": null,
            "max_height": null,
            "max_width": null,
            "min_height": null,
            "min_width": null,
            "object_fit": null,
            "object_position": null,
            "order": null,
            "overflow": null,
            "overflow_x": null,
            "overflow_y": null,
            "padding": null,
            "right": null,
            "top": null,
            "visibility": null,
            "width": null
          }
        },
        "123d65fc8d0b4480a43e8bc07765714b": {
          "model_module": "@jupyter-widgets/controls",
          "model_name": "ProgressStyleModel",
          "model_module_version": "1.5.0",
          "state": {
            "_model_module": "@jupyter-widgets/controls",
            "_model_module_version": "1.5.0",
            "_model_name": "ProgressStyleModel",
            "_view_count": null,
            "_view_module": "@jupyter-widgets/base",
            "_view_module_version": "1.2.0",
            "_view_name": "StyleView",
            "bar_color": null,
            "description_width": ""
          }
        },
        "f7bf0bd881bc4dde850ff5605d402e64": {
          "model_module": "@jupyter-widgets/base",
          "model_name": "LayoutModel",
          "model_module_version": "1.2.0",
          "state": {
            "_model_module": "@jupyter-widgets/base",
            "_model_module_version": "1.2.0",
            "_model_name": "LayoutModel",
            "_view_count": null,
            "_view_module": "@jupyter-widgets/base",
            "_view_module_version": "1.2.0",
            "_view_name": "LayoutView",
            "align_content": null,
            "align_items": null,
            "align_self": null,
            "border": null,
            "bottom": null,
            "display": null,
            "flex": null,
            "flex_flow": null,
            "grid_area": null,
            "grid_auto_columns": null,
            "grid_auto_flow": null,
            "grid_auto_rows": null,
            "grid_column": null,
            "grid_gap": null,
            "grid_row": null,
            "grid_template_areas": null,
            "grid_template_columns": null,
            "grid_template_rows": null,
            "height": null,
            "justify_content": null,
            "justify_items": null,
            "left": null,
            "margin": null,
            "max_height": null,
            "max_width": null,
            "min_height": null,
            "min_width": null,
            "object_fit": null,
            "object_position": null,
            "order": null,
            "overflow": null,
            "overflow_x": null,
            "overflow_y": null,
            "padding": null,
            "right": null,
            "top": null,
            "visibility": null,
            "width": null
          }
        },
        "757602818e884524a1b1f28f312a267e": {
          "model_module": "@jupyter-widgets/controls",
          "model_name": "DescriptionStyleModel",
          "model_module_version": "1.5.0",
          "state": {
            "_model_module": "@jupyter-widgets/controls",
            "_model_module_version": "1.5.0",
            "_model_name": "DescriptionStyleModel",
            "_view_count": null,
            "_view_module": "@jupyter-widgets/base",
            "_view_module_version": "1.2.0",
            "_view_name": "StyleView",
            "description_width": ""
          }
        },
        "adbbed529ee34bb7adebb2685c135f6a": {
          "model_module": "@jupyter-widgets/controls",
          "model_name": "HBoxModel",
          "model_module_version": "1.5.0",
          "state": {
            "_dom_classes": [],
            "_model_module": "@jupyter-widgets/controls",
            "_model_module_version": "1.5.0",
            "_model_name": "HBoxModel",
            "_view_count": null,
            "_view_module": "@jupyter-widgets/controls",
            "_view_module_version": "1.5.0",
            "_view_name": "HBoxView",
            "box_style": "",
            "children": [
              "IPY_MODEL_752dc7ab6b0642dfb0ca031848aecc7e",
              "IPY_MODEL_33447ffa66ce4dcd885c7178f254d709",
              "IPY_MODEL_717f756dd83143cb8e6f7afa5156b49e"
            ],
            "layout": "IPY_MODEL_917b711da2bd4e42be8f7a240d668dad"
          }
        },
        "752dc7ab6b0642dfb0ca031848aecc7e": {
          "model_module": "@jupyter-widgets/controls",
          "model_name": "HTMLModel",
          "model_module_version": "1.5.0",
          "state": {
            "_dom_classes": [],
            "_model_module": "@jupyter-widgets/controls",
            "_model_module_version": "1.5.0",
            "_model_name": "HTMLModel",
            "_view_count": null,
            "_view_module": "@jupyter-widgets/controls",
            "_view_module_version": "1.5.0",
            "_view_name": "HTMLView",
            "description": "",
            "description_tooltip": null,
            "layout": "IPY_MODEL_7f8b9b822e90493286947c8e99d0bec8",
            "placeholder": "​",
            "style": "IPY_MODEL_940158643dec4eb3afe451793874d759",
            "value": "Generating test split: 100%"
          }
        },
        "33447ffa66ce4dcd885c7178f254d709": {
          "model_module": "@jupyter-widgets/controls",
          "model_name": "FloatProgressModel",
          "model_module_version": "1.5.0",
          "state": {
            "_dom_classes": [],
            "_model_module": "@jupyter-widgets/controls",
            "_model_module_version": "1.5.0",
            "_model_name": "FloatProgressModel",
            "_view_count": null,
            "_view_module": "@jupyter-widgets/controls",
            "_view_module_version": "1.5.0",
            "_view_name": "ProgressView",
            "bar_style": "success",
            "description": "",
            "description_tooltip": null,
            "layout": "IPY_MODEL_96165274efb444b9a7e3f4ca334d863f",
            "max": 1376,
            "min": 0,
            "orientation": "horizontal",
            "style": "IPY_MODEL_ea28276e37a14ec4bffc2a2695b5f7de",
            "value": 1376
          }
        },
        "717f756dd83143cb8e6f7afa5156b49e": {
          "model_module": "@jupyter-widgets/controls",
          "model_name": "HTMLModel",
          "model_module_version": "1.5.0",
          "state": {
            "_dom_classes": [],
            "_model_module": "@jupyter-widgets/controls",
            "_model_module_version": "1.5.0",
            "_model_name": "HTMLModel",
            "_view_count": null,
            "_view_module": "@jupyter-widgets/controls",
            "_view_module_version": "1.5.0",
            "_view_name": "HTMLView",
            "description": "",
            "description_tooltip": null,
            "layout": "IPY_MODEL_62591e87ead844a19b6ea03762187d3f",
            "placeholder": "​",
            "style": "IPY_MODEL_2e46d2dde073432db44a5b3c4caeb8d9",
            "value": " 1376/1376 [00:00&lt;00:00, 1757.59 examples/s]"
          }
        },
        "917b711da2bd4e42be8f7a240d668dad": {
          "model_module": "@jupyter-widgets/base",
          "model_name": "LayoutModel",
          "model_module_version": "1.2.0",
          "state": {
            "_model_module": "@jupyter-widgets/base",
            "_model_module_version": "1.2.0",
            "_model_name": "LayoutModel",
            "_view_count": null,
            "_view_module": "@jupyter-widgets/base",
            "_view_module_version": "1.2.0",
            "_view_name": "LayoutView",
            "align_content": null,
            "align_items": null,
            "align_self": null,
            "border": null,
            "bottom": null,
            "display": null,
            "flex": null,
            "flex_flow": null,
            "grid_area": null,
            "grid_auto_columns": null,
            "grid_auto_flow": null,
            "grid_auto_rows": null,
            "grid_column": null,
            "grid_gap": null,
            "grid_row": null,
            "grid_template_areas": null,
            "grid_template_columns": null,
            "grid_template_rows": null,
            "height": null,
            "justify_content": null,
            "justify_items": null,
            "left": null,
            "margin": null,
            "max_height": null,
            "max_width": null,
            "min_height": null,
            "min_width": null,
            "object_fit": null,
            "object_position": null,
            "order": null,
            "overflow": null,
            "overflow_x": null,
            "overflow_y": null,
            "padding": null,
            "right": null,
            "top": null,
            "visibility": null,
            "width": null
          }
        },
        "7f8b9b822e90493286947c8e99d0bec8": {
          "model_module": "@jupyter-widgets/base",
          "model_name": "LayoutModel",
          "model_module_version": "1.2.0",
          "state": {
            "_model_module": "@jupyter-widgets/base",
            "_model_module_version": "1.2.0",
            "_model_name": "LayoutModel",
            "_view_count": null,
            "_view_module": "@jupyter-widgets/base",
            "_view_module_version": "1.2.0",
            "_view_name": "LayoutView",
            "align_content": null,
            "align_items": null,
            "align_self": null,
            "border": null,
            "bottom": null,
            "display": null,
            "flex": null,
            "flex_flow": null,
            "grid_area": null,
            "grid_auto_columns": null,
            "grid_auto_flow": null,
            "grid_auto_rows": null,
            "grid_column": null,
            "grid_gap": null,
            "grid_row": null,
            "grid_template_areas": null,
            "grid_template_columns": null,
            "grid_template_rows": null,
            "height": null,
            "justify_content": null,
            "justify_items": null,
            "left": null,
            "margin": null,
            "max_height": null,
            "max_width": null,
            "min_height": null,
            "min_width": null,
            "object_fit": null,
            "object_position": null,
            "order": null,
            "overflow": null,
            "overflow_x": null,
            "overflow_y": null,
            "padding": null,
            "right": null,
            "top": null,
            "visibility": null,
            "width": null
          }
        },
        "940158643dec4eb3afe451793874d759": {
          "model_module": "@jupyter-widgets/controls",
          "model_name": "DescriptionStyleModel",
          "model_module_version": "1.5.0",
          "state": {
            "_model_module": "@jupyter-widgets/controls",
            "_model_module_version": "1.5.0",
            "_model_name": "DescriptionStyleModel",
            "_view_count": null,
            "_view_module": "@jupyter-widgets/base",
            "_view_module_version": "1.2.0",
            "_view_name": "StyleView",
            "description_width": ""
          }
        },
        "96165274efb444b9a7e3f4ca334d863f": {
          "model_module": "@jupyter-widgets/base",
          "model_name": "LayoutModel",
          "model_module_version": "1.2.0",
          "state": {
            "_model_module": "@jupyter-widgets/base",
            "_model_module_version": "1.2.0",
            "_model_name": "LayoutModel",
            "_view_count": null,
            "_view_module": "@jupyter-widgets/base",
            "_view_module_version": "1.2.0",
            "_view_name": "LayoutView",
            "align_content": null,
            "align_items": null,
            "align_self": null,
            "border": null,
            "bottom": null,
            "display": null,
            "flex": null,
            "flex_flow": null,
            "grid_area": null,
            "grid_auto_columns": null,
            "grid_auto_flow": null,
            "grid_auto_rows": null,
            "grid_column": null,
            "grid_gap": null,
            "grid_row": null,
            "grid_template_areas": null,
            "grid_template_columns": null,
            "grid_template_rows": null,
            "height": null,
            "justify_content": null,
            "justify_items": null,
            "left": null,
            "margin": null,
            "max_height": null,
            "max_width": null,
            "min_height": null,
            "min_width": null,
            "object_fit": null,
            "object_position": null,
            "order": null,
            "overflow": null,
            "overflow_x": null,
            "overflow_y": null,
            "padding": null,
            "right": null,
            "top": null,
            "visibility": null,
            "width": null
          }
        },
        "ea28276e37a14ec4bffc2a2695b5f7de": {
          "model_module": "@jupyter-widgets/controls",
          "model_name": "ProgressStyleModel",
          "model_module_version": "1.5.0",
          "state": {
            "_model_module": "@jupyter-widgets/controls",
            "_model_module_version": "1.5.0",
            "_model_name": "ProgressStyleModel",
            "_view_count": null,
            "_view_module": "@jupyter-widgets/base",
            "_view_module_version": "1.2.0",
            "_view_name": "StyleView",
            "bar_color": null,
            "description_width": ""
          }
        },
        "62591e87ead844a19b6ea03762187d3f": {
          "model_module": "@jupyter-widgets/base",
          "model_name": "LayoutModel",
          "model_module_version": "1.2.0",
          "state": {
            "_model_module": "@jupyter-widgets/base",
            "_model_module_version": "1.2.0",
            "_model_name": "LayoutModel",
            "_view_count": null,
            "_view_module": "@jupyter-widgets/base",
            "_view_module_version": "1.2.0",
            "_view_name": "LayoutView",
            "align_content": null,
            "align_items": null,
            "align_self": null,
            "border": null,
            "bottom": null,
            "display": null,
            "flex": null,
            "flex_flow": null,
            "grid_area": null,
            "grid_auto_columns": null,
            "grid_auto_flow": null,
            "grid_auto_rows": null,
            "grid_column": null,
            "grid_gap": null,
            "grid_row": null,
            "grid_template_areas": null,
            "grid_template_columns": null,
            "grid_template_rows": null,
            "height": null,
            "justify_content": null,
            "justify_items": null,
            "left": null,
            "margin": null,
            "max_height": null,
            "max_width": null,
            "min_height": null,
            "min_width": null,
            "object_fit": null,
            "object_position": null,
            "order": null,
            "overflow": null,
            "overflow_x": null,
            "overflow_y": null,
            "padding": null,
            "right": null,
            "top": null,
            "visibility": null,
            "width": null
          }
        },
        "2e46d2dde073432db44a5b3c4caeb8d9": {
          "model_module": "@jupyter-widgets/controls",
          "model_name": "DescriptionStyleModel",
          "model_module_version": "1.5.0",
          "state": {
            "_model_module": "@jupyter-widgets/controls",
            "_model_module_version": "1.5.0",
            "_model_name": "DescriptionStyleModel",
            "_view_count": null,
            "_view_module": "@jupyter-widgets/base",
            "_view_module_version": "1.2.0",
            "_view_name": "StyleView",
            "description_width": ""
          }
        }
      }
    }
  },
  "nbformat": 4,
  "nbformat_minor": 0
}